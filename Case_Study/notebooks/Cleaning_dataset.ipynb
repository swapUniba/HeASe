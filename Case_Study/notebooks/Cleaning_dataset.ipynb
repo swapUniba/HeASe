{
 "cells": [
  {
   "cell_type": "markdown",
   "metadata": {},
   "source": [
    "# Download Data"
   ]
  },
  {
   "cell_type": "code",
   "execution_count": 35,
   "metadata": {},
   "outputs": [],
   "source": [
    "import requests\n",
    "import pandas as pd\n",
    "from io import BytesIO\n",
    "\n",
    "def download_csv(csv_url):\n",
    "    response = requests.get(csv_url)\n",
    "    response.raise_for_status()\n",
    "\n",
    "    try:\n",
    "        df = pd.read_csv(BytesIO(response.content), sep=',', low_memory=False)\n",
    "    except pd.errors.ParserError:\n",
    "        df = pd.read_csv(BytesIO(response.content), sep=';', error_bad_lines=False)\n",
    "\n",
    "    return df"
   ]
  },
  {
   "cell_type": "code",
   "execution_count": 36,
   "metadata": {},
   "outputs": [],
   "source": [
    "recipes_df = download_csv(\"https://media.githubusercontent.com/media/DonatoFe11/SustainaMeal_Case_Study/master/data/final_recipes_set.csv\")"
   ]
  },
  {
   "cell_type": "markdown",
   "metadata": {},
   "source": [
    "Individua le righe in corrrispondenza delle quali il valore di `sustainability_score` non è numerico."
   ]
  },
  {
   "cell_type": "code",
   "execution_count": 37,
   "metadata": {},
   "outputs": [
    {
     "name": "stdout",
     "output_type": "stream",
     "text": [
      "Tutti i valori in 'sustainability_score' sono numerici.\n"
     ]
    }
   ],
   "source": [
    "pd.set_option('display.max_rows', None)\n",
    "\n",
    "# Identifica righe con valori non numerici in 'sustainability_score'\n",
    "non_numeric_rows = pd.to_numeric(recipes_df['sustainability_score'], errors='coerce').isna()\n",
    "\n",
    "# Mostra le righe che contengono valori non numerici\n",
    "df_non_numeric = recipes_df[non_numeric_rows]\n",
    "\n",
    "# Visualizza gli indici delle righe con valori non numerici (se presenti)\n",
    "if not df_non_numeric.empty:\n",
    "    print(\"Valori non numerici trovati nella colonna 'sustainability_score' nelle seguenti ricette:\")\n",
    "    print(df_non_numeric.index)\n",
    "else:\n",
    "    print(\"Tutti i valori in 'sustainability_score' sono numerici.\")\n"
   ]
  },
  {
   "cell_type": "markdown",
   "metadata": {},
   "source": [
    "Individua le righe in corrispondenza delle quali il valore di `sustainability_label` non è numerico."
   ]
  },
  {
   "cell_type": "code",
   "execution_count": 38,
   "metadata": {},
   "outputs": [
    {
     "name": "stdout",
     "output_type": "stream",
     "text": [
      "Tutti i valori in 'sustainability_label' sono numerici.\n"
     ]
    }
   ],
   "source": [
    "# Identifica righe con valori non numerici in 'sustainability_label'\n",
    "non_numeric_rows = pd.to_numeric(recipes_df['sustainability_label'], errors='coerce').isna()\n",
    "\n",
    "# Mostra le righe che contengono valori non numerici\n",
    "df_non_numeric = recipes_df[non_numeric_rows]\n",
    "\n",
    "# Visualizza gli indici delle righe con valori non numerici (se presenti)\n",
    "if not df_non_numeric.empty:\n",
    "    print(\"Valori non numerici trovati nella colonna 'sustainability_label' nelle seguenti ricette:\")\n",
    "    print(df_non_numeric.index)\n",
    "else:\n",
    "    print(\"Tutti i valori in 'sustainability_label' sono numerici.\")\n"
   ]
  },
  {
   "cell_type": "markdown",
   "metadata": {},
   "source": [
    "Individua le righe in corrispondenza delle quali il valore di `Unnamed: 0` non è numerico."
   ]
  },
  {
   "cell_type": "code",
   "execution_count": 39,
   "metadata": {},
   "outputs": [
    {
     "name": "stdout",
     "output_type": "stream",
     "text": [
      "Tutti i valori in 'Unnamed: 0' sono numerici.\n"
     ]
    }
   ],
   "source": [
    "# Identifica righe con valori non numerici in 'Unnamed: 0'\n",
    "non_numeric_rows = pd.to_numeric(recipes_df['Unnamed: 0'], errors='coerce').isna()\n",
    "\n",
    "# Mostra le righe che contengono valori non numerici\n",
    "df_non_numeric = recipes_df[non_numeric_rows]\n",
    "\n",
    "# Visualizza gli indici delle righe con valori non numerici (se presenti)\n",
    "if not df_non_numeric.empty:\n",
    "    print(\"Valori non numerici trovati nella colonna 'Unnamed: 0' nelle seguenti ricette:\")\n",
    "    print(df_non_numeric.index)\n",
    "else:\n",
    "    print(\"Tutti i valori in 'Unnamed: 0' sono numerici.\")"
   ]
  },
  {
   "cell_type": "markdown",
   "metadata": {},
   "source": [
    "Individua le righe in corrispondenza delle quali il valore di `recipe_id` non è numerico."
   ]
  },
  {
   "cell_type": "code",
   "execution_count": 40,
   "metadata": {},
   "outputs": [
    {
     "name": "stdout",
     "output_type": "stream",
     "text": [
      "Tutti i valori in 'recipe_id' sono numerici.\n"
     ]
    }
   ],
   "source": [
    "# Identifica righe con valori non numerici in 'recipe_id'\n",
    "non_numeric_rows = pd.to_numeric(recipes_df['recipe_id'], errors='coerce').isna()\n",
    "\n",
    "# Mostra le righe che contengono valori non numerici\n",
    "df_non_numeric = recipes_df[non_numeric_rows]\n",
    "\n",
    "# Visualizza gli indici delle righe con valori non numerici (se presenti)\n",
    "if not df_non_numeric.empty:\n",
    "    print(\"Valori non numerici trovati nella colonna 'recipe_id' nelle seguenti ricette:\")\n",
    "    print(df_non_numeric.index)\n",
    "else:\n",
    "    print(\"Tutti i valori in 'recipe_id' sono numerici.\")\n"
   ]
  },
  {
   "cell_type": "markdown",
   "metadata": {},
   "source": [
    "Individua le righe in corrispondenza delle quali il valore di `servingSize [g]` non è numerico."
   ]
  },
  {
   "cell_type": "code",
   "execution_count": 41,
   "metadata": {},
   "outputs": [
    {
     "name": "stdout",
     "output_type": "stream",
     "text": [
      "Tutti i valori in 'servingSize [g]' sono numerici.\n"
     ]
    }
   ],
   "source": [
    "# Identifica righe con valori non numerici in 'servingSize [g]'\n",
    "non_numeric_rows = pd.to_numeric(recipes_df['servingSize [g]'], errors='coerce').isna()\n",
    "\n",
    "# Mostra le righe che contengono valori non numerici\n",
    "df_non_numeric = recipes_df[non_numeric_rows]\n",
    "\n",
    "# Visualizza gli indici delle righe con valori non numerici (se presenti)\n",
    "if not df_non_numeric.empty:\n",
    "    print(\"Valori non numerici trovati nella colonna 'servingSize [g]' nelle seguenti ricette:\")\n",
    "    print(df_non_numeric.index)\n",
    "else:\n",
    "    print(\"Tutti i valori in 'servingSize [g]' sono numerici.\")"
   ]
  },
  {
   "cell_type": "markdown",
   "metadata": {},
   "source": [
    "Individua le righe in corrispondenza delle quali il valore di `calories [cal]` non è numerico."
   ]
  },
  {
   "cell_type": "code",
   "execution_count": 42,
   "metadata": {},
   "outputs": [
    {
     "name": "stdout",
     "output_type": "stream",
     "text": [
      "Tutti i valori in 'calories [cal]' sono numerici.\n"
     ]
    }
   ],
   "source": [
    "# Identifica righe con valori non numerici in 'calories [cal]'\n",
    "non_numeric_rows = pd.to_numeric(recipes_df['calories [cal]'], errors='coerce').isna()\n",
    "\n",
    "# Mostra le righe che contengono valori non numerici\n",
    "df_non_numeric = recipes_df[non_numeric_rows]\n",
    "\n",
    "# Visualizza gli indici delle righe con valori non numerici (se presenti)\n",
    "if not df_non_numeric.empty:\n",
    "    print(\"Valori non numerici trovati nella colonna 'calories [cal]' nelle seguenti ricette:\")\n",
    "    print(df_non_numeric.index)\n",
    "else:\n",
    "    print(\"Tutti i valori in 'calories [cal]' sono numerici.\")"
   ]
  },
  {
   "cell_type": "markdown",
   "metadata": {},
   "source": [
    "Individua le righe in corrispondenza delle quali il valore di `caloriesFromFat [cal]` non è numerico."
   ]
  },
  {
   "cell_type": "code",
   "execution_count": 43,
   "metadata": {},
   "outputs": [
    {
     "name": "stdout",
     "output_type": "stream",
     "text": [
      "Tutti i valori in 'caloriesFromFat [cal]' sono numerici.\n"
     ]
    }
   ],
   "source": [
    "# Identifica righe con valori non numerici in 'caloriesFromFat [cal]'\n",
    "non_numeric_rows = pd.to_numeric(recipes_df['caloriesFromFat [cal]'], errors='coerce').isna()\n",
    "\n",
    "# Mostra le righe che contengono valori non numerici\n",
    "df_non_numeric = recipes_df[non_numeric_rows]\n",
    "\n",
    "# Visualizza gli indici delle righe con valori non numerici (se presenti)\n",
    "if not df_non_numeric.empty:\n",
    "    print(\"Valori non numerici trovati nella colonna 'caloriesFromFat [cal]' nelle seguenti ricette:\")\n",
    "    print(df_non_numeric.index)\n",
    "else:\n",
    "    print(\"Tutti i valori in 'caloriesFromFat [cal]' sono numerici.\")"
   ]
  },
  {
   "cell_type": "markdown",
   "metadata": {},
   "source": [
    "Individua le righe in corrispondenza delle quali il valore di `totalFat [g]` non è numerico."
   ]
  },
  {
   "cell_type": "code",
   "execution_count": 44,
   "metadata": {},
   "outputs": [
    {
     "name": "stdout",
     "output_type": "stream",
     "text": [
      "Tutti i valori in 'totalFat [g]' sono numerici.\n"
     ]
    }
   ],
   "source": [
    "# Identifica righe con valori non numerici in 'totalFat [g]'\n",
    "non_numeric_rows = pd.to_numeric(recipes_df['totalFat [g]'], errors='coerce').isna()\n",
    "\n",
    "# Mostra le righe che contengono valori non numerici\n",
    "df_non_numeric = recipes_df[non_numeric_rows]\n",
    "\n",
    "# Visualizza gli indici delle righe con valori non numerici (se presenti)\n",
    "if not df_non_numeric.empty:\n",
    "    print(\"Valori non numerici trovati nella colonna 'totalFat [g]' nelle seguenti ricette:\")\n",
    "    print(df_non_numeric.index)\n",
    "else:\n",
    "    print(\"Tutti i valori in 'totalFat [g]' sono numerici.\")"
   ]
  },
  {
   "cell_type": "markdown",
   "metadata": {},
   "source": [
    "Individua le righe in corrispondenza delle quali il valore di `saturatedFat [g]` non è numerico."
   ]
  },
  {
   "cell_type": "code",
   "execution_count": 45,
   "metadata": {},
   "outputs": [
    {
     "name": "stdout",
     "output_type": "stream",
     "text": [
      "Tutti i valori in 'saturatedFat [g]' sono numerici.\n"
     ]
    }
   ],
   "source": [
    "# Identifica righe con valori non numerici in 'saturatedFat [g]'\n",
    "non_numeric_rows = pd.to_numeric(recipes_df['saturatedFat [g]'], errors='coerce').isna()\n",
    "\n",
    "# Mostra le righe che contengono valori non numerici\n",
    "df_non_numeric = recipes_df[non_numeric_rows]\n",
    "\n",
    "# Visualizza gli indici delle righe con valori non numerici (se presenti)\n",
    "if not df_non_numeric.empty:\n",
    "    print(\"Valori non numerici trovati nella colonna 'saturatedFat [g]' nelle seguenti ricette:\")\n",
    "    print(df_non_numeric.index)\n",
    "else:\n",
    "    print(\"Tutti i valori in 'saturatedFat [g]' sono numerici.\")"
   ]
  },
  {
   "cell_type": "markdown",
   "metadata": {},
   "source": [
    "Individua le righe in corrispondenza delle quali il valore di `cholesterol [mg]` non è numerico."
   ]
  },
  {
   "cell_type": "code",
   "execution_count": 46,
   "metadata": {},
   "outputs": [
    {
     "name": "stdout",
     "output_type": "stream",
     "text": [
      "Tutti i valori in 'cholesterol [mg]' sono numerici.\n"
     ]
    }
   ],
   "source": [
    "# Identifica righe con valori non numerici in 'cholesterol [mg]'\n",
    "non_numeric_rows = pd.to_numeric(recipes_df['cholesterol [mg]'], errors='coerce').isna()\n",
    "\n",
    "# Mostra le righe che contengono valori non numerici\n",
    "df_non_numeric = recipes_df[non_numeric_rows]\n",
    "\n",
    "# Visualizza gli indici delle righe con valori non numerici (se presenti)\n",
    "if not df_non_numeric.empty:\n",
    "    print(\"Valori non numerici trovati nella colonna 'cholesterol [mg]' nelle seguenti ricette:\")\n",
    "    print(df_non_numeric.index)\n",
    "else:\n",
    "    print(\"Tutti i valori in 'cholesterol [mg]' sono numerici.\")"
   ]
  },
  {
   "cell_type": "markdown",
   "metadata": {},
   "source": [
    "Individua le righe in corrispondenza delle quali il valore di `sodium [mg]` non è numerico."
   ]
  },
  {
   "cell_type": "code",
   "execution_count": 47,
   "metadata": {},
   "outputs": [
    {
     "name": "stdout",
     "output_type": "stream",
     "text": [
      "Tutti i valori in 'sodium [mg]' sono numerici.\n"
     ]
    }
   ],
   "source": [
    "# Identifica righe con valori non numerici in 'sodium [mg]'\n",
    "non_numeric_rows = pd.to_numeric(recipes_df['sodium [mg]'], errors='coerce').isna()\n",
    "\n",
    "# Mostra le righe che contengono valori non numerici\n",
    "df_non_numeric = recipes_df[non_numeric_rows]\n",
    "\n",
    "# Visualizza gli indici delle righe con valori non numerici (se presenti)\n",
    "if not df_non_numeric.empty:\n",
    "    print(\"Valori non numerici trovati nella colonna 'sodium [mg]' nelle seguenti ricette:\")\n",
    "    print(df_non_numeric.index)\n",
    "else:\n",
    "    print(\"Tutti i valori in 'sodium [mg]' sono numerici.\")"
   ]
  },
  {
   "cell_type": "markdown",
   "metadata": {},
   "source": [
    "Individua le righe in corrispondenza delle quali il valore di `totalCarbohydrate [g]` non è numerico."
   ]
  },
  {
   "cell_type": "code",
   "execution_count": 48,
   "metadata": {},
   "outputs": [
    {
     "name": "stdout",
     "output_type": "stream",
     "text": [
      "Tutti i valori in 'totalCarbohydrate [g]' sono numerici.\n"
     ]
    }
   ],
   "source": [
    "# Identifica righe con valori non numerici in 'totalCarbohydrate [g]'\n",
    "non_numeric_rows = pd.to_numeric(recipes_df['totalCarbohydrate [g]'], errors='coerce').isna()\n",
    "\n",
    "# Mostra le righe che contengono valori non numerici\n",
    "df_non_numeric = recipes_df[non_numeric_rows]\n",
    "\n",
    "# Visualizza gli indici delle righe con valori non numerici (se presenti)\n",
    "if not df_non_numeric.empty:\n",
    "    print(\"Valori non numerici trovati nella colonna 'totalCarbohydrate [g]' nelle seguenti ricette:\")\n",
    "    print(df_non_numeric.index)\n",
    "else:\n",
    "    print(\"Tutti i valori in 'totalCarbohydrate [g]' sono numerici.\")"
   ]
  },
  {
   "cell_type": "markdown",
   "metadata": {},
   "source": [
    "Individua le righe in corrispondenza delle quali il valore di `dietaryFiber [g]` non è numerico."
   ]
  },
  {
   "cell_type": "code",
   "execution_count": 49,
   "metadata": {},
   "outputs": [
    {
     "name": "stdout",
     "output_type": "stream",
     "text": [
      "Tutti i valori in 'dietaryFiber [g]' sono numerici.\n"
     ]
    }
   ],
   "source": [
    "# Identifica righe con valori non numerici in 'dietaryFiber [g]'\n",
    "non_numeric_rows = pd.to_numeric(recipes_df['dietaryFiber [g]'], errors='coerce').isna()\n",
    "\n",
    "# Mostra le righe che contengono valori non numerici\n",
    "df_non_numeric = recipes_df[non_numeric_rows]\n",
    "\n",
    "# Visualizza gli indici delle righe con valori non numerici (se presenti)\n",
    "if not df_non_numeric.empty:\n",
    "    print(\"Valori non numerici trovati nella colonna 'dietaryFiber [g]' nelle seguenti ricette:\")\n",
    "    print(df_non_numeric.index)\n",
    "else:\n",
    "    print(\"Tutti i valori in 'dietaryFiber [g]' sono numerici.\")"
   ]
  },
  {
   "cell_type": "markdown",
   "metadata": {},
   "source": [
    "Individua le righe in corrispondenza delle quali il valore di `sugars [g]` non è numerico."
   ]
  },
  {
   "cell_type": "code",
   "execution_count": 50,
   "metadata": {},
   "outputs": [
    {
     "name": "stdout",
     "output_type": "stream",
     "text": [
      "Tutti i valori in 'sugars [g]' sono numerici.\n"
     ]
    }
   ],
   "source": [
    "# Identifica righe con valori non numerici in 'sugars [g]'\n",
    "non_numeric_rows = pd.to_numeric(recipes_df['sugars [g]'], errors='coerce').isna()\n",
    "\n",
    "# Mostra le righe che contengono valori non numerici\n",
    "df_non_numeric = recipes_df[non_numeric_rows]\n",
    "\n",
    "# Visualizza gli indici delle righe con valori non numerici (se presenti)\n",
    "if not df_non_numeric.empty:\n",
    "    print(\"Valori non numerici trovati nella colonna 'sugars [g]' nelle seguenti ricette:\")\n",
    "    print(df_non_numeric.index)\n",
    "else:\n",
    "    print(\"Tutti i valori in 'sugars [g]' sono numerici.\")"
   ]
  },
  {
   "cell_type": "markdown",
   "metadata": {},
   "source": [
    "Individua le righe in corrispondenza delle quali il valore di `protein [g]` non è numerico."
   ]
  },
  {
   "cell_type": "code",
   "execution_count": 51,
   "metadata": {},
   "outputs": [
    {
     "name": "stdout",
     "output_type": "stream",
     "text": [
      "Tutti i valori in 'protein [g]' sono numerici.\n"
     ]
    }
   ],
   "source": [
    "# Identifica righe con valori non numerici in 'protein [g]'\n",
    "non_numeric_rows = pd.to_numeric(recipes_df['protein [g]'], errors='coerce').isna()\n",
    "\n",
    "# Mostra le righe che contengono valori non numerici\n",
    "df_non_numeric = recipes_df[non_numeric_rows]\n",
    "\n",
    "# Visualizza gli indici delle righe con valori non numerici (se presenti)\n",
    "if not df_non_numeric.empty:\n",
    "    print(\"Valori non numerici trovati nella colonna 'protein [g]' nelle seguenti ricette:\")\n",
    "    print(df_non_numeric.index)\n",
    "else:\n",
    "    print(\"Tutti i valori in 'protein [g]' sono numerici.\")"
   ]
  },
  {
   "cell_type": "markdown",
   "metadata": {},
   "source": [
    "Individua le righe in corrispondenza delle quali il valore di `who_score` è una stringa."
   ]
  },
  {
   "cell_type": "code",
   "execution_count": 52,
   "metadata": {},
   "outputs": [
    {
     "name": "stdout",
     "output_type": "stream",
     "text": [
      "Nessun valore stringa trovato in 'who_score'.\n"
     ]
    }
   ],
   "source": [
    "# Identifica righe con valori di tipo stringa in 'who_score'\n",
    "string_rows = recipes_df['who_score'].apply(lambda x: isinstance(x, str))\n",
    "\n",
    "# Mostra le righe che contengono valori non numerici\n",
    "df_non_numeric = recipes_df[non_numeric_rows]\n",
    "\n",
    "# Visualizza gli indici delle righe con valori non numerici (se presenti)\n",
    "if not df_non_numeric.empty:\n",
    "    print(\"Valori stringa trovati nella colonna 'who_score' nelle seguenti ricette:\")\n",
    "    print(df_non_numeric.index)\n",
    "else:\n",
    "    print(\"Nessun valore stringa trovato in 'who_score'.\")"
   ]
  },
  {
   "cell_type": "markdown",
   "metadata": {},
   "source": [
    "Individua le righe in corrispondenza delle quali il valore di `fsa_score` è una stringa."
   ]
  },
  {
   "cell_type": "code",
   "execution_count": 53,
   "metadata": {},
   "outputs": [
    {
     "name": "stdout",
     "output_type": "stream",
     "text": [
      "Nessun valore stringa trovato in 'fsa_score'.\n"
     ]
    }
   ],
   "source": [
    "# Identifica righe con valori di tipo stringa in 'fsa_score'\n",
    "string_rows = recipes_df['fsa_score'].apply(lambda x: isinstance(x, str))\n",
    "\n",
    "# Mostra le righe che contengono valori stringa\n",
    "df_string_values = recipes_df[string_rows]\n",
    "\n",
    "# Visualizza gli indici delle righe con valori stringa (se presenti)\n",
    "if not df_string_values.empty:\n",
    "    print(\"Valori stringa trovati nella colonna 'fsa_score' nelle seguenti ricette:\")\n",
    "    print(df_string_values.index)\n",
    "else:\n",
    "    print(\"Nessun valore stringa trovato in 'fsa_score'.\")"
   ]
  },
  {
   "cell_type": "markdown",
   "metadata": {},
   "source": [
    "Individua le righe in corrispondenza delle quali il valore di `nutri_score` è una stringa."
   ]
  },
  {
   "cell_type": "code",
   "execution_count": 54,
   "metadata": {},
   "outputs": [
    {
     "name": "stdout",
     "output_type": "stream",
     "text": [
      "Nessun valore stringa trovato in 'nutri_score'.\n"
     ]
    }
   ],
   "source": [
    "# Identifica righe con valori di tipo stringa in 'nutri_score'\n",
    "string_rows = recipes_df['nutri_score'].apply(lambda x: isinstance(x, str))\n",
    "\n",
    "# Mostra le righe che contengono valori non numerici\n",
    "df_non_numeric = recipes_df[non_numeric_rows]\n",
    "\n",
    "# Visualizza gli indici delle righe con valori non numerici (se presenti)\n",
    "if not df_non_numeric.empty:\n",
    "    print(\"Valori stringa trovati nella colonna 'nutri_score' nelle seguenti ricette:\")\n",
    "    print(df_non_numeric.index)\n",
    "else:\n",
    "    print(\"Nessun valore stringa trovato in 'nutri_score'.\")"
   ]
  },
  {
   "cell_type": "markdown",
   "metadata": {},
   "source": [
    "Individua le righe in corrispondenza delle quali il valore di `healthiness_label` non è numerico."
   ]
  },
  {
   "cell_type": "code",
   "execution_count": 55,
   "metadata": {},
   "outputs": [
    {
     "name": "stdout",
     "output_type": "stream",
     "text": [
      "Tutti i valori in 'healthiness_label' sono numerici.\n"
     ]
    }
   ],
   "source": [
    "# Identifica righe con valori non numerici in 'healthiness_label'\n",
    "non_numeric_rows = pd.to_numeric(recipes_df['healthiness_label'], errors='coerce').isna()\n",
    "\n",
    "# Mostra le righe che contengono valori non numerici\n",
    "df_non_numeric = recipes_df[non_numeric_rows]\n",
    "\n",
    "# Visualizza gli indici delle righe con valori non numerici (se presenti)\n",
    "if not df_non_numeric.empty:\n",
    "    print(\"Valori non numerici trovati nella colonna 'healthiness_label' nelle seguenti ricette:\")\n",
    "    print(df_non_numeric.index)\n",
    "else:\n",
    "    print(\"Tutti i valori in 'healthiness_label' sono numerici.\")"
   ]
  }
 ],
 "metadata": {
  "kernelspec": {
   "display_name": "venv",
   "language": "python",
   "name": "python3"
  },
  "language_info": {
   "codemirror_mode": {
    "name": "ipython",
    "version": 3
   },
   "file_extension": ".py",
   "mimetype": "text/x-python",
   "name": "python",
   "nbconvert_exporter": "python",
   "pygments_lexer": "ipython3",
   "version": "3.8.10"
  }
 },
 "nbformat": 4,
 "nbformat_minor": 2
}
