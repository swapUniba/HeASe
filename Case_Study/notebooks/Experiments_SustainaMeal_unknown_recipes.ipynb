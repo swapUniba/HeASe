{
  "cells": [
    {
      "cell_type": "markdown",
      "metadata": {
        "id": "mi_HjU-OLl8y"
      },
      "source": [
        "# Download Data"
      ]
    },
    {
      "cell_type": "code",
      "execution_count": 1,
      "metadata": {
        "id": "KQndhR_s20J2"
      },
      "outputs": [],
      "source": [
        "import requests\n",
        "import pandas as pd\n",
        "from io import BytesIO\n",
        "\n",
        "def download_csv(csv_url):\n",
        "    response = requests.get(csv_url)\n",
        "    response.raise_for_status()\n",
        "\n",
        "    # Qui puoi modificare 'sep' o aggiungere altri parametri se necessario\n",
        "    try:\n",
        "        df = pd.read_csv(BytesIO(response.content), sep=',')\n",
        "    except pd.errors.ParserError:\n",
        "        df = pd.read_csv(BytesIO(response.content), sep=';', error_bad_lines=False)\n",
        "\n",
        "    return df"
      ]
    },
    {
      "cell_type": "code",
      "execution_count": 2,
      "metadata": {
        "id": "bMOkwS533BlM"
      },
      "outputs": [],
      "source": [
        "recipes_df = download_csv(\"https://media.githubusercontent.com/media/DonatoFe11/SustainaMeal_Case_Study/master/data/final_recipes_set.csv\")"
      ]
    },
    {
      "cell_type": "code",
      "execution_count": 3,
      "metadata": {
        "colab": {
          "base_uri": "https://localhost:8080/",
          "height": 1000
        },
        "id": "rJUUXaqPsoDt",
        "outputId": "cd3faade-5389-4670-ed25-1ad69a85eaed"
      },
      "outputs": [
        {
          "data": {
            "text/html": [
              "<div>\n",
              "<style scoped>\n",
              "    .dataframe tbody tr th:only-of-type {\n",
              "        vertical-align: middle;\n",
              "    }\n",
              "\n",
              "    .dataframe tbody tr th {\n",
              "        vertical-align: top;\n",
              "    }\n",
              "\n",
              "    .dataframe thead th {\n",
              "        text-align: right;\n",
              "    }\n",
              "</style>\n",
              "<table border=\"1\" class=\"dataframe\">\n",
              "  <thead>\n",
              "    <tr style=\"text-align: right;\">\n",
              "      <th></th>\n",
              "      <th>title</th>\n",
              "      <th>sustainability_score</th>\n",
              "      <th>sustainability_label</th>\n",
              "      <th>Unnamed: 0</th>\n",
              "      <th>recipe_id</th>\n",
              "      <th>description</th>\n",
              "      <th>author_id</th>\n",
              "      <th>duration</th>\n",
              "      <th>directions</th>\n",
              "      <th>ingredients</th>\n",
              "      <th>...</th>\n",
              "      <th>protein [g]</th>\n",
              "      <th>direction_size</th>\n",
              "      <th>ingredients_sizes</th>\n",
              "      <th>who_score</th>\n",
              "      <th>fsa_score</th>\n",
              "      <th>nutri_score</th>\n",
              "      <th>normalization_comment</th>\n",
              "      <th>ingredient_food_kg_urls</th>\n",
              "      <th>ingredient_food_kg_names</th>\n",
              "      <th>healthiness_label</th>\n",
              "    </tr>\n",
              "  </thead>\n",
              "  <tbody>\n",
              "    <tr>\n",
              "      <th>0</th>\n",
              "      <td>Boiled Radishes</td>\n",
              "      <td>0.002502</td>\n",
              "      <td>0</td>\n",
              "      <td>294268</td>\n",
              "      <td>179840</td>\n",
              "      <td>These taste a lot like new potatoes.  The boil...</td>\n",
              "      <td>254469</td>\n",
              "      <td>22.0</td>\n",
              "      <td>['Trim ends and bad spots off Radishes.', 'Boi...</td>\n",
              "      <td>['radishes size bag bunch', 'water radishes']</td>\n",
              "      <td>...</td>\n",
              "      <td>0.8</td>\n",
              "      <td>2</td>\n",
              "      <td>2</td>\n",
              "      <td>0.293040</td>\n",
              "      <td>1.000</td>\n",
              "      <td>0.75</td>\n",
              "      <td>NaN</td>\n",
              "      <td>['http://idea.rpi.edu/heals/kb/ingredientname/...</td>\n",
              "      <td>['applesauce', 'garlic clove', 'ginger', 'mola...</td>\n",
              "      <td>0</td>\n",
              "    </tr>\n",
              "    <tr>\n",
              "      <th>1</th>\n",
              "      <td>Apple Cider Reduction</td>\n",
              "      <td>0.002623</td>\n",
              "      <td>0</td>\n",
              "      <td>59722</td>\n",
              "      <td>521756</td>\n",
              "      <td>I saw a post about this on Facebook and gave i...</td>\n",
              "      <td>171084</td>\n",
              "      <td>155.0</td>\n",
              "      <td>['In 6-8 quart stock pan, measure out 2 cups o...</td>\n",
              "      <td>['gallon apple cider fresh', 'gallon apple cid...</td>\n",
              "      <td>...</td>\n",
              "      <td>0.0</td>\n",
              "      <td>10</td>\n",
              "      <td>2</td>\n",
              "      <td>0.214286</td>\n",
              "      <td>0.750</td>\n",
              "      <td>0.75</td>\n",
              "      <td>NaN</td>\n",
              "      <td>['http://idea.rpi.edu/heals/kb/ingredientname/...</td>\n",
              "      <td>['bean sprouts', 'chicken thighs', 'fresh ging...</td>\n",
              "      <td>1</td>\n",
              "    </tr>\n",
              "    <tr>\n",
              "      <th>2</th>\n",
              "      <td>Homemade Apple Pectin Stock</td>\n",
              "      <td>0.002623</td>\n",
              "      <td>0</td>\n",
              "      <td>159910</td>\n",
              "      <td>25188</td>\n",
              "      <td>Easy to make and works well.</td>\n",
              "      <td>10404</td>\n",
              "      <td>25.0</td>\n",
              "      <td>['Slice unpeeled apples including cores and se...</td>\n",
              "      <td>['tart apple', 'water pound apples']</td>\n",
              "      <td>...</td>\n",
              "      <td>1.2</td>\n",
              "      <td>11</td>\n",
              "      <td>2</td>\n",
              "      <td>0.278414</td>\n",
              "      <td>0.750</td>\n",
              "      <td>0.75</td>\n",
              "      <td>NaN</td>\n",
              "      <td>['http://idea.rpi.edu/heals/kb/ingredientname/...</td>\n",
              "      <td>['baking powder', 'baking soda', 'cinnamon', '...</td>\n",
              "      <td>0</td>\n",
              "    </tr>\n",
              "    <tr>\n",
              "      <th>3</th>\n",
              "      <td>Easy Applesauce</td>\n",
              "      <td>0.002623</td>\n",
              "      <td>0</td>\n",
              "      <td>421226</td>\n",
              "      <td>264179</td>\n",
              "      <td>Use fresh cooking apples for this for best res...</td>\n",
              "      <td>37636</td>\n",
              "      <td>50.0</td>\n",
              "      <td>['Place apples and cider into a large saucepan...</td>\n",
              "      <td>['apples', 'apple cider']</td>\n",
              "      <td>...</td>\n",
              "      <td>0.5</td>\n",
              "      <td>3</td>\n",
              "      <td>2</td>\n",
              "      <td>0.276525</td>\n",
              "      <td>0.875</td>\n",
              "      <td>0.75</td>\n",
              "      <td>NaN</td>\n",
              "      <td>['http://idea.rpi.edu/heals/kb/ingredientname/...</td>\n",
              "      <td>['carrots', 'fresh peas', 'fresh tomatoes', 'g...</td>\n",
              "      <td>0</td>\n",
              "    </tr>\n",
              "    <tr>\n",
              "      <th>4</th>\n",
              "      <td>Cider Baked Sausage</td>\n",
              "      <td>0.002752</td>\n",
              "      <td>0</td>\n",
              "      <td>374088</td>\n",
              "      <td>101966</td>\n",
              "      <td>A very easy to make main dish perfect for fall...</td>\n",
              "      <td>30534</td>\n",
              "      <td>50.0</td>\n",
              "      <td>['Preheat oven to 350°.', 'Prick sausages with...</td>\n",
              "      <td>['breakfast sausage links', 'apples Smith', 'o...</td>\n",
              "      <td>...</td>\n",
              "      <td>46.4</td>\n",
              "      <td>4</td>\n",
              "      <td>4</td>\n",
              "      <td>0.146714</td>\n",
              "      <td>0.125</td>\n",
              "      <td>0.00</td>\n",
              "      <td>NaN</td>\n",
              "      <td>['http://idea.rpi.edu/heals/kb/ingredientname/...</td>\n",
              "      <td>['Shedd Spread Country Crock', 'cayenne pepper...</td>\n",
              "      <td>2</td>\n",
              "    </tr>\n",
              "    <tr>\n",
              "      <th>...</th>\n",
              "      <td>...</td>\n",
              "      <td>...</td>\n",
              "      <td>...</td>\n",
              "      <td>...</td>\n",
              "      <td>...</td>\n",
              "      <td>...</td>\n",
              "      <td>...</td>\n",
              "      <td>...</td>\n",
              "      <td>...</td>\n",
              "      <td>...</td>\n",
              "      <td>...</td>\n",
              "      <td>...</td>\n",
              "      <td>...</td>\n",
              "      <td>...</td>\n",
              "      <td>...</td>\n",
              "      <td>...</td>\n",
              "      <td>...</td>\n",
              "      <td>...</td>\n",
              "      <td>...</td>\n",
              "      <td>...</td>\n",
              "      <td>...</td>\n",
              "    </tr>\n",
              "    <tr>\n",
              "      <th>93743</th>\n",
              "      <td>Curried Lamb on Rice</td>\n",
              "      <td>0.951024</td>\n",
              "      <td>2</td>\n",
              "      <td>103145</td>\n",
              "      <td>373244</td>\n",
              "      <td>With modification this recipe is from \"The Dia...</td>\n",
              "      <td>133174</td>\n",
              "      <td>65.0</td>\n",
              "      <td>['Over medium heat, melt the butter in a large...</td>\n",
              "      <td>['lamb', 'medium onion', 'cloves', 'butter', '...</td>\n",
              "      <td>...</td>\n",
              "      <td>28.7</td>\n",
              "      <td>5</td>\n",
              "      <td>13</td>\n",
              "      <td>0.223549</td>\n",
              "      <td>0.625</td>\n",
              "      <td>0.25</td>\n",
              "      <td>NaN</td>\n",
              "      <td>['http://idea.rpi.edu/heals/kb/ingredientname/...</td>\n",
              "      <td>['Dijon mustard', 'Polish sausage', 'apricot p...</td>\n",
              "      <td>1</td>\n",
              "    </tr>\n",
              "    <tr>\n",
              "      <th>93744</th>\n",
              "      <td>Rich Lamb Curry</td>\n",
              "      <td>0.960504</td>\n",
              "      <td>2</td>\n",
              "      <td>442694</td>\n",
              "      <td>268247</td>\n",
              "      <td>The recipe isn't as time consuming as it looks...</td>\n",
              "      <td>491437</td>\n",
              "      <td>110.0</td>\n",
              "      <td>['Heat 1 tbsp olive oil in dutch oven.  ', 'Co...</td>\n",
              "      <td>['oil', 'lamb', 'flour', 'salt pepper', 'onion...</td>\n",
              "      <td>...</td>\n",
              "      <td>36.1</td>\n",
              "      <td>9</td>\n",
              "      <td>21</td>\n",
              "      <td>0.153328</td>\n",
              "      <td>0.000</td>\n",
              "      <td>0.00</td>\n",
              "      <td>NaN</td>\n",
              "      <td>NaN</td>\n",
              "      <td>NaN</td>\n",
              "      <td>1</td>\n",
              "    </tr>\n",
              "    <tr>\n",
              "      <th>93745</th>\n",
              "      <td>Middle Eastern Slow-Cooked Stew With Lamb, Chi...</td>\n",
              "      <td>0.968458</td>\n",
              "      <td>2</td>\n",
              "      <td>359960</td>\n",
              "      <td>144850</td>\n",
              "      <td>From Cooking Light. Per 3/4 c. serving: 310 ca...</td>\n",
              "      <td>37779</td>\n",
              "      <td>112.0</td>\n",
              "      <td>['Let the oil get heating in a large pot over ...</td>\n",
              "      <td>['oil', 'lamb', 'onions rings', 'water', 'clov...</td>\n",
              "      <td>...</td>\n",
              "      <td>20.8</td>\n",
              "      <td>12</td>\n",
              "      <td>19</td>\n",
              "      <td>0.205566</td>\n",
              "      <td>0.250</td>\n",
              "      <td>0.25</td>\n",
              "      <td>NaN</td>\n",
              "      <td>['http://idea.rpi.edu/heals/kb/ingredientname/...</td>\n",
              "      <td>['anchovies', 'celery ribs', 'diced tomatoes',...</td>\n",
              "      <td>1</td>\n",
              "    </tr>\n",
              "    <tr>\n",
              "      <th>93746</th>\n",
              "      <td>Five Meat Chili Con Carne With Beans</td>\n",
              "      <td>0.971454</td>\n",
              "      <td>2</td>\n",
              "      <td>37637</td>\n",
              "      <td>13568</td>\n",
              "      <td>yum</td>\n",
              "      <td>20571</td>\n",
              "      <td>210.0</td>\n",
              "      <td>['In a large pot brown meat in stages, about a...</td>\n",
              "      <td>['beef', 'pork', 'lamb', 'sausage', 'sausage',...</td>\n",
              "      <td>...</td>\n",
              "      <td>14.5</td>\n",
              "      <td>7</td>\n",
              "      <td>15</td>\n",
              "      <td>0.197568</td>\n",
              "      <td>0.250</td>\n",
              "      <td>0.25</td>\n",
              "      <td>NaN</td>\n",
              "      <td>['http://idea.rpi.edu/heals/kb/ingredientname/...</td>\n",
              "      <td>[\"French\\\\'s French fried onions\", 'crabmeat',...</td>\n",
              "      <td>1</td>\n",
              "    </tr>\n",
              "    <tr>\n",
              "      <th>93747</th>\n",
              "      <td>Basic Fried Rice - With Variations</td>\n",
              "      <td>1.000000</td>\n",
              "      <td>2</td>\n",
              "      <td>94306</td>\n",
              "      <td>248707</td>\n",
              "      <td>Another recipe that I acquired from a Chinese ...</td>\n",
              "      <td>305531</td>\n",
              "      <td>55.0</td>\n",
              "      <td>['Dice or shred meat and vegetables.', 'Heat o...</td>\n",
              "      <td>['rice', 'onions', 'oil', 'soy sauce', 'salt',...</td>\n",
              "      <td>...</td>\n",
              "      <td>18.9</td>\n",
              "      <td>14</td>\n",
              "      <td>38</td>\n",
              "      <td>0.233147</td>\n",
              "      <td>0.750</td>\n",
              "      <td>0.25</td>\n",
              "      <td>NaN</td>\n",
              "      <td>['http://idea.rpi.edu/heals/kb/ingredientname/...</td>\n",
              "      <td>['baking powder', 'baking soda', 'brown sugar'...</td>\n",
              "      <td>1</td>\n",
              "    </tr>\n",
              "  </tbody>\n",
              "</table>\n",
              "<p>93748 rows × 40 columns</p>\n",
              "</div>"
            ],
            "text/plain": [
              "                                                   title  \\\n",
              "0                                        Boiled Radishes   \n",
              "1                                  Apple Cider Reduction   \n",
              "2                            Homemade Apple Pectin Stock   \n",
              "3                                        Easy Applesauce   \n",
              "4                                    Cider Baked Sausage   \n",
              "...                                                  ...   \n",
              "93743                               Curried Lamb on Rice   \n",
              "93744                                    Rich Lamb Curry   \n",
              "93745  Middle Eastern Slow-Cooked Stew With Lamb, Chi...   \n",
              "93746               Five Meat Chili Con Carne With Beans   \n",
              "93747                 Basic Fried Rice - With Variations   \n",
              "\n",
              "       sustainability_score  sustainability_label  Unnamed: 0  recipe_id  \\\n",
              "0                  0.002502                     0      294268     179840   \n",
              "1                  0.002623                     0       59722     521756   \n",
              "2                  0.002623                     0      159910      25188   \n",
              "3                  0.002623                     0      421226     264179   \n",
              "4                  0.002752                     0      374088     101966   \n",
              "...                     ...                   ...         ...        ...   \n",
              "93743              0.951024                     2      103145     373244   \n",
              "93744              0.960504                     2      442694     268247   \n",
              "93745              0.968458                     2      359960     144850   \n",
              "93746              0.971454                     2       37637      13568   \n",
              "93747              1.000000                     2       94306     248707   \n",
              "\n",
              "                                             description  author_id  duration  \\\n",
              "0      These taste a lot like new potatoes.  The boil...     254469      22.0   \n",
              "1      I saw a post about this on Facebook and gave i...     171084     155.0   \n",
              "2                           Easy to make and works well.      10404      25.0   \n",
              "3      Use fresh cooking apples for this for best res...      37636      50.0   \n",
              "4      A very easy to make main dish perfect for fall...      30534      50.0   \n",
              "...                                                  ...        ...       ...   \n",
              "93743  With modification this recipe is from \"The Dia...     133174      65.0   \n",
              "93744  The recipe isn't as time consuming as it looks...     491437     110.0   \n",
              "93745  From Cooking Light. Per 3/4 c. serving: 310 ca...      37779     112.0   \n",
              "93746                                                yum      20571     210.0   \n",
              "93747  Another recipe that I acquired from a Chinese ...     305531      55.0   \n",
              "\n",
              "                                              directions  \\\n",
              "0      ['Trim ends and bad spots off Radishes.', 'Boi...   \n",
              "1      ['In 6-8 quart stock pan, measure out 2 cups o...   \n",
              "2      ['Slice unpeeled apples including cores and se...   \n",
              "3      ['Place apples and cider into a large saucepan...   \n",
              "4      ['Preheat oven to 350°.', 'Prick sausages with...   \n",
              "...                                                  ...   \n",
              "93743  ['Over medium heat, melt the butter in a large...   \n",
              "93744  ['Heat 1 tbsp olive oil in dutch oven.  ', 'Co...   \n",
              "93745  ['Let the oil get heating in a large pot over ...   \n",
              "93746  ['In a large pot brown meat in stages, about a...   \n",
              "93747  ['Dice or shred meat and vegetables.', 'Heat o...   \n",
              "\n",
              "                                             ingredients  ... protein [g]  \\\n",
              "0          ['radishes size bag bunch', 'water radishes']  ...         0.8   \n",
              "1      ['gallon apple cider fresh', 'gallon apple cid...  ...         0.0   \n",
              "2                   ['tart apple', 'water pound apples']  ...         1.2   \n",
              "3                              ['apples', 'apple cider']  ...         0.5   \n",
              "4      ['breakfast sausage links', 'apples Smith', 'o...  ...        46.4   \n",
              "...                                                  ...  ...         ...   \n",
              "93743  ['lamb', 'medium onion', 'cloves', 'butter', '...  ...        28.7   \n",
              "93744  ['oil', 'lamb', 'flour', 'salt pepper', 'onion...  ...        36.1   \n",
              "93745  ['oil', 'lamb', 'onions rings', 'water', 'clov...  ...        20.8   \n",
              "93746  ['beef', 'pork', 'lamb', 'sausage', 'sausage',...  ...        14.5   \n",
              "93747  ['rice', 'onions', 'oil', 'soy sauce', 'salt',...  ...        18.9   \n",
              "\n",
              "      direction_size ingredients_sizes who_score fsa_score  nutri_score  \\\n",
              "0                  2                 2  0.293040     1.000         0.75   \n",
              "1                 10                 2  0.214286     0.750         0.75   \n",
              "2                 11                 2  0.278414     0.750         0.75   \n",
              "3                  3                 2  0.276525     0.875         0.75   \n",
              "4                  4                 4  0.146714     0.125         0.00   \n",
              "...              ...               ...       ...       ...          ...   \n",
              "93743              5                13  0.223549     0.625         0.25   \n",
              "93744              9                21  0.153328     0.000         0.00   \n",
              "93745             12                19  0.205566     0.250         0.25   \n",
              "93746              7                15  0.197568     0.250         0.25   \n",
              "93747             14                38  0.233147     0.750         0.25   \n",
              "\n",
              "       normalization_comment  \\\n",
              "0                        NaN   \n",
              "1                        NaN   \n",
              "2                        NaN   \n",
              "3                        NaN   \n",
              "4                        NaN   \n",
              "...                      ...   \n",
              "93743                    NaN   \n",
              "93744                    NaN   \n",
              "93745                    NaN   \n",
              "93746                    NaN   \n",
              "93747                    NaN   \n",
              "\n",
              "                                 ingredient_food_kg_urls  \\\n",
              "0      ['http://idea.rpi.edu/heals/kb/ingredientname/...   \n",
              "1      ['http://idea.rpi.edu/heals/kb/ingredientname/...   \n",
              "2      ['http://idea.rpi.edu/heals/kb/ingredientname/...   \n",
              "3      ['http://idea.rpi.edu/heals/kb/ingredientname/...   \n",
              "4      ['http://idea.rpi.edu/heals/kb/ingredientname/...   \n",
              "...                                                  ...   \n",
              "93743  ['http://idea.rpi.edu/heals/kb/ingredientname/...   \n",
              "93744                                                NaN   \n",
              "93745  ['http://idea.rpi.edu/heals/kb/ingredientname/...   \n",
              "93746  ['http://idea.rpi.edu/heals/kb/ingredientname/...   \n",
              "93747  ['http://idea.rpi.edu/heals/kb/ingredientname/...   \n",
              "\n",
              "                                ingredient_food_kg_names  healthiness_label  \n",
              "0      ['applesauce', 'garlic clove', 'ginger', 'mola...                  0  \n",
              "1      ['bean sprouts', 'chicken thighs', 'fresh ging...                  1  \n",
              "2      ['baking powder', 'baking soda', 'cinnamon', '...                  0  \n",
              "3      ['carrots', 'fresh peas', 'fresh tomatoes', 'g...                  0  \n",
              "4      ['Shedd Spread Country Crock', 'cayenne pepper...                  2  \n",
              "...                                                  ...                ...  \n",
              "93743  ['Dijon mustard', 'Polish sausage', 'apricot p...                  1  \n",
              "93744                                                NaN                  1  \n",
              "93745  ['anchovies', 'celery ribs', 'diced tomatoes',...                  1  \n",
              "93746  [\"French\\\\'s French fried onions\", 'crabmeat',...                  1  \n",
              "93747  ['baking powder', 'baking soda', 'brown sugar'...                  1  \n",
              "\n",
              "[93748 rows x 40 columns]"
            ]
          },
          "execution_count": 3,
          "metadata": {},
          "output_type": "execute_result"
        }
      ],
      "source": [
        "recipes_df"
      ]
    },
    {
      "cell_type": "markdown",
      "metadata": {
        "id": "am8i4pRxLruU"
      },
      "source": [
        "# SustainaMeal (ETA: 15/20 mins)"
      ]
    },
    {
      "cell_type": "markdown",
      "metadata": {
        "id": "7_G1T9WXLxXc"
      },
      "source": [
        "Initializes the system by loading the data and preparing the embeddings."
      ]
    },
    {
      "cell_type": "code",
      "execution_count": 15,
      "metadata": {
        "colab": {
          "base_uri": "https://localhost:8080/"
        },
        "id": "-Xqz4MyI3G1b",
        "outputId": "58e098b7-6631-4324-9da7-28a8f8b09ce6"
      },
      "outputs": [
        {
          "name": "stderr",
          "output_type": "stream",
          "text": [
            "Processing Titles embeddings: 100%|██████████| 93748/93748 [18:31<00:00, 84.37batch/s]\n"
          ]
        }
      ],
      "source": [
        "from HeASe.sustainameal import SustainaMeal\n",
        "\n",
        "#nutrients = ['calories [cal]', 'totalFat [g]', 'sodium [mg]', 'dietaryFiber [g]', 'sugars [g]', 'protein [g]']\n",
        "nutrients = ['calories [cal]', 'totalFat [g]', 'saturatedFat [g]', 'cholesterol [mg]', 'sodium [mg]', 'dietaryFiber [g]', 'sugars [g]', 'protein [g]']\n",
        "\n",
        "sm = SustainaMeal(\n",
        "    recipes_df=recipes_df,\n",
        "    nutrients=['calories [cal]', 'totalFat [g]', 'saturatedFat [g]', 'cholesterol [mg]', 'sodium [mg]', 'dietaryFiber [g]', 'sugars [g]', 'protein [g]'],\n",
        "    transformer_name='davanstrien/autotrain-recipes-2451975973'\n",
        ")"
      ]
    },
    {
      "cell_type": "code",
      "execution_count": 16,
      "metadata": {
        "id": "kMO-LY3bHWWm"
      },
      "outputs": [],
      "source": [
        "recipe_titles = [\n",
        "    \"Spicy Thai Basil Chicken\",\n",
        "    \"Classic Margherita Pizza\",\n",
        "    \"Vegan Quinoa & Black Bean Salad\",\n",
        "    \"Mediterranean Grilled Salmon\",\n",
        "    \"Creamy Mushroom Risotto\",\n",
        "    \"Korean BBQ Beef Tacos\",\n",
        "    \"Butternut Squash Soup\",\n",
        "    \"Spinach and Feta Stuffed Chicken\",\n",
        "    \"Vegetarian Chickpea Curry\",\n",
        "    \"Classic French Ratatouille\",\n",
        "    \"Greek Salad with Homemade Dressing\",\n",
        "    \"Mexican Street Corn (Elote)\",\n",
        "    \"Italian Beef Lasagna\",\n",
        "    \"Vegan Avocado Chocolate Mousse\",\n",
        "    \"Moroccan Lamb Tagine\",\n",
        "    \"Japanese Ramen with Pork Belly\",\n",
        "    \"Cauliflower Buffalo Wings (Vegan)\",\n",
        "    \"Spanish Paella with Seafood\",\n",
        "    \"Coconut and Lime Prawn Skewers\",\n",
        "    \"Maple Glazed Roasted Carrots\",\n",
        "    \"Lemon and Herb Roasted Chicken\",\n",
        "    \"Vegetarian Pad Thai\",\n",
        "    \"Apple Cinnamon Oatmeal (Vegan)\",\n",
        "    \"Traditional Indian Butter Chicken\",\n",
        "    \"Tuscan Garlic Shrimp Pasta\",\n",
        "    \"Korean Kimchi Pancakes\",\n",
        "    \"Baked Stuffed Peppers\",\n",
        "    \"Creamy Tomato Basil Soup\",\n",
        "    \"Balsamic Glazed Brussels Sprouts\",\n",
        "    \"Strawberry Cheesecake (No-Bake)\"\n",
        "]\n"
      ]
    },
    {
      "cell_type": "code",
      "execution_count": 17,
      "metadata": {
        "colab": {
          "base_uri": "https://localhost:8080/"
        },
        "id": "eW8D4XWnINQD",
        "outputId": "0f7b4a69-4fb9-495d-dd42-51e073f37317"
      },
      "outputs": [
        {
          "name": "stdout",
          "output_type": "stream",
          "text": [
            "calories [cal], totalFat [g], saturatedFat [g], cholesterol [mg], sodium [mg], dietaryFiber [g], sugars [g], protein [g]\n"
          ]
        }
      ],
      "source": [
        "nutrients_string = \", \".join(nutrients)\n",
        "print(nutrients_string)"
      ]
    },
    {
      "cell_type": "code",
      "execution_count": 7,
      "metadata": {
        "id": "pm8V41Z0hUuq"
      },
      "outputs": [],
      "source": [
        "results = []"
      ]
    },
    {
      "cell_type": "code",
      "execution_count": 18,
      "metadata": {
        "id": "pK9foxnchUSj"
      },
      "outputs": [],
      "source": [
        "acceptable_tags = ['appetizers', 'main-dish', 'side-dishes', 'drinks', 'beverages', 'fruits', 'desserts',\n",
        "                   'breakfast', 'pasta-rice-and-grains', 'rice', 'pasta', 'pizza', 'breads', 'meat', 'fish',\n",
        "                   'seafood', 'beef', 'chicken', 'vegetarian']"
      ]
    },
    {
      "cell_type": "code",
      "execution_count": 9,
      "metadata": {
        "id": "VUK22FAJWumZ"
      },
      "outputs": [],
      "source": [
        "# Definisci le soglie\n",
        "WHO_SCORE_THRESHOLDS = ( 0.15, 0.25)  # (soglia media, soglia alta)\n",
        "SUSTAINABILITY_SCORE_THRESHOLDS = (0.9, 0.5)  # (soglia media, soglia alta)\n",
        "\n",
        "# Funzioni di aiuto per calcolare le label\n",
        "def calculate_healthiness_label(who_score):\n",
        "    if who_score > WHO_SCORE_THRESHOLDS[1]:\n",
        "        return \"0\"\n",
        "    elif who_score < WHO_SCORE_THRESHOLDS[0]:\n",
        "        return \"2\"\n",
        "    else:\n",
        "        return \"1\"\n",
        "\n",
        "def calculate_sustainability_label(sustainability_score):\n",
        "    if sustainability_score >= SUSTAINABILITY_SCORE_THRESHOLDS[0]:\n",
        "        return \"0\"\n",
        "    elif sustainability_score <= SUSTAINABILITY_SCORE_THRESHOLDS[1]:\n",
        "        return \"2\"\n",
        "    else:\n",
        "        return \"1\"\n",
        "\n",
        "# Calcola le label in base ai valori di who_score e sustainability_score"
      ]
    },
    {
      "cell_type": "code",
      "execution_count": 19,
      "metadata": {
        "colab": {
          "base_uri": "https://localhost:8080/"
        },
        "id": "VomXsQRclmdj",
        "outputId": "fa4bd6fe-0c8f-450a-af04-2144b06312e1"
      },
      "outputs": [
        {
          "name": "stderr",
          "output_type": "stream",
          "text": [
            "Processing Titles embeddings: 100%|██████████| 1/1 [00:00<00:00, 41.43batch/s]"
          ]
        },
        {
          "name": "stderr",
          "output_type": "stream",
          "text": [
            "\n"
          ]
        },
        {
          "name": "stdout",
          "output_type": "stream",
          "text": [
            "Tags to match: []\n",
            "An error occurred while finding similar recipes: No tag found to match.\n"
          ]
        },
        {
          "name": "stderr",
          "output_type": "stream",
          "text": [
            "Processing Titles embeddings: 100%|██████████| 1/1 [00:00<00:00, 62.32batch/s]\n"
          ]
        },
        {
          "name": "stdout",
          "output_type": "stream",
          "text": [
            "Tags to match: []\n",
            "An error occurred while finding similar recipes: No tag found to match.\n"
          ]
        },
        {
          "name": "stderr",
          "output_type": "stream",
          "text": [
            "Processing Titles embeddings: 100%|██████████| 1/1 [00:00<00:00, 72.06batch/s]\n"
          ]
        },
        {
          "name": "stdout",
          "output_type": "stream",
          "text": [
            "Tags to match: ['chicken']\n",
            "Number of filtered recipes: 6366\n"
          ]
        },
        {
          "name": "stderr",
          "output_type": "stream",
          "text": [
            "Processing Titles embeddings: 100%|██████████| 1/1 [00:00<00:00, 73.31batch/s]\n"
          ]
        },
        {
          "name": "stdout",
          "output_type": "stream",
          "text": [
            "Tags to match: ['chicken']\n",
            "Number of filtered recipes: 6366\n"
          ]
        },
        {
          "name": "stderr",
          "output_type": "stream",
          "text": [
            "Processing Titles embeddings: 100%|██████████| 1/1 [00:00<00:00, 64.34batch/s]\n"
          ]
        },
        {
          "name": "stdout",
          "output_type": "stream",
          "text": [
            "Tags to match: ['chicken']\n",
            "Number of filtered recipes: 6366\n"
          ]
        },
        {
          "name": "stderr",
          "output_type": "stream",
          "text": [
            "Processing Titles embeddings: 100%|██████████| 1/1 [00:00<00:00, 71.06batch/s]\n"
          ]
        },
        {
          "name": "stdout",
          "output_type": "stream",
          "text": [
            "Tags to match: ['chicken']\n",
            "Number of filtered recipes: 6366\n"
          ]
        },
        {
          "name": "stderr",
          "output_type": "stream",
          "text": [
            "Processing Titles embeddings: 100%|██████████| 1/1 [00:00<00:00, 64.22batch/s]\n"
          ]
        },
        {
          "name": "stdout",
          "output_type": "stream",
          "text": [
            "Tags to match: ['chicken']\n",
            "Number of filtered recipes: 6366\n"
          ]
        },
        {
          "name": "stderr",
          "output_type": "stream",
          "text": [
            "Processing Titles embeddings: 100%|██████████| 1/1 [00:00<00:00, 61.93batch/s]\n"
          ]
        },
        {
          "name": "stdout",
          "output_type": "stream",
          "text": [
            "Tags to match: ['chicken']\n",
            "Number of filtered recipes: 6366\n"
          ]
        },
        {
          "name": "stderr",
          "output_type": "stream",
          "text": [
            "Processing Titles embeddings: 100%|██████████| 1/1 [00:00<00:00, 79.31batch/s]\n"
          ]
        },
        {
          "name": "stdout",
          "output_type": "stream",
          "text": [
            "Tags to match: ['main-dish']\n",
            "Number of filtered recipes: 24622\n"
          ]
        },
        {
          "name": "stderr",
          "output_type": "stream",
          "text": [
            "Processing Titles embeddings: 100%|██████████| 1/1 [00:00<00:00, 62.47batch/s]\n"
          ]
        },
        {
          "name": "stdout",
          "output_type": "stream",
          "text": [
            "Tags to match: ['main-dish']\n",
            "Number of filtered recipes: 24622\n"
          ]
        },
        {
          "name": "stderr",
          "output_type": "stream",
          "text": [
            "Processing Titles embeddings: 100%|██████████| 1/1 [00:00<00:00, 60.43batch/s]\n"
          ]
        },
        {
          "name": "stdout",
          "output_type": "stream",
          "text": [
            "Tags to match: []\n",
            "An error occurred while finding similar recipes: No tag found to match.\n"
          ]
        },
        {
          "name": "stderr",
          "output_type": "stream",
          "text": [
            "Processing Titles embeddings: 100%|██████████| 1/1 [00:00<00:00, 64.15batch/s]\n"
          ]
        },
        {
          "name": "stdout",
          "output_type": "stream",
          "text": [
            "Tags to match: []\n",
            "An error occurred while finding similar recipes: No tag found to match.\n"
          ]
        },
        {
          "name": "stderr",
          "output_type": "stream",
          "text": [
            "Processing Titles embeddings: 100%|██████████| 1/1 [00:00<00:00, 66.52batch/s]\n"
          ]
        },
        {
          "name": "stdout",
          "output_type": "stream",
          "text": [
            "Tags to match: []\n",
            "An error occurred while finding similar recipes: No tag found to match.\n"
          ]
        },
        {
          "name": "stderr",
          "output_type": "stream",
          "text": [
            "Processing Titles embeddings: 100%|██████████| 1/1 [00:00<00:00, 51.92batch/s]\n"
          ]
        },
        {
          "name": "stdout",
          "output_type": "stream",
          "text": [
            "Tags to match: []\n",
            "An error occurred while finding similar recipes: No tag found to match.\n"
          ]
        },
        {
          "name": "stderr",
          "output_type": "stream",
          "text": [
            "Processing Titles embeddings: 100%|██████████| 1/1 [00:00<00:00, 66.27batch/s]\n"
          ]
        },
        {
          "name": "stdout",
          "output_type": "stream",
          "text": [
            "Tags to match: []\n",
            "An error occurred while finding similar recipes: No tag found to match.\n"
          ]
        },
        {
          "name": "stderr",
          "output_type": "stream",
          "text": [
            "Processing Titles embeddings: 100%|██████████| 1/1 [00:00<00:00, 81.65batch/s]\n"
          ]
        },
        {
          "name": "stdout",
          "output_type": "stream",
          "text": [
            "Tags to match: []\n",
            "An error occurred while finding similar recipes: No tag found to match.\n"
          ]
        },
        {
          "name": "stderr",
          "output_type": "stream",
          "text": [
            "Processing Titles embeddings: 100%|██████████| 1/1 [00:00<00:00, 68.24batch/s]\n"
          ]
        },
        {
          "name": "stdout",
          "output_type": "stream",
          "text": [
            "Tags to match: []\n",
            "An error occurred while finding similar recipes: No tag found to match.\n"
          ]
        },
        {
          "name": "stderr",
          "output_type": "stream",
          "text": [
            "Processing Titles embeddings: 100%|██████████| 1/1 [00:00<00:00, 63.36batch/s]\n"
          ]
        },
        {
          "name": "stdout",
          "output_type": "stream",
          "text": [
            "Tags to match: []\n",
            "An error occurred while finding similar recipes: No tag found to match.\n"
          ]
        },
        {
          "name": "stderr",
          "output_type": "stream",
          "text": [
            "Processing Titles embeddings: 100%|██████████| 1/1 [00:00<00:00, 62.44batch/s]\n"
          ]
        },
        {
          "name": "stdout",
          "output_type": "stream",
          "text": [
            "Tags to match: []\n",
            "An error occurred while finding similar recipes: No tag found to match.\n"
          ]
        },
        {
          "name": "stderr",
          "output_type": "stream",
          "text": [
            "Processing Titles embeddings: 100%|██████████| 1/1 [00:00<00:00, 66.53batch/s]\n"
          ]
        },
        {
          "name": "stdout",
          "output_type": "stream",
          "text": [
            "Tags to match: []\n",
            "An error occurred while finding similar recipes: No tag found to match.\n"
          ]
        },
        {
          "name": "stderr",
          "output_type": "stream",
          "text": [
            "Processing Titles embeddings: 100%|██████████| 1/1 [00:00<00:00, 76.74batch/s]\n"
          ]
        },
        {
          "name": "stdout",
          "output_type": "stream",
          "text": [
            "Tags to match: []\n",
            "An error occurred while finding similar recipes: No tag found to match.\n"
          ]
        },
        {
          "name": "stderr",
          "output_type": "stream",
          "text": [
            "Processing Titles embeddings: 100%|██████████| 1/1 [00:00<00:00, 55.80batch/s]\n"
          ]
        },
        {
          "name": "stdout",
          "output_type": "stream",
          "text": [
            "Tags to match: []\n",
            "An error occurred while finding similar recipes: No tag found to match.\n"
          ]
        },
        {
          "name": "stderr",
          "output_type": "stream",
          "text": [
            "Processing Titles embeddings: 100%|██████████| 1/1 [00:00<00:00, 63.25batch/s]\n"
          ]
        },
        {
          "name": "stdout",
          "output_type": "stream",
          "text": [
            "Tags to match: []\n",
            "An error occurred while finding similar recipes: No tag found to match.\n"
          ]
        },
        {
          "name": "stderr",
          "output_type": "stream",
          "text": [
            "Processing Titles embeddings: 100%|██████████| 1/1 [00:00<00:00, 58.80batch/s]\n"
          ]
        },
        {
          "name": "stdout",
          "output_type": "stream",
          "text": [
            "Tags to match: []\n",
            "An error occurred while finding similar recipes: No tag found to match.\n"
          ]
        },
        {
          "name": "stderr",
          "output_type": "stream",
          "text": [
            "Processing Titles embeddings: 100%|██████████| 1/1 [00:00<00:00, 70.87batch/s]\n"
          ]
        },
        {
          "name": "stdout",
          "output_type": "stream",
          "text": [
            "Tags to match: []\n",
            "An error occurred while finding similar recipes: No tag found to match.\n"
          ]
        },
        {
          "name": "stderr",
          "output_type": "stream",
          "text": [
            "Processing Titles embeddings: 100%|██████████| 1/1 [00:00<00:00, 67.80batch/s]\n"
          ]
        },
        {
          "name": "stdout",
          "output_type": "stream",
          "text": [
            "Tags to match: []\n",
            "An error occurred while finding similar recipes: No tag found to match.\n"
          ]
        },
        {
          "name": "stderr",
          "output_type": "stream",
          "text": [
            "Processing Titles embeddings: 100%|██████████| 1/1 [00:00<00:00, 66.53batch/s]\n"
          ]
        },
        {
          "name": "stdout",
          "output_type": "stream",
          "text": [
            "Tags to match: ['main-dish', 'seafood']\n",
            "Number of filtered recipes: 3361\n"
          ]
        },
        {
          "name": "stderr",
          "output_type": "stream",
          "text": [
            "Processing Titles embeddings: 100%|██████████| 1/1 [00:00<00:00, 59.85batch/s]\n"
          ]
        },
        {
          "name": "stdout",
          "output_type": "stream",
          "text": [
            "Tags to match: ['main-dish', 'seafood']\n",
            "Number of filtered recipes: 26549\n"
          ]
        },
        {
          "name": "stderr",
          "output_type": "stream",
          "text": [
            "Processing Titles embeddings: 100%|██████████| 1/1 [00:00<00:00, 63.40batch/s]\n"
          ]
        },
        {
          "name": "stdout",
          "output_type": "stream",
          "text": [
            "Tags to match: ['main-dish', 'seafood']\n",
            "Number of filtered recipes: 3361\n"
          ]
        },
        {
          "name": "stderr",
          "output_type": "stream",
          "text": [
            "Processing Titles embeddings: 100%|██████████| 1/1 [00:00<00:00, 64.84batch/s]\n"
          ]
        },
        {
          "name": "stdout",
          "output_type": "stream",
          "text": [
            "Tags to match: ['main-dish', 'seafood']\n",
            "Number of filtered recipes: 26549\n"
          ]
        },
        {
          "name": "stderr",
          "output_type": "stream",
          "text": [
            "Processing Titles embeddings: 100%|██████████| 1/1 [00:00<00:00, 64.93batch/s]\n"
          ]
        },
        {
          "name": "stdout",
          "output_type": "stream",
          "text": [
            "Tags to match: ['main-dish', 'seafood']\n",
            "Number of filtered recipes: 3361\n"
          ]
        },
        {
          "name": "stderr",
          "output_type": "stream",
          "text": [
            "Processing Titles embeddings: 100%|██████████| 1/1 [00:00<00:00, 64.53batch/s]\n"
          ]
        },
        {
          "name": "stdout",
          "output_type": "stream",
          "text": [
            "Tags to match: ['main-dish', 'seafood']\n",
            "Number of filtered recipes: 26549\n"
          ]
        },
        {
          "name": "stderr",
          "output_type": "stream",
          "text": [
            "Processing Titles embeddings: 100%|██████████| 1/1 [00:00<00:00, 66.66batch/s]\n"
          ]
        },
        {
          "name": "stdout",
          "output_type": "stream",
          "text": [
            "Tags to match: []\n",
            "An error occurred while finding similar recipes: No tag found to match.\n"
          ]
        },
        {
          "name": "stderr",
          "output_type": "stream",
          "text": [
            "Processing Titles embeddings: 100%|██████████| 1/1 [00:00<00:00, 78.36batch/s]\n"
          ]
        },
        {
          "name": "stdout",
          "output_type": "stream",
          "text": [
            "Tags to match: []\n",
            "An error occurred while finding similar recipes: No tag found to match.\n"
          ]
        },
        {
          "name": "stderr",
          "output_type": "stream",
          "text": [
            "Processing Titles embeddings: 100%|██████████| 1/1 [00:00<00:00, 65.81batch/s]\n"
          ]
        },
        {
          "name": "stdout",
          "output_type": "stream",
          "text": [
            "Tags to match: []\n",
            "An error occurred while finding similar recipes: No tag found to match.\n"
          ]
        },
        {
          "name": "stderr",
          "output_type": "stream",
          "text": [
            "Processing Titles embeddings: 100%|██████████| 1/1 [00:00<00:00, 70.21batch/s]\n"
          ]
        },
        {
          "name": "stdout",
          "output_type": "stream",
          "text": [
            "Tags to match: []\n",
            "An error occurred while finding similar recipes: No tag found to match.\n"
          ]
        },
        {
          "name": "stderr",
          "output_type": "stream",
          "text": [
            "Processing Titles embeddings: 100%|██████████| 1/1 [00:00<00:00, 60.82batch/s]\n"
          ]
        },
        {
          "name": "stdout",
          "output_type": "stream",
          "text": [
            "Tags to match: []\n",
            "An error occurred while finding similar recipes: No tag found to match.\n"
          ]
        },
        {
          "name": "stderr",
          "output_type": "stream",
          "text": [
            "Processing Titles embeddings: 100%|██████████| 1/1 [00:00<00:00, 63.26batch/s]\n"
          ]
        },
        {
          "name": "stdout",
          "output_type": "stream",
          "text": [
            "Tags to match: []\n",
            "An error occurred while finding similar recipes: No tag found to match.\n"
          ]
        },
        {
          "name": "stderr",
          "output_type": "stream",
          "text": [
            "Processing Titles embeddings: 100%|██████████| 1/1 [00:00<00:00, 67.18batch/s]\n"
          ]
        },
        {
          "name": "stdout",
          "output_type": "stream",
          "text": [
            "Tags to match: []\n",
            "An error occurred while finding similar recipes: No tag found to match.\n"
          ]
        },
        {
          "name": "stderr",
          "output_type": "stream",
          "text": [
            "Processing Titles embeddings: 100%|██████████| 1/1 [00:00<00:00, 67.52batch/s]\n"
          ]
        },
        {
          "name": "stdout",
          "output_type": "stream",
          "text": [
            "Tags to match: []\n",
            "An error occurred while finding similar recipes: No tag found to match.\n"
          ]
        },
        {
          "name": "stderr",
          "output_type": "stream",
          "text": [
            "Processing Titles embeddings: 100%|██████████| 1/1 [00:00<00:00, 58.57batch/s]\n"
          ]
        },
        {
          "name": "stdout",
          "output_type": "stream",
          "text": [
            "Tags to match: []\n",
            "An error occurred while finding similar recipes: No tag found to match.\n"
          ]
        },
        {
          "name": "stderr",
          "output_type": "stream",
          "text": [
            "Processing Titles embeddings: 100%|██████████| 1/1 [00:00<00:00, 66.74batch/s]\n"
          ]
        },
        {
          "name": "stdout",
          "output_type": "stream",
          "text": [
            "Tags to match: []\n",
            "An error occurred while finding similar recipes: No tag found to match.\n"
          ]
        },
        {
          "name": "stderr",
          "output_type": "stream",
          "text": [
            "Processing Titles embeddings: 100%|██████████| 1/1 [00:00<00:00, 56.29batch/s]\n"
          ]
        },
        {
          "name": "stdout",
          "output_type": "stream",
          "text": [
            "Tags to match: ['meat']\n",
            "Number of filtered recipes: 17375\n"
          ]
        },
        {
          "name": "stderr",
          "output_type": "stream",
          "text": [
            "Processing Titles embeddings: 100%|██████████| 1/1 [00:00<00:00, 61.07batch/s]\n"
          ]
        },
        {
          "name": "stdout",
          "output_type": "stream",
          "text": [
            "Tags to match: ['meat']\n",
            "Number of filtered recipes: 17375\n"
          ]
        },
        {
          "name": "stderr",
          "output_type": "stream",
          "text": [
            "Processing Titles embeddings: 100%|██████████| 1/1 [00:00<00:00, 68.15batch/s]\n"
          ]
        },
        {
          "name": "stdout",
          "output_type": "stream",
          "text": [
            "Tags to match: ['meat']\n",
            "Number of filtered recipes: 17375\n"
          ]
        },
        {
          "name": "stderr",
          "output_type": "stream",
          "text": [
            "Processing Titles embeddings: 100%|██████████| 1/1 [00:00<00:00, 55.31batch/s]\n"
          ]
        },
        {
          "name": "stdout",
          "output_type": "stream",
          "text": [
            "Tags to match: ['meat']\n",
            "Number of filtered recipes: 17375\n"
          ]
        },
        {
          "name": "stderr",
          "output_type": "stream",
          "text": [
            "Processing Titles embeddings: 100%|██████████| 1/1 [00:00<00:00, 75.53batch/s]\n"
          ]
        },
        {
          "name": "stdout",
          "output_type": "stream",
          "text": [
            "Tags to match: ['meat']\n",
            "Number of filtered recipes: 17375\n"
          ]
        },
        {
          "name": "stderr",
          "output_type": "stream",
          "text": [
            "Processing Titles embeddings: 100%|██████████| 1/1 [00:00<00:00, 64.56batch/s]\n"
          ]
        },
        {
          "name": "stdout",
          "output_type": "stream",
          "text": [
            "Tags to match: ['meat']\n",
            "Number of filtered recipes: 17375\n"
          ]
        },
        {
          "name": "stderr",
          "output_type": "stream",
          "text": [
            "Processing Titles embeddings: 100%|██████████| 1/1 [00:00<00:00, 77.35batch/s]\n"
          ]
        },
        {
          "name": "stdout",
          "output_type": "stream",
          "text": [
            "Tags to match: []\n",
            "An error occurred while finding similar recipes: No tag found to match.\n"
          ]
        },
        {
          "name": "stderr",
          "output_type": "stream",
          "text": [
            "Processing Titles embeddings: 100%|██████████| 1/1 [00:00<00:00, 65.22batch/s]\n"
          ]
        },
        {
          "name": "stdout",
          "output_type": "stream",
          "text": [
            "Tags to match: []\n",
            "An error occurred while finding similar recipes: No tag found to match.\n"
          ]
        },
        {
          "name": "stderr",
          "output_type": "stream",
          "text": [
            "Processing Titles embeddings: 100%|██████████| 1/1 [00:00<00:00, 68.08batch/s]\n"
          ]
        },
        {
          "name": "stdout",
          "output_type": "stream",
          "text": [
            "Tags to match: []\n",
            "An error occurred while finding similar recipes: No tag found to match.\n"
          ]
        },
        {
          "name": "stderr",
          "output_type": "stream",
          "text": [
            "Processing Titles embeddings: 100%|██████████| 1/1 [00:00<00:00, 61.02batch/s]\n"
          ]
        },
        {
          "name": "stdout",
          "output_type": "stream",
          "text": [
            "Tags to match: []\n",
            "An error occurred while finding similar recipes: No tag found to match.\n"
          ]
        },
        {
          "name": "stderr",
          "output_type": "stream",
          "text": [
            "Processing Titles embeddings: 100%|██████████| 1/1 [00:00<00:00, 60.93batch/s]\n"
          ]
        },
        {
          "name": "stdout",
          "output_type": "stream",
          "text": [
            "Tags to match: []\n",
            "An error occurred while finding similar recipes: No tag found to match.\n"
          ]
        },
        {
          "name": "stderr",
          "output_type": "stream",
          "text": [
            "Processing Titles embeddings: 100%|██████████| 1/1 [00:00<00:00, 65.55batch/s]\n"
          ]
        },
        {
          "name": "stdout",
          "output_type": "stream",
          "text": [
            "Tags to match: []\n",
            "An error occurred while finding similar recipes: No tag found to match.\n"
          ]
        },
        {
          "name": "stderr",
          "output_type": "stream",
          "text": [
            "Processing Titles embeddings: 100%|██████████| 1/1 [00:00<00:00, 73.26batch/s]\n"
          ]
        },
        {
          "name": "stdout",
          "output_type": "stream",
          "text": [
            "Tags to match: []\n",
            "An error occurred while finding similar recipes: No tag found to match.\n"
          ]
        },
        {
          "name": "stderr",
          "output_type": "stream",
          "text": [
            "Processing Titles embeddings: 100%|██████████| 1/1 [00:00<00:00, 61.83batch/s]\n"
          ]
        },
        {
          "name": "stdout",
          "output_type": "stream",
          "text": [
            "Tags to match: []\n",
            "An error occurred while finding similar recipes: No tag found to match.\n"
          ]
        },
        {
          "name": "stderr",
          "output_type": "stream",
          "text": [
            "Processing Titles embeddings: 100%|██████████| 1/1 [00:00<00:00, 70.10batch/s]\n"
          ]
        },
        {
          "name": "stdout",
          "output_type": "stream",
          "text": [
            "Tags to match: []\n",
            "An error occurred while finding similar recipes: No tag found to match.\n"
          ]
        },
        {
          "name": "stderr",
          "output_type": "stream",
          "text": [
            "Processing Titles embeddings: 100%|██████████| 1/1 [00:00<00:00, 60.57batch/s]\n"
          ]
        },
        {
          "name": "stdout",
          "output_type": "stream",
          "text": [
            "Tags to match: []\n",
            "An error occurred while finding similar recipes: No tag found to match.\n"
          ]
        },
        {
          "name": "stderr",
          "output_type": "stream",
          "text": [
            "Processing Titles embeddings: 100%|██████████| 1/1 [00:00<00:00, 64.91batch/s]\n"
          ]
        },
        {
          "name": "stdout",
          "output_type": "stream",
          "text": [
            "Tags to match: []\n",
            "An error occurred while finding similar recipes: No tag found to match.\n"
          ]
        },
        {
          "name": "stderr",
          "output_type": "stream",
          "text": [
            "Processing Titles embeddings: 100%|██████████| 1/1 [00:00<00:00, 77.16batch/s]\n"
          ]
        },
        {
          "name": "stdout",
          "output_type": "stream",
          "text": [
            "Tags to match: []\n",
            "An error occurred while finding similar recipes: No tag found to match.\n"
          ]
        },
        {
          "name": "stderr",
          "output_type": "stream",
          "text": [
            "Processing Titles embeddings: 100%|██████████| 1/1 [00:00<00:00, 78.11batch/s]\n"
          ]
        },
        {
          "name": "stdout",
          "output_type": "stream",
          "text": [
            "Tags to match: []\n",
            "An error occurred while finding similar recipes: No tag found to match.\n"
          ]
        },
        {
          "name": "stderr",
          "output_type": "stream",
          "text": [
            "Processing Titles embeddings: 100%|██████████| 1/1 [00:00<00:00, 63.89batch/s]\n"
          ]
        },
        {
          "name": "stdout",
          "output_type": "stream",
          "text": [
            "Tags to match: []\n",
            "An error occurred while finding similar recipes: No tag found to match.\n"
          ]
        },
        {
          "name": "stderr",
          "output_type": "stream",
          "text": [
            "Processing Titles embeddings: 100%|██████████| 1/1 [00:00<00:00, 63.25batch/s]\n"
          ]
        },
        {
          "name": "stdout",
          "output_type": "stream",
          "text": [
            "Tags to match: []\n",
            "An error occurred while finding similar recipes: No tag found to match.\n"
          ]
        },
        {
          "name": "stderr",
          "output_type": "stream",
          "text": [
            "Processing Titles embeddings: 100%|██████████| 1/1 [00:00<00:00, 63.73batch/s]\n"
          ]
        },
        {
          "name": "stdout",
          "output_type": "stream",
          "text": [
            "Tags to match: []\n",
            "An error occurred while finding similar recipes: No tag found to match.\n"
          ]
        },
        {
          "name": "stderr",
          "output_type": "stream",
          "text": [
            "Processing Titles embeddings: 100%|██████████| 1/1 [00:00<00:00, 66.67batch/s]\n"
          ]
        },
        {
          "name": "stdout",
          "output_type": "stream",
          "text": [
            "Tags to match: ['main-dish']\n",
            "Number of filtered recipes: 24622\n"
          ]
        },
        {
          "name": "stderr",
          "output_type": "stream",
          "text": [
            "Processing Titles embeddings: 100%|██████████| 1/1 [00:00<00:00, 64.41batch/s]\n"
          ]
        },
        {
          "name": "stdout",
          "output_type": "stream",
          "text": [
            "Tags to match: ['main-dish']\n",
            "Number of filtered recipes: 24622\n"
          ]
        },
        {
          "name": "stderr",
          "output_type": "stream",
          "text": [
            "Processing Titles embeddings: 100%|██████████| 1/1 [00:00<00:00, 65.64batch/s]\n"
          ]
        },
        {
          "name": "stdout",
          "output_type": "stream",
          "text": [
            "Tags to match: ['main-dish', 'vegetarian']\n",
            "Number of filtered recipes: 3007\n"
          ]
        },
        {
          "name": "stderr",
          "output_type": "stream",
          "text": [
            "Processing Titles embeddings: 100%|██████████| 1/1 [00:00<00:00, 62.29batch/s]\n"
          ]
        },
        {
          "name": "stdout",
          "output_type": "stream",
          "text": [
            "Tags to match: ['main-dish', 'vegetarian']\n",
            "Number of filtered recipes: 36427\n"
          ]
        },
        {
          "name": "stderr",
          "output_type": "stream",
          "text": [
            "Processing Titles embeddings: 100%|██████████| 1/1 [00:00<00:00, 66.58batch/s]\n"
          ]
        },
        {
          "name": "stdout",
          "output_type": "stream",
          "text": [
            "Tags to match: ['main-dish', 'vegetarian']\n",
            "Number of filtered recipes: 3007\n"
          ]
        },
        {
          "name": "stderr",
          "output_type": "stream",
          "text": [
            "Processing Titles embeddings: 100%|██████████| 1/1 [00:00<00:00, 66.53batch/s]\n"
          ]
        },
        {
          "name": "stdout",
          "output_type": "stream",
          "text": [
            "Tags to match: ['main-dish', 'vegetarian']\n",
            "Number of filtered recipes: 36427\n"
          ]
        },
        {
          "name": "stderr",
          "output_type": "stream",
          "text": [
            "Processing Titles embeddings: 100%|██████████| 1/1 [00:00<00:00, 65.13batch/s]\n"
          ]
        },
        {
          "name": "stdout",
          "output_type": "stream",
          "text": [
            "Tags to match: ['main-dish', 'vegetarian']\n",
            "Number of filtered recipes: 3007\n"
          ]
        },
        {
          "name": "stderr",
          "output_type": "stream",
          "text": [
            "Processing Titles embeddings: 100%|██████████| 1/1 [00:00<00:00, 64.97batch/s]\n"
          ]
        },
        {
          "name": "stdout",
          "output_type": "stream",
          "text": [
            "Tags to match: ['main-dish', 'vegetarian']\n",
            "Number of filtered recipes: 36427\n"
          ]
        },
        {
          "name": "stderr",
          "output_type": "stream",
          "text": [
            "Processing Titles embeddings: 100%|██████████| 1/1 [00:00<00:00, 63.29batch/s]\n"
          ]
        },
        {
          "name": "stdout",
          "output_type": "stream",
          "text": [
            "Tags to match: []\n",
            "An error occurred while finding similar recipes: No tag found to match.\n"
          ]
        },
        {
          "name": "stderr",
          "output_type": "stream",
          "text": [
            "Processing Titles embeddings: 100%|██████████| 1/1 [00:00<00:00, 59.78batch/s]\n"
          ]
        },
        {
          "name": "stdout",
          "output_type": "stream",
          "text": [
            "Tags to match: []\n",
            "An error occurred while finding similar recipes: No tag found to match.\n"
          ]
        },
        {
          "name": "stderr",
          "output_type": "stream",
          "text": [
            "Processing Titles embeddings: 100%|██████████| 1/1 [00:00<00:00, 61.82batch/s]\n"
          ]
        },
        {
          "name": "stdout",
          "output_type": "stream",
          "text": [
            "Tags to match: []\n",
            "An error occurred while finding similar recipes: No tag found to match.\n"
          ]
        },
        {
          "name": "stderr",
          "output_type": "stream",
          "text": [
            "Processing Titles embeddings: 100%|██████████| 1/1 [00:00<00:00, 63.90batch/s]\n"
          ]
        },
        {
          "name": "stdout",
          "output_type": "stream",
          "text": [
            "Tags to match: []\n",
            "An error occurred while finding similar recipes: No tag found to match.\n"
          ]
        },
        {
          "name": "stderr",
          "output_type": "stream",
          "text": [
            "Processing Titles embeddings: 100%|██████████| 1/1 [00:00<00:00, 63.92batch/s]\n"
          ]
        },
        {
          "name": "stdout",
          "output_type": "stream",
          "text": [
            "Tags to match: []\n",
            "An error occurred while finding similar recipes: No tag found to match.\n"
          ]
        },
        {
          "name": "stderr",
          "output_type": "stream",
          "text": [
            "Processing Titles embeddings: 100%|██████████| 1/1 [00:00<00:00, 58.61batch/s]\n"
          ]
        },
        {
          "name": "stdout",
          "output_type": "stream",
          "text": [
            "Tags to match: []\n",
            "An error occurred while finding similar recipes: No tag found to match.\n"
          ]
        },
        {
          "name": "stderr",
          "output_type": "stream",
          "text": [
            "Processing Titles embeddings: 100%|██████████| 1/1 [00:00<00:00, 67.14batch/s]\n"
          ]
        },
        {
          "name": "stdout",
          "output_type": "stream",
          "text": [
            "Tags to match: []\n",
            "An error occurred while finding similar recipes: No tag found to match.\n"
          ]
        },
        {
          "name": "stderr",
          "output_type": "stream",
          "text": [
            "Processing Titles embeddings: 100%|██████████| 1/1 [00:00<00:00, 64.31batch/s]\n"
          ]
        },
        {
          "name": "stdout",
          "output_type": "stream",
          "text": [
            "Tags to match: []\n",
            "An error occurred while finding similar recipes: No tag found to match.\n"
          ]
        },
        {
          "name": "stderr",
          "output_type": "stream",
          "text": [
            "Processing Titles embeddings: 100%|██████████| 1/1 [00:00<00:00, 63.98batch/s]\n"
          ]
        },
        {
          "name": "stdout",
          "output_type": "stream",
          "text": [
            "Tags to match: []\n",
            "An error occurred while finding similar recipes: No tag found to match.\n"
          ]
        },
        {
          "name": "stderr",
          "output_type": "stream",
          "text": [
            "Processing Titles embeddings: 100%|██████████| 1/1 [00:00<00:00, 69.23batch/s]\n"
          ]
        },
        {
          "name": "stdout",
          "output_type": "stream",
          "text": [
            "Tags to match: []\n",
            "An error occurred while finding similar recipes: No tag found to match.\n"
          ]
        },
        {
          "name": "stderr",
          "output_type": "stream",
          "text": [
            "Processing Titles embeddings: 100%|██████████| 1/1 [00:00<00:00, 68.56batch/s]\n"
          ]
        },
        {
          "name": "stdout",
          "output_type": "stream",
          "text": [
            "Tags to match: []\n",
            "An error occurred while finding similar recipes: No tag found to match.\n"
          ]
        },
        {
          "name": "stderr",
          "output_type": "stream",
          "text": [
            "Processing Titles embeddings: 100%|██████████| 1/1 [00:00<00:00, 64.13batch/s]\n"
          ]
        },
        {
          "name": "stdout",
          "output_type": "stream",
          "text": [
            "Tags to match: []\n",
            "An error occurred while finding similar recipes: No tag found to match.\n"
          ]
        },
        {
          "name": "stderr",
          "output_type": "stream",
          "text": [
            "Processing Titles embeddings: 100%|██████████| 1/1 [00:00<00:00, 61.42batch/s]\n"
          ]
        },
        {
          "name": "stdout",
          "output_type": "stream",
          "text": [
            "Tags to match: []\n",
            "An error occurred while finding similar recipes: No tag found to match.\n"
          ]
        },
        {
          "name": "stderr",
          "output_type": "stream",
          "text": [
            "Processing Titles embeddings: 100%|██████████| 1/1 [00:00<00:00, 76.43batch/s]\n"
          ]
        },
        {
          "name": "stdout",
          "output_type": "stream",
          "text": [
            "Tags to match: []\n",
            "An error occurred while finding similar recipes: No tag found to match.\n"
          ]
        },
        {
          "name": "stderr",
          "output_type": "stream",
          "text": [
            "Processing Titles embeddings: 100%|██████████| 1/1 [00:00<00:00, 69.28batch/s]\n"
          ]
        },
        {
          "name": "stdout",
          "output_type": "stream",
          "text": [
            "Tags to match: []\n",
            "An error occurred while finding similar recipes: No tag found to match.\n"
          ]
        },
        {
          "name": "stderr",
          "output_type": "stream",
          "text": [
            "Processing Titles embeddings: 100%|██████████| 1/1 [00:00<00:00, 70.73batch/s]\n"
          ]
        },
        {
          "name": "stdout",
          "output_type": "stream",
          "text": [
            "Tags to match: []\n",
            "An error occurred while finding similar recipes: No tag found to match.\n"
          ]
        },
        {
          "name": "stderr",
          "output_type": "stream",
          "text": [
            "Processing Titles embeddings: 100%|██████████| 1/1 [00:00<00:00, 48.27batch/s]\n"
          ]
        },
        {
          "name": "stdout",
          "output_type": "stream",
          "text": [
            "Tags to match: []\n",
            "An error occurred while finding similar recipes: No tag found to match.\n"
          ]
        },
        {
          "name": "stderr",
          "output_type": "stream",
          "text": [
            "Processing Titles embeddings: 100%|██████████| 1/1 [00:00<00:00, 63.90batch/s]\n"
          ]
        },
        {
          "name": "stdout",
          "output_type": "stream",
          "text": [
            "Tags to match: []\n",
            "An error occurred while finding similar recipes: No tag found to match.\n"
          ]
        },
        {
          "name": "stderr",
          "output_type": "stream",
          "text": [
            "Processing Titles embeddings: 100%|██████████| 1/1 [00:00<00:00, 70.34batch/s]\n"
          ]
        },
        {
          "name": "stdout",
          "output_type": "stream",
          "text": [
            "Tags to match: []\n",
            "An error occurred while finding similar recipes: No tag found to match.\n"
          ]
        },
        {
          "name": "stderr",
          "output_type": "stream",
          "text": [
            "Processing Titles embeddings: 100%|██████████| 1/1 [00:00<00:00, 63.95batch/s]\n"
          ]
        },
        {
          "name": "stdout",
          "output_type": "stream",
          "text": [
            "Tags to match: []\n",
            "An error occurred while finding similar recipes: No tag found to match.\n"
          ]
        },
        {
          "name": "stderr",
          "output_type": "stream",
          "text": [
            "Processing Titles embeddings: 100%|██████████| 1/1 [00:00<00:00, 64.17batch/s]\n"
          ]
        },
        {
          "name": "stdout",
          "output_type": "stream",
          "text": [
            "Tags to match: []\n",
            "An error occurred while finding similar recipes: No tag found to match.\n"
          ]
        },
        {
          "name": "stderr",
          "output_type": "stream",
          "text": [
            "Processing Titles embeddings: 100%|██████████| 1/1 [00:00<00:00, 60.89batch/s]\n"
          ]
        },
        {
          "name": "stdout",
          "output_type": "stream",
          "text": [
            "Tags to match: []\n",
            "An error occurred while finding similar recipes: No tag found to match.\n"
          ]
        },
        {
          "name": "stderr",
          "output_type": "stream",
          "text": [
            "Processing Titles embeddings: 100%|██████████| 1/1 [00:00<00:00, 58.28batch/s]\n"
          ]
        },
        {
          "name": "stdout",
          "output_type": "stream",
          "text": [
            "Tags to match: []\n",
            "An error occurred while finding similar recipes: No tag found to match.\n"
          ]
        },
        {
          "name": "stderr",
          "output_type": "stream",
          "text": [
            "Processing Titles embeddings: 100%|██████████| 1/1 [00:00<00:00, 79.40batch/s]\n"
          ]
        },
        {
          "name": "stdout",
          "output_type": "stream",
          "text": [
            "Tags to match: []\n",
            "An error occurred while finding similar recipes: No tag found to match.\n"
          ]
        },
        {
          "name": "stderr",
          "output_type": "stream",
          "text": [
            "Processing Titles embeddings: 100%|██████████| 1/1 [00:00<00:00, 76.98batch/s]\n"
          ]
        },
        {
          "name": "stdout",
          "output_type": "stream",
          "text": [
            "Tags to match: []\n",
            "An error occurred while finding similar recipes: No tag found to match.\n"
          ]
        },
        {
          "name": "stderr",
          "output_type": "stream",
          "text": [
            "Processing Titles embeddings: 100%|██████████| 1/1 [00:00<00:00, 62.61batch/s]\n"
          ]
        },
        {
          "name": "stdout",
          "output_type": "stream",
          "text": [
            "Tags to match: []\n",
            "An error occurred while finding similar recipes: No tag found to match.\n"
          ]
        },
        {
          "name": "stderr",
          "output_type": "stream",
          "text": [
            "Processing Titles embeddings: 100%|██████████| 1/1 [00:00<00:00, 66.50batch/s]\n"
          ]
        },
        {
          "name": "stdout",
          "output_type": "stream",
          "text": [
            "Tags to match: []\n",
            "An error occurred while finding similar recipes: No tag found to match.\n"
          ]
        },
        {
          "name": "stderr",
          "output_type": "stream",
          "text": [
            "Processing Titles embeddings: 100%|██████████| 1/1 [00:00<00:00, 66.61batch/s]\n"
          ]
        },
        {
          "name": "stdout",
          "output_type": "stream",
          "text": [
            "Tags to match: []\n",
            "An error occurred while finding similar recipes: No tag found to match.\n"
          ]
        },
        {
          "name": "stderr",
          "output_type": "stream",
          "text": [
            "Processing Titles embeddings: 100%|██████████| 1/1 [00:00<00:00, 63.63batch/s]\n"
          ]
        },
        {
          "name": "stdout",
          "output_type": "stream",
          "text": [
            "Tags to match: []\n",
            "An error occurred while finding similar recipes: No tag found to match.\n"
          ]
        },
        {
          "name": "stderr",
          "output_type": "stream",
          "text": [
            "Processing Titles embeddings: 100%|██████████| 1/1 [00:00<00:00, 62.81batch/s]\n"
          ]
        },
        {
          "name": "stdout",
          "output_type": "stream",
          "text": [
            "Tags to match: []\n",
            "An error occurred while finding similar recipes: No tag found to match.\n"
          ]
        },
        {
          "name": "stderr",
          "output_type": "stream",
          "text": [
            "Processing Titles embeddings: 100%|██████████| 1/1 [00:00<00:00, 59.62batch/s]\n"
          ]
        },
        {
          "name": "stdout",
          "output_type": "stream",
          "text": [
            "Tags to match: []\n",
            "An error occurred while finding similar recipes: No tag found to match.\n"
          ]
        },
        {
          "name": "stderr",
          "output_type": "stream",
          "text": [
            "Processing Titles embeddings: 100%|██████████| 1/1 [00:00<00:00, 62.75batch/s]\n"
          ]
        },
        {
          "name": "stdout",
          "output_type": "stream",
          "text": [
            "Tags to match: []\n",
            "An error occurred while finding similar recipes: No tag found to match.\n"
          ]
        },
        {
          "name": "stderr",
          "output_type": "stream",
          "text": [
            "Processing Titles embeddings: 100%|██████████| 1/1 [00:00<00:00, 66.00batch/s]\n"
          ]
        },
        {
          "name": "stdout",
          "output_type": "stream",
          "text": [
            "Tags to match: ['desserts']\n",
            "Number of filtered recipes: 21618\n"
          ]
        },
        {
          "name": "stderr",
          "output_type": "stream",
          "text": [
            "Processing Titles embeddings: 100%|██████████| 1/1 [00:00<00:00, 66.68batch/s]\n"
          ]
        },
        {
          "name": "stdout",
          "output_type": "stream",
          "text": [
            "Tags to match: ['desserts']\n",
            "Number of filtered recipes: 21618\n"
          ]
        },
        {
          "name": "stderr",
          "output_type": "stream",
          "text": [
            "Processing Titles embeddings: 100%|██████████| 1/1 [00:00<00:00, 64.80batch/s]\n"
          ]
        },
        {
          "name": "stdout",
          "output_type": "stream",
          "text": [
            "Tags to match: ['desserts']\n",
            "Number of filtered recipes: 21618\n"
          ]
        },
        {
          "name": "stderr",
          "output_type": "stream",
          "text": [
            "Processing Titles embeddings: 100%|██████████| 1/1 [00:00<00:00, 64.95batch/s]\n"
          ]
        },
        {
          "name": "stdout",
          "output_type": "stream",
          "text": [
            "Tags to match: ['desserts']\n",
            "Number of filtered recipes: 21618\n"
          ]
        },
        {
          "name": "stderr",
          "output_type": "stream",
          "text": [
            "Processing Titles embeddings: 100%|██████████| 1/1 [00:00<00:00, 62.79batch/s]\n"
          ]
        },
        {
          "name": "stdout",
          "output_type": "stream",
          "text": [
            "Tags to match: ['desserts']\n",
            "Number of filtered recipes: 21618\n"
          ]
        },
        {
          "name": "stderr",
          "output_type": "stream",
          "text": [
            "Processing Titles embeddings: 100%|██████████| 1/1 [00:00<00:00, 65.59batch/s]\n"
          ]
        },
        {
          "name": "stdout",
          "output_type": "stream",
          "text": [
            "Tags to match: ['desserts']\n",
            "Number of filtered recipes: 21618\n"
          ]
        },
        {
          "name": "stderr",
          "output_type": "stream",
          "text": [
            "Processing Titles embeddings: 100%|██████████| 1/1 [00:00<00:00, 64.52batch/s]\n"
          ]
        },
        {
          "name": "stdout",
          "output_type": "stream",
          "text": [
            "Tags to match: ['desserts']\n",
            "Number of filtered recipes: 21618\n"
          ]
        },
        {
          "name": "stderr",
          "output_type": "stream",
          "text": [
            "Processing Titles embeddings: 100%|██████████| 1/1 [00:00<00:00, 66.90batch/s]\n"
          ]
        },
        {
          "name": "stdout",
          "output_type": "stream",
          "text": [
            "Tags to match: ['desserts']\n",
            "Number of filtered recipes: 21618\n"
          ]
        },
        {
          "name": "stderr",
          "output_type": "stream",
          "text": [
            "Processing Titles embeddings: 100%|██████████| 1/1 [00:00<00:00, 64.99batch/s]\n"
          ]
        },
        {
          "name": "stdout",
          "output_type": "stream",
          "text": [
            "Tags to match: ['main-dish', 'meat']\n",
            "Number of filtered recipes: 13060\n"
          ]
        },
        {
          "name": "stderr",
          "output_type": "stream",
          "text": [
            "Processing Titles embeddings: 100%|██████████| 1/1 [00:00<00:00, 70.59batch/s]\n"
          ]
        },
        {
          "name": "stdout",
          "output_type": "stream",
          "text": [
            "Tags to match: ['main-dish', 'meat']\n",
            "Number of filtered recipes: 28937\n"
          ]
        },
        {
          "name": "stderr",
          "output_type": "stream",
          "text": [
            "Processing Titles embeddings: 100%|██████████| 1/1 [00:00<00:00, 65.43batch/s]\n"
          ]
        },
        {
          "name": "stdout",
          "output_type": "stream",
          "text": [
            "Tags to match: ['main-dish', 'meat']\n",
            "Number of filtered recipes: 13060\n"
          ]
        },
        {
          "name": "stderr",
          "output_type": "stream",
          "text": [
            "Processing Titles embeddings: 100%|██████████| 1/1 [00:00<00:00, 56.79batch/s]\n"
          ]
        },
        {
          "name": "stdout",
          "output_type": "stream",
          "text": [
            "Tags to match: ['main-dish', 'meat']\n",
            "Number of filtered recipes: 28937\n"
          ]
        },
        {
          "name": "stderr",
          "output_type": "stream",
          "text": [
            "Processing Titles embeddings: 100%|██████████| 1/1 [00:00<00:00, 66.42batch/s]\n"
          ]
        },
        {
          "name": "stdout",
          "output_type": "stream",
          "text": [
            "Tags to match: ['main-dish', 'meat']\n",
            "Number of filtered recipes: 13060\n"
          ]
        },
        {
          "name": "stderr",
          "output_type": "stream",
          "text": [
            "Processing Titles embeddings: 100%|██████████| 1/1 [00:00<00:00, 63.68batch/s]\n"
          ]
        },
        {
          "name": "stdout",
          "output_type": "stream",
          "text": [
            "Tags to match: ['main-dish', 'meat']\n",
            "Number of filtered recipes: 28937\n"
          ]
        },
        {
          "name": "stderr",
          "output_type": "stream",
          "text": [
            "Processing Titles embeddings: 100%|██████████| 1/1 [00:00<00:00, 75.59batch/s]\n"
          ]
        },
        {
          "name": "stdout",
          "output_type": "stream",
          "text": [
            "Tags to match: ['main-dish', 'meat']\n",
            "Number of filtered recipes: 13060\n"
          ]
        },
        {
          "name": "stderr",
          "output_type": "stream",
          "text": [
            "Processing Titles embeddings: 100%|██████████| 1/1 [00:00<00:00, 63.41batch/s]\n"
          ]
        },
        {
          "name": "stdout",
          "output_type": "stream",
          "text": [
            "Tags to match: ['main-dish', 'meat']\n",
            "Number of filtered recipes: 28937\n"
          ]
        },
        {
          "name": "stderr",
          "output_type": "stream",
          "text": [
            "Processing Titles embeddings: 100%|██████████| 1/1 [00:00<00:00, 64.36batch/s]\n"
          ]
        },
        {
          "name": "stdout",
          "output_type": "stream",
          "text": [
            "Tags to match: []\n",
            "An error occurred while finding similar recipes: No tag found to match.\n"
          ]
        },
        {
          "name": "stderr",
          "output_type": "stream",
          "text": [
            "Processing Titles embeddings: 100%|██████████| 1/1 [00:00<00:00, 79.61batch/s]\n"
          ]
        },
        {
          "name": "stdout",
          "output_type": "stream",
          "text": [
            "Tags to match: []\n",
            "An error occurred while finding similar recipes: No tag found to match.\n"
          ]
        },
        {
          "name": "stderr",
          "output_type": "stream",
          "text": [
            "Processing Titles embeddings: 100%|██████████| 1/1 [00:00<00:00, 79.67batch/s]\n"
          ]
        },
        {
          "name": "stdout",
          "output_type": "stream",
          "text": [
            "Tags to match: []\n",
            "An error occurred while finding similar recipes: No tag found to match.\n"
          ]
        },
        {
          "name": "stderr",
          "output_type": "stream",
          "text": [
            "Processing Titles embeddings: 100%|██████████| 1/1 [00:00<00:00, 64.33batch/s]\n"
          ]
        },
        {
          "name": "stdout",
          "output_type": "stream",
          "text": [
            "Tags to match: []\n",
            "An error occurred while finding similar recipes: No tag found to match.\n"
          ]
        },
        {
          "name": "stderr",
          "output_type": "stream",
          "text": [
            "Processing Titles embeddings: 100%|██████████| 1/1 [00:00<00:00, 68.36batch/s]\n"
          ]
        },
        {
          "name": "stdout",
          "output_type": "stream",
          "text": [
            "Tags to match: []\n",
            "An error occurred while finding similar recipes: No tag found to match.\n"
          ]
        },
        {
          "name": "stderr",
          "output_type": "stream",
          "text": [
            "Processing Titles embeddings: 100%|██████████| 1/1 [00:00<00:00, 63.75batch/s]\n"
          ]
        },
        {
          "name": "stdout",
          "output_type": "stream",
          "text": [
            "Tags to match: []\n",
            "An error occurred while finding similar recipes: No tag found to match.\n"
          ]
        },
        {
          "name": "stderr",
          "output_type": "stream",
          "text": [
            "Processing Titles embeddings: 100%|██████████| 1/1 [00:00<00:00, 68.45batch/s]\n"
          ]
        },
        {
          "name": "stdout",
          "output_type": "stream",
          "text": [
            "Tags to match: []\n",
            "An error occurred while finding similar recipes: No tag found to match.\n"
          ]
        },
        {
          "name": "stderr",
          "output_type": "stream",
          "text": [
            "Processing Titles embeddings: 100%|██████████| 1/1 [00:00<00:00, 76.22batch/s]\n"
          ]
        },
        {
          "name": "stdout",
          "output_type": "stream",
          "text": [
            "Tags to match: []\n",
            "An error occurred while finding similar recipes: No tag found to match.\n"
          ]
        },
        {
          "name": "stderr",
          "output_type": "stream",
          "text": [
            "Processing Titles embeddings: 100%|██████████| 1/1 [00:00<00:00, 66.27batch/s]\n"
          ]
        },
        {
          "name": "stdout",
          "output_type": "stream",
          "text": [
            "Tags to match: []\n",
            "An error occurred while finding similar recipes: No tag found to match.\n"
          ]
        },
        {
          "name": "stderr",
          "output_type": "stream",
          "text": [
            "Processing Titles embeddings: 100%|██████████| 1/1 [00:00<00:00, 65.42batch/s]\n"
          ]
        },
        {
          "name": "stdout",
          "output_type": "stream",
          "text": [
            "Tags to match: []\n",
            "An error occurred while finding similar recipes: No tag found to match.\n"
          ]
        },
        {
          "name": "stderr",
          "output_type": "stream",
          "text": [
            "Processing Titles embeddings: 100%|██████████| 1/1 [00:00<00:00, 52.19batch/s]\n"
          ]
        },
        {
          "name": "stdout",
          "output_type": "stream",
          "text": [
            "Tags to match: []\n",
            "An error occurred while finding similar recipes: No tag found to match.\n"
          ]
        },
        {
          "name": "stderr",
          "output_type": "stream",
          "text": [
            "Processing Titles embeddings: 100%|██████████| 1/1 [00:00<00:00, 76.20batch/s]\n"
          ]
        },
        {
          "name": "stdout",
          "output_type": "stream",
          "text": [
            "Tags to match: []\n",
            "An error occurred while finding similar recipes: No tag found to match.\n"
          ]
        },
        {
          "name": "stderr",
          "output_type": "stream",
          "text": [
            "Processing Titles embeddings: 100%|██████████| 1/1 [00:00<00:00, 78.99batch/s]\n"
          ]
        },
        {
          "name": "stdout",
          "output_type": "stream",
          "text": [
            "Tags to match: []\n",
            "An error occurred while finding similar recipes: No tag found to match.\n"
          ]
        },
        {
          "name": "stderr",
          "output_type": "stream",
          "text": [
            "Processing Titles embeddings: 100%|██████████| 1/1 [00:00<00:00, 65.46batch/s]\n"
          ]
        },
        {
          "name": "stdout",
          "output_type": "stream",
          "text": [
            "Tags to match: []\n",
            "An error occurred while finding similar recipes: No tag found to match.\n"
          ]
        },
        {
          "name": "stderr",
          "output_type": "stream",
          "text": [
            "Processing Titles embeddings: 100%|██████████| 1/1 [00:00<00:00, 66.37batch/s]\n"
          ]
        },
        {
          "name": "stdout",
          "output_type": "stream",
          "text": [
            "Tags to match: []\n",
            "An error occurred while finding similar recipes: No tag found to match.\n"
          ]
        },
        {
          "name": "stderr",
          "output_type": "stream",
          "text": [
            "Processing Titles embeddings: 100%|██████████| 1/1 [00:00<00:00, 63.96batch/s]\n"
          ]
        },
        {
          "name": "stdout",
          "output_type": "stream",
          "text": [
            "Tags to match: []\n",
            "An error occurred while finding similar recipes: No tag found to match.\n"
          ]
        },
        {
          "name": "stderr",
          "output_type": "stream",
          "text": [
            "Processing Titles embeddings: 100%|██████████| 1/1 [00:00<00:00, 64.49batch/s]\n"
          ]
        },
        {
          "name": "stdout",
          "output_type": "stream",
          "text": [
            "Tags to match: []\n",
            "An error occurred while finding similar recipes: No tag found to match.\n"
          ]
        },
        {
          "name": "stderr",
          "output_type": "stream",
          "text": [
            "Processing Titles embeddings: 100%|██████████| 1/1 [00:00<00:00, 67.48batch/s]\n"
          ]
        },
        {
          "name": "stdout",
          "output_type": "stream",
          "text": [
            "Tags to match: []\n",
            "An error occurred while finding similar recipes: No tag found to match.\n"
          ]
        },
        {
          "name": "stderr",
          "output_type": "stream",
          "text": [
            "Processing Titles embeddings: 100%|██████████| 1/1 [00:00<00:00, 64.69batch/s]\n"
          ]
        },
        {
          "name": "stdout",
          "output_type": "stream",
          "text": [
            "Tags to match: ['main-dish']\n",
            "Number of filtered recipes: 24622\n"
          ]
        },
        {
          "name": "stderr",
          "output_type": "stream",
          "text": [
            "Processing Titles embeddings: 100%|██████████| 1/1 [00:00<00:00, 64.70batch/s]\n"
          ]
        },
        {
          "name": "stdout",
          "output_type": "stream",
          "text": [
            "Tags to match: ['main-dish']\n",
            "Number of filtered recipes: 24622\n"
          ]
        },
        {
          "name": "stderr",
          "output_type": "stream",
          "text": [
            "Processing Titles embeddings: 100%|██████████| 1/1 [00:00<00:00, 64.23batch/s]\n"
          ]
        },
        {
          "name": "stdout",
          "output_type": "stream",
          "text": [
            "Tags to match: ['main-dish']\n",
            "Number of filtered recipes: 24622\n"
          ]
        },
        {
          "name": "stderr",
          "output_type": "stream",
          "text": [
            "Processing Titles embeddings: 100%|██████████| 1/1 [00:00<00:00, 62.25batch/s]\n"
          ]
        },
        {
          "name": "stdout",
          "output_type": "stream",
          "text": [
            "Tags to match: ['main-dish']\n",
            "Number of filtered recipes: 24622\n"
          ]
        },
        {
          "name": "stderr",
          "output_type": "stream",
          "text": [
            "Processing Titles embeddings: 100%|██████████| 1/1 [00:00<00:00, 71.93batch/s]\n"
          ]
        },
        {
          "name": "stdout",
          "output_type": "stream",
          "text": [
            "Tags to match: ['main-dish']\n",
            "Number of filtered recipes: 24622\n"
          ]
        },
        {
          "name": "stderr",
          "output_type": "stream",
          "text": [
            "Processing Titles embeddings: 100%|██████████| 1/1 [00:00<00:00, 61.88batch/s]\n"
          ]
        },
        {
          "name": "stdout",
          "output_type": "stream",
          "text": [
            "Tags to match: ['main-dish']\n",
            "Number of filtered recipes: 24622\n"
          ]
        },
        {
          "name": "stderr",
          "output_type": "stream",
          "text": [
            "Processing Titles embeddings: 100%|██████████| 1/1 [00:00<00:00, 62.25batch/s]\n"
          ]
        },
        {
          "name": "stdout",
          "output_type": "stream",
          "text": [
            "Tags to match: []\n",
            "An error occurred while finding similar recipes: No tag found to match.\n"
          ]
        },
        {
          "name": "stderr",
          "output_type": "stream",
          "text": [
            "Processing Titles embeddings: 100%|██████████| 1/1 [00:00<00:00, 71.08batch/s]\n"
          ]
        },
        {
          "name": "stdout",
          "output_type": "stream",
          "text": [
            "Tags to match: []\n",
            "An error occurred while finding similar recipes: No tag found to match.\n"
          ]
        },
        {
          "name": "stderr",
          "output_type": "stream",
          "text": [
            "Processing Titles embeddings: 100%|██████████| 1/1 [00:00<00:00, 67.88batch/s]\n"
          ]
        },
        {
          "name": "stdout",
          "output_type": "stream",
          "text": [
            "Tags to match: []\n",
            "An error occurred while finding similar recipes: No tag found to match.\n"
          ]
        },
        {
          "name": "stderr",
          "output_type": "stream",
          "text": [
            "Processing Titles embeddings: 100%|██████████| 1/1 [00:00<00:00, 67.69batch/s]\n"
          ]
        },
        {
          "name": "stdout",
          "output_type": "stream",
          "text": [
            "Tags to match: []\n",
            "An error occurred while finding similar recipes: No tag found to match.\n"
          ]
        },
        {
          "name": "stderr",
          "output_type": "stream",
          "text": [
            "Processing Titles embeddings: 100%|██████████| 1/1 [00:00<00:00, 66.15batch/s]\n"
          ]
        },
        {
          "name": "stdout",
          "output_type": "stream",
          "text": [
            "Tags to match: []\n",
            "An error occurred while finding similar recipes: No tag found to match.\n"
          ]
        },
        {
          "name": "stderr",
          "output_type": "stream",
          "text": [
            "Processing Titles embeddings: 100%|██████████| 1/1 [00:00<00:00, 67.58batch/s]\n"
          ]
        },
        {
          "name": "stdout",
          "output_type": "stream",
          "text": [
            "Tags to match: []\n",
            "An error occurred while finding similar recipes: No tag found to match.\n"
          ]
        },
        {
          "name": "stderr",
          "output_type": "stream",
          "text": [
            "Processing Titles embeddings: 100%|██████████| 1/1 [00:00<00:00, 66.78batch/s]\n"
          ]
        },
        {
          "name": "stdout",
          "output_type": "stream",
          "text": [
            "Tags to match: []\n",
            "An error occurred while finding similar recipes: No tag found to match.\n"
          ]
        },
        {
          "name": "stderr",
          "output_type": "stream",
          "text": [
            "Processing Titles embeddings: 100%|██████████| 1/1 [00:00<00:00, 64.50batch/s]\n"
          ]
        },
        {
          "name": "stdout",
          "output_type": "stream",
          "text": [
            "Tags to match: []\n",
            "An error occurred while finding similar recipes: No tag found to match.\n"
          ]
        },
        {
          "name": "stderr",
          "output_type": "stream",
          "text": [
            "Processing Titles embeddings: 100%|██████████| 1/1 [00:00<00:00, 66.76batch/s]\n"
          ]
        },
        {
          "name": "stdout",
          "output_type": "stream",
          "text": [
            "Tags to match: []\n",
            "An error occurred while finding similar recipes: No tag found to match.\n"
          ]
        },
        {
          "name": "stderr",
          "output_type": "stream",
          "text": [
            "Processing Titles embeddings: 100%|██████████| 1/1 [00:00<00:00, 62.15batch/s]\n"
          ]
        },
        {
          "name": "stdout",
          "output_type": "stream",
          "text": [
            "Tags to match: []\n",
            "An error occurred while finding similar recipes: No tag found to match.\n"
          ]
        },
        {
          "name": "stderr",
          "output_type": "stream",
          "text": [
            "Processing Titles embeddings: 100%|██████████| 1/1 [00:00<00:00, 66.15batch/s]\n"
          ]
        },
        {
          "name": "stdout",
          "output_type": "stream",
          "text": [
            "Tags to match: []\n",
            "An error occurred while finding similar recipes: No tag found to match.\n"
          ]
        },
        {
          "name": "stderr",
          "output_type": "stream",
          "text": [
            "Processing Titles embeddings: 100%|██████████| 1/1 [00:00<00:00, 60.30batch/s]\n"
          ]
        },
        {
          "name": "stdout",
          "output_type": "stream",
          "text": [
            "Tags to match: []\n",
            "An error occurred while finding similar recipes: No tag found to match.\n"
          ]
        },
        {
          "name": "stderr",
          "output_type": "stream",
          "text": [
            "Processing Titles embeddings: 100%|██████████| 1/1 [00:00<00:00, 59.43batch/s]\n"
          ]
        },
        {
          "name": "stdout",
          "output_type": "stream",
          "text": [
            "Tags to match: []\n",
            "An error occurred while finding similar recipes: No tag found to match.\n"
          ]
        },
        {
          "name": "stderr",
          "output_type": "stream",
          "text": [
            "Processing Titles embeddings: 100%|██████████| 1/1 [00:00<00:00, 66.42batch/s]\n"
          ]
        },
        {
          "name": "stdout",
          "output_type": "stream",
          "text": [
            "Tags to match: []\n",
            "An error occurred while finding similar recipes: No tag found to match.\n"
          ]
        },
        {
          "name": "stderr",
          "output_type": "stream",
          "text": [
            "Processing Titles embeddings: 100%|██████████| 1/1 [00:00<00:00, 64.76batch/s]\n"
          ]
        },
        {
          "name": "stdout",
          "output_type": "stream",
          "text": [
            "Tags to match: []\n",
            "An error occurred while finding similar recipes: No tag found to match.\n"
          ]
        },
        {
          "name": "stderr",
          "output_type": "stream",
          "text": [
            "Processing Titles embeddings: 100%|██████████| 1/1 [00:00<00:00, 53.30batch/s]\n"
          ]
        },
        {
          "name": "stdout",
          "output_type": "stream",
          "text": [
            "Tags to match: []\n",
            "An error occurred while finding similar recipes: No tag found to match.\n"
          ]
        },
        {
          "name": "stderr",
          "output_type": "stream",
          "text": [
            "Processing Titles embeddings: 100%|██████████| 1/1 [00:00<00:00, 58.63batch/s]\n"
          ]
        },
        {
          "name": "stdout",
          "output_type": "stream",
          "text": [
            "Tags to match: ['main-dish']\n",
            "Number of filtered recipes: 24622\n"
          ]
        },
        {
          "name": "stderr",
          "output_type": "stream",
          "text": [
            "Processing Titles embeddings: 100%|██████████| 1/1 [00:00<00:00, 65.48batch/s]\n"
          ]
        },
        {
          "name": "stdout",
          "output_type": "stream",
          "text": [
            "Tags to match: ['main-dish']\n",
            "Number of filtered recipes: 24622\n"
          ]
        },
        {
          "name": "stderr",
          "output_type": "stream",
          "text": [
            "Processing Titles embeddings: 100%|██████████| 1/1 [00:00<00:00, 65.07batch/s]\n"
          ]
        },
        {
          "name": "stdout",
          "output_type": "stream",
          "text": [
            "Tags to match: ['main-dish']\n",
            "Number of filtered recipes: 24622\n"
          ]
        },
        {
          "name": "stderr",
          "output_type": "stream",
          "text": [
            "Processing Titles embeddings: 100%|██████████| 1/1 [00:00<00:00, 54.94batch/s]\n"
          ]
        },
        {
          "name": "stdout",
          "output_type": "stream",
          "text": [
            "Tags to match: ['main-dish']\n",
            "Number of filtered recipes: 24622\n"
          ]
        },
        {
          "name": "stderr",
          "output_type": "stream",
          "text": [
            "Processing Titles embeddings: 100%|██████████| 1/1 [00:00<00:00, 69.80batch/s]\n"
          ]
        },
        {
          "name": "stdout",
          "output_type": "stream",
          "text": [
            "Tags to match: ['main-dish']\n",
            "Number of filtered recipes: 24622\n"
          ]
        },
        {
          "name": "stderr",
          "output_type": "stream",
          "text": [
            "Processing Titles embeddings: 100%|██████████| 1/1 [00:00<00:00, 68.93batch/s]\n"
          ]
        },
        {
          "name": "stdout",
          "output_type": "stream",
          "text": [
            "Tags to match: ['main-dish']\n",
            "Number of filtered recipes: 24622\n"
          ]
        },
        {
          "name": "stderr",
          "output_type": "stream",
          "text": [
            "Processing Titles embeddings: 100%|██████████| 1/1 [00:00<00:00, 66.16batch/s]\n"
          ]
        },
        {
          "name": "stdout",
          "output_type": "stream",
          "text": [
            "Tags to match: ['main-dish']\n",
            "Number of filtered recipes: 24622\n"
          ]
        },
        {
          "name": "stderr",
          "output_type": "stream",
          "text": [
            "Processing Titles embeddings: 100%|██████████| 1/1 [00:00<00:00, 59.17batch/s]\n"
          ]
        },
        {
          "name": "stdout",
          "output_type": "stream",
          "text": [
            "Tags to match: ['main-dish']\n",
            "Number of filtered recipes: 24622\n"
          ]
        },
        {
          "name": "stderr",
          "output_type": "stream",
          "text": [
            "Processing Titles embeddings: 100%|██████████| 1/1 [00:00<00:00, 65.93batch/s]\n"
          ]
        },
        {
          "name": "stdout",
          "output_type": "stream",
          "text": [
            "Tags to match: []\n",
            "An error occurred while finding similar recipes: No tag found to match.\n"
          ]
        },
        {
          "name": "stderr",
          "output_type": "stream",
          "text": [
            "Processing Titles embeddings: 100%|██████████| 1/1 [00:00<00:00, 65.83batch/s]\n"
          ]
        },
        {
          "name": "stdout",
          "output_type": "stream",
          "text": [
            "Tags to match: []\n",
            "An error occurred while finding similar recipes: No tag found to match.\n"
          ]
        },
        {
          "name": "stderr",
          "output_type": "stream",
          "text": [
            "Processing Titles embeddings: 100%|██████████| 1/1 [00:00<00:00, 63.25batch/s]\n"
          ]
        },
        {
          "name": "stdout",
          "output_type": "stream",
          "text": [
            "Tags to match: ['main-dish']\n",
            "Number of filtered recipes: 24622\n"
          ]
        },
        {
          "name": "stderr",
          "output_type": "stream",
          "text": [
            "Processing Titles embeddings: 100%|██████████| 1/1 [00:00<00:00, 62.74batch/s]\n"
          ]
        },
        {
          "name": "stdout",
          "output_type": "stream",
          "text": [
            "Tags to match: ['main-dish']\n",
            "Number of filtered recipes: 24622\n"
          ]
        },
        {
          "name": "stderr",
          "output_type": "stream",
          "text": [
            "Processing Titles embeddings: 100%|██████████| 1/1 [00:00<00:00, 63.51batch/s]\n"
          ]
        },
        {
          "name": "stdout",
          "output_type": "stream",
          "text": [
            "Tags to match: ['main-dish']\n",
            "Number of filtered recipes: 24622\n"
          ]
        },
        {
          "name": "stderr",
          "output_type": "stream",
          "text": [
            "Processing Titles embeddings: 100%|██████████| 1/1 [00:00<00:00, 47.05batch/s]\n"
          ]
        },
        {
          "name": "stdout",
          "output_type": "stream",
          "text": [
            "Tags to match: ['main-dish']\n",
            "Number of filtered recipes: 24622\n"
          ]
        },
        {
          "name": "stderr",
          "output_type": "stream",
          "text": [
            "Processing Titles embeddings: 100%|██████████| 1/1 [00:00<00:00, 75.46batch/s]\n"
          ]
        },
        {
          "name": "stdout",
          "output_type": "stream",
          "text": [
            "Tags to match: ['main-dish']\n",
            "Number of filtered recipes: 24622\n"
          ]
        },
        {
          "name": "stderr",
          "output_type": "stream",
          "text": [
            "Processing Titles embeddings: 100%|██████████| 1/1 [00:00<00:00, 68.21batch/s]\n"
          ]
        },
        {
          "name": "stdout",
          "output_type": "stream",
          "text": [
            "Tags to match: ['main-dish']\n",
            "Number of filtered recipes: 24622\n"
          ]
        },
        {
          "name": "stderr",
          "output_type": "stream",
          "text": [
            "Processing Titles embeddings: 100%|██████████| 1/1 [00:00<00:00, 63.99batch/s]\n"
          ]
        },
        {
          "name": "stdout",
          "output_type": "stream",
          "text": [
            "Tags to match: []\n",
            "An error occurred while finding similar recipes: No tag found to match.\n"
          ]
        },
        {
          "name": "stderr",
          "output_type": "stream",
          "text": [
            "Processing Titles embeddings: 100%|██████████| 1/1 [00:00<00:00, 66.56batch/s]\n"
          ]
        },
        {
          "name": "stdout",
          "output_type": "stream",
          "text": [
            "Tags to match: []\n",
            "An error occurred while finding similar recipes: No tag found to match.\n"
          ]
        },
        {
          "name": "stderr",
          "output_type": "stream",
          "text": [
            "Processing Titles embeddings: 100%|██████████| 1/1 [00:00<00:00, 66.13batch/s]\n"
          ]
        },
        {
          "name": "stdout",
          "output_type": "stream",
          "text": [
            "Tags to match: []\n",
            "An error occurred while finding similar recipes: No tag found to match.\n"
          ]
        },
        {
          "name": "stderr",
          "output_type": "stream",
          "text": [
            "Processing Titles embeddings: 100%|██████████| 1/1 [00:00<00:00, 66.65batch/s]\n"
          ]
        },
        {
          "name": "stdout",
          "output_type": "stream",
          "text": [
            "Tags to match: []\n",
            "An error occurred while finding similar recipes: No tag found to match.\n"
          ]
        },
        {
          "name": "stderr",
          "output_type": "stream",
          "text": [
            "Processing Titles embeddings: 100%|██████████| 1/1 [00:00<00:00, 62.79batch/s]\n"
          ]
        },
        {
          "name": "stdout",
          "output_type": "stream",
          "text": [
            "Tags to match: []\n",
            "An error occurred while finding similar recipes: No tag found to match.\n"
          ]
        },
        {
          "name": "stderr",
          "output_type": "stream",
          "text": [
            "Processing Titles embeddings: 100%|██████████| 1/1 [00:00<00:00, 64.49batch/s]\n"
          ]
        },
        {
          "name": "stdout",
          "output_type": "stream",
          "text": [
            "Tags to match: []\n",
            "An error occurred while finding similar recipes: No tag found to match.\n"
          ]
        },
        {
          "name": "stderr",
          "output_type": "stream",
          "text": [
            "Processing Titles embeddings: 100%|██████████| 1/1 [00:00<00:00, 62.50batch/s]\n"
          ]
        },
        {
          "name": "stdout",
          "output_type": "stream",
          "text": [
            "Tags to match: []\n",
            "An error occurred while finding similar recipes: No tag found to match.\n"
          ]
        },
        {
          "name": "stderr",
          "output_type": "stream",
          "text": [
            "Processing Titles embeddings: 100%|██████████| 1/1 [00:00<00:00, 63.81batch/s]\n"
          ]
        },
        {
          "name": "stdout",
          "output_type": "stream",
          "text": [
            "Tags to match: []\n",
            "An error occurred while finding similar recipes: No tag found to match.\n"
          ]
        },
        {
          "name": "stderr",
          "output_type": "stream",
          "text": [
            "Processing Titles embeddings: 100%|██████████| 1/1 [00:00<00:00, 67.12batch/s]\n"
          ]
        },
        {
          "name": "stdout",
          "output_type": "stream",
          "text": [
            "Tags to match: []\n",
            "An error occurred while finding similar recipes: No tag found to match.\n"
          ]
        },
        {
          "name": "stderr",
          "output_type": "stream",
          "text": [
            "Processing Titles embeddings: 100%|██████████| 1/1 [00:00<00:00, 67.32batch/s]\n"
          ]
        },
        {
          "name": "stdout",
          "output_type": "stream",
          "text": [
            "Tags to match: []\n",
            "An error occurred while finding similar recipes: No tag found to match.\n"
          ]
        },
        {
          "name": "stderr",
          "output_type": "stream",
          "text": [
            "Processing Titles embeddings: 100%|██████████| 1/1 [00:00<00:00, 63.19batch/s]\n"
          ]
        },
        {
          "name": "stdout",
          "output_type": "stream",
          "text": [
            "Tags to match: []\n",
            "An error occurred while finding similar recipes: No tag found to match.\n"
          ]
        },
        {
          "name": "stderr",
          "output_type": "stream",
          "text": [
            "Processing Titles embeddings: 100%|██████████| 1/1 [00:00<00:00, 77.73batch/s]\n"
          ]
        },
        {
          "name": "stdout",
          "output_type": "stream",
          "text": [
            "Tags to match: []\n",
            "An error occurred while finding similar recipes: No tag found to match.\n"
          ]
        },
        {
          "name": "stderr",
          "output_type": "stream",
          "text": [
            "Processing Titles embeddings: 100%|██████████| 1/1 [00:00<00:00, 53.33batch/s]\n"
          ]
        },
        {
          "name": "stdout",
          "output_type": "stream",
          "text": [
            "Tags to match: []\n",
            "An error occurred while finding similar recipes: No tag found to match.\n"
          ]
        },
        {
          "name": "stderr",
          "output_type": "stream",
          "text": [
            "Processing Titles embeddings: 100%|██████████| 1/1 [00:00<00:00, 62.63batch/s]\n"
          ]
        },
        {
          "name": "stdout",
          "output_type": "stream",
          "text": [
            "Tags to match: []\n",
            "An error occurred while finding similar recipes: No tag found to match.\n"
          ]
        },
        {
          "name": "stderr",
          "output_type": "stream",
          "text": [
            "Processing Titles embeddings: 100%|██████████| 1/1 [00:00<00:00, 64.38batch/s]\n"
          ]
        },
        {
          "name": "stdout",
          "output_type": "stream",
          "text": [
            "Tags to match: []\n",
            "An error occurred while finding similar recipes: No tag found to match.\n"
          ]
        },
        {
          "name": "stderr",
          "output_type": "stream",
          "text": [
            "Processing Titles embeddings: 100%|██████████| 1/1 [00:00<00:00, 66.67batch/s]\n"
          ]
        },
        {
          "name": "stdout",
          "output_type": "stream",
          "text": [
            "Tags to match: []\n",
            "An error occurred while finding similar recipes: No tag found to match.\n"
          ]
        },
        {
          "name": "stderr",
          "output_type": "stream",
          "text": [
            "Processing Titles embeddings: 100%|██████████| 1/1 [00:00<00:00, 76.57batch/s]\n"
          ]
        },
        {
          "name": "stdout",
          "output_type": "stream",
          "text": [
            "Tags to match: ['pasta']\n",
            "Number of filtered recipes: 12334\n"
          ]
        },
        {
          "name": "stderr",
          "output_type": "stream",
          "text": [
            "Processing Titles embeddings: 100%|██████████| 1/1 [00:00<00:00, 66.84batch/s]\n"
          ]
        },
        {
          "name": "stdout",
          "output_type": "stream",
          "text": [
            "Tags to match: ['pasta']\n",
            "Number of filtered recipes: 12334\n"
          ]
        },
        {
          "name": "stderr",
          "output_type": "stream",
          "text": [
            "Processing Titles embeddings: 100%|██████████| 1/1 [00:00<00:00, 64.58batch/s]\n"
          ]
        },
        {
          "name": "stdout",
          "output_type": "stream",
          "text": [
            "Tags to match: ['pasta', 'pasta-rice-and-grains']\n",
            "Number of filtered recipes: 12333\n"
          ]
        },
        {
          "name": "stderr",
          "output_type": "stream",
          "text": [
            "Processing Titles embeddings: 100%|██████████| 1/1 [00:00<00:00, 64.55batch/s]\n"
          ]
        },
        {
          "name": "stdout",
          "output_type": "stream",
          "text": [
            "Tags to match: ['pasta', 'pasta-rice-and-grains']\n",
            "Number of filtered recipes: 12334\n"
          ]
        },
        {
          "name": "stderr",
          "output_type": "stream",
          "text": [
            "Processing Titles embeddings: 100%|██████████| 1/1 [00:00<00:00, 63.27batch/s]\n"
          ]
        },
        {
          "name": "stdout",
          "output_type": "stream",
          "text": [
            "Tags to match: ['pasta', 'pasta-rice-and-grains']\n",
            "Number of filtered recipes: 12333\n"
          ]
        },
        {
          "name": "stderr",
          "output_type": "stream",
          "text": [
            "Processing Titles embeddings: 100%|██████████| 1/1 [00:00<00:00, 63.57batch/s]\n"
          ]
        },
        {
          "name": "stdout",
          "output_type": "stream",
          "text": [
            "Tags to match: ['pasta', 'pasta-rice-and-grains']\n",
            "Number of filtered recipes: 12334\n"
          ]
        },
        {
          "name": "stderr",
          "output_type": "stream",
          "text": [
            "Processing Titles embeddings: 100%|██████████| 1/1 [00:00<00:00, 67.26batch/s]\n"
          ]
        },
        {
          "name": "stdout",
          "output_type": "stream",
          "text": [
            "Tags to match: ['pasta', 'pasta-rice-and-grains']\n",
            "Number of filtered recipes: 12333\n"
          ]
        },
        {
          "name": "stderr",
          "output_type": "stream",
          "text": [
            "Processing Titles embeddings: 100%|██████████| 1/1 [00:00<00:00, 66.10batch/s]\n"
          ]
        },
        {
          "name": "stdout",
          "output_type": "stream",
          "text": [
            "Tags to match: ['pasta', 'pasta-rice-and-grains']\n",
            "Number of filtered recipes: 12334\n"
          ]
        },
        {
          "name": "stderr",
          "output_type": "stream",
          "text": [
            "Processing Titles embeddings: 100%|██████████| 1/1 [00:00<00:00, 65.49batch/s]\n"
          ]
        },
        {
          "name": "stdout",
          "output_type": "stream",
          "text": [
            "Tags to match: []\n",
            "An error occurred while finding similar recipes: No tag found to match.\n"
          ]
        },
        {
          "name": "stderr",
          "output_type": "stream",
          "text": [
            "Processing Titles embeddings: 100%|██████████| 1/1 [00:00<00:00, 59.37batch/s]\n"
          ]
        },
        {
          "name": "stdout",
          "output_type": "stream",
          "text": [
            "Tags to match: []\n",
            "An error occurred while finding similar recipes: No tag found to match.\n"
          ]
        },
        {
          "name": "stderr",
          "output_type": "stream",
          "text": [
            "Processing Titles embeddings: 100%|██████████| 1/1 [00:00<00:00, 69.33batch/s]\n"
          ]
        },
        {
          "name": "stdout",
          "output_type": "stream",
          "text": [
            "Tags to match: []\n",
            "An error occurred while finding similar recipes: No tag found to match.\n"
          ]
        },
        {
          "name": "stderr",
          "output_type": "stream",
          "text": [
            "Processing Titles embeddings: 100%|██████████| 1/1 [00:00<00:00, 66.09batch/s]\n"
          ]
        },
        {
          "name": "stdout",
          "output_type": "stream",
          "text": [
            "Tags to match: []\n",
            "An error occurred while finding similar recipes: No tag found to match.\n"
          ]
        },
        {
          "name": "stderr",
          "output_type": "stream",
          "text": [
            "Processing Titles embeddings: 100%|██████████| 1/1 [00:00<00:00, 65.57batch/s]\n"
          ]
        },
        {
          "name": "stdout",
          "output_type": "stream",
          "text": [
            "Tags to match: []\n",
            "An error occurred while finding similar recipes: No tag found to match.\n"
          ]
        },
        {
          "name": "stderr",
          "output_type": "stream",
          "text": [
            "Processing Titles embeddings: 100%|██████████| 1/1 [00:00<00:00, 72.27batch/s]\n"
          ]
        },
        {
          "name": "stdout",
          "output_type": "stream",
          "text": [
            "Tags to match: []\n",
            "An error occurred while finding similar recipes: No tag found to match.\n"
          ]
        },
        {
          "name": "stderr",
          "output_type": "stream",
          "text": [
            "Processing Titles embeddings: 100%|██████████| 1/1 [00:00<00:00, 63.94batch/s]\n"
          ]
        },
        {
          "name": "stdout",
          "output_type": "stream",
          "text": [
            "Tags to match: []\n",
            "An error occurred while finding similar recipes: No tag found to match.\n"
          ]
        },
        {
          "name": "stderr",
          "output_type": "stream",
          "text": [
            "Processing Titles embeddings: 100%|██████████| 1/1 [00:00<00:00, 68.81batch/s]\n"
          ]
        },
        {
          "name": "stdout",
          "output_type": "stream",
          "text": [
            "Tags to match: []\n",
            "An error occurred while finding similar recipes: No tag found to match.\n"
          ]
        },
        {
          "name": "stderr",
          "output_type": "stream",
          "text": [
            "Processing Titles embeddings: 100%|██████████| 1/1 [00:00<00:00, 68.10batch/s]\n"
          ]
        },
        {
          "name": "stdout",
          "output_type": "stream",
          "text": [
            "Tags to match: ['main-dish']\n",
            "Number of filtered recipes: 24622\n"
          ]
        },
        {
          "name": "stderr",
          "output_type": "stream",
          "text": [
            "Processing Titles embeddings: 100%|██████████| 1/1 [00:00<00:00, 66.91batch/s]\n"
          ]
        },
        {
          "name": "stdout",
          "output_type": "stream",
          "text": [
            "Tags to match: ['main-dish']\n",
            "Number of filtered recipes: 24622\n"
          ]
        },
        {
          "name": "stderr",
          "output_type": "stream",
          "text": [
            "Processing Titles embeddings: 100%|██████████| 1/1 [00:00<00:00, 68.81batch/s]\n"
          ]
        },
        {
          "name": "stdout",
          "output_type": "stream",
          "text": [
            "Tags to match: ['main-dish']\n",
            "Number of filtered recipes: 24622\n"
          ]
        },
        {
          "name": "stderr",
          "output_type": "stream",
          "text": [
            "Processing Titles embeddings: 100%|██████████| 1/1 [00:00<00:00, 66.25batch/s]\n"
          ]
        },
        {
          "name": "stdout",
          "output_type": "stream",
          "text": [
            "Tags to match: ['main-dish']\n",
            "Number of filtered recipes: 24622\n"
          ]
        },
        {
          "name": "stderr",
          "output_type": "stream",
          "text": [
            "Processing Titles embeddings: 100%|██████████| 1/1 [00:00<00:00, 67.63batch/s]\n"
          ]
        },
        {
          "name": "stdout",
          "output_type": "stream",
          "text": [
            "Tags to match: ['main-dish']\n",
            "Number of filtered recipes: 24622\n"
          ]
        },
        {
          "name": "stderr",
          "output_type": "stream",
          "text": [
            "Processing Titles embeddings: 100%|██████████| 1/1 [00:00<00:00, 67.39batch/s]\n"
          ]
        },
        {
          "name": "stdout",
          "output_type": "stream",
          "text": [
            "Tags to match: ['main-dish']\n",
            "Number of filtered recipes: 24622\n"
          ]
        },
        {
          "name": "stderr",
          "output_type": "stream",
          "text": [
            "Processing Titles embeddings: 100%|██████████| 1/1 [00:00<00:00, 66.69batch/s]\n"
          ]
        },
        {
          "name": "stdout",
          "output_type": "stream",
          "text": [
            "Tags to match: ['main-dish']\n",
            "Number of filtered recipes: 24622\n"
          ]
        },
        {
          "name": "stderr",
          "output_type": "stream",
          "text": [
            "Processing Titles embeddings: 100%|██████████| 1/1 [00:00<00:00, 73.68batch/s]\n"
          ]
        },
        {
          "name": "stdout",
          "output_type": "stream",
          "text": [
            "Tags to match: ['main-dish']\n",
            "Number of filtered recipes: 24622\n"
          ]
        },
        {
          "name": "stderr",
          "output_type": "stream",
          "text": [
            "Processing Titles embeddings: 100%|██████████| 1/1 [00:00<00:00, 65.51batch/s]\n"
          ]
        },
        {
          "name": "stdout",
          "output_type": "stream",
          "text": [
            "Tags to match: []\n",
            "An error occurred while finding similar recipes: No tag found to match.\n"
          ]
        },
        {
          "name": "stderr",
          "output_type": "stream",
          "text": [
            "Processing Titles embeddings: 100%|██████████| 1/1 [00:00<00:00, 63.53batch/s]\n"
          ]
        },
        {
          "name": "stdout",
          "output_type": "stream",
          "text": [
            "Tags to match: []\n",
            "An error occurred while finding similar recipes: No tag found to match.\n"
          ]
        },
        {
          "name": "stderr",
          "output_type": "stream",
          "text": [
            "Processing Titles embeddings: 100%|██████████| 1/1 [00:00<00:00, 75.40batch/s]\n"
          ]
        },
        {
          "name": "stdout",
          "output_type": "stream",
          "text": [
            "Tags to match: []\n",
            "An error occurred while finding similar recipes: No tag found to match.\n"
          ]
        },
        {
          "name": "stderr",
          "output_type": "stream",
          "text": [
            "Processing Titles embeddings: 100%|██████████| 1/1 [00:00<00:00, 62.78batch/s]\n"
          ]
        },
        {
          "name": "stdout",
          "output_type": "stream",
          "text": [
            "Tags to match: []\n",
            "An error occurred while finding similar recipes: No tag found to match.\n"
          ]
        },
        {
          "name": "stderr",
          "output_type": "stream",
          "text": [
            "Processing Titles embeddings: 100%|██████████| 1/1 [00:00<00:00, 63.32batch/s]\n"
          ]
        },
        {
          "name": "stdout",
          "output_type": "stream",
          "text": [
            "Tags to match: []\n",
            "An error occurred while finding similar recipes: No tag found to match.\n"
          ]
        },
        {
          "name": "stderr",
          "output_type": "stream",
          "text": [
            "Processing Titles embeddings: 100%|██████████| 1/1 [00:00<00:00, 67.23batch/s]\n"
          ]
        },
        {
          "name": "stdout",
          "output_type": "stream",
          "text": [
            "Tags to match: []\n",
            "An error occurred while finding similar recipes: No tag found to match.\n"
          ]
        },
        {
          "name": "stderr",
          "output_type": "stream",
          "text": [
            "Processing Titles embeddings: 100%|██████████| 1/1 [00:00<00:00, 65.21batch/s]\n"
          ]
        },
        {
          "name": "stdout",
          "output_type": "stream",
          "text": [
            "Tags to match: []\n",
            "An error occurred while finding similar recipes: No tag found to match.\n"
          ]
        },
        {
          "name": "stderr",
          "output_type": "stream",
          "text": [
            "Processing Titles embeddings: 100%|██████████| 1/1 [00:00<00:00, 64.96batch/s]\n"
          ]
        },
        {
          "name": "stdout",
          "output_type": "stream",
          "text": [
            "Tags to match: []\n",
            "An error occurred while finding similar recipes: No tag found to match.\n"
          ]
        },
        {
          "name": "stderr",
          "output_type": "stream",
          "text": [
            "Processing Titles embeddings: 100%|██████████| 1/1 [00:00<00:00, 71.39batch/s]\n"
          ]
        },
        {
          "name": "stdout",
          "output_type": "stream",
          "text": [
            "Tags to match: ['side-dishes']\n",
            "Number of filtered recipes: 12609\n"
          ]
        },
        {
          "name": "stderr",
          "output_type": "stream",
          "text": [
            "Processing Titles embeddings: 100%|██████████| 1/1 [00:00<00:00, 66.75batch/s]\n"
          ]
        },
        {
          "name": "stdout",
          "output_type": "stream",
          "text": [
            "Tags to match: ['side-dishes']\n",
            "Number of filtered recipes: 12609\n"
          ]
        },
        {
          "name": "stderr",
          "output_type": "stream",
          "text": [
            "Processing Titles embeddings: 100%|██████████| 1/1 [00:00<00:00, 64.96batch/s]\n"
          ]
        },
        {
          "name": "stdout",
          "output_type": "stream",
          "text": [
            "Tags to match: []\n",
            "An error occurred while finding similar recipes: No tag found to match.\n"
          ]
        },
        {
          "name": "stderr",
          "output_type": "stream",
          "text": [
            "Processing Titles embeddings: 100%|██████████| 1/1 [00:00<00:00, 66.32batch/s]\n"
          ]
        },
        {
          "name": "stdout",
          "output_type": "stream",
          "text": [
            "Tags to match: []\n",
            "An error occurred while finding similar recipes: No tag found to match.\n"
          ]
        },
        {
          "name": "stderr",
          "output_type": "stream",
          "text": [
            "Processing Titles embeddings: 100%|██████████| 1/1 [00:00<00:00, 65.27batch/s]\n"
          ]
        },
        {
          "name": "stdout",
          "output_type": "stream",
          "text": [
            "Tags to match: []\n",
            "An error occurred while finding similar recipes: No tag found to match.\n"
          ]
        },
        {
          "name": "stderr",
          "output_type": "stream",
          "text": [
            "Processing Titles embeddings: 100%|██████████| 1/1 [00:00<00:00, 66.37batch/s]\n"
          ]
        },
        {
          "name": "stdout",
          "output_type": "stream",
          "text": [
            "Tags to match: []\n",
            "An error occurred while finding similar recipes: No tag found to match.\n"
          ]
        },
        {
          "name": "stderr",
          "output_type": "stream",
          "text": [
            "Processing Titles embeddings: 100%|██████████| 1/1 [00:00<00:00, 64.68batch/s]\n"
          ]
        },
        {
          "name": "stdout",
          "output_type": "stream",
          "text": [
            "Tags to match: []\n",
            "An error occurred while finding similar recipes: No tag found to match.\n"
          ]
        },
        {
          "name": "stderr",
          "output_type": "stream",
          "text": [
            "Processing Titles embeddings: 100%|██████████| 1/1 [00:00<00:00, 67.53batch/s]\n"
          ]
        },
        {
          "name": "stdout",
          "output_type": "stream",
          "text": [
            "Tags to match: []\n",
            "An error occurred while finding similar recipes: No tag found to match.\n"
          ]
        },
        {
          "name": "stderr",
          "output_type": "stream",
          "text": [
            "Processing Titles embeddings: 100%|██████████| 1/1 [00:00<00:00, 63.11batch/s]\n"
          ]
        },
        {
          "name": "stdout",
          "output_type": "stream",
          "text": [
            "Tags to match: []\n",
            "An error occurred while finding similar recipes: No tag found to match.\n"
          ]
        },
        {
          "name": "stderr",
          "output_type": "stream",
          "text": [
            "Processing Titles embeddings: 100%|██████████| 1/1 [00:00<00:00, 68.21batch/s]\n"
          ]
        },
        {
          "name": "stdout",
          "output_type": "stream",
          "text": [
            "Tags to match: []\n",
            "An error occurred while finding similar recipes: No tag found to match.\n"
          ]
        },
        {
          "name": "stderr",
          "output_type": "stream",
          "text": [
            "Processing Titles embeddings: 100%|██████████| 1/1 [00:00<00:00, 78.06batch/s]\n"
          ]
        },
        {
          "name": "stdout",
          "output_type": "stream",
          "text": [
            "Tags to match: ['desserts']\n",
            "Number of filtered recipes: 21618\n"
          ]
        },
        {
          "name": "stderr",
          "output_type": "stream",
          "text": [
            "Processing Titles embeddings: 100%|██████████| 1/1 [00:00<00:00, 55.16batch/s]\n"
          ]
        },
        {
          "name": "stdout",
          "output_type": "stream",
          "text": [
            "Tags to match: ['desserts']\n",
            "Number of filtered recipes: 21618\n"
          ]
        },
        {
          "name": "stderr",
          "output_type": "stream",
          "text": [
            "Processing Titles embeddings: 100%|██████████| 1/1 [00:00<00:00, 63.78batch/s]\n"
          ]
        },
        {
          "name": "stdout",
          "output_type": "stream",
          "text": [
            "Tags to match: ['desserts']\n",
            "Number of filtered recipes: 21618\n"
          ]
        },
        {
          "name": "stderr",
          "output_type": "stream",
          "text": [
            "Processing Titles embeddings: 100%|██████████| 1/1 [00:00<00:00, 66.34batch/s]\n"
          ]
        },
        {
          "name": "stdout",
          "output_type": "stream",
          "text": [
            "Tags to match: ['desserts']\n",
            "Number of filtered recipes: 21618\n"
          ]
        },
        {
          "name": "stderr",
          "output_type": "stream",
          "text": [
            "Processing Titles embeddings: 100%|██████████| 1/1 [00:00<00:00, 67.15batch/s]\n"
          ]
        },
        {
          "name": "stdout",
          "output_type": "stream",
          "text": [
            "Tags to match: ['desserts']\n",
            "Number of filtered recipes: 21618\n"
          ]
        },
        {
          "name": "stderr",
          "output_type": "stream",
          "text": [
            "Processing Titles embeddings: 100%|██████████| 1/1 [00:00<00:00, 64.31batch/s]\n"
          ]
        },
        {
          "name": "stdout",
          "output_type": "stream",
          "text": [
            "Tags to match: ['desserts']\n",
            "Number of filtered recipes: 21618\n"
          ]
        }
      ],
      "source": [
        "# Parametri per gli esperimenti\n",
        "k_values = [1, 10, 50, 100]\n",
        "match_all_tags_values = [True, False]\n",
        "\n",
        "def convert_to_serializable(obj):\n",
        "    \"\"\"\n",
        "    Converte oggetti in formati serializzabili in JSON.\n",
        "    Gestisce DataFrame, array NumPy e altri tipi non serializzabili.\n",
        "    \"\"\"\n",
        "    if hasattr(obj, 'to_dict'):\n",
        "        # Converti il DataFrame pandas in un dizionario\n",
        "        return obj.to_dict('records')\n",
        "    elif hasattr(obj, 'tolist'):\n",
        "        # Converti l'array NumPy in una lista\n",
        "        return obj.tolist()\n",
        "    elif isinstance(obj, (list, dict, str, int, float, bool, type(None))):\n",
        "        # Tipi già serializzabili in JSON\n",
        "        return obj\n",
        "    else:\n",
        "        # Converti altri tipi in stringa o implementa altre conversioni\n",
        "        return str(obj)\n",
        "\n",
        "\n",
        "\n",
        "for input_recipe in recipe_titles:\n",
        "\n",
        "    for k in k_values:\n",
        "        for match_all_tags in match_all_tags_values:\n",
        "\n",
        "          try:\n",
        "              similar_recipes = sm.find_similar_recipes(input_recipe, k, acceptable_tags, match_all_tags=match_all_tags)\n",
        "          except Exception as e:\n",
        "              print(f\"An error occurred while finding similar recipes: {e}\")\n",
        "              similar_recipes = None  # or set it to a default value or take other appropriate actions\n",
        "\n",
        "          # Continue with the rest of your code, making sure to handle the case where similar_recipes is None\n",
        "          if similar_recipes is not None:\n",
        "            recipe_by_sustainameal_score = sm.order_recipe_by_sustainameal()\n",
        "\n",
        "            healthiness_label = calculate_healthiness_label(sm.original_scores[0]['who_score'])\n",
        "            sustainability_label = calculate_sustainability_label(sm.original_scores[0]['sustainability_score'])\n",
        "\n",
        "            result = {\n",
        "                'recipe_name': input_recipe,\n",
        "                'sustnability_score':sm.original_scores[0]['sustainability_score'],\n",
        "                'sustnability_label': sustainability_label ,\n",
        "                'who_score': sm.original_scores[0]['who_score'],\n",
        "                'healthiness_label': healthiness_label ,\n",
        "                'k': k,\n",
        "                'nutrients' : nutrients_string,\n",
        "                'match_all_tags': match_all_tags,\n",
        "                'similar_recipes': convert_to_serializable(similar_recipes),\n",
        "                'ordered_by_sustainameal': convert_to_serializable(recipe_by_sustainameal_score[:10])\n",
        "\n",
        "            }\n",
        "            results.append(result)\n"
      ]
    },
    {
      "cell_type": "code",
      "execution_count": 20,
      "metadata": {
        "colab": {
          "base_uri": "https://localhost:8080/"
        },
        "id": "kj9paKAjjwJ5",
        "outputId": "a850baa2-da9d-4d8e-9a6b-f39a97c7022e"
      },
      "outputs": [
        {
          "data": {
            "text/plain": [
              "176"
            ]
          },
          "execution_count": 20,
          "metadata": {},
          "output_type": "execute_result"
        }
      ],
      "source": [
        "len(results)"
      ]
    },
    {
      "cell_type": "code",
      "execution_count": 21,
      "metadata": {
        "id": "FPGwc4RphTiu"
      },
      "outputs": [],
      "source": [
        "import json\n",
        "with open('experiment_unkown_recipes_results.json', 'w') as file:\n",
        "    json.dump(results, file)\n"
      ]
    },
    {
      "cell_type": "code",
      "execution_count": 22,
      "metadata": {
        "colab": {
          "base_uri": "https://localhost:8080/"
        },
        "id": "auHjz6Rvs0AR",
        "outputId": "4920ce34-8887-4254-b084-c1c0cc60899c"
      },
      "outputs": [
        {
          "name": "stdout",
          "output_type": "stream",
          "text": [
            "Medie per il sottogruppo selezionato:\n",
            "      k                                          nutrients  match_all_tags  \\\n",
            "0     1  calories [cal], totalFat [g], saturatedFat [g]...           False   \n",
            "1     1  calories [cal], totalFat [g], saturatedFat [g]...            True   \n",
            "2     1  calories [cal], totalFat [g], sodium [mg], die...           False   \n",
            "3     1  calories [cal], totalFat [g], sodium [mg], die...            True   \n",
            "4    10  calories [cal], totalFat [g], saturatedFat [g]...           False   \n",
            "5    10  calories [cal], totalFat [g], saturatedFat [g]...            True   \n",
            "6    10  calories [cal], totalFat [g], sodium [mg], die...           False   \n",
            "7    10  calories [cal], totalFat [g], sodium [mg], die...            True   \n",
            "8    50  calories [cal], totalFat [g], saturatedFat [g]...           False   \n",
            "9    50  calories [cal], totalFat [g], saturatedFat [g]...            True   \n",
            "10   50  calories [cal], totalFat [g], sodium [mg], die...           False   \n",
            "11   50  calories [cal], totalFat [g], sodium [mg], die...            True   \n",
            "12  100  calories [cal], totalFat [g], saturatedFat [g]...           False   \n",
            "13  100  calories [cal], totalFat [g], saturatedFat [g]...            True   \n",
            "14  100  calories [cal], totalFat [g], sodium [mg], die...           False   \n",
            "15  100  calories [cal], totalFat [g], sodium [mg], die...            True   \n",
            "\n",
            "    healthiness_increment_mean  sustainability_increment_mean  \\\n",
            "0                    -2.997049                       2.584469   \n",
            "1                    -2.911866                      -0.195271   \n",
            "2                    -2.997049                       2.584469   \n",
            "3                     2.641136                       0.462322   \n",
            "4                     4.239230                      -0.394311   \n",
            "5                     4.360679                       1.360973   \n",
            "6                     4.086114                      -3.698967   \n",
            "7                     4.562727                      -4.586776   \n",
            "8                     9.109610                      19.019397   \n",
            "9                    11.403106                      18.750081   \n",
            "10                   11.099728                      18.930955   \n",
            "11                   10.012164                      19.014819   \n",
            "12                   16.019206                      22.061855   \n",
            "13                   18.780763                      22.121525   \n",
            "14                   15.266928                      21.893357   \n",
            "15                   15.316674                      21.912725   \n",
            "\n",
            "    sustainameal_score_increment_mean  \n",
            "0                            1.826883  \n",
            "1                           -0.563997  \n",
            "2                            1.826883  \n",
            "3                            0.758055  \n",
            "4                           -0.096034  \n",
            "5                            1.445463  \n",
            "6                           -3.024502  \n",
            "7                           -3.729768  \n",
            "8                           17.476637  \n",
            "9                           17.540515  \n",
            "10                          17.744670  \n",
            "11                          17.670991  \n",
            "12                          21.055999  \n",
            "13                          21.442156  \n",
            "14                          20.820206  \n",
            "15                          20.833630  \n"
          ]
        }
      ],
      "source": [
        "import json\n",
        "import pandas as pd\n",
        "\n",
        "# Carica i dati dal file JSON\n",
        "with open('experiment_unkown_recipes_results.json', 'r') as file:\n",
        "    experiment_data = json.load(file)\n",
        "\n",
        "# Converti i dati in un DataFrame\n",
        "experiment_df = pd.DataFrame(experiment_data)\n",
        "\n",
        "# Filtra il DataFrame sperimentale in base ai titoli delle ricette per ottenere il sottogruppo\n",
        "selected_recipes_df = experiment_df[experiment_df['recipe_name'].isin(recipe_titles)]\n",
        "\n",
        "# Funzioni come prima\n",
        "def estrai_incrementi(ordered_list, key):\n",
        "    return [d[key] for d in ordered_list if key in d]\n",
        "\n",
        "# Calcolo degli incrementi come prima\n",
        "selected_recipes_df['healthiness_increment'] = selected_recipes_df['ordered_by_sustainameal'].apply(lambda x: estrai_incrementi(x, 'healthiness_increment'))\n",
        "selected_recipes_df['sustainability_increment'] = selected_recipes_df['ordered_by_sustainameal'].apply(lambda x: estrai_incrementi(x, 'sustainability_increment'))\n",
        "selected_recipes_df['sustainameal_score_increment'] = selected_recipes_df['ordered_by_sustainameal'].apply(lambda x: estrai_incrementi(x, 'sustainameal_score_increment'))\n",
        "\n",
        "# Calcolare la media degli incrementi come prima\n",
        "selected_recipes_df['healthiness_increment_mean'] = selected_recipes_df['healthiness_increment'].apply(lambda x: sum(x) / len(x) if x else 0)\n",
        "selected_recipes_df['sustainability_increment_mean'] = selected_recipes_df['sustainability_increment'].apply(lambda x: sum(x) / len(x) if x else 0)\n",
        "selected_recipes_df['sustainameal_score_increment_mean'] = selected_recipes_df['sustainameal_score_increment'].apply(lambda x: sum(x) / len(x) if x else 0)\n",
        "\n",
        "# Calcola le medie per il sottogruppo selezionato\n",
        "medie_selected_recipes = selected_recipes_df.groupby(['k', 'nutrients', 'match_all_tags']).agg({\n",
        "    'healthiness_increment_mean': 'mean',\n",
        "    'sustainability_increment_mean': 'mean',\n",
        "    'sustainameal_score_increment_mean': 'mean'\n",
        "}).reset_index()\n",
        "\n",
        "# Visualizzare le medie per il sottogruppo selezionato\n",
        "print(\"Medie per il sottogruppo selezionato:\")\n",
        "print(medie_selected_recipes)\n"
      ]
    },
    {
      "cell_type": "code",
      "execution_count": 23,
      "metadata": {
        "colab": {
          "base_uri": "https://localhost:8080/",
          "height": 507
        },
        "id": "QJNY_rEjYSAA",
        "outputId": "9c8d1e5b-e0b1-4e31-f64f-9c1200ff9528"
      },
      "outputs": [
        {
          "data": {
            "image/png": "[encoded data removed]",
            "text/plain": [
              "<Figure size 1000x500 with 1 Axes>"
            ]
          },
          "metadata": {},
          "output_type": "display_data"
        }
      ],
      "source": [
        "import matplotlib.pyplot as plt\n",
        "from pandas.plotting import table\n",
        "\n",
        "# Funzione per abbreviare i titoli delle colonne\n",
        "def abbreviate_column_names(df):\n",
        "    abbreviations = {'healthiness_increment_mean': 'H_inc_mean',\n",
        "                     'sustainability_increment_mean': 'S_inc_mean',\n",
        "                     'sustainameal_score_increment_mean': 'SM_inc_mean'}\n",
        "    return df.rename(columns=abbreviations)\n",
        "\n",
        "# Applica l'abbreviazione ai nomi delle colonne\n",
        "medie_selected_recipes = abbreviate_column_names(medie_selected_recipes)\n",
        "\n",
        "# Funzione per sostituire la stringa dei nutrienti con 'A' o 'B'\n",
        "def replace_nutrients(nutrient_string):\n",
        "    # Definisci le liste di nutrienti\n",
        "    nutrients_A = ['calories [cal]', 'totalFat [g]', 'sodium [mg]', 'dietaryFiber [g]', 'sugars [g]', 'protein [g]']\n",
        "    nutrients_B = ['calories [cal]', 'totalFat [g]', 'saturatedFat [g]', 'cholesterol [mg]', 'sodium [mg]', 'dietaryFiber [g]', 'sugars [g]', 'protein [g]']\n",
        "\n",
        "    if nutrient_string == ', '.join(nutrients_A):\n",
        "        return 'A'\n",
        "    elif nutrient_string == ', '.join(nutrients_B):\n",
        "        return 'B'\n",
        "    else:\n",
        "        return 'Unknown'\n",
        "\n",
        "# Applica la funzione di sostituzione\n",
        "medie_selected_recipes['nutrients'] = medie_selected_recipes['nutrients'].apply(replace_nutrients)\n",
        "\n",
        "# Funzione per colorare i valori in base al segno e arrotondare i numeri\n",
        "def apply_formatting(tbl):\n",
        "    for (i, j), cell in tbl.get_celld().items():\n",
        "        if j < 2 or i == 0:  # Salta le prime due colonne e l'intestazione\n",
        "            continue\n",
        "        val = cell.get_text().get_text()\n",
        "        try:\n",
        "            num = float(val)\n",
        "            cell.get_text().set_text(f'{num:.2f}')\n",
        "            cell.get_text().set_color('green' if num > 0 else 'red' if num < 0 else 'black')\n",
        "        except ValueError:\n",
        "            pass  # Non è un numero, non fare nulla\n",
        "\n",
        "# Crea una figura per contenere la tabella\n",
        "fig, ax = plt.subplots(figsize=(10, 5))\n",
        "\n",
        "# Disegna la tabella\n",
        "ax.axis('off')\n",
        "tbl = table(ax, medie_selected_recipes, loc='center', cellLoc='center')\n",
        "tbl.auto_set_font_size(False)\n",
        "tbl.set_fontsize(10)\n",
        "tbl.scale(1.2, 1.2)\n",
        "apply_formatting(tbl)  # Applica il colore e l'arrotondamento qui\n",
        "\n",
        "plt.tight_layout()\n",
        "plt.show()\n"
      ]
    }
  ],
  "metadata": {
    "accelerator": "GPU",
    "colab": {
      "collapsed_sections": [
        "bOajPglELoub"
      ],
      "gpuType": "T4",
      "provenance": []
    },
    "kernelspec": {
      "display_name": "venv",
      "language": "python",
      "name": "python3"
    },
    "language_info": {
      "codemirror_mode": {
        "name": "ipython",
        "version": 3
      },
      "file_extension": ".py",
      "mimetype": "text/x-python",
      "name": "python",
      "nbconvert_exporter": "python",
      "pygments_lexer": "ipython3",
      "version": "3.8.10"
    }
  },
  "nbformat": 4,
  "nbformat_minor": 0
}
