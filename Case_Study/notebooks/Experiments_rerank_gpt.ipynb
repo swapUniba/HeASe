{
  "cells": [
    {
      "cell_type": "markdown",
      "metadata": {
        "id": "mi_HjU-OLl8y"
      },
      "source": [
        "# Download Data"
      ]
    },
    {
      "cell_type": "code",
      "execution_count": 1,
      "metadata": {
        "id": "KQndhR_s20J2"
      },
      "outputs": [],
      "source": [
        "import requests\n",
        "import pandas as pd\n",
        "from io import BytesIO\n",
        "\n",
        "def download_csv(csv_url):\n",
        "    response = requests.get(csv_url)\n",
        "    response.raise_for_status()\n",
        "\n",
        "    # Qui puoi modificare 'sep' o aggiungere altri parametri se necessario\n",
        "    try:\n",
        "        df = pd.read_csv(BytesIO(response.content), sep=',')\n",
        "    except pd.errors.ParserError:\n",
        "        df = pd.read_csv(BytesIO(response.content), sep=';', error_bad_lines=False)\n",
        "\n",
        "    return df"
      ]
    },
    {
      "cell_type": "code",
      "execution_count": 2,
      "metadata": {
        "id": "bMOkwS533BlM"
      },
      "outputs": [],
      "source": [
        "recipes_df = download_csv(\"https://media.githubusercontent.com/media/DonatoFe11/SustainaMeal_Case_Study/master/data/final_recipes_set.csv\")"
      ]
    },
    {
      "cell_type": "code",
      "execution_count": 3,
      "metadata": {
        "colab": {
          "base_uri": "https://localhost:8080/"
        },
        "id": "rJUUXaqPsoDt",
        "outputId": "481f045a-e835-49b7-fd60-94c0f7ab5179"
      },
      "outputs": [
        {
          "data": {
            "text/html": [
              "<div>\n",
              "<style scoped>\n",
              "    .dataframe tbody tr th:only-of-type {\n",
              "        vertical-align: middle;\n",
              "    }\n",
              "\n",
              "    .dataframe tbody tr th {\n",
              "        vertical-align: top;\n",
              "    }\n",
              "\n",
              "    .dataframe thead th {\n",
              "        text-align: right;\n",
              "    }\n",
              "</style>\n",
              "<table border=\"1\" class=\"dataframe\">\n",
              "  <thead>\n",
              "    <tr style=\"text-align: right;\">\n",
              "      <th></th>\n",
              "      <th>title</th>\n",
              "      <th>sustainability_score</th>\n",
              "      <th>sustainability_label</th>\n",
              "      <th>Unnamed: 0</th>\n",
              "      <th>recipe_id</th>\n",
              "      <th>description</th>\n",
              "      <th>author_id</th>\n",
              "      <th>duration</th>\n",
              "      <th>directions</th>\n",
              "      <th>ingredients</th>\n",
              "      <th>...</th>\n",
              "      <th>protein [g]</th>\n",
              "      <th>direction_size</th>\n",
              "      <th>ingredients_sizes</th>\n",
              "      <th>who_score</th>\n",
              "      <th>fsa_score</th>\n",
              "      <th>nutri_score</th>\n",
              "      <th>normalization_comment</th>\n",
              "      <th>ingredient_food_kg_urls</th>\n",
              "      <th>ingredient_food_kg_names</th>\n",
              "      <th>healthiness_label</th>\n",
              "    </tr>\n",
              "  </thead>\n",
              "  <tbody>\n",
              "    <tr>\n",
              "      <th>0</th>\n",
              "      <td>Boiled Radishes</td>\n",
              "      <td>0.002502</td>\n",
              "      <td>0</td>\n",
              "      <td>294268</td>\n",
              "      <td>179840</td>\n",
              "      <td>These taste a lot like new potatoes.  The boil...</td>\n",
              "      <td>254469</td>\n",
              "      <td>22.0</td>\n",
              "      <td>['Trim ends and bad spots off Radishes.', 'Boi...</td>\n",
              "      <td>['radishes size bag bunch', 'water radishes']</td>\n",
              "      <td>...</td>\n",
              "      <td>0.8</td>\n",
              "      <td>2</td>\n",
              "      <td>2</td>\n",
              "      <td>0.293040</td>\n",
              "      <td>1.000</td>\n",
              "      <td>0.75</td>\n",
              "      <td>NaN</td>\n",
              "      <td>['http://idea.rpi.edu/heals/kb/ingredientname/...</td>\n",
              "      <td>['applesauce', 'garlic clove', 'ginger', 'mola...</td>\n",
              "      <td>0</td>\n",
              "    </tr>\n",
              "    <tr>\n",
              "      <th>1</th>\n",
              "      <td>Apple Cider Reduction</td>\n",
              "      <td>0.002623</td>\n",
              "      <td>0</td>\n",
              "      <td>59722</td>\n",
              "      <td>521756</td>\n",
              "      <td>I saw a post about this on Facebook and gave i...</td>\n",
              "      <td>171084</td>\n",
              "      <td>155.0</td>\n",
              "      <td>['In 6-8 quart stock pan, measure out 2 cups o...</td>\n",
              "      <td>['gallon apple cider fresh', 'gallon apple cid...</td>\n",
              "      <td>...</td>\n",
              "      <td>0.0</td>\n",
              "      <td>10</td>\n",
              "      <td>2</td>\n",
              "      <td>0.214286</td>\n",
              "      <td>0.750</td>\n",
              "      <td>0.75</td>\n",
              "      <td>NaN</td>\n",
              "      <td>['http://idea.rpi.edu/heals/kb/ingredientname/...</td>\n",
              "      <td>['bean sprouts', 'chicken thighs', 'fresh ging...</td>\n",
              "      <td>1</td>\n",
              "    </tr>\n",
              "    <tr>\n",
              "      <th>2</th>\n",
              "      <td>Homemade Apple Pectin Stock</td>\n",
              "      <td>0.002623</td>\n",
              "      <td>0</td>\n",
              "      <td>159910</td>\n",
              "      <td>25188</td>\n",
              "      <td>Easy to make and works well.</td>\n",
              "      <td>10404</td>\n",
              "      <td>25.0</td>\n",
              "      <td>['Slice unpeeled apples including cores and se...</td>\n",
              "      <td>['tart apple', 'water pound apples']</td>\n",
              "      <td>...</td>\n",
              "      <td>1.2</td>\n",
              "      <td>11</td>\n",
              "      <td>2</td>\n",
              "      <td>0.278414</td>\n",
              "      <td>0.750</td>\n",
              "      <td>0.75</td>\n",
              "      <td>NaN</td>\n",
              "      <td>['http://idea.rpi.edu/heals/kb/ingredientname/...</td>\n",
              "      <td>['baking powder', 'baking soda', 'cinnamon', '...</td>\n",
              "      <td>0</td>\n",
              "    </tr>\n",
              "    <tr>\n",
              "      <th>3</th>\n",
              "      <td>Easy Applesauce</td>\n",
              "      <td>0.002623</td>\n",
              "      <td>0</td>\n",
              "      <td>421226</td>\n",
              "      <td>264179</td>\n",
              "      <td>Use fresh cooking apples for this for best res...</td>\n",
              "      <td>37636</td>\n",
              "      <td>50.0</td>\n",
              "      <td>['Place apples and cider into a large saucepan...</td>\n",
              "      <td>['apples', 'apple cider']</td>\n",
              "      <td>...</td>\n",
              "      <td>0.5</td>\n",
              "      <td>3</td>\n",
              "      <td>2</td>\n",
              "      <td>0.276525</td>\n",
              "      <td>0.875</td>\n",
              "      <td>0.75</td>\n",
              "      <td>NaN</td>\n",
              "      <td>['http://idea.rpi.edu/heals/kb/ingredientname/...</td>\n",
              "      <td>['carrots', 'fresh peas', 'fresh tomatoes', 'g...</td>\n",
              "      <td>0</td>\n",
              "    </tr>\n",
              "    <tr>\n",
              "      <th>4</th>\n",
              "      <td>Cider Baked Sausage</td>\n",
              "      <td>0.002752</td>\n",
              "      <td>0</td>\n",
              "      <td>374088</td>\n",
              "      <td>101966</td>\n",
              "      <td>A very easy to make main dish perfect for fall...</td>\n",
              "      <td>30534</td>\n",
              "      <td>50.0</td>\n",
              "      <td>['Preheat oven to 350°.', 'Prick sausages with...</td>\n",
              "      <td>['breakfast sausage links', 'apples Smith', 'o...</td>\n",
              "      <td>...</td>\n",
              "      <td>46.4</td>\n",
              "      <td>4</td>\n",
              "      <td>4</td>\n",
              "      <td>0.146714</td>\n",
              "      <td>0.125</td>\n",
              "      <td>0.00</td>\n",
              "      <td>NaN</td>\n",
              "      <td>['http://idea.rpi.edu/heals/kb/ingredientname/...</td>\n",
              "      <td>['Shedd Spread Country Crock', 'cayenne pepper...</td>\n",
              "      <td>2</td>\n",
              "    </tr>\n",
              "    <tr>\n",
              "      <th>...</th>\n",
              "      <td>...</td>\n",
              "      <td>...</td>\n",
              "      <td>...</td>\n",
              "      <td>...</td>\n",
              "      <td>...</td>\n",
              "      <td>...</td>\n",
              "      <td>...</td>\n",
              "      <td>...</td>\n",
              "      <td>...</td>\n",
              "      <td>...</td>\n",
              "      <td>...</td>\n",
              "      <td>...</td>\n",
              "      <td>...</td>\n",
              "      <td>...</td>\n",
              "      <td>...</td>\n",
              "      <td>...</td>\n",
              "      <td>...</td>\n",
              "      <td>...</td>\n",
              "      <td>...</td>\n",
              "      <td>...</td>\n",
              "      <td>...</td>\n",
              "    </tr>\n",
              "    <tr>\n",
              "      <th>93743</th>\n",
              "      <td>Curried Lamb on Rice</td>\n",
              "      <td>0.951024</td>\n",
              "      <td>2</td>\n",
              "      <td>103145</td>\n",
              "      <td>373244</td>\n",
              "      <td>With modification this recipe is from \"The Dia...</td>\n",
              "      <td>133174</td>\n",
              "      <td>65.0</td>\n",
              "      <td>['Over medium heat, melt the butter in a large...</td>\n",
              "      <td>['lamb', 'medium onion', 'cloves', 'butter', '...</td>\n",
              "      <td>...</td>\n",
              "      <td>28.7</td>\n",
              "      <td>5</td>\n",
              "      <td>13</td>\n",
              "      <td>0.223549</td>\n",
              "      <td>0.625</td>\n",
              "      <td>0.25</td>\n",
              "      <td>NaN</td>\n",
              "      <td>['http://idea.rpi.edu/heals/kb/ingredientname/...</td>\n",
              "      <td>['Dijon mustard', 'Polish sausage', 'apricot p...</td>\n",
              "      <td>1</td>\n",
              "    </tr>\n",
              "    <tr>\n",
              "      <th>93744</th>\n",
              "      <td>Rich Lamb Curry</td>\n",
              "      <td>0.960504</td>\n",
              "      <td>2</td>\n",
              "      <td>442694</td>\n",
              "      <td>268247</td>\n",
              "      <td>The recipe isn't as time consuming as it looks...</td>\n",
              "      <td>491437</td>\n",
              "      <td>110.0</td>\n",
              "      <td>['Heat 1 tbsp olive oil in dutch oven.  ', 'Co...</td>\n",
              "      <td>['oil', 'lamb', 'flour', 'salt pepper', 'onion...</td>\n",
              "      <td>...</td>\n",
              "      <td>36.1</td>\n",
              "      <td>9</td>\n",
              "      <td>21</td>\n",
              "      <td>0.153328</td>\n",
              "      <td>0.000</td>\n",
              "      <td>0.00</td>\n",
              "      <td>NaN</td>\n",
              "      <td>NaN</td>\n",
              "      <td>NaN</td>\n",
              "      <td>1</td>\n",
              "    </tr>\n",
              "    <tr>\n",
              "      <th>93745</th>\n",
              "      <td>Middle Eastern Slow-Cooked Stew With Lamb, Chi...</td>\n",
              "      <td>0.968458</td>\n",
              "      <td>2</td>\n",
              "      <td>359960</td>\n",
              "      <td>144850</td>\n",
              "      <td>From Cooking Light. Per 3/4 c. serving: 310 ca...</td>\n",
              "      <td>37779</td>\n",
              "      <td>112.0</td>\n",
              "      <td>['Let the oil get heating in a large pot over ...</td>\n",
              "      <td>['oil', 'lamb', 'onions rings', 'water', 'clov...</td>\n",
              "      <td>...</td>\n",
              "      <td>20.8</td>\n",
              "      <td>12</td>\n",
              "      <td>19</td>\n",
              "      <td>0.205566</td>\n",
              "      <td>0.250</td>\n",
              "      <td>0.25</td>\n",
              "      <td>NaN</td>\n",
              "      <td>['http://idea.rpi.edu/heals/kb/ingredientname/...</td>\n",
              "      <td>['anchovies', 'celery ribs', 'diced tomatoes',...</td>\n",
              "      <td>1</td>\n",
              "    </tr>\n",
              "    <tr>\n",
              "      <th>93746</th>\n",
              "      <td>Five Meat Chili Con Carne With Beans</td>\n",
              "      <td>0.971454</td>\n",
              "      <td>2</td>\n",
              "      <td>37637</td>\n",
              "      <td>13568</td>\n",
              "      <td>yum</td>\n",
              "      <td>20571</td>\n",
              "      <td>210.0</td>\n",
              "      <td>['In a large pot brown meat in stages, about a...</td>\n",
              "      <td>['beef', 'pork', 'lamb', 'sausage', 'sausage',...</td>\n",
              "      <td>...</td>\n",
              "      <td>14.5</td>\n",
              "      <td>7</td>\n",
              "      <td>15</td>\n",
              "      <td>0.197568</td>\n",
              "      <td>0.250</td>\n",
              "      <td>0.25</td>\n",
              "      <td>NaN</td>\n",
              "      <td>['http://idea.rpi.edu/heals/kb/ingredientname/...</td>\n",
              "      <td>[\"French\\\\'s French fried onions\", 'crabmeat',...</td>\n",
              "      <td>1</td>\n",
              "    </tr>\n",
              "    <tr>\n",
              "      <th>93747</th>\n",
              "      <td>Basic Fried Rice - With Variations</td>\n",
              "      <td>1.000000</td>\n",
              "      <td>2</td>\n",
              "      <td>94306</td>\n",
              "      <td>248707</td>\n",
              "      <td>Another recipe that I acquired from a Chinese ...</td>\n",
              "      <td>305531</td>\n",
              "      <td>55.0</td>\n",
              "      <td>['Dice or shred meat and vegetables.', 'Heat o...</td>\n",
              "      <td>['rice', 'onions', 'oil', 'soy sauce', 'salt',...</td>\n",
              "      <td>...</td>\n",
              "      <td>18.9</td>\n",
              "      <td>14</td>\n",
              "      <td>38</td>\n",
              "      <td>0.233147</td>\n",
              "      <td>0.750</td>\n",
              "      <td>0.25</td>\n",
              "      <td>NaN</td>\n",
              "      <td>['http://idea.rpi.edu/heals/kb/ingredientname/...</td>\n",
              "      <td>['baking powder', 'baking soda', 'brown sugar'...</td>\n",
              "      <td>1</td>\n",
              "    </tr>\n",
              "  </tbody>\n",
              "</table>\n",
              "<p>93748 rows × 40 columns</p>\n",
              "</div>"
            ],
            "text/plain": [
              "                                                   title  \\\n",
              "0                                        Boiled Radishes   \n",
              "1                                  Apple Cider Reduction   \n",
              "2                            Homemade Apple Pectin Stock   \n",
              "3                                        Easy Applesauce   \n",
              "4                                    Cider Baked Sausage   \n",
              "...                                                  ...   \n",
              "93743                               Curried Lamb on Rice   \n",
              "93744                                    Rich Lamb Curry   \n",
              "93745  Middle Eastern Slow-Cooked Stew With Lamb, Chi...   \n",
              "93746               Five Meat Chili Con Carne With Beans   \n",
              "93747                 Basic Fried Rice - With Variations   \n",
              "\n",
              "       sustainability_score  sustainability_label  Unnamed: 0  recipe_id  \\\n",
              "0                  0.002502                     0      294268     179840   \n",
              "1                  0.002623                     0       59722     521756   \n",
              "2                  0.002623                     0      159910      25188   \n",
              "3                  0.002623                     0      421226     264179   \n",
              "4                  0.002752                     0      374088     101966   \n",
              "...                     ...                   ...         ...        ...   \n",
              "93743              0.951024                     2      103145     373244   \n",
              "93744              0.960504                     2      442694     268247   \n",
              "93745              0.968458                     2      359960     144850   \n",
              "93746              0.971454                     2       37637      13568   \n",
              "93747              1.000000                     2       94306     248707   \n",
              "\n",
              "                                             description  author_id  duration  \\\n",
              "0      These taste a lot like new potatoes.  The boil...     254469      22.0   \n",
              "1      I saw a post about this on Facebook and gave i...     171084     155.0   \n",
              "2                           Easy to make and works well.      10404      25.0   \n",
              "3      Use fresh cooking apples for this for best res...      37636      50.0   \n",
              "4      A very easy to make main dish perfect for fall...      30534      50.0   \n",
              "...                                                  ...        ...       ...   \n",
              "93743  With modification this recipe is from \"The Dia...     133174      65.0   \n",
              "93744  The recipe isn't as time consuming as it looks...     491437     110.0   \n",
              "93745  From Cooking Light. Per 3/4 c. serving: 310 ca...      37779     112.0   \n",
              "93746                                                yum      20571     210.0   \n",
              "93747  Another recipe that I acquired from a Chinese ...     305531      55.0   \n",
              "\n",
              "                                              directions  \\\n",
              "0      ['Trim ends and bad spots off Radishes.', 'Boi...   \n",
              "1      ['In 6-8 quart stock pan, measure out 2 cups o...   \n",
              "2      ['Slice unpeeled apples including cores and se...   \n",
              "3      ['Place apples and cider into a large saucepan...   \n",
              "4      ['Preheat oven to 350°.', 'Prick sausages with...   \n",
              "...                                                  ...   \n",
              "93743  ['Over medium heat, melt the butter in a large...   \n",
              "93744  ['Heat 1 tbsp olive oil in dutch oven.  ', 'Co...   \n",
              "93745  ['Let the oil get heating in a large pot over ...   \n",
              "93746  ['In a large pot brown meat in stages, about a...   \n",
              "93747  ['Dice or shred meat and vegetables.', 'Heat o...   \n",
              "\n",
              "                                             ingredients  ... protein [g]  \\\n",
              "0          ['radishes size bag bunch', 'water radishes']  ...         0.8   \n",
              "1      ['gallon apple cider fresh', 'gallon apple cid...  ...         0.0   \n",
              "2                   ['tart apple', 'water pound apples']  ...         1.2   \n",
              "3                              ['apples', 'apple cider']  ...         0.5   \n",
              "4      ['breakfast sausage links', 'apples Smith', 'o...  ...        46.4   \n",
              "...                                                  ...  ...         ...   \n",
              "93743  ['lamb', 'medium onion', 'cloves', 'butter', '...  ...        28.7   \n",
              "93744  ['oil', 'lamb', 'flour', 'salt pepper', 'onion...  ...        36.1   \n",
              "93745  ['oil', 'lamb', 'onions rings', 'water', 'clov...  ...        20.8   \n",
              "93746  ['beef', 'pork', 'lamb', 'sausage', 'sausage',...  ...        14.5   \n",
              "93747  ['rice', 'onions', 'oil', 'soy sauce', 'salt',...  ...        18.9   \n",
              "\n",
              "      direction_size ingredients_sizes who_score fsa_score  nutri_score  \\\n",
              "0                  2                 2  0.293040     1.000         0.75   \n",
              "1                 10                 2  0.214286     0.750         0.75   \n",
              "2                 11                 2  0.278414     0.750         0.75   \n",
              "3                  3                 2  0.276525     0.875         0.75   \n",
              "4                  4                 4  0.146714     0.125         0.00   \n",
              "...              ...               ...       ...       ...          ...   \n",
              "93743              5                13  0.223549     0.625         0.25   \n",
              "93744              9                21  0.153328     0.000         0.00   \n",
              "93745             12                19  0.205566     0.250         0.25   \n",
              "93746              7                15  0.197568     0.250         0.25   \n",
              "93747             14                38  0.233147     0.750         0.25   \n",
              "\n",
              "       normalization_comment  \\\n",
              "0                        NaN   \n",
              "1                        NaN   \n",
              "2                        NaN   \n",
              "3                        NaN   \n",
              "4                        NaN   \n",
              "...                      ...   \n",
              "93743                    NaN   \n",
              "93744                    NaN   \n",
              "93745                    NaN   \n",
              "93746                    NaN   \n",
              "93747                    NaN   \n",
              "\n",
              "                                 ingredient_food_kg_urls  \\\n",
              "0      ['http://idea.rpi.edu/heals/kb/ingredientname/...   \n",
              "1      ['http://idea.rpi.edu/heals/kb/ingredientname/...   \n",
              "2      ['http://idea.rpi.edu/heals/kb/ingredientname/...   \n",
              "3      ['http://idea.rpi.edu/heals/kb/ingredientname/...   \n",
              "4      ['http://idea.rpi.edu/heals/kb/ingredientname/...   \n",
              "...                                                  ...   \n",
              "93743  ['http://idea.rpi.edu/heals/kb/ingredientname/...   \n",
              "93744                                                NaN   \n",
              "93745  ['http://idea.rpi.edu/heals/kb/ingredientname/...   \n",
              "93746  ['http://idea.rpi.edu/heals/kb/ingredientname/...   \n",
              "93747  ['http://idea.rpi.edu/heals/kb/ingredientname/...   \n",
              "\n",
              "                                ingredient_food_kg_names  healthiness_label  \n",
              "0      ['applesauce', 'garlic clove', 'ginger', 'mola...                  0  \n",
              "1      ['bean sprouts', 'chicken thighs', 'fresh ging...                  1  \n",
              "2      ['baking powder', 'baking soda', 'cinnamon', '...                  0  \n",
              "3      ['carrots', 'fresh peas', 'fresh tomatoes', 'g...                  0  \n",
              "4      ['Shedd Spread Country Crock', 'cayenne pepper...                  2  \n",
              "...                                                  ...                ...  \n",
              "93743  ['Dijon mustard', 'Polish sausage', 'apricot p...                  1  \n",
              "93744                                                NaN                  1  \n",
              "93745  ['anchovies', 'celery ribs', 'diced tomatoes',...                  1  \n",
              "93746  [\"French\\\\'s French fried onions\", 'crabmeat',...                  1  \n",
              "93747  ['baking powder', 'baking soda', 'brown sugar'...                  1  \n",
              "\n",
              "[93748 rows x 40 columns]"
            ]
          },
          "execution_count": 3,
          "metadata": {},
          "output_type": "execute_result"
        }
      ],
      "source": [
        "recipes_df"
      ]
    },
    {
      "cell_type": "markdown",
      "metadata": {
        "id": "am8i4pRxLruU"
      },
      "source": [
        "# SustainaMeal (ETA: 15/20 mins)"
      ]
    },
    {
      "cell_type": "markdown",
      "metadata": {
        "id": "7_G1T9WXLxXc"
      },
      "source": [
        "Initializes the system by loading the data and preparing the embeddings."
      ]
    },
    {
      "cell_type": "code",
      "execution_count": 4,
      "metadata": {
        "colab": {
          "base_uri": "https://localhost:8080/",
          "referenced_widgets": [
            "17853c3aec8e4f4aaa7e85ffb6446262",
            "4636fb932f81491cb846f33b2857617a",
            "d8b6e6d49fe7491ea3ecdd3f17a373dd",
            "9dfaeb40694d4700bdef1367a9d01d82",
            "75cfc0734b284a9ab28cf8149b073291",
            "50592b815b40431a86f7d643a5d7a575",
            "39481b678b684d709d9179718933e566",
            "d810027a656c45e7a6fa5e753cc6a383",
            "5eeb649e36d54fe0936f11bc28ec5f0c",
            "27f28d8291784689be9e0f2f2b0ed42e",
            "faf91bec35f349729ed3d677f970c8f8",
            "fd9d59b84c49488fb8e709afac2e81f3",
            "54ac43a4a7674d8da157035d2d71d992",
            "8ac2e00f722040d29be8f1049c32ea9f",
            "b8099970d39e4ec8a5601900ee116cf5",
            "da282f8182a04934a248e2e6f2d908ad",
            "ea19b4ecfcb5445c94be6fa45a67c056",
            "094c7e7cd5654749ba107101069012a2",
            "4369f7aa459b49b98826328943ccb9cf",
            "20aba3796c9949d395a377b06213c7ed",
            "6d15a55cca2a47fc8b813339e8296815",
            "cb9aec5f1bbb406788453715e0a70452",
            "21ec34ca706a499488e0694b09c0db15",
            "3a82a0a42e4847d587ef7127106fb78f",
            "ba1d88ef8c22486c9f30d6f344057811",
            "57226be78ceb416cb1673f7e47d0fcf9",
            "42546449e96749578cec7338028d4d94",
            "0070ee8d7daa4bd5ae57cac65a832ebf",
            "6852d43d5e4247e9ab404bb44614e116",
            "52c09996f06245af9c7087368b99a760",
            "35f6a44d98d74d9a9508d2d256244889",
            "1e7755e134d14a1a88398e5462200694",
            "f5129e1e46ce45169d0dfa29c9690892",
            "34d59f8df8274da2aa0562d36a5fab58",
            "6ef62e9d7aac436ea3a9ce1b985ec8f8",
            "752132df0e1f425b94327adb3832a84e",
            "d5fda23a13f1426d9067278b5ad3ca25",
            "3020b3dab2c341cc999dc08bc11595d1",
            "dd9cdaef6d7244eb969ca63b2a2aa875",
            "6005ad17485a4341a8a8fffc42748d09",
            "64c550afe1ec40e3b9b246076bd4a189",
            "973c66498d59498a9fc12b99f41ff5c8",
            "07fe40d55518494486ec383a9367666a",
            "af545fbb508146d5a70e0f5338689c1c",
            "961799a0730b44fa886f8e23a9a0841d",
            "db130d1c452f422792194520111dc4ba",
            "c17bf9c3ef0844bfadc45fa70d8e6dc3",
            "99feb19adf1c487e886d1b6dc69a922e",
            "8d10bd9576144b07b6f789c3057c8875",
            "ed941df56403417c99342668d771979e",
            "384ed4544bfc415da7d31f0c80083591",
            "66f4235fcb8b4f42b97fdd18452e5fa9",
            "74d7d98967af47d6b48f21458d3877a2",
            "8d655c485a5e4ad5b9598bcb16ad7ea7",
            "f26c047bc7eb4bba81e60248aaea69f5",
            "f58aa8c61e7843bba6db289ada0db5ec",
            "a8b134b834344ce9a838ff2bc84ea81b",
            "6d6ca9ebf27b44b2b8a1be48d53d1283",
            "73a43c1495c3493184f7027255452361",
            "c7e9f46cb154495c95a62c2daee20182",
            "0821d12bf9d1435d9ee3f371eb3a2260",
            "2d234443491c4de891e4a638595700d1",
            "c8d5664e47dc4663a5957256af6210ab",
            "9beb1b16fd444e56a8604e7880bd7fc0",
            "4ea476203acf4082911bb8e4534bc457",
            "62fe552294c64180b78fa352942ab7c0"
          ]
        },
        "id": "-Xqz4MyI3G1b",
        "outputId": "d306c570-70ba-46b7-8fd0-3a5858ffa169"
      },
      "outputs": [
        {
          "name": "stderr",
          "output_type": "stream",
          "text": [
            "/home/festa/SustainaMeal_Case_Study/venv/lib/python3.8/site-packages/tqdm/auto.py:21: TqdmWarning: IProgress not found. Please update jupyter and ipywidgets. See https://ipywidgets.readthedocs.io/en/stable/user_install.html\n",
            "  from .autonotebook import tqdm as notebook_tqdm\n",
            "Processing Titles embeddings: 100%|██████████| 93748/93748 [14:24<00:00, 108.49batch/s]\n"
          ]
        }
      ],
      "source": [
        "from HeASe.sustainameal import SustainaMeal\n",
        "\n",
        "nutrients = ['calories [cal]', 'totalFat [g]', 'saturatedFat [g]', 'cholesterol [mg]', 'sodium [mg]', 'dietaryFiber [g]', 'sugars [g]', 'protein [g]']\n",
        "\n",
        "sm = SustainaMeal(\n",
        "    recipes_df=recipes_df,\n",
        "    nutrients=['calories [cal]', 'totalFat [g]', 'saturatedFat [g]', 'cholesterol [mg]', 'sodium [mg]', 'dietaryFiber [g]', 'sugars [g]', 'protein [g]'],\n",
        "    transformer_name='davanstrien/autotrain-recipes-2451975973'\n",
        ")"
      ]
    },
    {
      "cell_type": "markdown",
      "metadata": {
        "id": "bRWRdl3U2YYf"
      },
      "source": [
        "# Upload Recipes of experiments"
      ]
    },
    {
      "cell_type": "code",
      "execution_count": 5,
      "metadata": {
        "id": "1rmt_bCM2d_m"
      },
      "outputs": [],
      "source": [
        "import pandas as pd\n",
        "\n",
        "# Paths to the JSON files\n",
        "\n",
        "sustainability_label_2_recipes_file = '../experiments/data/sustainability_label_2_recipes.json'\n",
        "\n",
        "# Read the JSON files into pandas DataFrames\n",
        "\n",
        "sustainability_label_2_recipes = pd.read_json(sustainability_label_2_recipes_file)\n"
      ]
    },
    {
      "cell_type": "markdown",
      "metadata": {
        "id": "n4FkbBoq5d-L"
      },
      "source": [
        "# Compare LLM Rerank"
      ]
    },
    {
      "cell_type": "code",
      "execution_count": 6,
      "metadata": {
        "id": "tSptldYAD7sF"
      },
      "outputs": [],
      "source": [
        "sm.setup_openai_key(\"opken-ai\")"
      ]
    },
    {
      "cell_type": "code",
      "execution_count": 7,
      "metadata": {
        "id": "H2RBdIuBFOfx"
      },
      "outputs": [],
      "source": [
        "acceptable_tags = ['appetizers', 'main-dish', 'side-dishes', 'drinks', 'beverages', 'fruits', 'desserts',\n",
        "                   'breakfast', 'pasta-rice-and-grains', 'rice', 'pasta', 'pizza', 'breads', 'meat', 'fish',\n",
        "                   'seafood', 'beef', 'chicken', 'vegetarian']"
      ]
    },
    {
      "cell_type": "code",
      "execution_count": 8,
      "metadata": {
        "colab": {
          "base_uri": "https://localhost:8080/"
        },
        "id": "ATcXTuf-RKhP",
        "outputId": "41cd9aed-d40e-4475-abf9-ebd639fc0677"
      },
      "outputs": [
        {
          "name": "stdout",
          "output_type": "stream",
          "text": [
            "calories [cal], totalFat [g], saturatedFat [g], cholesterol [mg], sodium [mg], dietaryFiber [g], sugars [g], protein [g]\n"
          ]
        }
      ],
      "source": [
        "nutrients_string = \", \".join(nutrients)\n",
        "print(nutrients_string)\n"
      ]
    },
    {
      "cell_type": "code",
      "execution_count": 9,
      "metadata": {
        "id": "h2lhX46cRReM"
      },
      "outputs": [],
      "source": [
        "selected_recipes = pd.concat([sustainability_label_2_recipes])"
      ]
    },
    {
      "cell_type": "code",
      "execution_count": 10,
      "metadata": {
        "colab": {
          "base_uri": "https://localhost:8080/"
        },
        "id": "bDvnW_LkSvHT",
        "outputId": "c8e880cd-92af-40f1-abdc-eb8f2524a706"
      },
      "outputs": [
        {
          "data": {
            "text/plain": [
              "100"
            ]
          },
          "execution_count": 10,
          "metadata": {},
          "output_type": "execute_result"
        }
      ],
      "source": [
        "len(selected_recipes)"
      ]
    },
    {
      "cell_type": "code",
      "execution_count": 11,
      "metadata": {
        "id": "eXN_uF08Avu-"
      },
      "outputs": [],
      "source": [
        "# Definisci le soglie\n",
        "WHO_SCORE_THRESHOLDS = ( 0.15, 0.25)  # (soglia media, soglia alta)\n",
        "SUSTAINABILITY_SCORE_THRESHOLDS = (0.1, 0.5)  # (soglia media, soglia alta)\n",
        "\n",
        "# Funzioni di aiuto per calcolare le label\n",
        "def calculate_healthiness_label(who_score):\n",
        "    if who_score > WHO_SCORE_THRESHOLDS[1]:\n",
        "        return \"0\"\n",
        "    elif who_score < WHO_SCORE_THRESHOLDS[0]:\n",
        "        return \"2\"\n",
        "    else:\n",
        "        return \"1\"\n",
        "\n",
        "def calculate_sustainability_label(sustainability_score):\n",
        "    if sustainability_score <= SUSTAINABILITY_SCORE_THRESHOLDS[1]:\n",
        "        return \"0\"\n",
        "    elif sustainability_score >= SUSTAINABILITY_SCORE_THRESHOLDS[1]:\n",
        "        return \"2\"\n",
        "    else:\n",
        "        return \"1\"\n",
        "\n",
        "# Calcola le label in base ai valori di who_score e sustainability_score"
      ]
    },
    {
      "cell_type": "code",
      "execution_count": 12,
      "metadata": {
        "id": "evFg1aT8qAoo"
      },
      "outputs": [
        {
          "name": "stderr",
          "output_type": "stream",
          "text": [
            "Processing Titles embeddings: 100%|██████████| 1/1 [00:00<00:00, 44.05batch/s]"
          ]
        },
        {
          "name": "stderr",
          "output_type": "stream",
          "text": [
            "\n"
          ]
        },
        {
          "name": "stdout",
          "output_type": "stream",
          "text": [
            "Tags to match: ['main-dish', 'pasta', 'vegetarian', 'pasta-rice-and-grains']\n",
            "Number of filtered recipes: 40632\n"
          ]
        }
      ],
      "source": [
        "similar_recipes = sm.find_similar_recipes(\"Pasta\", 10, acceptable_tags=acceptable_tags, match_all_tags=False)"
      ]
    },
    {
      "cell_type": "code",
      "execution_count": 13,
      "metadata": {
        "id": "TEbh0RGqqFRf"
      },
      "outputs": [
        {
          "name": "stdout",
          "output_type": "stream",
          "text": [
            "                                                   title  similarity_score  \\\n",
            "14718                             Brown Rice and Edamame          0.983478   \n",
            "15242  Tofu With Red Curry Paste, Peas, and Yellow To...          0.987000   \n",
            "10896                Pasta with Tomatoes, Peas and Cream          0.989872   \n",
            "27313                                          Tofu Bowl          0.982967   \n",
            "47161                       Asparagus-Mushroom Primavera          0.989029   \n",
            "59687         Angel Hair With Tomatoes, Basil and Garlic          0.983265   \n",
            "65588                  Spaghettini With Smothered Onions          0.983291   \n",
            "60293                    Orlando Bloom's Pasta Au Pistou          0.985503   \n",
            "68061               Mini Farfalle With Tomatoes and Corn          0.991634   \n",
            "79355                Pasta and Potatoes (Pasta e Patate)          0.984892   \n",
            "\n",
            "       who_score  healthiness_increment  sustainability_score  \\\n",
            "14718   0.345328              47.711098              0.909384   \n",
            "15242   0.300499              28.535918              0.907193   \n",
            "10896   0.251764               7.689879              0.922031   \n",
            "27313   0.324013              38.593896              0.880417   \n",
            "47161   0.311485              33.235023              0.806214   \n",
            "59687   0.305481              30.666899              0.713799   \n",
            "65588   0.324224              38.684031              0.701969   \n",
            "60293   0.238654               2.082387              0.712787   \n",
            "68061   0.235070               0.549407              0.699117   \n",
            "79355   0.223958              -4.203629              0.653446   \n",
            "\n",
            "       sustainability_increment  sustainameal_score  \\\n",
            "14718                 27.266804            0.740167   \n",
            "15242                 26.960134            0.725185   \n",
            "10896                 29.036761            0.720951   \n",
            "27313                 23.212972            0.713496   \n",
            "47161                 12.828308            0.657795   \n",
            "59687                 -0.105013            0.591303   \n",
            "65588                 -1.760558            0.588646   \n",
            "60293                 -0.246691            0.570547   \n",
            "68061                 -2.159693            0.559903   \n",
            "79355                 -8.551285            0.524600   \n",
            "\n",
            "       sustainameal_score_increment  \n",
            "14718                     29.780963  \n",
            "15242                     27.153918  \n",
            "10896                     26.411605  \n",
            "27313                     25.104458  \n",
            "47161                     15.337846  \n",
            "59687                      3.679195  \n",
            "65588                      3.213159  \n",
            "60293                      0.039730  \n",
            "68061                     -1.826538  \n",
            "79355                     -8.016628  \n"
          ]
        }
      ],
      "source": [
        "ordered_recipes = sm.order_recipe_by_sustainameal()\n",
        "print(ordered_recipes)"
      ]
    },
    {
      "cell_type": "code",
      "execution_count": 14,
      "metadata": {
        "id": "dkfe_4f2qLHG"
      },
      "outputs": [
        {
          "name": "stdout",
          "output_type": "stream",
          "text": [
            "                                                   title  similarity_score  \\\n",
            "14718                             Brown Rice and Edamame          0.983478   \n",
            "15242  Tofu With Red Curry Paste, Peas, and Yellow To...          0.987000   \n",
            "10896                Pasta with Tomatoes, Peas and Cream          0.989872   \n",
            "27313                                          Tofu Bowl          0.982967   \n",
            "47161                       Asparagus-Mushroom Primavera          0.989029   \n",
            "59687         Angel Hair With Tomatoes, Basil and Garlic          0.983265   \n",
            "65588                  Spaghettini With Smothered Onions          0.983291   \n",
            "60293                    Orlando Bloom's Pasta Au Pistou          0.985503   \n",
            "68061               Mini Farfalle With Tomatoes and Corn          0.991634   \n",
            "79355                Pasta and Potatoes (Pasta e Patate)          0.984892   \n",
            "\n",
            "       who_score  healthiness_increment  sustainability_score  \\\n",
            "14718   0.345328              47.711098              0.909384   \n",
            "15242   0.300499              28.535918              0.907193   \n",
            "10896   0.251764               7.689879              0.922031   \n",
            "27313   0.324013              38.593896              0.880417   \n",
            "47161   0.311485              33.235023              0.806214   \n",
            "59687   0.305481              30.666899              0.713799   \n",
            "65588   0.324224              38.684031              0.701969   \n",
            "60293   0.238654               2.082387              0.712787   \n",
            "68061   0.235070               0.549407              0.699117   \n",
            "79355   0.223958              -4.203629              0.653446   \n",
            "\n",
            "       sustainability_increment  sustainameal_score  \\\n",
            "14718                 27.266804            0.740167   \n",
            "15242                 26.960134            0.725185   \n",
            "10896                 29.036761            0.720951   \n",
            "27313                 23.212972            0.713496   \n",
            "47161                 12.828308            0.657795   \n",
            "59687                 -0.105013            0.591303   \n",
            "65588                 -1.760558            0.588646   \n",
            "60293                 -0.246691            0.570547   \n",
            "68061                 -2.159693            0.559903   \n",
            "79355                 -8.551285            0.524600   \n",
            "\n",
            "       sustainameal_score_increment  \n",
            "14718                     29.780963  \n",
            "15242                     27.153918  \n",
            "10896                     26.411605  \n",
            "27313                     25.104458  \n",
            "47161                     15.337846  \n",
            "59687                      3.679195  \n",
            "65588                      3.213159  \n",
            "60293                      0.039730  \n",
            "68061                     -1.826538  \n",
            "79355                     -8.016628  \n"
          ]
        }
      ],
      "source": [
        "ordered_recipes_gpt = sm.order_recipe_by_sustainameal()\n",
        "print(ordered_recipes_gpt)"
      ]
    },
    {
      "cell_type": "code",
      "execution_count": 15,
      "metadata": {
        "id": "lgBp3mEHqQQG"
      },
      "outputs": [
        {
          "name": "stdout",
          "output_type": "stream",
          "text": [
            "1. Recipe: Brown Rice and Edamame\n",
            "2. Recipe: Tofu With Red Curry Paste, Peas, and Yellow Tomatoes\n",
            "3. Recipe: Asparagus-Mushroom Primavera\n",
            "4. Recipe: Tofu Bowl\n",
            "5. Recipe: Mini Farfalle With Tomatoes and Corn\n",
            "6. Recipe: Pasta with Tomatoes, Peas and Cream\n",
            "7. Recipe: Angel Hair With Tomatoes, Basil and Garlic\n",
            "8. Recipe: Spaghettini With Smothered Onions\n",
            "9. Recipe: Pasta and Potatoes (Pasta e Patate)\n",
            "10. Recipe: Orlando Bloom's Pasta Au Pistou\n",
            "\n",
            "Choose: Brown Rice and Edamame\n"
          ]
        }
      ],
      "source": [
        "best_choice_by_gpt = sm.choose_best_recipe_with_gpt()"
      ]
    },
    {
      "cell_type": "code",
      "execution_count": 16,
      "metadata": {
        "colab": {
          "base_uri": "https://localhost:8080/"
        },
        "id": "P944A1Zu9edW",
        "outputId": "40f8bb12-217e-4568-98d1-364678fe51c9"
      },
      "outputs": [
        {
          "name": "stderr",
          "output_type": "stream",
          "text": [
            "Processing Titles embeddings: 100%|██████████| 1/1 [00:00<00:00, 61.02batch/s]"
          ]
        },
        {
          "name": "stderr",
          "output_type": "stream",
          "text": [
            "\n"
          ]
        },
        {
          "name": "stdout",
          "output_type": "stream",
          "text": [
            "Tags to match: ['main-dish', 'beef', 'meat']\n",
            "Number of filtered recipes: 28937\n",
            "Based on a balance of sustainability and healthiness, the most recommended recipe is \"Italian Chicken and Artichokes.\"\n"
          ]
        },
        {
          "name": "stderr",
          "output_type": "stream",
          "text": [
            "Processing Titles embeddings: 100%|██████████| 1/1 [00:00<00:00, 71.80batch/s]\n"
          ]
        },
        {
          "name": "stdout",
          "output_type": "stream",
          "text": [
            "Tags to match: ['main-dish', 'meat', 'pasta-rice-and-grains']\n",
            "Number of filtered recipes: 34344\n",
            "1. Recipe: Delicious Vegetable Lasagna\n",
            "2. Recipe: Linguine With Marinara Sauce and Meatballs\n",
            "3. Recipe: Delicious Game Day Beef Stew\n",
            "4. Recipe: Amager Island Stew (Amagergryde)\n",
            "5. Recipe: Bewitching Chili\n",
            "6. Recipe: Hamburger Hot Pot (crock Pot)\n",
            "7. Recipe: Asparagus, Cabbage and Chicken or Chicken Stir-Fry\n",
            "8. Recipe: Easy & Yummy Slow Cooker Chicken\n",
            "9. Recipe: Quick Meatball Lasagna\n",
            "10. Recipe: Mandarin Pork\n",
            "\n",
            "You should choose: Recipe: Delicious Vegetable Lasagna\n"
          ]
        },
        {
          "name": "stderr",
          "output_type": "stream",
          "text": [
            "Processing Titles embeddings: 100%|██████████| 1/1 [00:00<00:00, 97.68batch/s]\n"
          ]
        },
        {
          "name": "stdout",
          "output_type": "stream",
          "text": [
            "Tags to match: ['main-dish', 'beef', 'pasta', 'meat', 'pasta-rice-and-grains']\n",
            "Number of filtered recipes: 34345\n",
            "1. Recipe: Portuguese Shrimp and Scallops\n",
            "2. Recipe: Cream of Spinach n' Shrimp Over Pasta\n",
            "3. Recipe: Lary's Juicy Meatballs\n",
            "4. Recipe: Momosita's Amazing Ground Turkey/Chicken Meatloaf (With Hidden V\n",
            "5. Recipe: Hubby's Baked Boneless Chicken Wings\n",
            "6. Recipe: Simple Breaded Chicken Drumsticks\n",
            "7. Recipe: Broccoli and Ham Stuffed Chicken Breasts\n",
            "8. Recipe: Italian Meatloaf Patties\n",
            "9. Recipe: Jalapeno Popper Chicken\n",
            "10. Recipe: Sausage Brunch Bake\n",
            "\n",
            "You should choose Portuguese Shrimp and Scallops.\n"
          ]
        },
        {
          "name": "stderr",
          "output_type": "stream",
          "text": [
            "Processing Titles embeddings: 100%|██████████| 1/1 [00:00<00:00, 94.94batch/s]\n"
          ]
        },
        {
          "name": "stdout",
          "output_type": "stream",
          "text": [
            "Tags to match: ['main-dish', 'beef', 'meat']\n",
            "Number of filtered recipes: 28937\n",
            "1. Recipe: Avocado BLT Salad  \n",
            "2. Recipe: Asparagus Bundles or Green Bean Bundles  \n",
            "3. Recipe: BLT Salad With Avocado Dressing  \n",
            "4. Recipe: Vietnamese Beef Stir-Fry With Lychees  \n",
            "5. Recipe: Smoked Chicken and Vegetable Chowder  \n",
            "6. Recipe: Cheesy Potato Casserole (Crockpot)  \n",
            "7. Recipe: 2Bleu's Zucchini & Yellow Squash Casserole  \n",
            "8. Recipe: Turkey breasts with brandy sauce  \n",
            "9. Recipe: Spicy Bacon, Spinach and Artichoke Dip  \n",
            "10. Recipe: Red Led and Hat Tally's\n",
            "\n",
            "Based on a balance of sustainability and healthiness, I recommend choosing the \"Avocado BLT Salad.\"\n"
          ]
        },
        {
          "name": "stderr",
          "output_type": "stream",
          "text": [
            "Processing Titles embeddings: 100%|██████████| 1/1 [00:00<00:00, 86.45batch/s]\n"
          ]
        },
        {
          "name": "stdout",
          "output_type": "stream",
          "text": [
            "Tags to match: ['main-dish', 'beef', 'pasta', 'meat', 'pasta-rice-and-grains']\n",
            "Number of filtered recipes: 34345\n",
            "Based on a balance of sustainability and healthiness, the most recommended recipe is: 92306. Recipe: Baked Cheeseburgers.\n"
          ]
        },
        {
          "name": "stderr",
          "output_type": "stream",
          "text": [
            "Processing Titles embeddings: 100%|██████████| 1/1 [00:00<00:00, 79.74batch/s]\n"
          ]
        },
        {
          "name": "stdout",
          "output_type": "stream",
          "text": [
            "Tags to match: ['main-dish', 'beef', 'meat']\n",
            "Number of filtered recipes: 28937\n",
            "Based on a balance of sustainability and healthiness, you should choose: Recipe: Seared Chicken Thighs With Plum Glaze\n"
          ]
        },
        {
          "name": "stderr",
          "output_type": "stream",
          "text": [
            "Processing Titles embeddings: 100%|██████████| 1/1 [00:00<00:00, 75.22batch/s]\n"
          ]
        },
        {
          "name": "stdout",
          "output_type": "stream",
          "text": [
            "Tags to match: ['main-dish', 'pasta', 'pasta-rice-and-grains']\n",
            "Number of filtered recipes: 30436\n",
            "Based on a balance of sustainability and healthiness, you should choose the \"Grilled Vietnamese Beef Skewers\" recipe.\n"
          ]
        },
        {
          "name": "stderr",
          "output_type": "stream",
          "text": [
            "Processing Titles embeddings: 100%|██████████| 1/1 [00:00<00:00, 90.99batch/s]\n"
          ]
        },
        {
          "name": "stdout",
          "output_type": "stream",
          "text": [
            "Tags to match: ['main-dish', 'beef', 'meat']\n",
            "Number of filtered recipes: 28937\n",
            "Based on a balance of sustainability and healthiness, you should choose the recipe: Tofu-Veggie Lasagna (84286. Recipe: Tofu-Veggie Lasagna).\n"
          ]
        },
        {
          "name": "stderr",
          "output_type": "stream",
          "text": [
            "Processing Titles embeddings: 100%|██████████| 1/1 [00:00<00:00, 76.57batch/s]\n"
          ]
        },
        {
          "name": "stdout",
          "output_type": "stream",
          "text": [
            "Tags to match: ['main-dish', 'beef', 'meat', 'pasta-rice-and-grains']\n",
            "Number of filtered recipes: 34344\n",
            "Based on a balance of sustainability and healthiness, I recommend choosing the \"Hippie Cornbread\" recipe.\n"
          ]
        },
        {
          "name": "stderr",
          "output_type": "stream",
          "text": [
            "Processing Titles embeddings: 100%|██████████| 1/1 [00:00<00:00, 80.45batch/s]\n"
          ]
        },
        {
          "name": "stdout",
          "output_type": "stream",
          "text": [
            "Tags to match: ['main-dish', 'beef', 'pasta', 'meat', 'pasta-rice-and-grains']\n",
            "Number of filtered recipes: 34345\n",
            "Smaller Lasagna for Two\n"
          ]
        },
        {
          "name": "stderr",
          "output_type": "stream",
          "text": [
            "Processing Titles embeddings: 100%|██████████| 1/1 [00:00<00:00, 78.14batch/s]\n"
          ]
        },
        {
          "name": "stdout",
          "output_type": "stream",
          "text": [
            "Tags to match: ['main-dish', 'beef', 'meat']\n",
            "Number of filtered recipes: 28937\n",
            "Recipe: Root Beer Chicken\n"
          ]
        },
        {
          "name": "stderr",
          "output_type": "stream",
          "text": [
            "Processing Titles embeddings: 100%|██████████| 1/1 [00:00<00:00, 81.00batch/s]\n"
          ]
        },
        {
          "name": "stdout",
          "output_type": "stream",
          "text": [
            "Tags to match: ['main-dish', 'beef', 'meat']\n",
            "Number of filtered recipes: 28937\n",
            "59039. Recipe: Tomato Basil Roasted Chicken\n"
          ]
        },
        {
          "name": "stderr",
          "output_type": "stream",
          "text": [
            "Processing Titles embeddings: 100%|██████████| 1/1 [00:00<00:00, 103.36batch/s]\n"
          ]
        },
        {
          "name": "stdout",
          "output_type": "stream",
          "text": [
            "Tags to match: ['breakfast', 'main-dish', 'beef', 'meat']\n",
            "Number of filtered recipes: 34846\n",
            "Make Ahead Italian Sausage and Pasta Bake\n"
          ]
        },
        {
          "name": "stderr",
          "output_type": "stream",
          "text": [
            "Processing Titles embeddings: 100%|██████████| 1/1 [00:00<00:00, 77.21batch/s]\n"
          ]
        },
        {
          "name": "stdout",
          "output_type": "stream",
          "text": [
            "Tags to match: ['main-dish', 'beef', 'meat']\n",
            "Number of filtered recipes: 28937\n",
            "1. Recipe: Grits and Sausage Bake\n",
            "2. Recipe: Pork Stew With Celery\n",
            "3. Recipe: Chicken Simon and Garfunkel\n",
            "4. Recipe: Elegante Chicken Piccata\n",
            "5. Recipe: Veal Scaloppine With Tomatoes\n",
            "6. Recipe: Pork Tenderloin With Parmesan Crust\n",
            "7. Recipe: Low Carb Salmon Au Gratin\n",
            "8. Recipe: Five Star Chile Rellenos Casserole\n",
            "9. Recipe: Meatballs in Beer\n",
            "10. Recipe: Jake's Easy Cheesy Bacon Meatloaf\n",
            "\n",
            "Choose \"Grits and Sausage Bake\" for a balanced option in terms of sustainability and healthiness.\n"
          ]
        },
        {
          "name": "stderr",
          "output_type": "stream",
          "text": [
            "Processing Titles embeddings: 100%|██████████| 1/1 [00:00<00:00, 60.61batch/s]\n"
          ]
        },
        {
          "name": "stdout",
          "output_type": "stream",
          "text": [
            "Tags to match: ['main-dish', 'beef', 'meat']\n",
            "Number of filtered recipes: 28937\n",
            "1. Recipe: Indian Moghul Chicken Biryani\n",
            "2. Recipe: Jambalaya (Authentic)\n",
            "3. Recipe: Homemade Pastrami (Crockpot)\n",
            "4. Recipe: Easy Mini Meat Loaves\n",
            "5. Recipe: Jambalaya w/shrimp, chicken and sausage\n",
            "6. Recipe: Corned Beef With Mustard Glaze\n",
            "7. Recipe: Ruby-Glazed Corned Beef\n",
            "8. Recipe: Corned Beef With a Plum Glaze (Slow Cooker)\n",
            "9. Recipe: Miriam Reichl's Corned Beef Ham\n",
            "10. Recipe: New Zealand Corned Beef Hot Pot\n",
            "\n",
            "Based on a balance of sustainability and healthiness, you should choose \"Indian Moghul Chicken Biryani.\"\n"
          ]
        },
        {
          "name": "stderr",
          "output_type": "stream",
          "text": [
            "Processing Titles embeddings: 100%|██████████| 1/1 [00:00<00:00, 68.03batch/s]\n"
          ]
        },
        {
          "name": "stdout",
          "output_type": "stream",
          "text": [
            "Tags to match: ['main-dish', 'meat']\n",
            "Number of filtered recipes: 28937\n",
            "Here is the ranked list of recipes based on a balance of sustainability and healthiness:\n",
            "\n",
            "1. Recipe: Paprika Chicken With Cannellini Beans, Quick & Easy\n",
            "2. Recipe: Slow-Cooked Lamb Shanks With Lentil Ragout\n",
            "3. Recipe: Hearty Barley and Chicken Casserole\n",
            "4. Recipe: Crock Pot Black Bean Salsa Chicken (Oamc)\n",
            "5. Recipe: Tuscan Beef Stew (Crock Pot)\n",
            "6. Recipe: Wendy's Copycat Chili\n",
            "7. Recipe: Chicken With Smashed Baby Red Potatoes Pot Pie Style\n",
            "8. Recipe: A & L Chicken Pasta Casserole\n",
            "9. Recipe: Pasta, Chicken With Spice\n",
            "10. Recipe: Seared Chilean Sea Bass and Lobster With Thyme Scented Tomato\n",
            "\n",
            "Based on this ranking, I recommend choosing the \"Paprika Chicken With Cannellini Beans, Quick & Easy\" recipe.\n"
          ]
        },
        {
          "name": "stderr",
          "output_type": "stream",
          "text": [
            "Processing Titles embeddings: 100%|██████████| 1/1 [00:00<00:00, 75.57batch/s]\n"
          ]
        },
        {
          "name": "stdout",
          "output_type": "stream",
          "text": [
            "Tags to match: ['main-dish', 'beef', 'meat']\n",
            "Number of filtered recipes: 28937\n",
            "Based on a balance of sustainability and healthiness, the recommended recipe to choose is \"Salmon Patties With Lemon Sauce.\"\n"
          ]
        },
        {
          "name": "stderr",
          "output_type": "stream",
          "text": [
            "Processing Titles embeddings: 100%|██████████| 1/1 [00:00<00:00, 96.92batch/s]\n"
          ]
        },
        {
          "name": "stdout",
          "output_type": "stream",
          "text": [
            "Tags to match: ['appetizers', 'main-dish', 'seafood']\n",
            "Number of filtered recipes: 32250\n",
            "1. Recipe: Korean Fried Chicken (Soy and Garlic)\n",
            "2. Recipe: Super Sesame Chicken Wings\n",
            "3. Recipe: Skillet Chicken Pilaf\n",
            "4. Recipe: Ono Chicken Wings\n",
            "5. Recipe: Chinese Pot Roasted Chicken\n",
            "6. Recipe: Chicken Hurry\n",
            "7. Recipe: Ga Gone Thai\n",
            "8. Recipe: Grandma Landers's Chicken 'n' Rice\n",
            "9. Recipe: Melt in Your Mouth Chicken Pan Pie\n",
            "\n",
            "You should choose: Korean Fried Chicken (Soy and Garlic)\n"
          ]
        },
        {
          "name": "stderr",
          "output_type": "stream",
          "text": [
            "Processing Titles embeddings: 100%|██████████| 1/1 [00:00<00:00, 83.13batch/s]\n"
          ]
        },
        {
          "name": "stdout",
          "output_type": "stream",
          "text": [
            "Tags to match: ['appetizers', 'main-dish', 'beef', 'meat']\n",
            "Number of filtered recipes: 34526\n",
            "I recommend choosing \"Shrimp & Grits\".\n"
          ]
        },
        {
          "name": "stderr",
          "output_type": "stream",
          "text": [
            "Processing Titles embeddings: 100%|██████████| 1/1 [00:00<00:00, 83.70batch/s]\n"
          ]
        },
        {
          "name": "stdout",
          "output_type": "stream",
          "text": [
            "Tags to match: ['beef', 'meat']\n",
            "Number of filtered recipes: 17375\n",
            "1. Recipe: Slow Cooker Mediterranean Chicken With Sun Dried Tomatoes\n"
          ]
        },
        {
          "name": "stderr",
          "output_type": "stream",
          "text": [
            "Processing Titles embeddings: 100%|██████████| 1/1 [00:00<00:00, 87.55batch/s]\n"
          ]
        },
        {
          "name": "stdout",
          "output_type": "stream",
          "text": [
            "Tags to match: ['main-dish', 'beef', 'meat']\n",
            "Number of filtered recipes: 28937\n",
            "Broccoli and Lemon Pepper Chicken Alfredo With Bow Tie Pasta\n"
          ]
        },
        {
          "name": "stderr",
          "output_type": "stream",
          "text": [
            "Processing Titles embeddings: 100%|██████████| 1/1 [00:00<00:00, 82.50batch/s]\n"
          ]
        },
        {
          "name": "stdout",
          "output_type": "stream",
          "text": [
            "Tags to match: ['appetizers', 'beef', 'meat']\n",
            "Number of filtered recipes: 23411\n",
            "1. Recipe: Finnish Meatballs - Lihapyorykoita\n",
            "2. Recipe: Mom's Beef Stroganoff\n",
            "3. Recipe: Champion Casserole\n",
            "\n",
            "Based on a balance of sustainability and healthiness, you should choose \"Finnish Meatballs - Lihapyorykoita.\"\n"
          ]
        },
        {
          "name": "stderr",
          "output_type": "stream",
          "text": [
            "Processing Titles embeddings: 100%|██████████| 1/1 [00:00<00:00, 84.62batch/s]\n"
          ]
        },
        {
          "name": "stdout",
          "output_type": "stream",
          "text": [
            "Tags to match: ['main-dish', 'beef', 'meat']\n",
            "Number of filtered recipes: 28937\n",
            "Recipe: Vegetarian Southwest Lasagna\n"
          ]
        },
        {
          "name": "stderr",
          "output_type": "stream",
          "text": [
            "Processing Titles embeddings: 100%|██████████| 1/1 [00:00<00:00, 65.59batch/s]\n"
          ]
        },
        {
          "name": "stdout",
          "output_type": "stream",
          "text": [
            "Tags to match: ['beef', 'meat']\n",
            "Number of filtered recipes: 17375\n",
            "1. Recipe: Main Course (Hamburger) Soup\n",
            "2. Recipe: Gjelle Me Zarzavata (Albanian Casserole)\n",
            "3. Recipe: Baked Chicken Kabobs\n",
            "4. Recipe: Round Steak Supper\n",
            "5. Recipe: Taco Stuffed Pasta Shells\n",
            "6. Recipe: Crock Pot Chicken and Stuffing Dinner\n",
            "7. Recipe: Pasta Sauce Spaghetti Soup (Crock Pot or Stove Top)\n",
            "8. Recipe: Perruso's Spaghetti and Meatballs\n",
            "9. Recipe: Brownie Special\n",
            "\n",
            "I recommend choosing \"Main Course (Hamburger) Soup\" for the best balance of sustainability and healthiness.\n"
          ]
        },
        {
          "name": "stderr",
          "output_type": "stream",
          "text": [
            "Processing Titles embeddings: 100%|██████████| 1/1 [00:00<00:00, 99.69batch/s]\n"
          ]
        },
        {
          "name": "stdout",
          "output_type": "stream",
          "text": [
            "Tags to match: ['main-dish']\n",
            "Number of filtered recipes: 24622\n",
            "I would recommend choosing the \"Magical Moroccan Chicken and Chickpeas\" recipe.\n"
          ]
        },
        {
          "name": "stderr",
          "output_type": "stream",
          "text": [
            "Processing Titles embeddings: 100%|██████████| 1/1 [00:00<00:00, 71.32batch/s]\n"
          ]
        },
        {
          "name": "stdout",
          "output_type": "stream",
          "text": [
            "Tags to match: ['main-dish', 'beef', 'pasta', 'meat', 'pasta-rice-and-grains']\n",
            "Number of filtered recipes: 34345\n",
            "Based on a balance of sustainability and healthiness, I recommend choosing the **Broccoli, Cheese, Rice Casserole With Chicken** recipe.\n"
          ]
        },
        {
          "name": "stderr",
          "output_type": "stream",
          "text": [
            "Processing Titles embeddings: 100%|██████████| 1/1 [00:00<00:00, 81.34batch/s]\n"
          ]
        },
        {
          "name": "stdout",
          "output_type": "stream",
          "text": [
            "Tags to match: ['main-dish', 'beef', 'pasta', 'meat', 'pasta-rice-and-grains']\n",
            "Number of filtered recipes: 34345\n",
            "1. Recipe: Turkey Breast With Apricot Sausage Stuffing\n",
            "2. Recipe: My Pot Roast\n",
            "3. Recipe: Delicious Chicken Paella\n",
            "4. Recipe: Homemade Pork Sausage W/ Rigatoni & Baby Spinach\n",
            "5. Recipe: Sesame Garlic Sirloin Steak\n",
            "6. Recipe: Stroganoff Casserole\n",
            "7. Recipe: Creamy Pork Chops, Mushroom and Potato Casserole\n",
            "8. Recipe: Tortilla Beef\n",
            "9. Recipe: Baked Hamburger Patties With Pasta Sauce\n",
            "10. Recipe: Melting Meatballs with Pasta\n",
            "\n",
            "Based on a balance of sustainability and healthiness, you should choose \"Turkey Breast With Apricot Sausage Stuffing.\"\n"
          ]
        },
        {
          "name": "stderr",
          "output_type": "stream",
          "text": [
            "Processing Titles embeddings: 100%|██████████| 1/1 [00:00<00:00, 83.70batch/s]\n"
          ]
        },
        {
          "name": "stdout",
          "output_type": "stream",
          "text": [
            "Tags to match: ['main-dish']\n",
            "Number of filtered recipes: 24622\n",
            "I recommend choosing the recipe for Easy Oven Vegetable and Beef Stew.\n"
          ]
        },
        {
          "name": "stderr",
          "output_type": "stream",
          "text": [
            "Processing Titles embeddings: 100%|██████████| 1/1 [00:00<00:00, 77.18batch/s]\n"
          ]
        },
        {
          "name": "stdout",
          "output_type": "stream",
          "text": [
            "Tags to match: ['main-dish', 'beef', 'meat']\n",
            "Number of filtered recipes: 28937\n",
            "1. Recipe: Spinach and Ricotta Pie\n",
            "2. Recipe: Kotlety Pozharskie (Russian Ground Chicken Cutlets)\n",
            "3. Recipe: Stuffed Chicken Breast in a White Wine Cream Sauce\n",
            "4. Recipe: Pork Tenderloin W/  Salad and Honey and Mustard Dressing\n",
            "5. Recipe: Salmon in pastry with herb and cream sauce\n",
            "6. Recipe: Chicken and Mushrooms over Noodles\n",
            "7. Recipe: Creamy Italian Chicken Puff Pie\n",
            "8. Recipe: Cheeseburger Meatloaf and Mashed Potatoes\n",
            "9. Recipe: Blue Cheese Meatloaf\n",
            "10. Recipe: Texas Casserole\n",
            "\n",
            "I recommend choosing the \"Spinach and Ricotta Pie.\"\n"
          ]
        },
        {
          "name": "stderr",
          "output_type": "stream",
          "text": [
            "Processing Titles embeddings: 100%|██████████| 1/1 [00:00<00:00, 69.47batch/s]\n"
          ]
        },
        {
          "name": "stdout",
          "output_type": "stream",
          "text": [
            "Tags to match: ['main-dish', 'beef', 'meat']\n",
            "Number of filtered recipes: 28937\n",
            "1. Recipe: Chicken Breasts Stuffed with Goat Cheese, Basil and Red Pepper\n",
            "2. Recipe: Spinach & Sausage Stuffed Pasta Shells\n",
            "3. Recipe: Quick Bolognese Sauce\n",
            "\n",
            "I recommend choosing the Chicken Breasts Stuffed with Goat Cheese, Basil and Red Pepper recipe.\n"
          ]
        },
        {
          "name": "stderr",
          "output_type": "stream",
          "text": [
            "Processing Titles embeddings: 100%|██████████| 1/1 [00:00<00:00, 71.74batch/s]\n"
          ]
        },
        {
          "name": "stdout",
          "output_type": "stream",
          "text": [
            "Tags to match: ['main-dish', 'beef', 'meat']\n",
            "Number of filtered recipes: 28937\n",
            "1. Recipe: Olive Garden Tuscan Garlic Chicken\n",
            "2. Recipe: Creamy Turkey-Corn Chowder\n",
            "3. Recipe: Turkey and Artichoke Stuffed Shells\n",
            "4. Recipe:Another Baked Ziti\n",
            "5. Recipe: Meatballs (Polpetti) & Sunday Gravy\n",
            "6. Recipe: Cheesy Stuffed Shells W/ Semi-Homemade Sauce\n",
            "7. Recipe: Beef 'n Bean Burrito Stack (Crock Pot, Slow Cooker)\n",
            "8. Recipe: Shepherd's Hash Brown Pie\n",
            "9. Recipe: Hot and Spicy Chili\n",
            "10. Recipe: Rudy's at the Loop Texas Hot Sauce\n",
            "\n",
            "I recommend choosing the **Olive Garden Tuscan Garlic Chicken** recipe.\n"
          ]
        },
        {
          "name": "stderr",
          "output_type": "stream",
          "text": [
            "Processing Titles embeddings: 100%|██████████| 1/1 [00:00<00:00, 71.97batch/s]\n"
          ]
        },
        {
          "name": "stdout",
          "output_type": "stream",
          "text": [
            "Tags to match: ['main-dish', 'beef', 'meat']\n",
            "Number of filtered recipes: 28937\n",
            "1. Recipe: Fresh Tomato-Basil-Asparagus Pasta Salad\n"
          ]
        },
        {
          "name": "stderr",
          "output_type": "stream",
          "text": [
            "Processing Titles embeddings: 100%|██████████| 1/1 [00:00<00:00, 74.50batch/s]\n"
          ]
        },
        {
          "name": "stdout",
          "output_type": "stream",
          "text": [
            "Tags to match: ['main-dish', 'beef', 'meat']\n",
            "Number of filtered recipes: 28937\n",
            "Salmon with Pistachio Basil Butter\n"
          ]
        },
        {
          "name": "stderr",
          "output_type": "stream",
          "text": [
            "Processing Titles embeddings: 100%|██████████| 1/1 [00:00<00:00, 72.39batch/s]\n"
          ]
        },
        {
          "name": "stdout",
          "output_type": "stream",
          "text": [
            "Tags to match: ['main-dish', 'side-dishes', 'rice', 'pasta-rice-and-grains']\n",
            "Number of filtered recipes: 39608\n",
            "1. Recipe: Baby Bok Choy Stir-Fry\n",
            "2. Recipe: Roasted Italian Asparagus With Parmesan\n",
            "3. Recipe: Grilled Sesame Asparagus\n",
            "\n",
            "Choose \"Baby Bok Choy Stir-Fry\".\n"
          ]
        },
        {
          "name": "stderr",
          "output_type": "stream",
          "text": [
            "Processing Titles embeddings: 100%|██████████| 1/1 [00:00<00:00, 70.69batch/s]\n"
          ]
        },
        {
          "name": "stdout",
          "output_type": "stream",
          "text": [
            "Tags to match: ['main-dish', 'beef', 'meat']\n",
            "Number of filtered recipes: 28937\n",
            "61595. Recipe: End of Summer Ratatouille\n"
          ]
        },
        {
          "name": "stderr",
          "output_type": "stream",
          "text": [
            "Processing Titles embeddings: 100%|██████████| 1/1 [00:00<00:00, 69.68batch/s]\n"
          ]
        },
        {
          "name": "stdout",
          "output_type": "stream",
          "text": [
            "Tags to match: ['main-dish', 'beef', 'pasta', 'meat', 'pasta-rice-and-grains']\n",
            "Number of filtered recipes: 34345\n",
            "Here is the ranked list based on a balance of sustainability and healthiness:\n",
            "\n",
            "1. Recipe: Hearty Beef and Vegetable Soup\n",
            "2. Recipe: Chicken & Black Bean Soup\n",
            "3. Recipe: Better Butter Beans\n",
            "4. Recipe: Wonderful Chili\n",
            "5. Recipe: Heidi's Famous Chili\n",
            "6. Recipe: Taco Soup (Paula Deen)\n",
            "7. Recipe: My sister, Ruth Kamps Texas Soup\n",
            "8. Recipe: Hearty Baked Bean Casserole\n",
            "9. Recipe: Jen's Tostada Pizza\n",
            "10. Recipe: Chili Like at That Place Dave Named After His Daughter Copycat\n",
            "\n",
            "You should choose \"Hearty Beef and Vegetable Soup.\"\n"
          ]
        },
        {
          "name": "stderr",
          "output_type": "stream",
          "text": [
            "Processing Titles embeddings: 100%|██████████| 1/1 [00:00<00:00, 89.00batch/s]\n"
          ]
        },
        {
          "name": "stdout",
          "output_type": "stream",
          "text": [
            "Tags to match: ['main-dish', 'meat']\n",
            "Number of filtered recipes: 28937\n",
            "70323. Recipe: Tuscan Roast Chicken With Tomatoes, Zucchini and Olives\n"
          ]
        },
        {
          "name": "stderr",
          "output_type": "stream",
          "text": [
            "Processing Titles embeddings: 100%|██████████| 1/1 [00:00<00:00, 102.47batch/s]\n"
          ]
        },
        {
          "name": "stdout",
          "output_type": "stream",
          "text": [
            "Tags to match: ['appetizers', 'beef', 'meat']\n",
            "Number of filtered recipes: 23411\n",
            "Scandinavian Meatballs and Gravy\n"
          ]
        },
        {
          "name": "stderr",
          "output_type": "stream",
          "text": [
            "Processing Titles embeddings: 100%|██████████| 1/1 [00:00<00:00, 81.81batch/s]\n"
          ]
        },
        {
          "name": "stdout",
          "output_type": "stream",
          "text": [
            "Tags to match: ['main-dish']\n",
            "Number of filtered recipes: 24622\n",
            "Based on a balance of sustainability and healthiness, the recommended recipe would be:\n",
            "29530. Recipe: Cedar Plank Salmon With Ginger Sauce\n"
          ]
        },
        {
          "name": "stderr",
          "output_type": "stream",
          "text": [
            "Processing Titles embeddings: 100%|██████████| 1/1 [00:00<00:00, 73.27batch/s]\n"
          ]
        },
        {
          "name": "stdout",
          "output_type": "stream",
          "text": [
            "Tags to match: ['main-dish', 'seafood']\n",
            "Number of filtered recipes: 26549\n",
            "The most recommended recipe based on a balance of sustainability and healthiness is: Recipe: Cheesy Asparagus and Egg Casserole.\n"
          ]
        },
        {
          "name": "stderr",
          "output_type": "stream",
          "text": [
            "Processing Titles embeddings: 100%|██████████| 1/1 [00:00<00:00, 82.76batch/s]\n"
          ]
        },
        {
          "name": "stdout",
          "output_type": "stream",
          "text": [
            "Tags to match: ['main-dish', 'beef', 'meat']\n",
            "Number of filtered recipes: 28937\n",
            "Tomato, Basil, Yogurt Tart\n"
          ]
        },
        {
          "name": "stderr",
          "output_type": "stream",
          "text": [
            "Processing Titles embeddings: 100%|██████████| 1/1 [00:00<00:00, 80.41batch/s]\n"
          ]
        },
        {
          "name": "stdout",
          "output_type": "stream",
          "text": [
            "Tags to match: ['main-dish', 'beef', 'meat']\n",
            "Number of filtered recipes: 28937\n",
            "Stuffed Poblano Peppers (Oamc)\n"
          ]
        },
        {
          "name": "stderr",
          "output_type": "stream",
          "text": [
            "Processing Titles embeddings: 100%|██████████| 1/1 [00:00<00:00, 77.65batch/s]\n"
          ]
        },
        {
          "name": "stdout",
          "output_type": "stream",
          "text": [
            "Tags to match: ['main-dish']\n",
            "Number of filtered recipes: 24622\n",
            "Recipe: Pork, Cashew, and Green Bean Stir Fry\n"
          ]
        },
        {
          "name": "stderr",
          "output_type": "stream",
          "text": [
            "Processing Titles embeddings: 100%|██████████| 1/1 [00:00<00:00, 93.54batch/s]\n"
          ]
        },
        {
          "name": "stdout",
          "output_type": "stream",
          "text": [
            "Tags to match: ['main-dish', 'beef', 'meat']\n",
            "Number of filtered recipes: 28937\n",
            "The most recommended recipe based on a balance of sustainability and healthiness is \"Chicken Thighs With Beans , Mushrooms and Tomatoes\" (Recipe number: 77963).\n"
          ]
        },
        {
          "name": "stderr",
          "output_type": "stream",
          "text": [
            "Processing Titles embeddings: 100%|██████████| 1/1 [00:00<00:00, 88.00batch/s]\n"
          ]
        },
        {
          "name": "stdout",
          "output_type": "stream",
          "text": [
            "Tags to match: ['pasta', 'pasta-rice-and-grains']\n",
            "Number of filtered recipes: 12334\n",
            "1. Recipe: Pasta With Salmon and Dill\n",
            "2. Recipe: Salmon With Rice-Florentine\n",
            "3. Recipe: Sun-Dried Tomato and Chicken Lasagne\n",
            "4. Recipe: Peppered Lemon Chicken Pasta\n",
            "5. Recipe: Spinach Lasagna (Easy No-Boil Method)\n",
            "6. Recipe: Taco One Skillet Meal\n",
            "7. Recipe: Chicken and Cheese Filled Squash Ravioli\n",
            "8. Recipe: Babi Ketjap\n",
            "9. Recipe: Layered Mini Lasagne Casserole\n",
            "10. Recipe: Baked Ham & Noodle Supper\n",
            "\n",
            "You should choose \"Pasta With Salmon and Dill.\"\n"
          ]
        },
        {
          "name": "stderr",
          "output_type": "stream",
          "text": [
            "Processing Titles embeddings: 100%|██████████| 1/1 [00:00<00:00, 77.97batch/s]\n"
          ]
        },
        {
          "name": "stdout",
          "output_type": "stream",
          "text": [
            "Tags to match: ['main-dish', 'beef', 'meat']\n",
            "Number of filtered recipes: 28937\n",
            "Based on a balance of sustainability and healthiness, the recommended recipe is:\n",
            "\"84383. Recipe: Mmmm Veggie Pie!\"\n"
          ]
        },
        {
          "name": "stderr",
          "output_type": "stream",
          "text": [
            "Processing Titles embeddings: 100%|██████████| 1/1 [00:00<00:00, 73.77batch/s]\n"
          ]
        },
        {
          "name": "stdout",
          "output_type": "stream",
          "text": [
            "Tags to match: ['main-dish', 'meat', 'pasta-rice-and-grains']\n",
            "Number of filtered recipes: 34344\n",
            "1. Recipe: Forty Clove Garlic Chicken\n",
            "2. Recipe: Pork Chops With Garlic and Apples in Wine\n",
            "3. Recipe: Low Carb Chicken Broccoli Alfredo\n",
            "4. Recipe: Mince Beef Curry\n",
            "5. Recipe: Pork 'n' Tater Skillet\n",
            "6. Recipe: Taco Taters\n",
            "7. Recipe: Tuna Au Poivre (Tuna With Ground Black Pepper)\n",
            "8. Recipe: \"Drunken\" Pork Chops\n",
            "9. Recipe: Lucille Ball Special\n",
            "10. Recipe: Fairwell Family Secret Meatball Recipe\n",
            "\n",
            "Choose Forty Clove Garlic Chicken.\n"
          ]
        },
        {
          "name": "stderr",
          "output_type": "stream",
          "text": [
            "Processing Titles embeddings: 100%|██████████| 1/1 [00:00<00:00, 67.29batch/s]\n"
          ]
        },
        {
          "name": "stdout",
          "output_type": "stream",
          "text": [
            "Tags to match: ['main-dish', 'beef', 'meat']\n",
            "Number of filtered recipes: 28937\n",
            "Based on a balance of sustainability and healthiness, the recommended recipe is: \n",
            "Recipe: #1 Favorite Chinese Steamed Whole Fish by Sy\n"
          ]
        },
        {
          "name": "stderr",
          "output_type": "stream",
          "text": [
            "Processing Titles embeddings: 100%|██████████| 1/1 [00:00<00:00, 76.02batch/s]\n"
          ]
        },
        {
          "name": "stdout",
          "output_type": "stream",
          "text": [
            "Tags to match: ['main-dish', 'beef', 'pasta', 'meat', 'pasta-rice-and-grains']\n",
            "Number of filtered recipes: 34345\n",
            "Thai Basil Beef\n"
          ]
        },
        {
          "name": "stderr",
          "output_type": "stream",
          "text": [
            "Processing Titles embeddings: 100%|██████████| 1/1 [00:00<00:00, 70.05batch/s]\n"
          ]
        },
        {
          "name": "stdout",
          "output_type": "stream",
          "text": [
            "Tags to match: ['main-dish', 'beef', 'meat']\n",
            "Number of filtered recipes: 28937\n",
            "1. Recipe: Chicken Breasts With Vinegar Sauce (Guyana -- Caribbean)\n",
            "2. Recipe: Solo Baked Chicken Breast\n",
            "3. Recipe: Easy Baked Meatballs With Two Sauce Options\n",
            "\n",
            "Based on a balance of sustainability and healthiness, you should choose the \"Chicken Breasts With Vinegar Sauce (Guyana -- Caribbean)\" recipe.\n"
          ]
        },
        {
          "name": "stderr",
          "output_type": "stream",
          "text": [
            "Processing Titles embeddings: 100%|██████████| 1/1 [00:00<00:00, 69.84batch/s]\n"
          ]
        },
        {
          "name": "stdout",
          "output_type": "stream",
          "text": [
            "Tags to match: ['main-dish', 'beef', 'meat']\n",
            "Number of filtered recipes: 28937\n",
            "Based on a balance of sustainability and healthiness, you should choose the \"Low Carb Broccoli Bacon Salad\" recipe.\n"
          ]
        },
        {
          "name": "stderr",
          "output_type": "stream",
          "text": [
            "Processing Titles embeddings: 100%|██████████| 1/1 [00:00<00:00, 66.17batch/s]\n"
          ]
        },
        {
          "name": "stdout",
          "output_type": "stream",
          "text": [
            "Tags to match: ['beef', 'meat']\n",
            "Number of filtered recipes: 17375\n",
            "Here are the recipes ranked from most to least recommended based on a balance of sustainability and healthiness:\n",
            "\n",
            "1. Recipe: Simple and delicious stove top mushroom gravy pork chops\n",
            "2. Recipe: Marinated Baked Pork Chops\n",
            "3. Recipe: Crock Pot Juicy Pork Chops\n",
            "4. Recipe: Bruce's Crock Pot Pepperoncini Roast Sandwich\n",
            "5. Recipe: Sarah's Famous Burgers\n",
            "6. Recipe: Hamburger Patties Saucy Style\n",
            "7. Recipe: Taco Nite\n",
            "8. Recipe: Hot Beef Sandwich Au Jus\n",
            "9. Recipe: Baked Buffalo Chicken Breasts\n",
            "10. Recipe: Spicy Chicken Spaghetti\n",
            "\n",
            "You should choose the \"Simple and delicious stove top mushroom gravy pork chops\" recipe.\n"
          ]
        },
        {
          "name": "stderr",
          "output_type": "stream",
          "text": [
            "Processing Titles embeddings: 100%|██████████| 1/1 [00:00<00:00, 70.85batch/s]\n"
          ]
        },
        {
          "name": "stdout",
          "output_type": "stream",
          "text": [
            "Tags to match: ['main-dish', 'beef', 'meat']\n",
            "Number of filtered recipes: 28937\n",
            "1. Barley Stroganoff Stew (93522)\n",
            "2. Chicken Spinach Mexiwraps (82851)\n",
            "3. Baked Ziti (93146)\n",
            "4. Ham & Broccoli Crock Pot Casserole (74668)\n",
            "5. Meaty Pasta Casserole (93369)\n"
          ]
        },
        {
          "name": "stderr",
          "output_type": "stream",
          "text": [
            "Processing Titles embeddings: 100%|██████████| 1/1 [00:00<00:00, 98.15batch/s]\n"
          ]
        },
        {
          "name": "stdout",
          "output_type": "stream",
          "text": [
            "Tags to match: ['main-dish', 'beef', 'meat']\n",
            "Number of filtered recipes: 28937\n",
            "1. Recipe: Eggplant Minestrone  \n",
            "2. Recipe: Brothy Split Pea & Ham Soup  \n",
            "3. Recipe: Three Bean Award Winning Chili  \n",
            "4. Recipe: Mawthook's Beefy Chili  \n",
            "5. Recipe: Sarah's Best Chili Recipe  \n",
            "\n",
            "I recommend choosing the \"Eggplant Minestrone\" recipe.\n"
          ]
        },
        {
          "name": "stderr",
          "output_type": "stream",
          "text": [
            "Processing Titles embeddings: 100%|██████████| 1/1 [00:00<00:00, 77.58batch/s]\n"
          ]
        },
        {
          "name": "stdout",
          "output_type": "stream",
          "text": [
            "Tags to match: ['beef', 'meat']\n",
            "Number of filtered recipes: 17375\n",
            "Recipe: Chicken and Chickpea Salad\n"
          ]
        },
        {
          "name": "stderr",
          "output_type": "stream",
          "text": [
            "Processing Titles embeddings: 100%|██████████| 1/1 [00:00<00:00, 80.49batch/s]\n"
          ]
        },
        {
          "name": "stdout",
          "output_type": "stream",
          "text": [
            "Tags to match: ['main-dish', 'pasta', 'meat', 'pasta-rice-and-grains']\n",
            "Number of filtered recipes: 34345\n",
            "1. Recipe: Linguine Pesto With Italian Chicken Strips\n",
            "2. Recipe: Chicken, Saffron Risotto (Low Fat)\n",
            "3. Recipe: Chicken and Rice Skillet\n",
            "4. Recipe: Pineapple and Chicken Rice Salad\n",
            "5. Recipe: Kotopoulo Makaronada (Chicken Pasta)\n",
            "6. Recipe: Moroccan Pasta Salad With Tuna\n",
            "7. Recipe: Tuna Hotdish\n",
            "8. Recipe: Scallop and Asparagus Linguine\n",
            "9. Recipe: Tuna Fish and Spaghetti Casserole\n",
            "10. Recipe: Beef & Macaroni Dinner\n",
            "\n",
            "You should choose: Recipe: Linguine Pesto With Italian Chicken Strips\n"
          ]
        },
        {
          "name": "stderr",
          "output_type": "stream",
          "text": [
            "Processing Titles embeddings: 100%|██████████| 1/1 [00:00<00:00, 77.30batch/s]\n"
          ]
        },
        {
          "name": "stdout",
          "output_type": "stream",
          "text": [
            "Tags to match: ['main-dish', 'beef', 'meat']\n",
            "Number of filtered recipes: 28937\n",
            "Based on a balance of sustainability and healthiness, the recommended recipe is:\n",
            "69201. Recipe: Pasta with Chicken and Pepper Cheese Sauce\n"
          ]
        },
        {
          "name": "stderr",
          "output_type": "stream",
          "text": [
            "Processing Titles embeddings: 100%|██████████| 1/1 [00:00<00:00, 102.06batch/s]\n"
          ]
        },
        {
          "name": "stdout",
          "output_type": "stream",
          "text": [
            "Tags to match: ['main-dish', 'beef', 'meat']\n",
            "Number of filtered recipes: 28937\n",
            "I recommend the recipe: Seasoned Stuffed Bell Peppers.\n"
          ]
        },
        {
          "name": "stderr",
          "output_type": "stream",
          "text": [
            "Processing Titles embeddings: 100%|██████████| 1/1 [00:00<00:00, 95.58batch/s]\n"
          ]
        },
        {
          "name": "stdout",
          "output_type": "stream",
          "text": [
            "Tags to match: ['main-dish', 'meat']\n",
            "Number of filtered recipes: 28937\n",
            "I suggest choosing the recipe: Ground Beef and Wild Rice Casserole.\n"
          ]
        },
        {
          "name": "stderr",
          "output_type": "stream",
          "text": [
            "Processing Titles embeddings: 100%|██████████| 1/1 [00:00<00:00, 81.95batch/s]\n"
          ]
        },
        {
          "name": "stdout",
          "output_type": "stream",
          "text": [
            "Tags to match: ['main-dish', 'meat']\n",
            "Number of filtered recipes: 28937\n",
            "Here is the list ranked from most to least recommended based on a balance of sustainability and healthiness:\n",
            "\n",
            "1. Recipe: The Best Jambalaya\n",
            "2. Recipe: Company Chicken Salad Casserole\n",
            "3. Recipe: Scottish Lorne Sausages: Square Breakfast Sausage!\n",
            "4. Recipe: Grilled Pork Chops Marinade\n",
            "5. Recipe: Taste of Asia Steak Marinade\n",
            "6. Recipe: Roast Peppered Rib Eye of Beef\n",
            "7. Recipe: Saucy Forgotten Beef\n",
            "8. Recipe: Bacon Jalapeno Burgers With Chipotle Mayonnaise\n",
            "9. Recipe: Chicken Glop\n",
            "10. Recipe: Trisha Yearwood's Cowboy Lasagna\n",
            "\n",
            "Therefore, you should choose **The Best Jambalaya** recipe.\n"
          ]
        },
        {
          "name": "stderr",
          "output_type": "stream",
          "text": [
            "Processing Titles embeddings: 100%|██████████| 1/1 [00:00<00:00, 80.79batch/s]\n"
          ]
        },
        {
          "name": "stdout",
          "output_type": "stream",
          "text": [
            "Tags to match: ['main-dish']\n",
            "Number of filtered recipes: 24622\n",
            "Here is the recommended recipe based on a balance of sustainability and healthiness:\n",
            "Recipe: Easy Asian Noodle Dish\n"
          ]
        },
        {
          "name": "stderr",
          "output_type": "stream",
          "text": [
            "Processing Titles embeddings: 100%|██████████| 1/1 [00:00<00:00, 61.39batch/s]\n"
          ]
        },
        {
          "name": "stdout",
          "output_type": "stream",
          "text": [
            "Tags to match: ['main-dish', 'beef', 'meat']\n",
            "Number of filtered recipes: 28937\n",
            "1. Recipe: Chicken With Cucumbers and Mushrooms\n",
            "2. Recipe: Mussels in Herbed Cream Sauce\n",
            "3. Recipe: Jalapeño Garlic Tilapia Panini\n",
            "4. Recipe: Stuffed Italian Pork Chops\n",
            "5. Recipe: Easy Turkey Casserole\n",
            "\n",
            "You should choose \"Chicken With Cucumbers and Mushrooms.\"\n"
          ]
        },
        {
          "name": "stderr",
          "output_type": "stream",
          "text": [
            "Processing Titles embeddings: 100%|██████████| 1/1 [00:00<00:00, 83.41batch/s]\n"
          ]
        },
        {
          "name": "stdout",
          "output_type": "stream",
          "text": [
            "Tags to match: ['main-dish', 'beef', 'meat']\n",
            "Number of filtered recipes: 28937\n",
            "Haddock Provencal\n"
          ]
        },
        {
          "name": "stderr",
          "output_type": "stream",
          "text": [
            "Processing Titles embeddings: 100%|██████████| 1/1 [00:00<00:00, 73.58batch/s]\n"
          ]
        },
        {
          "name": "stdout",
          "output_type": "stream",
          "text": [
            "Tags to match: ['beef', 'meat', 'pasta-rice-and-grains']\n",
            "Number of filtered recipes: 26857\n",
            "Choose the Chili-Rubbed Chicken With Roasted Garlic Sauce recipe.\n"
          ]
        },
        {
          "name": "stderr",
          "output_type": "stream",
          "text": [
            "Processing Titles embeddings: 100%|██████████| 1/1 [00:00<00:00, 82.68batch/s]\n"
          ]
        },
        {
          "name": "stdout",
          "output_type": "stream",
          "text": [
            "Tags to match: ['main-dish', 'beef', 'meat']\n",
            "Number of filtered recipes: 28937\n",
            "In terms of sustainability and healthiness, the recommended recipe to choose is: Recipe: Chicken and Chickpea Salad\n"
          ]
        },
        {
          "name": "stderr",
          "output_type": "stream",
          "text": [
            "Processing Titles embeddings: 100%|██████████| 1/1 [00:00<00:00, 66.27batch/s]\n"
          ]
        },
        {
          "name": "stdout",
          "output_type": "stream",
          "text": [
            "Tags to match: ['main-dish', 'beef', 'pizza', 'meat']\n",
            "Number of filtered recipes: 28937\n",
            "1. Recipe: West African Lemony Chicken-Okra Soup  \n",
            "2. Recipe: Sesame Beef and Asparagus Stir Fry  \n",
            "3. Recipe: Grilled Beef Fajitas With Avocado Pico De Gallo  \n",
            "4. Recipe: Creamy Crock-Pot Chicken Noodle Soup  \n",
            "5. Recipe: Ham & Asparagus Pie  \n",
            "6. Recipe: Jambalaya Stuffing  \n",
            "7. Recipe: Maggiano's Little Italy Chicken Asiago Soup (Copycat)  \n",
            "8. Recipe: Canadian Bacon Bow Ties  \n",
            "9. Recipe: A Better Marzetti  \n",
            "10. Recipe: Chef Boyardee Beef Ravioli\n",
            "\n",
            "Choose \"West African Lemony Chicken-Okra Soup\" as the most recommended option for a balance of sustainability and healthiness.\n"
          ]
        },
        {
          "name": "stderr",
          "output_type": "stream",
          "text": [
            "Processing Titles embeddings: 100%|██████████| 1/1 [00:00<00:00, 77.36batch/s]\n"
          ]
        },
        {
          "name": "stdout",
          "output_type": "stream",
          "text": [
            "Tags to match: ['main-dish', 'beef', 'meat']\n",
            "Number of filtered recipes: 28937\n",
            "1. Broccoli Stuffed Meatloaf\n",
            "2. Mary's Baked Italian Meatballs\n",
            "3. Porcupine Meatloaf Crock Pot\n",
            "4. Mom's Best Meatloaf\n",
            "5. Mushroom Meatballs\n",
            "6. Muffin Tin Meat Loaves\n",
            "7. Special Meatloaf With Heinz 57 Sauce\n",
            "8. So Simple Onion Barbecued Burgers\n",
            "9. Pvw's Garlic Citrus Chicken\n",
            "10. Weight Watchers Veal Piccata\n",
            "\n",
            "Choose Broccoli Stuffed Meatloaf.\n"
          ]
        },
        {
          "name": "stderr",
          "output_type": "stream",
          "text": [
            "Processing Titles embeddings: 100%|██████████| 1/1 [00:00<00:00, 83.16batch/s]\n"
          ]
        },
        {
          "name": "stdout",
          "output_type": "stream",
          "text": [
            "Tags to match: ['main-dish', 'beef', 'meat']\n",
            "Number of filtered recipes: 28937\n",
            "Based on a balance of sustainability and healthiness, you should choose the \"Baked Greek Lemon Chicken\" recipe.\n"
          ]
        },
        {
          "name": "stderr",
          "output_type": "stream",
          "text": [
            "Processing Titles embeddings: 100%|██████████| 1/1 [00:00<00:00, 77.98batch/s]\n"
          ]
        },
        {
          "name": "stdout",
          "output_type": "stream",
          "text": [
            "Tags to match: ['main-dish', 'beef', 'meat']\n",
            "Number of filtered recipes: 28937\n",
            "Based on a balance of sustainability and healthiness, you should choose:\n",
            "\n",
            "Recipe: Cauliflower, Swiss Chard, and Chicken Soup\n"
          ]
        },
        {
          "name": "stderr",
          "output_type": "stream",
          "text": [
            "Processing Titles embeddings: 100%|██████████| 1/1 [00:00<00:00, 81.78batch/s]\n"
          ]
        },
        {
          "name": "stdout",
          "output_type": "stream",
          "text": [
            "Tags to match: ['main-dish', 'beef', 'meat']\n",
            "Number of filtered recipes: 28937\n",
            "From most to least recommended based on sustainability and healthiness:\n",
            "\n",
            "1. Recipe: Spagagña\n",
            "2. Recipe: \"string Pie\"\n",
            "3. Recipe: Saucy Spaghetti Pie\n",
            "4. Recipe: Famous Meatloaf\n",
            "5. Recipe: Gramma's Meatloaf\n",
            "\n",
            "Choose \"Spagagña.\"\n"
          ]
        },
        {
          "name": "stderr",
          "output_type": "stream",
          "text": [
            "Processing Titles embeddings: 100%|██████████| 1/1 [00:00<00:00, 91.70batch/s]\n"
          ]
        },
        {
          "name": "stdout",
          "output_type": "stream",
          "text": [
            "Tags to match: ['main-dish', 'beef', 'meat']\n",
            "Number of filtered recipes: 28937\n",
            "1. Recipe: Chicken and Vegetable Bean Soup\n",
            "2. Recipe: Spicy Black-Eyed Pea Skillet\n",
            "3. Recipe: Easy Mediterranean Chicken\n",
            "4. Recipe: Taco in a Bowl\n",
            "5. Recipe: Picky Mike's Goulash\n",
            "6. Recipe: Aunt Annie's Chicken Chili\n",
            "7. Recipe: Rogene's Taco Soup\n",
            "8. Recipe: Simple Cincinnati Chili\n",
            "9. Recipe: Slow-Cooker Hearty Beef Chili\n",
            "10. Recipe: Taco Chili (Paula Deen)\n",
            "\n",
            "Based on a balance of sustainability and healthiness, you should choose the recipe for Chicken and Vegetable Bean Soup.\n"
          ]
        },
        {
          "name": "stderr",
          "output_type": "stream",
          "text": [
            "Processing Titles embeddings: 100%|██████████| 1/1 [00:00<00:00, 103.94batch/s]\n"
          ]
        },
        {
          "name": "stdout",
          "output_type": "stream",
          "text": [
            "Tags to match: ['main-dish', 'beef', 'meat']\n",
            "Number of filtered recipes: 28937\n",
            "1. Recipe: Shrimp & Grits\n",
            "\n",
            "2. Recipe: Greek Feta Casserole\n",
            "\n",
            "3. Recipe: Very Tasty Swedish Meatballs\n",
            "\n",
            "4. Recipe: Crunchy Parmesan Chicken\n",
            "\n",
            "5. Recipe: Clams Au Gratin\n",
            "\n",
            "6. Recipe: Simple Chicken Cordon Bleu\n",
            "\n",
            "7. Recipe: Low Carb Cheeseburger Quiche\n",
            "\n",
            "8. Recipe: Low Carb White Castle Casserole\n",
            "\n",
            "Based on a balance of sustainability and healthiness, you should choose: Shrimp & Grits.\n"
          ]
        },
        {
          "name": "stderr",
          "output_type": "stream",
          "text": [
            "Processing Titles embeddings: 100%|██████████| 1/1 [00:00<00:00, 76.74batch/s]\n"
          ]
        },
        {
          "name": "stdout",
          "output_type": "stream",
          "text": [
            "Tags to match: ['main-dish', 'beef', 'meat']\n",
            "Number of filtered recipes: 28937\n",
            "I recommend choosing the \"30 Minute Chicken and Rice Dinner by Accident\" recipe.\n"
          ]
        },
        {
          "name": "stderr",
          "output_type": "stream",
          "text": [
            "Processing Titles embeddings: 100%|██████████| 1/1 [00:00<00:00, 82.46batch/s]\n"
          ]
        },
        {
          "name": "stdout",
          "output_type": "stream",
          "text": [
            "Tags to match: ['main-dish', 'beef', 'pasta', 'meat', 'pasta-rice-and-grains']\n",
            "Number of filtered recipes: 34345\n",
            "Based on a balance of sustainability and healthiness, I recommend choosing the \"Shepherd’s Pie Jackets\" recipe.\n"
          ]
        },
        {
          "name": "stderr",
          "output_type": "stream",
          "text": [
            "Processing Titles embeddings: 100%|██████████| 1/1 [00:00<00:00, 88.40batch/s]\n"
          ]
        },
        {
          "name": "stdout",
          "output_type": "stream",
          "text": [
            "Tags to match: ['main-dish', 'beef', 'meat']\n",
            "Number of filtered recipes: 28937\n",
            "Based on a balance of sustainability and healthiness, the most recommended recipe is: Recipe: Broccoli Chicken Divan Cups.\n"
          ]
        },
        {
          "name": "stderr",
          "output_type": "stream",
          "text": [
            "Processing Titles embeddings: 100%|██████████| 1/1 [00:00<00:00, 83.06batch/s]\n"
          ]
        },
        {
          "name": "stdout",
          "output_type": "stream",
          "text": [
            "Tags to match: ['main-dish']\n",
            "Number of filtered recipes: 24622\n",
            "Here are the recipes ranked based on sustainability and healthiness:\n",
            "\n",
            "1. Recipe: shrimp w/shredded zucchini\n",
            "2. Recipe: Sausage Brunch Bake\n",
            "3. Recipe: Chicken Loaf With Mushroom Sauce\n",
            "4. Recipe: Shrimp Quickie\n",
            "5. Recipe: Salisbury Steak for 2\n",
            "\n",
            "You should choose the \"shrimp w/shredded zucchini\" recipe.\n"
          ]
        },
        {
          "name": "stderr",
          "output_type": "stream",
          "text": [
            "Processing Titles embeddings: 100%|██████████| 1/1 [00:00<00:00, 62.44batch/s]\n"
          ]
        },
        {
          "name": "stdout",
          "output_type": "stream",
          "text": [
            "Tags to match: ['main-dish', 'beef', 'meat']\n",
            "Number of filtered recipes: 28937\n",
            "I recommend choosing the **Recipe: Chicken, Lentil, Potato Curry**.\n"
          ]
        },
        {
          "name": "stderr",
          "output_type": "stream",
          "text": [
            "Processing Titles embeddings: 100%|██████████| 1/1 [00:00<00:00, 73.55batch/s]\n"
          ]
        },
        {
          "name": "stdout",
          "output_type": "stream",
          "text": [
            "Tags to match: ['main-dish', 'beef', 'meat']\n",
            "Number of filtered recipes: 28937\n",
            "1. Recipe: Klein's Chicken\n",
            "2. Recipe: Pork Chops With Orange Rice\n",
            "3. Recipe: Korean Barbecue Burgers\n",
            "4. Recipe: Easy Italian BBQ Chicken Pizza\n",
            "5. Recipe: 20 Minute Pork Chops Mornay\n",
            "6. Recipe: German-Style Hamburgers\n",
            "7. Recipe: Iowa-Style Loose Meat Sandwiches\n",
            "8. Recipe: B-B-Q Meatloaf\n",
            "9. Recipe: Country Sloppy Joes\n",
            "10. Recipe: Star-Spangled Cheeseburgers\n",
            "\n",
            "You should choose \"Klein's Chicken\".\n"
          ]
        },
        {
          "name": "stderr",
          "output_type": "stream",
          "text": [
            "Processing Titles embeddings: 100%|██████████| 1/1 [00:00<00:00, 84.84batch/s]\n"
          ]
        },
        {
          "name": "stdout",
          "output_type": "stream",
          "text": [
            "Tags to match: ['main-dish', 'beef', 'meat']\n",
            "Number of filtered recipes: 28937\n",
            "1. Recipe: Pesto Penne With Roasted Chicken\n",
            "2. Recipe: Low Sodium Simple Chili\n",
            "3. Recipe: Ratatouille Meatballs\n",
            "4. Recipe: Chocolate Chili with Apples\n",
            "5. Recipe: Cowboy Ground Chuck Stew\n",
            "6. Recipe: Dutch Oven Pork Chops And Potatoes\n",
            "7. Recipe: English Beef Stew and Dumplings\n",
            "8. Recipe: Pork Chop - Potato Casserole\n",
            "9. Recipe: Chicken With Black Beans over Pasta\n",
            "10. Recipe: Crock Pot Shipwreck Ground Beef Stew\n",
            "\n",
            "Based on sustainability and healthiness, you should choose \"Pesto Penne With Roasted Chicken.\"\n"
          ]
        },
        {
          "name": "stderr",
          "output_type": "stream",
          "text": [
            "Processing Titles embeddings: 100%|██████████| 1/1 [00:00<00:00, 82.69batch/s]\n"
          ]
        },
        {
          "name": "stdout",
          "output_type": "stream",
          "text": [
            "Tags to match: ['main-dish', 'beef', 'meat']\n",
            "Number of filtered recipes: 28937\n",
            "I recommend choosing the recipe for Chicken & Eggplant (Aubergine) Parmesan.\n"
          ]
        },
        {
          "name": "stderr",
          "output_type": "stream",
          "text": [
            "Processing Titles embeddings: 100%|██████████| 1/1 [00:00<00:00, 79.02batch/s]\n"
          ]
        },
        {
          "name": "stdout",
          "output_type": "stream",
          "text": [
            "Tags to match: ['main-dish', 'beef', 'meat']\n",
            "Number of filtered recipes: 28937\n",
            "1. Recipe: Lamb Stew (Navarin of Lamb)  \n",
            "2. Recipe: Spicy Grilled Tilapia W/ Creamy Grits or Rice and Mushroom Sauce  \n",
            "3. Recipe: Potato-Topped Beef Casserole  \n",
            "4. Recipe: Guacamole Cheeseburgers\n"
          ]
        },
        {
          "name": "stderr",
          "output_type": "stream",
          "text": [
            "Processing Titles embeddings: 100%|██████████| 1/1 [00:00<00:00, 81.95batch/s]\n"
          ]
        },
        {
          "name": "stdout",
          "output_type": "stream",
          "text": [
            "Tags to match: ['main-dish', 'beef', 'meat']\n",
            "Number of filtered recipes: 28937\n",
            "The recommended recipe is: Nutty Drunken Cod\n"
          ]
        },
        {
          "name": "stderr",
          "output_type": "stream",
          "text": [
            "Processing Titles embeddings: 100%|██████████| 1/1 [00:00<00:00, 80.97batch/s]\n"
          ]
        },
        {
          "name": "stdout",
          "output_type": "stream",
          "text": [
            "Tags to match: ['appetizers', 'seafood']\n",
            "Number of filtered recipes: 11479\n",
            "1. New Orleans Spinach Garlic Bread\n",
            "2. Italian Egg Rolls\n",
            "3. Mock Sliders (White Castles)\n",
            "4. Fried Mozzarella Wedges W/ Homemade Marinara\n",
            "5. Open-Face Crab and Artichoke Melt\n",
            "6. Recipe: Jan's Pizza Bread\n",
            "7. Shrimp Caesar Sandwich\n",
            "8. Buffalo Wing Tuna Sandwich\n",
            "9. Arielle's Favorite Tuna Casserole\n",
            "10. TOASTED BUTTERY TUNA MELT!!!\n",
            "\n",
            "Choose New Orleans Spinach Garlic Bread.\n"
          ]
        },
        {
          "name": "stderr",
          "output_type": "stream",
          "text": [
            "Processing Titles embeddings: 100%|██████████| 1/1 [00:00<00:00, 60.09batch/s]\n"
          ]
        },
        {
          "name": "stdout",
          "output_type": "stream",
          "text": [
            "Tags to match: ['main-dish', 'beef', 'meat']\n",
            "Number of filtered recipes: 28937\n",
            "1. Recipe: Chicken, Asparagus and Caramelized Onions\n",
            "2. Recipe: Basil Chicken With Broccoli\n",
            "3. Recipe: Light and Tangy Chicken and Feta Salad\n",
            "4. Recipe: Roasted Chicken, Artichoke, Feta and Orzo Salad\n",
            "5. Recipe: Low-Carb Slaw\n",
            "6. Recipe: Zucchini-Beef Italian\n",
            "7. Recipe: Beef - Mushroom Ragu over Fresh Cheese Ravioli\n",
            "8. Recipe: Stuffed Bell Pepper Casserole\n",
            "9. Recipe: Ricardo's Bolognese Sauce\n",
            "10. Recipe: Boursin Cheese and Bacon Stuffed Chicken Breasts - for Two!\n",
            "\n",
            "I recommend you choose \"Chicken, Asparagus and Caramelized Onions.\"\n"
          ]
        },
        {
          "name": "stderr",
          "output_type": "stream",
          "text": [
            "Processing Titles embeddings: 100%|██████████| 1/1 [00:00<00:00, 79.46batch/s]\n"
          ]
        },
        {
          "name": "stdout",
          "output_type": "stream",
          "text": [
            "Tags to match: ['main-dish', 'beef', 'meat']\n",
            "Number of filtered recipes: 28937\n",
            "Based on a balance of sustainability and healthiness, the most recommended recipe is \"Chicken Scaloppine With Saffron Cream Sauce - Giada\".\n"
          ]
        },
        {
          "name": "stderr",
          "output_type": "stream",
          "text": [
            "Processing Titles embeddings: 100%|██████████| 1/1 [00:00<00:00, 71.53batch/s]\n"
          ]
        },
        {
          "name": "stdout",
          "output_type": "stream",
          "text": [
            "Tags to match: ['main-dish', 'beef', 'meat']\n",
            "Number of filtered recipes: 28937\n",
            "Italian Greens and Beans With Sausage Variation\n"
          ]
        },
        {
          "name": "stderr",
          "output_type": "stream",
          "text": [
            "Processing Titles embeddings: 100%|██████████| 1/1 [00:00<00:00, 84.58batch/s]\n"
          ]
        },
        {
          "name": "stdout",
          "output_type": "stream",
          "text": [
            "Tags to match: ['main-dish']\n",
            "Number of filtered recipes: 24622\n",
            "66181. Recipe: Broccoli, Spinach and Chicken Casserole\n"
          ]
        },
        {
          "name": "stderr",
          "output_type": "stream",
          "text": [
            "Processing Titles embeddings: 100%|██████████| 1/1 [00:00<00:00, 81.63batch/s]\n"
          ]
        },
        {
          "name": "stdout",
          "output_type": "stream",
          "text": [
            "Tags to match: ['main-dish', 'pasta', 'pasta-rice-and-grains']\n",
            "Number of filtered recipes: 30436\n",
            "1. Recipe: Skinny Cajun Chicken Penne\n",
            "2. Recipe: Chicken Couscous With Sun-Dried Tomatoes\n",
            "3. Recipe: Welsh Chicken, Leek and Broccoli Casserole\n",
            "4. Recipe: Pico De Gallo Seared Ahi\n",
            "\n",
            "Choose: Skinny Cajun Chicken Penne\n"
          ]
        },
        {
          "name": "stderr",
          "output_type": "stream",
          "text": [
            "Processing Titles embeddings: 100%|██████████| 1/1 [00:00<00:00, 62.97batch/s]\n"
          ]
        },
        {
          "name": "stdout",
          "output_type": "stream",
          "text": [
            "Tags to match: ['main-dish', 'beef', 'meat']\n",
            "Number of filtered recipes: 28937\n",
            "1. Recipe: Malay Marinade for Grilled Pork\n",
            "2. Recipe: Uncle Bill's Salmon Marinated in Maple Syrup and Soy Sauce\n",
            "3. Recipe: Christmas Ham in the Slow Cooker\n",
            "\n",
            "Choose: Malay Marinade for Grilled Pork\n"
          ]
        },
        {
          "name": "stderr",
          "output_type": "stream",
          "text": [
            "Processing Titles embeddings: 100%|██████████| 1/1 [00:00<00:00, 78.15batch/s]\n"
          ]
        },
        {
          "name": "stdout",
          "output_type": "stream",
          "text": [
            "Tags to match: ['main-dish', 'beef', 'rice', 'meat', 'pasta-rice-and-grains']\n",
            "Number of filtered recipes: 34344\n",
            "Based on a balance of sustainability and healthiness, the recommended recipe to choose is: \n",
            "\n",
            "84532. Recipe: Cheesy Eggplant (Aubergine) Marinara\n"
          ]
        },
        {
          "name": "stderr",
          "output_type": "stream",
          "text": [
            "Processing Titles embeddings: 100%|██████████| 1/1 [00:00<00:00, 80.82batch/s]\n"
          ]
        },
        {
          "name": "stdout",
          "output_type": "stream",
          "text": [
            "Tags to match: ['main-dish', 'beef', 'meat']\n",
            "Number of filtered recipes: 28937\n",
            "Based on a balance of sustainability and healthiness, I recommend the recipe: Zucchini Beef Italiano.\n"
          ]
        },
        {
          "name": "stderr",
          "output_type": "stream",
          "text": [
            "Processing Titles embeddings: 100%|██████████| 1/1 [00:00<00:00, 91.76batch/s]\n"
          ]
        },
        {
          "name": "stdout",
          "output_type": "stream",
          "text": [
            "Tags to match: ['main-dish', 'beef', 'meat']\n",
            "Number of filtered recipes: 28937\n",
            "1. Recipe: Cheesy Asparagus Casserole\n",
            "2. Recipe: Ham and Cheese Savory Dutch Baby\n",
            "3. Recipe: Richard Anderson's Special Scrambled Eggs\n",
            "4. Recipe: Chile Relleno Omelet\n",
            "5. Recipe: Frittata Di Spaghetti (Spaghetti Omelet)\n",
            "6. Recipe: Sausage and Pepper Frittata\n",
            "7. Recipe: Camper's Breakfast Hash\n",
            "8. Recipe: Brie & Bacon Omelet (Treasure Trove #10)\n",
            "9. Recipe: Ham Omelet Deluxe\n",
            "10. Recipe: Eggs for Dinner\n",
            "\n",
            "Choose: Cheesy Asparagus Casserole\n"
          ]
        },
        {
          "name": "stderr",
          "output_type": "stream",
          "text": [
            "Processing Titles embeddings: 100%|██████████| 1/1 [00:00<00:00, 56.92batch/s]\n"
          ]
        },
        {
          "name": "stdout",
          "output_type": "stream",
          "text": [
            "Tags to match: ['main-dish', 'beef', 'meat']\n",
            "Number of filtered recipes: 28937\n",
            "1. Recipe: Chicken Salad With Grapes and Apples\n"
          ]
        },
        {
          "name": "stderr",
          "output_type": "stream",
          "text": [
            "Processing Titles embeddings: 100%|██████████| 1/1 [00:00<00:00, 88.12batch/s]\n"
          ]
        },
        {
          "name": "stdout",
          "output_type": "stream",
          "text": [
            "Tags to match: ['appetizers', 'main-dish', 'beef', 'meat']\n",
            "Number of filtered recipes: 34526\n",
            "1. Recipe: Ziti With Sausage and Broccoli\n",
            "2. Recipe: Southwestern Pita Pockets\n",
            "3. Recipe: Quick Cheesy Chicken Enchiladas\n",
            "4. Recipe: Baked Spaghetti (Cheesy & Spicy)\n",
            "5. Recipe: Mom's Hammy Macaroni N' Cheese\n",
            "6. Recipe: Creamy Cheesy Ham and Pasta\n",
            "7. Recipe: Spicy Salsa Mac & Beef\n",
            "8. Recipe: Ground Beef Oriental\n",
            "9. Recipe: Grilled Ham and Gouda Sandwich W/Caramelized Onions\n",
            "\n",
            "Based on a balance of sustainability and healthiness, you should choose the \"Ziti With Sausage and Broccoli\" recipe.\n"
          ]
        },
        {
          "name": "stderr",
          "output_type": "stream",
          "text": [
            "Processing Titles embeddings: 100%|██████████| 1/1 [00:00<00:00, 78.68batch/s]\n"
          ]
        },
        {
          "name": "stdout",
          "output_type": "stream",
          "text": [
            "Tags to match: ['main-dish', 'beef', 'meat']\n",
            "Number of filtered recipes: 28937\n",
            "1. Chicken Meatballs with Tomato Ginger Sauce\n",
            "2. Mother and Child Reunion\n",
            "3. Alabama White Barbecue\n",
            "4. Irish Pub Meatloaf\n",
            "5. Kittencal's Rotisserie Chicken for the Grill (Or Small Turkey)\n",
            "6. Chicken and Cheese Pie\n",
            "7. Meatloaf My Version\n",
            "8. Pucker-Up Chicken\n",
            "9. Southern Fried Chicken with Cream Gravy\n",
            "10. Bacon Cheeseburger Balls\n",
            "\n",
            "Based on a balance of sustainability and healthiness, you should choose \"Chicken Meatballs with Tomato Ginger Sauce\".\n"
          ]
        },
        {
          "name": "stderr",
          "output_type": "stream",
          "text": [
            "Processing Titles embeddings: 100%|██████████| 1/1 [00:00<00:00, 79.52batch/s]\n"
          ]
        },
        {
          "name": "stdout",
          "output_type": "stream",
          "text": [
            "Tags to match: ['main-dish', 'beef', 'meat']\n",
            "Number of filtered recipes: 28937\n",
            "I recommend choosing the \"Asparagus Penne\" recipe.\n"
          ]
        },
        {
          "name": "stderr",
          "output_type": "stream",
          "text": [
            "Processing Titles embeddings: 100%|██████████| 1/1 [00:00<00:00, 86.40batch/s]\n"
          ]
        },
        {
          "name": "stdout",
          "output_type": "stream",
          "text": [
            "Tags to match: ['main-dish', 'meat']\n",
            "Number of filtered recipes: 28937\n",
            "Based on a balance of sustainability and healthiness, you should choose the \"Low Carb Savory Italian Grilled Chicken\" recipe (71519).\n"
          ]
        },
        {
          "name": "stderr",
          "output_type": "stream",
          "text": [
            "Processing Titles embeddings: 100%|██████████| 1/1 [00:00<00:00, 79.68batch/s]\n"
          ]
        },
        {
          "name": "stdout",
          "output_type": "stream",
          "text": [
            "Tags to match: ['main-dish', 'beef', 'meat']\n",
            "Number of filtered recipes: 28937\n",
            "1. Recipe: Easy Chicken Almondine\n",
            "2. Recipe: Alice's Baked Chicken Breast\n",
            "3. Recipe: Baked Chicken and Wine\n",
            "4. Recipe: Clahan's Jersey Beef\n",
            "5. Recipe: Beef Dinner\n",
            "6. Recipe: Pastitsio (Better Than Spaghetti)\n",
            "7. Recipe: Pollo Fundido\n",
            "8. Recipe: Linda's Tagborinni\n",
            "9. Recipe: Simply Delicious Lasagna\n",
            "10. Recipe: Creamy Cheesy Lobster Cavatappi\n",
            "\n",
            "Choose \"Easy Chicken Almondine\".\n"
          ]
        },
        {
          "name": "stderr",
          "output_type": "stream",
          "text": [
            "Processing Titles embeddings: 100%|██████████| 1/1 [00:00<00:00, 79.41batch/s]\n"
          ]
        },
        {
          "name": "stdout",
          "output_type": "stream",
          "text": [
            "Tags to match: ['main-dish', 'pasta', 'pasta-rice-and-grains']\n",
            "Number of filtered recipes: 30436\n",
            "Here is the recommended recipe based on a balance of sustainability and healthiness:\n",
            "\n",
            "93259. Recipe: Easy Crock Pot Lasagna\n"
          ]
        },
        {
          "name": "stderr",
          "output_type": "stream",
          "text": [
            "Processing Titles embeddings: 100%|██████████| 1/1 [00:00<00:00, 59.83batch/s]\n"
          ]
        },
        {
          "name": "stdout",
          "output_type": "stream",
          "text": [
            "Tags to match: ['main-dish', 'beef', 'rice', 'meat', 'pasta-rice-and-grains']\n",
            "Number of filtered recipes: 34344\n",
            "1. Sensational Spinach Stuffed Shells\n",
            "2. Beef Lombardi\n",
            "3. Stuffed Bell Pepper Stew\n",
            "4. Almost Taco Bell Famous Tacos (In Our House!!)\n",
            "5. Chicken Soup With Gouda\n",
            "6. Yum Nua - Thai Beef Salad\n",
            "7. Wor Won Ton Soup\n",
            "8. Cheesy Ham and Sweet Potato Casserole\n",
            "9. Quick Ham and Potato Scallop\n",
            "10. Rice and Ham Casserole\n",
            "\n",
            "Choose: Sensational Spinach Stuffed Shells\n"
          ]
        }
      ],
      "source": [
        "import json\n",
        "import pandas as pd\n",
        "\n",
        "# Assumi che 'SustainaMeal', 'acceptable_tags', 'nutrients_string', e 'recipe_titles' siano definiti\n",
        "\n",
        "# Parametri per gli esperimenti\n",
        "k_values = [10]\n",
        "match_all_tags_values = [False]\n",
        "\n",
        "# Funzione ausiliaria per convertire oggetti in formati serializzabili in JSON\n",
        "def convert_to_serializable(obj):\n",
        "    if hasattr(obj, 'to_dict'):\n",
        "        return obj.to_dict('records')\n",
        "    elif hasattr(obj, 'tolist'):\n",
        "        return obj.tolist()\n",
        "    elif isinstance(obj, (list, dict, str, int, float, bool, type(None))):\n",
        "        return obj\n",
        "    else:\n",
        "        return str(obj)\n",
        "\n",
        "results = []  # Lista per raccogliere i risultati degli esperimenti\n",
        "\n",
        "for index, row in selected_recipes.iterrows():\n",
        "    input_recipe = row['title']\n",
        "    match_results = {}  # Dizionario per memorizzare i risultati di match per ogni k\n",
        "    for k in k_values:\n",
        "        match_results[k] = {'exact_match': False, 'match_count': 0}  # Inizializza il conteggio e il match esatto per ogni k\n",
        "        for match_all_tags in match_all_tags_values:\n",
        "            try:\n",
        "                similar_recipes = sm.find_similar_recipes(input_recipe, k, acceptable_tags=acceptable_tags, match_all_tags=match_all_tags)\n",
        "                ordered_recipes = sm.order_recipe_by_sustainameal()\n",
        "                ordered_recipes_gpt = sm.order_recipe_by_sustainameal()\n",
        "\n",
        "                best_choice_by_gpt = sm.choose_best_recipe_with_gpt()\n",
        "                gpt_choice_match = ordered_recipes.iloc[0]['title'] == best_choice_by_gpt\n",
        "                if gpt_choice_match:\n",
        "                    match_results[k]['match_count'] += 1\n",
        "                    if match_all_tags:  # Se consideri importante il match quando match_all_tags è True\n",
        "                        match_results[k]['exact_match'] = True\n",
        "                result = {\n",
        "                    'recipe_name': input_recipe,\n",
        "                    'recipe_id': row['recipe_id'],\n",
        "                    'sustnability_score': row['sustainability_score'],\n",
        "                    'sustnability_label': row['sustainability_label'],\n",
        "                    'who_score': row['who_score'],\n",
        "                    'healthiness_label': row['healthiness_label'],\n",
        "                    'k': k,\n",
        "                    'nutrients': nutrients_string,\n",
        "                    'match_all_tags': match_all_tags,\n",
        "                    'gpt_choice': best_choice_by_gpt,\n",
        "                    'similar_recipes': convert_to_serializable(similar_recipes) if similar_recipes is not None else None,\n",
        "                    'ordered_by_sustainameal': convert_to_serializable(ordered_recipes) if ordered_recipes is not None else None\n",
        "                }\n",
        "                results.append(result)\n",
        "            except Exception as e:\n",
        "                print(f\"An error occurred while finding similar recipes: {e}\")\n",
        "                best_choice_by_gpt = None\n",
        "\n",
        "\n",
        "\n",
        "    # Calcola la percentuale di similarità per ogni k e aggiungi ai risultati\n",
        "    # for k, match_info in match_results.items():\n",
        "    #     match_info['similarity_percentage'] = (match_info['match_count'] / len(match_all_tags_values)) * 100\n",
        "    #     results.append({\n",
        "    #         'recipe_name': input_recipe,\n",
        "    #         'k': k,\n",
        "    #         'exact_match': match_info['exact_match'],\n",
        "    #         'similarity_percentage': match_info['similarity_percentage']\n",
        "    #     })\n",
        "\n",
        "# Salva i risultati in un file JSON\n",
        "with open('experiment_results_with_gpt_and_similarity_k_10.json', 'w') as f:\n",
        "    json.dump(results, f, ensure_ascii=False, indent=4)\n"
      ]
    },
    {
      "cell_type": "code",
      "execution_count": 17,
      "metadata": {
        "colab": {
          "base_uri": "https://localhost:8080/"
        },
        "id": "68H-RVuATU0R",
        "outputId": "9da67a15-6445-4e6e-8037-958ec4acabcd"
      },
      "outputs": [
        {
          "data": {
            "text/plain": [
              "100"
            ]
          },
          "execution_count": 17,
          "metadata": {},
          "output_type": "execute_result"
        }
      ],
      "source": [
        "len(results)"
      ]
    },
    {
      "cell_type": "code",
      "execution_count": 18,
      "metadata": {
        "id": "SMH3G-oyGAGW"
      },
      "outputs": [],
      "source": [
        "import json\n",
        "import pandas as pd\n",
        "\n",
        "# Carica i dati dal file JSON\n",
        "with open('experiment_results_with_gpt_and_similarity_k_10.json', 'r') as file:\n",
        "    experiment_data = json.load(file)\n",
        "\n",
        "# Converti i dati in un DataFrame\n",
        "experiment_df = pd.DataFrame(experiment_data)\n",
        "\n",
        "# Assumiamo di avere gli ID delle ricette per ogni sottogruppo\n",
        "sustainability_label_2_ids = sustainability_label_2_recipes['recipe_id'].unique()\n"
      ]
    },
    {
      "cell_type": "code",
      "execution_count": 19,
      "metadata": {
        "colab": {
          "base_uri": "https://localhost:8080/"
        },
        "id": "jJ7MaGIuSi47",
        "outputId": "ba6fdf09-ccfa-423b-f836-0ab6a6bd6f19"
      },
      "outputs": [
        {
          "name": "stdout",
          "output_type": "stream",
          "text": [
            "   top_healthiness_increment_mean  top_sustainability_increment_mean  \\\n",
            "0                       15.833658                          90.176623   \n",
            "\n",
            "   top_sustainameal_score_increment_mean  gpt_rerank   k  \n",
            "0                              72.819732        True  10  \n"
          ]
        }
      ],
      "source": [
        "import json\n",
        "import pandas as pd\n",
        "\n",
        "# Carica i dati dal file JSON\n",
        "with open('experiment_results_with_gpt_and_similarity_k_10.json', 'r') as file:\n",
        "    experiment_data = json.load(file)\n",
        "\n",
        "# Converti i dati in un DataFrame\n",
        "experiment_df = pd.DataFrame(experiment_data)\n",
        "\n",
        "# Estrai solo le entrate dove GPT ha fatto una scelta\n",
        "gpt_choices_df = experiment_df.dropna(subset=['gpt_choice'])\n",
        "\n",
        "# Inizializza i contatori per gli incrementi\n",
        "healthiness_increments = []\n",
        "sustainability_increments = []\n",
        "sustainameal_score_increments = []\n",
        "\n",
        "# Calcola gli incrementi solo per le scelte di GPT\n",
        "for index, row in gpt_choices_df.iterrows():\n",
        "    for ordered_recipe in row['ordered_by_sustainameal']:\n",
        "        if ordered_recipe['title'] == row['gpt_choice']:\n",
        "            healthiness_increments.append(ordered_recipe['healthiness_increment'])\n",
        "            sustainability_increments.append(ordered_recipe['sustainability_increment'])\n",
        "            sustainameal_score_increments.append(ordered_recipe['sustainameal_score_increment'])\n",
        "            break  # Interrompi il ciclo dopo aver trovato la corrispondenza\n",
        "\n",
        "# Calcola le medie degli incrementi per le scelte di GPT\n",
        "average_healthiness_increment = sum(healthiness_increments) / len(healthiness_increments) if healthiness_increments else None\n",
        "average_sustainability_increment = sum(sustainability_increments) / len(sustainability_increments) if sustainability_increments else None\n",
        "average_sustainameal_score_increment = sum(sustainameal_score_increments) / len(sustainameal_score_increments) if sustainameal_score_increments else None\n",
        "\n",
        "# Crea un DataFrame con una riga contenente le medie e la colonna gpt_rerank impostata a True\n",
        "gpt_results_df = pd.DataFrame({\n",
        "    'top_healthiness_increment_mean': [average_healthiness_increment],\n",
        "    'top_sustainability_increment_mean': [average_sustainability_increment],\n",
        "    'top_sustainameal_score_increment_mean': [average_sustainameal_score_increment],\n",
        "    'gpt_rerank': [True],\n",
        "    'k':10,\n",
        "})\n",
        "\n",
        "# Stampa il DataFrame dei risultati\n",
        "print(gpt_results_df)\n"
      ]
    },
    {
      "cell_type": "code",
      "execution_count": 20,
      "metadata": {
        "colab": {
          "base_uri": "https://localhost:8080/"
        },
        "id": "1_s12YsoZQP0",
        "outputId": "6beb0b01-f977-4603-8c47-a3fe96c90aeb"
      },
      "outputs": [
        {
          "name": "stdout",
          "output_type": "stream",
          "text": [
            "   top_healthiness_increment_mean  top_sustainability_increment_mean  \\\n",
            "0                       16.424224                            139.866   \n",
            "\n",
            "   top_sustainameal_score_increment_mean  gpt_rerank   k  \n",
            "0                             111.424199       False  10  \n"
          ]
        }
      ],
      "source": [
        "import json\n",
        "import pandas as pd\n",
        "\n",
        "# Carica i dati dal file JSON\n",
        "with open('experiment_results_with_gpt_and_similarity_k_10.json', 'r') as file:\n",
        "    experiment_data = json.load(file)\n",
        "\n",
        "# Converti i dati in un DataFrame\n",
        "experiment_df = pd.DataFrame(experiment_data)\n",
        "\n",
        "# Inizializza i contatori per gli incrementi\n",
        "top_healthiness_increments = []\n",
        "top_sustainability_increments = []\n",
        "top_sustainameal_score_increments = []\n",
        "\n",
        "# Calcola gli incrementi per le prime ricette in ordered_by_sustainameal\n",
        "for index, row in experiment_df.iterrows():\n",
        "    if row['ordered_by_sustainameal']:  # Controlla se la lista non è vuota\n",
        "        top_recipe = row['ordered_by_sustainameal'][0]  # Prende sempre la prima ricetta\n",
        "        top_healthiness_increments.append(top_recipe['healthiness_increment'])\n",
        "        top_sustainability_increments.append(top_recipe['sustainability_increment'])\n",
        "        top_sustainameal_score_increments.append(top_recipe['sustainameal_score_increment'])\n",
        "\n",
        "# Calcola le medie degli incrementi per le prime ricette\n",
        "average_top_healthiness_increment = sum(top_healthiness_increments) / len(top_healthiness_increments) if top_healthiness_increments else None\n",
        "average_top_sustainability_increment = sum(top_sustainability_increments) / len(top_sustainability_increments) if top_sustainability_increments else None\n",
        "average_top_sustainameal_score_increment = sum(top_sustainameal_score_increments) / len(top_sustainameal_score_increments) if top_sustainameal_score_increments else None\n",
        "\n",
        "# Crea un DataFrame con una riga contenente le medie\n",
        "top_results_df_10 = pd.DataFrame({\n",
        "    'top_healthiness_increment_mean': [average_top_healthiness_increment],\n",
        "    'top_sustainability_increment_mean': [average_top_sustainability_increment],\n",
        "    'top_sustainameal_score_increment_mean': [average_top_sustainameal_score_increment],\n",
        "    'gpt_rerank': [False],\n",
        "    'k':10,\n",
        "})\n",
        "\n",
        "# Stampa il DataFrame dei risultati\n",
        "print(top_results_df_10)\n"
      ]
    },
    {
      "cell_type": "code",
      "execution_count": 21,
      "metadata": {
        "colab": {
          "base_uri": "https://localhost:8080/"
        },
        "id": "188imWteTtlX",
        "outputId": "221b8a28-357e-4103-8b4c-62401866fb7a"
      },
      "outputs": [
        {
          "name": "stdout",
          "output_type": "stream",
          "text": [
            "Corrispondenze esatte: 5\n",
            "Percentuale di corrispondenza esatta con GPT: 7.462686567164178%\n"
          ]
        }
      ],
      "source": [
        "import json\n",
        "import pandas as pd\n",
        "\n",
        "# Carica i dati dal file JSON\n",
        "with open('experiment_results_with_gpt_and_similarity_k_10.json', 'r') as file:\n",
        "    experiment_data = json.load(file)\n",
        "\n",
        "# Converti i dati in un DataFrame\n",
        "experiment_df = pd.DataFrame(experiment_data)\n",
        "\n",
        "# Filtra per gli esperimenti in cui GPT ha fatto una scelta\n",
        "gpt_choices_df = experiment_df.dropna(subset=['gpt_choice'])\n",
        "\n",
        "# Calcola le corrispondenze esatte\n",
        "exact_matches = gpt_choices_df.apply(lambda row: row['ordered_by_sustainameal'][0]['title'] == row['gpt_choice'], axis=1)\n",
        "\n",
        "# Calcola la percentuale di corrispondenze esatte\n",
        "exact_match_count = exact_matches.sum()\n",
        "total_choices = len(gpt_choices_df)\n",
        "exact_match_percentage = (exact_match_count / total_choices * 100) if total_choices > 0 else 0\n",
        "\n",
        "# Stampa il conteggio delle corrispondenze esatte e la percentuale\n",
        "print(f\"Corrispondenze esatte: {exact_match_count}\")\n",
        "print(f\"Percentuale di corrispondenza esatta con GPT: {exact_match_percentage}%\")\n"
      ]
    },
    {
      "cell_type": "code",
      "execution_count": 22,
      "metadata": {
        "colab": {
          "base_uri": "https://localhost:8080/"
        },
        "id": "z6g7LiezZudm",
        "outputId": "00b7a187-2514-4cb0-cdc7-fdd0f00eda56"
      },
      "outputs": [
        {
          "name": "stderr",
          "output_type": "stream",
          "text": [
            "Processing Titles embeddings: 100%|██████████| 1/1 [00:00<00:00, 54.88batch/s]"
          ]
        },
        {
          "name": "stderr",
          "output_type": "stream",
          "text": [
            "\n"
          ]
        },
        {
          "name": "stdout",
          "output_type": "stream",
          "text": [
            "Tags to match: ['main-dish', 'beef', 'meat']\n",
            "Number of filtered recipes: 28937\n"
          ]
        },
        {
          "name": "stderr",
          "output_type": "stream",
          "text": [
            "Processing Titles embeddings: 100%|██████████| 1/1 [00:00<00:00, 89.09batch/s]\n"
          ]
        },
        {
          "name": "stdout",
          "output_type": "stream",
          "text": [
            "Tags to match: ['main-dish', 'meat', 'pasta-rice-and-grains']\n",
            "Number of filtered recipes: 34344\n"
          ]
        },
        {
          "name": "stderr",
          "output_type": "stream",
          "text": [
            "Processing Titles embeddings: 100%|██████████| 1/1 [00:00<00:00, 86.07batch/s]\n"
          ]
        },
        {
          "name": "stdout",
          "output_type": "stream",
          "text": [
            "Tags to match: ['main-dish', 'beef', 'pasta', 'meat', 'pasta-rice-and-grains']\n",
            "Number of filtered recipes: 34345\n"
          ]
        },
        {
          "name": "stderr",
          "output_type": "stream",
          "text": [
            "Processing Titles embeddings: 100%|██████████| 1/1 [00:00<00:00, 84.14batch/s]\n"
          ]
        },
        {
          "name": "stdout",
          "output_type": "stream",
          "text": [
            "Tags to match: ['main-dish', 'beef', 'meat']\n",
            "Number of filtered recipes: 28937\n"
          ]
        },
        {
          "name": "stderr",
          "output_type": "stream",
          "text": [
            "Processing Titles embeddings: 100%|██████████| 1/1 [00:00<00:00, 92.66batch/s]\n"
          ]
        },
        {
          "name": "stdout",
          "output_type": "stream",
          "text": [
            "Tags to match: ['main-dish', 'beef', 'pasta', 'meat', 'pasta-rice-and-grains']\n",
            "Number of filtered recipes: 34345\n"
          ]
        },
        {
          "name": "stderr",
          "output_type": "stream",
          "text": [
            "Processing Titles embeddings: 100%|██████████| 1/1 [00:00<00:00, 80.64batch/s]\n"
          ]
        },
        {
          "name": "stdout",
          "output_type": "stream",
          "text": [
            "Tags to match: ['main-dish', 'beef', 'meat']\n",
            "Number of filtered recipes: 28937\n"
          ]
        },
        {
          "name": "stderr",
          "output_type": "stream",
          "text": [
            "Processing Titles embeddings: 100%|██████████| 1/1 [00:00<00:00, 64.71batch/s]\n"
          ]
        },
        {
          "name": "stdout",
          "output_type": "stream",
          "text": [
            "Tags to match: ['main-dish', 'pasta', 'pasta-rice-and-grains']\n",
            "Number of filtered recipes: 30436\n"
          ]
        },
        {
          "name": "stderr",
          "output_type": "stream",
          "text": [
            "Processing Titles embeddings: 100%|██████████| 1/1 [00:00<00:00, 103.00batch/s]\n"
          ]
        },
        {
          "name": "stdout",
          "output_type": "stream",
          "text": [
            "Tags to match: ['main-dish', 'beef', 'meat']\n",
            "Number of filtered recipes: 28937\n"
          ]
        },
        {
          "name": "stderr",
          "output_type": "stream",
          "text": [
            "Processing Titles embeddings: 100%|██████████| 1/1 [00:00<00:00, 98.56batch/s]\n"
          ]
        },
        {
          "name": "stdout",
          "output_type": "stream",
          "text": [
            "Tags to match: ['main-dish', 'beef', 'meat', 'pasta-rice-and-grains']\n",
            "Number of filtered recipes: 34344\n"
          ]
        },
        {
          "name": "stderr",
          "output_type": "stream",
          "text": [
            "Processing Titles embeddings: 100%|██████████| 1/1 [00:00<00:00, 90.96batch/s]\n"
          ]
        },
        {
          "name": "stdout",
          "output_type": "stream",
          "text": [
            "Tags to match: ['main-dish', 'beef', 'pasta', 'meat', 'pasta-rice-and-grains']\n",
            "Number of filtered recipes: 34345\n"
          ]
        },
        {
          "name": "stderr",
          "output_type": "stream",
          "text": [
            "Processing Titles embeddings: 100%|██████████| 1/1 [00:00<00:00, 86.69batch/s]\n"
          ]
        },
        {
          "name": "stdout",
          "output_type": "stream",
          "text": [
            "Tags to match: ['main-dish', 'beef', 'meat']\n",
            "Number of filtered recipes: 28937\n"
          ]
        },
        {
          "name": "stderr",
          "output_type": "stream",
          "text": [
            "Processing Titles embeddings: 100%|██████████| 1/1 [00:00<00:00, 97.28batch/s]\n"
          ]
        },
        {
          "name": "stdout",
          "output_type": "stream",
          "text": [
            "Tags to match: ['main-dish', 'beef', 'meat']\n",
            "Number of filtered recipes: 28937\n"
          ]
        },
        {
          "name": "stderr",
          "output_type": "stream",
          "text": [
            "Processing Titles embeddings: 100%|██████████| 1/1 [00:00<00:00, 91.04batch/s]\n"
          ]
        },
        {
          "name": "stdout",
          "output_type": "stream",
          "text": [
            "Tags to match: ['breakfast', 'main-dish', 'beef', 'meat']\n",
            "Number of filtered recipes: 34846\n"
          ]
        },
        {
          "name": "stderr",
          "output_type": "stream",
          "text": [
            "Processing Titles embeddings: 100%|██████████| 1/1 [00:00<00:00, 85.20batch/s]\n"
          ]
        },
        {
          "name": "stdout",
          "output_type": "stream",
          "text": [
            "Tags to match: ['main-dish', 'beef', 'meat']\n",
            "Number of filtered recipes: 28937\n"
          ]
        },
        {
          "name": "stderr",
          "output_type": "stream",
          "text": [
            "Processing Titles embeddings: 100%|██████████| 1/1 [00:00<00:00, 84.68batch/s]\n"
          ]
        },
        {
          "name": "stdout",
          "output_type": "stream",
          "text": [
            "Tags to match: ['main-dish', 'beef', 'meat']\n",
            "Number of filtered recipes: 28937\n"
          ]
        },
        {
          "name": "stderr",
          "output_type": "stream",
          "text": [
            "Processing Titles embeddings: 100%|██████████| 1/1 [00:00<00:00, 74.59batch/s]\n"
          ]
        },
        {
          "name": "stdout",
          "output_type": "stream",
          "text": [
            "Tags to match: ['main-dish', 'meat']\n",
            "Number of filtered recipes: 28937\n"
          ]
        },
        {
          "name": "stderr",
          "output_type": "stream",
          "text": [
            "Processing Titles embeddings: 100%|██████████| 1/1 [00:00<00:00, 86.23batch/s]\n"
          ]
        },
        {
          "name": "stdout",
          "output_type": "stream",
          "text": [
            "Tags to match: ['main-dish', 'beef', 'meat']\n",
            "Number of filtered recipes: 28937\n"
          ]
        },
        {
          "name": "stderr",
          "output_type": "stream",
          "text": [
            "Processing Titles embeddings: 100%|██████████| 1/1 [00:00<00:00, 80.44batch/s]\n"
          ]
        },
        {
          "name": "stdout",
          "output_type": "stream",
          "text": [
            "Tags to match: ['appetizers', 'main-dish', 'seafood']\n",
            "Number of filtered recipes: 32250\n"
          ]
        },
        {
          "name": "stderr",
          "output_type": "stream",
          "text": [
            "Processing Titles embeddings: 100%|██████████| 1/1 [00:00<00:00, 97.61batch/s]\n"
          ]
        },
        {
          "name": "stdout",
          "output_type": "stream",
          "text": [
            "Tags to match: ['appetizers', 'main-dish', 'beef', 'meat']\n",
            "Number of filtered recipes: 34526\n"
          ]
        },
        {
          "name": "stderr",
          "output_type": "stream",
          "text": [
            "Processing Titles embeddings: 100%|██████████| 1/1 [00:00<00:00, 98.46batch/s]\n"
          ]
        },
        {
          "name": "stdout",
          "output_type": "stream",
          "text": [
            "Tags to match: ['beef', 'meat']\n",
            "Number of filtered recipes: 17375\n"
          ]
        },
        {
          "name": "stderr",
          "output_type": "stream",
          "text": [
            "Processing Titles embeddings: 100%|██████████| 1/1 [00:00<00:00, 90.66batch/s]\n"
          ]
        },
        {
          "name": "stdout",
          "output_type": "stream",
          "text": [
            "Tags to match: ['main-dish', 'beef', 'meat']\n",
            "Number of filtered recipes: 28937\n"
          ]
        },
        {
          "name": "stderr",
          "output_type": "stream",
          "text": [
            "Processing Titles embeddings: 100%|██████████| 1/1 [00:00<00:00, 67.34batch/s]\n"
          ]
        },
        {
          "name": "stdout",
          "output_type": "stream",
          "text": [
            "Tags to match: ['appetizers', 'beef', 'meat']\n",
            "Number of filtered recipes: 23411\n"
          ]
        },
        {
          "name": "stderr",
          "output_type": "stream",
          "text": [
            "Processing Titles embeddings: 100%|██████████| 1/1 [00:00<00:00, 84.39batch/s]\n"
          ]
        },
        {
          "name": "stdout",
          "output_type": "stream",
          "text": [
            "Tags to match: ['main-dish', 'beef', 'meat']\n",
            "Number of filtered recipes: 28937\n"
          ]
        },
        {
          "name": "stderr",
          "output_type": "stream",
          "text": [
            "Processing Titles embeddings: 100%|██████████| 1/1 [00:00<00:00, 81.00batch/s]\n"
          ]
        },
        {
          "name": "stdout",
          "output_type": "stream",
          "text": [
            "Tags to match: ['beef', 'meat']\n",
            "Number of filtered recipes: 17375\n"
          ]
        },
        {
          "name": "stderr",
          "output_type": "stream",
          "text": [
            "Processing Titles embeddings: 100%|██████████| 1/1 [00:00<00:00, 99.19batch/s]\n"
          ]
        },
        {
          "name": "stdout",
          "output_type": "stream",
          "text": [
            "Tags to match: ['main-dish']\n",
            "Number of filtered recipes: 24622\n"
          ]
        },
        {
          "name": "stderr",
          "output_type": "stream",
          "text": [
            "Processing Titles embeddings: 100%|██████████| 1/1 [00:00<00:00, 105.01batch/s]\n"
          ]
        },
        {
          "name": "stdout",
          "output_type": "stream",
          "text": [
            "Tags to match: ['main-dish', 'beef', 'pasta', 'meat', 'pasta-rice-and-grains']\n",
            "Number of filtered recipes: 34345\n"
          ]
        },
        {
          "name": "stderr",
          "output_type": "stream",
          "text": [
            "Processing Titles embeddings: 100%|██████████| 1/1 [00:00<00:00, 85.08batch/s]\n"
          ]
        },
        {
          "name": "stdout",
          "output_type": "stream",
          "text": [
            "Tags to match: ['main-dish', 'beef', 'pasta', 'meat', 'pasta-rice-and-grains']\n",
            "Number of filtered recipes: 34345\n"
          ]
        },
        {
          "name": "stderr",
          "output_type": "stream",
          "text": [
            "Processing Titles embeddings: 100%|██████████| 1/1 [00:00<00:00, 77.52batch/s]\n"
          ]
        },
        {
          "name": "stdout",
          "output_type": "stream",
          "text": [
            "Tags to match: ['main-dish']\n",
            "Number of filtered recipes: 24622\n"
          ]
        },
        {
          "name": "stderr",
          "output_type": "stream",
          "text": [
            "Processing Titles embeddings: 100%|██████████| 1/1 [00:00<00:00, 81.87batch/s]\n"
          ]
        },
        {
          "name": "stdout",
          "output_type": "stream",
          "text": [
            "Tags to match: ['main-dish', 'beef', 'meat']\n",
            "Number of filtered recipes: 28937\n"
          ]
        },
        {
          "name": "stderr",
          "output_type": "stream",
          "text": [
            "Processing Titles embeddings: 100%|██████████| 1/1 [00:00<00:00, 94.42batch/s]\n"
          ]
        },
        {
          "name": "stdout",
          "output_type": "stream",
          "text": [
            "Tags to match: ['main-dish', 'beef', 'meat']\n",
            "Number of filtered recipes: 28937\n"
          ]
        },
        {
          "name": "stderr",
          "output_type": "stream",
          "text": [
            "Processing Titles embeddings: 100%|██████████| 1/1 [00:00<00:00, 91.36batch/s]\n"
          ]
        },
        {
          "name": "stdout",
          "output_type": "stream",
          "text": [
            "Tags to match: ['main-dish', 'beef', 'meat']\n",
            "Number of filtered recipes: 28937\n"
          ]
        },
        {
          "name": "stderr",
          "output_type": "stream",
          "text": [
            "Processing Titles embeddings: 100%|██████████| 1/1 [00:00<00:00, 86.43batch/s]\n"
          ]
        },
        {
          "name": "stdout",
          "output_type": "stream",
          "text": [
            "Tags to match: ['main-dish', 'beef', 'meat']\n",
            "Number of filtered recipes: 28937\n"
          ]
        },
        {
          "name": "stderr",
          "output_type": "stream",
          "text": [
            "Processing Titles embeddings: 100%|██████████| 1/1 [00:00<00:00, 56.74batch/s]\n"
          ]
        },
        {
          "name": "stdout",
          "output_type": "stream",
          "text": [
            "Tags to match: ['main-dish', 'beef', 'meat']\n",
            "Number of filtered recipes: 28937\n"
          ]
        },
        {
          "name": "stderr",
          "output_type": "stream",
          "text": [
            "Processing Titles embeddings: 100%|██████████| 1/1 [00:00<00:00, 62.62batch/s]\n"
          ]
        },
        {
          "name": "stdout",
          "output_type": "stream",
          "text": [
            "Tags to match: ['main-dish', 'side-dishes', 'rice', 'pasta-rice-and-grains']\n",
            "Number of filtered recipes: 39608\n"
          ]
        },
        {
          "name": "stderr",
          "output_type": "stream",
          "text": [
            "Processing Titles embeddings: 100%|██████████| 1/1 [00:00<00:00, 58.93batch/s]\n"
          ]
        },
        {
          "name": "stdout",
          "output_type": "stream",
          "text": [
            "Tags to match: ['main-dish', 'beef', 'meat']\n",
            "Number of filtered recipes: 28937\n"
          ]
        },
        {
          "name": "stderr",
          "output_type": "stream",
          "text": [
            "Processing Titles embeddings: 100%|██████████| 1/1 [00:00<00:00, 97.28batch/s]\n"
          ]
        },
        {
          "name": "stdout",
          "output_type": "stream",
          "text": [
            "Tags to match: ['main-dish', 'beef', 'pasta', 'meat', 'pasta-rice-and-grains']\n",
            "Number of filtered recipes: 34345\n"
          ]
        },
        {
          "name": "stderr",
          "output_type": "stream",
          "text": [
            "Processing Titles embeddings: 100%|██████████| 1/1 [00:00<00:00, 104.20batch/s]\n"
          ]
        },
        {
          "name": "stdout",
          "output_type": "stream",
          "text": [
            "Tags to match: ['main-dish', 'meat']\n",
            "Number of filtered recipes: 28937\n"
          ]
        },
        {
          "name": "stderr",
          "output_type": "stream",
          "text": [
            "Processing Titles embeddings: 100%|██████████| 1/1 [00:00<00:00, 90.95batch/s]\n"
          ]
        },
        {
          "name": "stdout",
          "output_type": "stream",
          "text": [
            "Tags to match: ['appetizers', 'beef', 'meat']\n",
            "Number of filtered recipes: 23411\n"
          ]
        },
        {
          "name": "stderr",
          "output_type": "stream",
          "text": [
            "Processing Titles embeddings: 100%|██████████| 1/1 [00:00<00:00, 105.03batch/s]\n"
          ]
        },
        {
          "name": "stdout",
          "output_type": "stream",
          "text": [
            "Tags to match: ['main-dish']\n",
            "Number of filtered recipes: 24622\n"
          ]
        },
        {
          "name": "stderr",
          "output_type": "stream",
          "text": [
            "Processing Titles embeddings: 100%|██████████| 1/1 [00:00<00:00, 98.14batch/s]\n"
          ]
        },
        {
          "name": "stdout",
          "output_type": "stream",
          "text": [
            "Tags to match: ['main-dish', 'seafood']\n",
            "Number of filtered recipes: 26549\n"
          ]
        },
        {
          "name": "stderr",
          "output_type": "stream",
          "text": [
            "Processing Titles embeddings: 100%|██████████| 1/1 [00:00<00:00, 78.74batch/s]\n"
          ]
        },
        {
          "name": "stdout",
          "output_type": "stream",
          "text": [
            "Tags to match: ['main-dish', 'beef', 'meat']\n",
            "Number of filtered recipes: 28937\n"
          ]
        },
        {
          "name": "stderr",
          "output_type": "stream",
          "text": [
            "Processing Titles embeddings: 100%|██████████| 1/1 [00:00<00:00, 82.56batch/s]\n"
          ]
        },
        {
          "name": "stdout",
          "output_type": "stream",
          "text": [
            "Tags to match: ['main-dish', 'beef', 'meat']\n",
            "Number of filtered recipes: 28937\n"
          ]
        },
        {
          "name": "stderr",
          "output_type": "stream",
          "text": [
            "Processing Titles embeddings: 100%|██████████| 1/1 [00:00<00:00, 101.41batch/s]\n"
          ]
        },
        {
          "name": "stdout",
          "output_type": "stream",
          "text": [
            "Tags to match: ['main-dish']\n",
            "Number of filtered recipes: 24622\n"
          ]
        },
        {
          "name": "stderr",
          "output_type": "stream",
          "text": [
            "Processing Titles embeddings: 100%|██████████| 1/1 [00:00<00:00, 90.82batch/s]\n"
          ]
        },
        {
          "name": "stdout",
          "output_type": "stream",
          "text": [
            "Tags to match: ['main-dish', 'beef', 'meat']\n",
            "Number of filtered recipes: 28937\n"
          ]
        },
        {
          "name": "stderr",
          "output_type": "stream",
          "text": [
            "Processing Titles embeddings: 100%|██████████| 1/1 [00:00<00:00, 87.39batch/s]\n"
          ]
        },
        {
          "name": "stdout",
          "output_type": "stream",
          "text": [
            "Tags to match: ['pasta', 'pasta-rice-and-grains']\n",
            "Number of filtered recipes: 12334\n"
          ]
        },
        {
          "name": "stderr",
          "output_type": "stream",
          "text": [
            "Processing Titles embeddings: 100%|██████████| 1/1 [00:00<00:00, 84.98batch/s]\n"
          ]
        },
        {
          "name": "stdout",
          "output_type": "stream",
          "text": [
            "Tags to match: ['main-dish', 'beef', 'meat']\n",
            "Number of filtered recipes: 28937\n"
          ]
        },
        {
          "name": "stderr",
          "output_type": "stream",
          "text": [
            "Processing Titles embeddings: 100%|██████████| 1/1 [00:00<00:00, 89.12batch/s]\n"
          ]
        },
        {
          "name": "stdout",
          "output_type": "stream",
          "text": [
            "Tags to match: ['main-dish', 'meat', 'pasta-rice-and-grains']\n",
            "Number of filtered recipes: 34344\n"
          ]
        },
        {
          "name": "stderr",
          "output_type": "stream",
          "text": [
            "Processing Titles embeddings: 100%|██████████| 1/1 [00:00<00:00, 102.95batch/s]\n"
          ]
        },
        {
          "name": "stdout",
          "output_type": "stream",
          "text": [
            "Tags to match: ['main-dish', 'beef', 'meat']\n",
            "Number of filtered recipes: 28937\n"
          ]
        },
        {
          "name": "stderr",
          "output_type": "stream",
          "text": [
            "Processing Titles embeddings: 100%|██████████| 1/1 [00:00<00:00, 86.87batch/s]\n"
          ]
        },
        {
          "name": "stdout",
          "output_type": "stream",
          "text": [
            "Tags to match: ['main-dish', 'beef', 'pasta', 'meat', 'pasta-rice-and-grains']\n",
            "Number of filtered recipes: 34345\n"
          ]
        },
        {
          "name": "stderr",
          "output_type": "stream",
          "text": [
            "Processing Titles embeddings: 100%|██████████| 1/1 [00:00<00:00, 79.66batch/s]\n"
          ]
        },
        {
          "name": "stdout",
          "output_type": "stream",
          "text": [
            "Tags to match: ['main-dish', 'beef', 'meat']\n",
            "Number of filtered recipes: 28937\n"
          ]
        },
        {
          "name": "stderr",
          "output_type": "stream",
          "text": [
            "Processing Titles embeddings: 100%|██████████| 1/1 [00:00<00:00, 87.07batch/s]\n"
          ]
        },
        {
          "name": "stdout",
          "output_type": "stream",
          "text": [
            "Tags to match: ['main-dish', 'beef', 'meat']\n",
            "Number of filtered recipes: 28937\n"
          ]
        },
        {
          "name": "stderr",
          "output_type": "stream",
          "text": [
            "Processing Titles embeddings: 100%|██████████| 1/1 [00:00<00:00, 100.57batch/s]\n"
          ]
        },
        {
          "name": "stdout",
          "output_type": "stream",
          "text": [
            "Tags to match: ['beef', 'meat']\n",
            "Number of filtered recipes: 17375\n"
          ]
        },
        {
          "name": "stderr",
          "output_type": "stream",
          "text": [
            "Processing Titles embeddings: 100%|██████████| 1/1 [00:00<00:00, 85.71batch/s]\n"
          ]
        },
        {
          "name": "stdout",
          "output_type": "stream",
          "text": [
            "Tags to match: ['main-dish', 'beef', 'meat']\n",
            "Number of filtered recipes: 28937\n"
          ]
        },
        {
          "name": "stderr",
          "output_type": "stream",
          "text": [
            "Processing Titles embeddings: 100%|██████████| 1/1 [00:00<00:00, 88.58batch/s]\n"
          ]
        },
        {
          "name": "stdout",
          "output_type": "stream",
          "text": [
            "Tags to match: ['main-dish', 'beef', 'meat']\n",
            "Number of filtered recipes: 28937\n"
          ]
        },
        {
          "name": "stderr",
          "output_type": "stream",
          "text": [
            "Processing Titles embeddings: 100%|██████████| 1/1 [00:00<00:00, 103.17batch/s]\n"
          ]
        },
        {
          "name": "stdout",
          "output_type": "stream",
          "text": [
            "Tags to match: ['beef', 'meat']\n",
            "Number of filtered recipes: 17375\n"
          ]
        },
        {
          "name": "stderr",
          "output_type": "stream",
          "text": [
            "Processing Titles embeddings: 100%|██████████| 1/1 [00:00<00:00, 85.70batch/s]\n"
          ]
        },
        {
          "name": "stdout",
          "output_type": "stream",
          "text": [
            "Tags to match: ['main-dish', 'pasta', 'meat', 'pasta-rice-and-grains']\n",
            "Number of filtered recipes: 34345\n"
          ]
        },
        {
          "name": "stderr",
          "output_type": "stream",
          "text": [
            "Processing Titles embeddings: 100%|██████████| 1/1 [00:00<00:00, 99.03batch/s]\n"
          ]
        },
        {
          "name": "stdout",
          "output_type": "stream",
          "text": [
            "Tags to match: ['main-dish', 'beef', 'meat']\n",
            "Number of filtered recipes: 28937\n"
          ]
        },
        {
          "name": "stderr",
          "output_type": "stream",
          "text": [
            "Processing Titles embeddings: 100%|██████████| 1/1 [00:00<00:00, 80.75batch/s]\n"
          ]
        },
        {
          "name": "stdout",
          "output_type": "stream",
          "text": [
            "Tags to match: ['main-dish', 'beef', 'meat']\n",
            "Number of filtered recipes: 28937\n"
          ]
        },
        {
          "name": "stderr",
          "output_type": "stream",
          "text": [
            "Processing Titles embeddings: 100%|██████████| 1/1 [00:00<00:00, 73.62batch/s]\n"
          ]
        },
        {
          "name": "stdout",
          "output_type": "stream",
          "text": [
            "Tags to match: ['main-dish', 'meat']\n",
            "Number of filtered recipes: 28937\n"
          ]
        },
        {
          "name": "stderr",
          "output_type": "stream",
          "text": [
            "Processing Titles embeddings: 100%|██████████| 1/1 [00:00<00:00, 101.96batch/s]\n"
          ]
        },
        {
          "name": "stdout",
          "output_type": "stream",
          "text": [
            "Tags to match: ['main-dish', 'meat']\n",
            "Number of filtered recipes: 28937\n"
          ]
        },
        {
          "name": "stderr",
          "output_type": "stream",
          "text": [
            "Processing Titles embeddings: 100%|██████████| 1/1 [00:00<00:00, 96.77batch/s]\n"
          ]
        },
        {
          "name": "stdout",
          "output_type": "stream",
          "text": [
            "Tags to match: ['main-dish']\n",
            "Number of filtered recipes: 24622\n"
          ]
        },
        {
          "name": "stderr",
          "output_type": "stream",
          "text": [
            "Processing Titles embeddings: 100%|██████████| 1/1 [00:00<00:00, 101.39batch/s]\n"
          ]
        },
        {
          "name": "stdout",
          "output_type": "stream",
          "text": [
            "Tags to match: ['main-dish', 'beef', 'meat']\n",
            "Number of filtered recipes: 28937\n"
          ]
        },
        {
          "name": "stderr",
          "output_type": "stream",
          "text": [
            "Processing Titles embeddings: 100%|██████████| 1/1 [00:00<00:00, 84.49batch/s]\n"
          ]
        },
        {
          "name": "stdout",
          "output_type": "stream",
          "text": [
            "Tags to match: ['main-dish', 'beef', 'meat']\n",
            "Number of filtered recipes: 28937\n"
          ]
        },
        {
          "name": "stderr",
          "output_type": "stream",
          "text": [
            "Processing Titles embeddings: 100%|██████████| 1/1 [00:00<00:00, 83.30batch/s]\n"
          ]
        },
        {
          "name": "stdout",
          "output_type": "stream",
          "text": [
            "Tags to match: ['beef', 'meat', 'pasta-rice-and-grains']\n",
            "Number of filtered recipes: 26857\n"
          ]
        },
        {
          "name": "stderr",
          "output_type": "stream",
          "text": [
            "Processing Titles embeddings: 100%|██████████| 1/1 [00:00<00:00, 105.16batch/s]\n"
          ]
        },
        {
          "name": "stdout",
          "output_type": "stream",
          "text": [
            "Tags to match: ['main-dish', 'beef', 'meat']\n",
            "Number of filtered recipes: 28937\n"
          ]
        },
        {
          "name": "stderr",
          "output_type": "stream",
          "text": [
            "Processing Titles embeddings: 100%|██████████| 1/1 [00:00<00:00, 87.19batch/s]\n"
          ]
        },
        {
          "name": "stdout",
          "output_type": "stream",
          "text": [
            "Tags to match: ['main-dish', 'beef', 'pizza', 'meat']\n",
            "Number of filtered recipes: 28937\n"
          ]
        },
        {
          "name": "stderr",
          "output_type": "stream",
          "text": [
            "Processing Titles embeddings: 100%|██████████| 1/1 [00:00<00:00, 80.34batch/s]\n"
          ]
        },
        {
          "name": "stdout",
          "output_type": "stream",
          "text": [
            "Tags to match: ['main-dish', 'beef', 'meat']\n",
            "Number of filtered recipes: 28937\n"
          ]
        },
        {
          "name": "stderr",
          "output_type": "stream",
          "text": [
            "Processing Titles embeddings: 100%|██████████| 1/1 [00:00<00:00, 95.80batch/s]\n"
          ]
        },
        {
          "name": "stdout",
          "output_type": "stream",
          "text": [
            "Tags to match: ['main-dish', 'beef', 'meat']\n",
            "Number of filtered recipes: 28937\n"
          ]
        },
        {
          "name": "stderr",
          "output_type": "stream",
          "text": [
            "Processing Titles embeddings: 100%|██████████| 1/1 [00:00<00:00, 85.17batch/s]\n"
          ]
        },
        {
          "name": "stdout",
          "output_type": "stream",
          "text": [
            "Tags to match: ['main-dish', 'beef', 'meat']\n",
            "Number of filtered recipes: 28937\n"
          ]
        },
        {
          "name": "stderr",
          "output_type": "stream",
          "text": [
            "Processing Titles embeddings: 100%|██████████| 1/1 [00:00<00:00, 80.09batch/s]\n"
          ]
        },
        {
          "name": "stdout",
          "output_type": "stream",
          "text": [
            "Tags to match: ['main-dish', 'beef', 'meat']\n",
            "Number of filtered recipes: 28937\n"
          ]
        },
        {
          "name": "stderr",
          "output_type": "stream",
          "text": [
            "Processing Titles embeddings: 100%|██████████| 1/1 [00:00<00:00, 83.60batch/s]\n"
          ]
        },
        {
          "name": "stdout",
          "output_type": "stream",
          "text": [
            "Tags to match: ['main-dish', 'beef', 'meat']\n",
            "Number of filtered recipes: 28937\n"
          ]
        },
        {
          "name": "stderr",
          "output_type": "stream",
          "text": [
            "Processing Titles embeddings: 100%|██████████| 1/1 [00:00<00:00, 96.06batch/s]\n"
          ]
        },
        {
          "name": "stdout",
          "output_type": "stream",
          "text": [
            "Tags to match: ['main-dish', 'beef', 'meat']\n",
            "Number of filtered recipes: 28937\n"
          ]
        },
        {
          "name": "stderr",
          "output_type": "stream",
          "text": [
            "Processing Titles embeddings: 100%|██████████| 1/1 [00:00<00:00, 75.69batch/s]\n"
          ]
        },
        {
          "name": "stdout",
          "output_type": "stream",
          "text": [
            "Tags to match: ['main-dish', 'beef', 'meat']\n",
            "Number of filtered recipes: 28937\n"
          ]
        },
        {
          "name": "stderr",
          "output_type": "stream",
          "text": [
            "Processing Titles embeddings: 100%|██████████| 1/1 [00:00<00:00, 77.84batch/s]\n"
          ]
        },
        {
          "name": "stdout",
          "output_type": "stream",
          "text": [
            "Tags to match: ['main-dish', 'beef', 'pasta', 'meat', 'pasta-rice-and-grains']\n",
            "Number of filtered recipes: 34345\n"
          ]
        },
        {
          "name": "stderr",
          "output_type": "stream",
          "text": [
            "Processing Titles embeddings: 100%|██████████| 1/1 [00:00<00:00, 62.69batch/s]\n"
          ]
        },
        {
          "name": "stdout",
          "output_type": "stream",
          "text": [
            "Tags to match: ['main-dish', 'beef', 'meat']\n",
            "Number of filtered recipes: 28937\n"
          ]
        },
        {
          "name": "stderr",
          "output_type": "stream",
          "text": [
            "Processing Titles embeddings: 100%|██████████| 1/1 [00:00<00:00, 88.69batch/s]\n"
          ]
        },
        {
          "name": "stdout",
          "output_type": "stream",
          "text": [
            "Tags to match: ['main-dish']\n",
            "Number of filtered recipes: 24622\n"
          ]
        },
        {
          "name": "stderr",
          "output_type": "stream",
          "text": [
            "Processing Titles embeddings: 100%|██████████| 1/1 [00:00<00:00, 102.79batch/s]\n"
          ]
        },
        {
          "name": "stdout",
          "output_type": "stream",
          "text": [
            "Tags to match: ['main-dish', 'beef', 'meat']\n",
            "Number of filtered recipes: 28937\n"
          ]
        },
        {
          "name": "stderr",
          "output_type": "stream",
          "text": [
            "Processing Titles embeddings: 100%|██████████| 1/1 [00:00<00:00, 101.44batch/s]\n"
          ]
        },
        {
          "name": "stdout",
          "output_type": "stream",
          "text": [
            "Tags to match: ['main-dish', 'beef', 'meat']\n",
            "Number of filtered recipes: 28937\n"
          ]
        },
        {
          "name": "stderr",
          "output_type": "stream",
          "text": [
            "Processing Titles embeddings: 100%|██████████| 1/1 [00:00<00:00, 80.08batch/s]\n"
          ]
        },
        {
          "name": "stdout",
          "output_type": "stream",
          "text": [
            "Tags to match: ['main-dish', 'beef', 'meat']\n",
            "Number of filtered recipes: 28937\n"
          ]
        },
        {
          "name": "stderr",
          "output_type": "stream",
          "text": [
            "Processing Titles embeddings: 100%|██████████| 1/1 [00:00<00:00, 86.04batch/s]\n"
          ]
        },
        {
          "name": "stdout",
          "output_type": "stream",
          "text": [
            "Tags to match: ['main-dish', 'beef', 'meat']\n",
            "Number of filtered recipes: 28937\n"
          ]
        },
        {
          "name": "stderr",
          "output_type": "stream",
          "text": [
            "Processing Titles embeddings: 100%|██████████| 1/1 [00:00<00:00, 88.70batch/s]\n"
          ]
        },
        {
          "name": "stdout",
          "output_type": "stream",
          "text": [
            "Tags to match: ['main-dish', 'beef', 'meat']\n",
            "Number of filtered recipes: 28937\n"
          ]
        },
        {
          "name": "stderr",
          "output_type": "stream",
          "text": [
            "Processing Titles embeddings: 100%|██████████| 1/1 [00:00<00:00, 81.65batch/s]\n"
          ]
        },
        {
          "name": "stdout",
          "output_type": "stream",
          "text": [
            "Tags to match: ['main-dish', 'beef', 'meat']\n",
            "Number of filtered recipes: 28937\n"
          ]
        },
        {
          "name": "stderr",
          "output_type": "stream",
          "text": [
            "Processing Titles embeddings: 100%|██████████| 1/1 [00:00<00:00, 86.75batch/s]\n"
          ]
        },
        {
          "name": "stdout",
          "output_type": "stream",
          "text": [
            "Tags to match: ['appetizers', 'seafood']\n",
            "Number of filtered recipes: 11479\n"
          ]
        },
        {
          "name": "stderr",
          "output_type": "stream",
          "text": [
            "Processing Titles embeddings: 100%|██████████| 1/1 [00:00<00:00, 82.14batch/s]\n"
          ]
        },
        {
          "name": "stdout",
          "output_type": "stream",
          "text": [
            "Tags to match: ['main-dish', 'beef', 'meat']\n",
            "Number of filtered recipes: 28937\n"
          ]
        },
        {
          "name": "stderr",
          "output_type": "stream",
          "text": [
            "Processing Titles embeddings: 100%|██████████| 1/1 [00:00<00:00, 80.91batch/s]\n"
          ]
        },
        {
          "name": "stdout",
          "output_type": "stream",
          "text": [
            "Tags to match: ['main-dish', 'beef', 'meat']\n",
            "Number of filtered recipes: 28937\n"
          ]
        },
        {
          "name": "stderr",
          "output_type": "stream",
          "text": [
            "Processing Titles embeddings: 100%|██████████| 1/1 [00:00<00:00, 98.09batch/s]\n"
          ]
        },
        {
          "name": "stdout",
          "output_type": "stream",
          "text": [
            "Tags to match: ['main-dish', 'beef', 'meat']\n",
            "Number of filtered recipes: 28937\n"
          ]
        },
        {
          "name": "stderr",
          "output_type": "stream",
          "text": [
            "Processing Titles embeddings: 100%|██████████| 1/1 [00:00<00:00, 87.15batch/s]\n"
          ]
        },
        {
          "name": "stdout",
          "output_type": "stream",
          "text": [
            "Tags to match: ['main-dish']\n",
            "Number of filtered recipes: 24622\n"
          ]
        },
        {
          "name": "stderr",
          "output_type": "stream",
          "text": [
            "Processing Titles embeddings: 100%|██████████| 1/1 [00:00<00:00, 102.55batch/s]\n"
          ]
        },
        {
          "name": "stdout",
          "output_type": "stream",
          "text": [
            "Tags to match: ['main-dish', 'pasta', 'pasta-rice-and-grains']\n",
            "Number of filtered recipes: 30436\n"
          ]
        },
        {
          "name": "stderr",
          "output_type": "stream",
          "text": [
            "Processing Titles embeddings: 100%|██████████| 1/1 [00:00<00:00, 86.03batch/s]\n"
          ]
        },
        {
          "name": "stdout",
          "output_type": "stream",
          "text": [
            "Tags to match: ['main-dish', 'beef', 'meat']\n",
            "Number of filtered recipes: 28937\n"
          ]
        },
        {
          "name": "stderr",
          "output_type": "stream",
          "text": [
            "Processing Titles embeddings: 100%|██████████| 1/1 [00:00<00:00, 100.51batch/s]\n"
          ]
        },
        {
          "name": "stdout",
          "output_type": "stream",
          "text": [
            "Tags to match: ['main-dish', 'beef', 'rice', 'meat', 'pasta-rice-and-grains']\n",
            "Number of filtered recipes: 34344\n"
          ]
        },
        {
          "name": "stderr",
          "output_type": "stream",
          "text": [
            "Processing Titles embeddings: 100%|██████████| 1/1 [00:00<00:00, 102.05batch/s]\n"
          ]
        },
        {
          "name": "stdout",
          "output_type": "stream",
          "text": [
            "Tags to match: ['main-dish', 'beef', 'meat']\n",
            "Number of filtered recipes: 28937\n"
          ]
        },
        {
          "name": "stderr",
          "output_type": "stream",
          "text": [
            "Processing Titles embeddings: 100%|██████████| 1/1 [00:00<00:00, 88.57batch/s]\n"
          ]
        },
        {
          "name": "stdout",
          "output_type": "stream",
          "text": [
            "Tags to match: ['main-dish', 'beef', 'meat']\n",
            "Number of filtered recipes: 28937\n"
          ]
        },
        {
          "name": "stderr",
          "output_type": "stream",
          "text": [
            "Processing Titles embeddings: 100%|██████████| 1/1 [00:00<00:00, 57.36batch/s]\n"
          ]
        },
        {
          "name": "stdout",
          "output_type": "stream",
          "text": [
            "Tags to match: ['main-dish', 'beef', 'meat']\n",
            "Number of filtered recipes: 28937\n"
          ]
        },
        {
          "name": "stderr",
          "output_type": "stream",
          "text": [
            "Processing Titles embeddings: 100%|██████████| 1/1 [00:00<00:00, 81.20batch/s]\n"
          ]
        },
        {
          "name": "stdout",
          "output_type": "stream",
          "text": [
            "Tags to match: ['appetizers', 'main-dish', 'beef', 'meat']\n",
            "Number of filtered recipes: 34526\n"
          ]
        },
        {
          "name": "stderr",
          "output_type": "stream",
          "text": [
            "Processing Titles embeddings: 100%|██████████| 1/1 [00:00<00:00, 79.59batch/s]\n"
          ]
        },
        {
          "name": "stdout",
          "output_type": "stream",
          "text": [
            "Tags to match: ['main-dish', 'beef', 'meat']\n",
            "Number of filtered recipes: 28937\n"
          ]
        },
        {
          "name": "stderr",
          "output_type": "stream",
          "text": [
            "Processing Titles embeddings: 100%|██████████| 1/1 [00:00<00:00, 100.81batch/s]\n"
          ]
        },
        {
          "name": "stdout",
          "output_type": "stream",
          "text": [
            "Tags to match: ['main-dish', 'beef', 'meat']\n",
            "Number of filtered recipes: 28937\n"
          ]
        },
        {
          "name": "stderr",
          "output_type": "stream",
          "text": [
            "Processing Titles embeddings: 100%|██████████| 1/1 [00:00<00:00, 58.17batch/s]\n"
          ]
        },
        {
          "name": "stdout",
          "output_type": "stream",
          "text": [
            "Tags to match: ['main-dish', 'meat']\n",
            "Number of filtered recipes: 28937\n"
          ]
        },
        {
          "name": "stderr",
          "output_type": "stream",
          "text": [
            "Processing Titles embeddings: 100%|██████████| 1/1 [00:00<00:00, 87.70batch/s]\n"
          ]
        },
        {
          "name": "stdout",
          "output_type": "stream",
          "text": [
            "Tags to match: ['main-dish', 'beef', 'meat']\n",
            "Number of filtered recipes: 28937\n"
          ]
        },
        {
          "name": "stderr",
          "output_type": "stream",
          "text": [
            "Processing Titles embeddings: 100%|██████████| 1/1 [00:00<00:00, 84.18batch/s]\n"
          ]
        },
        {
          "name": "stdout",
          "output_type": "stream",
          "text": [
            "Tags to match: ['main-dish', 'pasta', 'pasta-rice-and-grains']\n",
            "Number of filtered recipes: 30436\n"
          ]
        },
        {
          "name": "stderr",
          "output_type": "stream",
          "text": [
            "Processing Titles embeddings: 100%|██████████| 1/1 [00:00<00:00, 83.72batch/s]\n"
          ]
        },
        {
          "name": "stdout",
          "output_type": "stream",
          "text": [
            "Tags to match: ['main-dish', 'beef', 'rice', 'meat', 'pasta-rice-and-grains']\n",
            "Number of filtered recipes: 34344\n"
          ]
        }
      ],
      "source": [
        "import json\n",
        "import pandas as pd\n",
        "\n",
        "# Assumi che 'SustainaMeal', 'acceptable_tags', 'nutrients_string', e 'recipe_titles' siano definiti\n",
        "\n",
        "# Parametri per gli esperimenti\n",
        "k_values = [1]\n",
        "match_all_tags_values = [False]\n",
        "\n",
        "# Funzione ausiliaria per convertire oggetti in formati serializzabili in JSON\n",
        "def convert_to_serializable(obj):\n",
        "    if hasattr(obj, 'to_dict'):\n",
        "        return obj.to_dict('records')\n",
        "    elif hasattr(obj, 'tolist'):\n",
        "        return obj.tolist()\n",
        "    elif isinstance(obj, (list, dict, str, int, float, bool, type(None))):\n",
        "        return obj\n",
        "    else:\n",
        "        return str(obj)\n",
        "\n",
        "results = []  # Lista per raccogliere i risultati degli esperimenti\n",
        "\n",
        "for index, row in selected_recipes.iterrows():\n",
        "    input_recipe = row['title']\n",
        "    match_results = {}  # Dizionario per memorizzare i risultati di match per ogni k\n",
        "    for k in k_values:\n",
        "        match_results[k] = {'exact_match': False, 'match_count': 0}  # Inizializza il conteggio e il match esatto per ogni k\n",
        "        for match_all_tags in match_all_tags_values:\n",
        "            try:\n",
        "                similar_recipes = sm.find_similar_recipes(input_recipe, k, acceptable_tags=acceptable_tags, match_all_tags=match_all_tags)\n",
        "                ordered_recipes = sm.order_recipe_by_sustainameal()\n",
        "                ordered_recipes_gpt = sm.order_recipe_by_sustainameal()\n",
        "                result = {\n",
        "                    'recipe_name': input_recipe,\n",
        "                    'recipe_id': row['recipe_id'],\n",
        "                    'sustnability_score': row['sustainability_score'],\n",
        "                    'sustnability_label': row['sustainability_label'],\n",
        "                    'who_score': row['who_score'],\n",
        "                    'healthiness_label': row['healthiness_label'],\n",
        "                    'k': k,\n",
        "                    'nutrients': nutrients_string,\n",
        "                    'match_all_tags': match_all_tags,\n",
        "                    'similar_recipes': convert_to_serializable(similar_recipes) if similar_recipes is not None else None,\n",
        "                    'ordered_by_sustainameal': convert_to_serializable(ordered_recipes) if ordered_recipes is not None else None\n",
        "                }\n",
        "                results.append(result)\n",
        "            except Exception as e:\n",
        "                print(f\"An error occurred while finding similar recipes: {e}\")\n",
        "                best_choice_by_gpt = None\n",
        "\n",
        "\n",
        "\n",
        "with open('experiment_results_with_gpt_and_similarity_k_1.json', 'w') as f:\n",
        "    json.dump(results, f, ensure_ascii=False, indent=4)\n"
      ]
    },
    {
      "cell_type": "code",
      "execution_count": 23,
      "metadata": {
        "colab": {
          "base_uri": "https://localhost:8080/"
        },
        "id": "pBCf4onQaOor",
        "outputId": "1aabb66c-c076-4442-954f-40957e1b23d7"
      },
      "outputs": [
        {
          "name": "stdout",
          "output_type": "stream",
          "text": [
            "   top_healthiness_increment_mean  top_sustainability_increment_mean  \\\n",
            "0                        7.588169                          76.526167   \n",
            "\n",
            "   top_sustainameal_score_increment_mean  gpt_rerank  k  \n",
            "0                               60.33972       False  1  \n"
          ]
        }
      ],
      "source": [
        "import json\n",
        "import pandas as pd\n",
        "\n",
        "# Carica i dati dal file JSON\n",
        "with open('experiment_results_with_gpt_and_similarity_k_1.json', 'r') as file:\n",
        "    experiment_data = json.load(file)\n",
        "\n",
        "# Converti i dati in un DataFrame\n",
        "experiment_df = pd.DataFrame(experiment_data)\n",
        "\n",
        "# Inizializza i contatori per gli incrementi\n",
        "top_healthiness_increments = []\n",
        "top_sustainability_increments = []\n",
        "top_sustainameal_score_increments = []\n",
        "\n",
        "# Calcola gli incrementi per le prime ricette in ordered_by_sustainameal\n",
        "for index, row in experiment_df.iterrows():\n",
        "    if row['ordered_by_sustainameal']:  # Controlla se la lista non è vuota\n",
        "        top_recipe = row['ordered_by_sustainameal'][0]  # Prende sempre la prima ricetta\n",
        "        top_healthiness_increments.append(top_recipe['healthiness_increment'])\n",
        "        top_sustainability_increments.append(top_recipe['sustainability_increment'])\n",
        "        top_sustainameal_score_increments.append(top_recipe['sustainameal_score_increment'])\n",
        "\n",
        "# Calcola le medie degli incrementi per le prime ricette\n",
        "average_top_healthiness_increment = sum(top_healthiness_increments) / len(top_healthiness_increments) if top_healthiness_increments else None\n",
        "average_top_sustainability_increment = sum(top_sustainability_increments) / len(top_sustainability_increments) if top_sustainability_increments else None\n",
        "average_top_sustainameal_score_increment = sum(top_sustainameal_score_increments) / len(top_sustainameal_score_increments) if top_sustainameal_score_increments else None\n",
        "\n",
        "# Crea un DataFrame con una riga contenente le medie\n",
        "top_results_df_1 = pd.DataFrame({\n",
        "    'top_healthiness_increment_mean': [average_top_healthiness_increment],\n",
        "    'top_sustainability_increment_mean': [average_top_sustainability_increment],\n",
        "    'top_sustainameal_score_increment_mean': [average_top_sustainameal_score_increment],\n",
        "    'gpt_rerank': [False],\n",
        "    'k':1,\n",
        "})\n",
        "\n",
        "# Stampa il DataFrame dei risultati\n",
        "print(top_results_df_1)\n"
      ]
    },
    {
      "cell_type": "code",
      "execution_count": 24,
      "metadata": {
        "colab": {
          "base_uri": "https://localhost:8080/"
        },
        "id": "JLPiMejbawox",
        "outputId": "58a36607-a714-4936-8ddc-f91f40e3ede9"
      },
      "outputs": [
        {
          "name": "stdout",
          "output_type": "stream",
          "text": [
            "   top_healthiness_increment_mean  top_sustainability_increment_mean  \\\n",
            "0                       15.833658                          90.176623   \n",
            "0                       16.424224                         139.866000   \n",
            "0                        7.588169                          76.526167   \n",
            "\n",
            "   top_sustainameal_score_increment_mean  gpt_rerank   k  \n",
            "0                              72.819732        True  10  \n",
            "0                             111.424199       False  10  \n",
            "0                              60.339720       False   1  \n"
          ]
        }
      ],
      "source": [
        "# Concatenazione dei DataFrame\n",
        "final_results = pd.concat([gpt_results_df, top_results_df_10, top_results_df_1])\n",
        "\n",
        "# Visualizzazione del DataFrame risultante\n",
        "print(final_results)"
      ]
    },
    {
      "cell_type": "code",
      "execution_count": 25,
      "metadata": {
        "id": "mcsFpi1fb4ep"
      },
      "outputs": [],
      "source": [
        "# Funzione per colorare i valori in base al segno\n",
        "def color_negative_red_positive_green(value):\n",
        "    if value < 0:\n",
        "        return 'red'\n",
        "    elif value > 0:\n",
        "        return 'green'\n",
        "    else:\n",
        "        return 'black'\n",
        "\n",
        "# Funzione per colorare i valori in base al segno e arrotondare i numeri\n",
        "def apply_formatting(tbl, df):\n",
        "    num_cols = df.shape[1]  # Ottiene il numero di colonne nel DataFrame\n",
        "    for (i, j), cell in tbl.get_celld().items():\n",
        "        # Salta le prime due colonne, l'intestazione, e l'ultima colonna\n",
        "        if j == num_cols-1:\n",
        "            continue\n",
        "        val = cell.get_text().get_text()\n",
        "        try:\n",
        "            num = float(val)\n",
        "            cell.get_text().set_text(f'{num:.2f}')\n",
        "            cell.get_text().set_color('green' if num > 0 else 'red' if num < 0 else 'black')\n",
        "        except ValueError:\n",
        "            pass  # Non è un numero, non fare nulla\n",
        "\n",
        "\n",
        "\n",
        "def abbreviate_column_names(df):\n",
        "    abbreviations = {'top_healthiness_increment_mean': 'Top_H_inc_mean',\n",
        "                     'top_sustainability_increment_mean': 'Top_S_inc_mean',\n",
        "                     'top_sustainameal_score_increment_mean': 'Top_SM_inc_mean'}\n",
        "    return df.rename(columns=abbreviations)\n",
        "\n",
        "\n",
        "final_results = abbreviate_column_names(final_results)\n"
      ]
    },
    {
      "cell_type": "code",
      "execution_count": 26,
      "metadata": {
        "colab": {
          "base_uri": "https://localhost:8080/"
        },
        "id": "EZ7j4u8qcX1k",
        "outputId": "249f717e-8a49-4013-f6a2-ed818d63d72d"
      },
      "outputs": [
        {
          "data": {
            "text/html": [
              "<div>\n",
              "<style scoped>\n",
              "    .dataframe tbody tr th:only-of-type {\n",
              "        vertical-align: middle;\n",
              "    }\n",
              "\n",
              "    .dataframe tbody tr th {\n",
              "        vertical-align: top;\n",
              "    }\n",
              "\n",
              "    .dataframe thead th {\n",
              "        text-align: right;\n",
              "    }\n",
              "</style>\n",
              "<table border=\"1\" class=\"dataframe\">\n",
              "  <thead>\n",
              "    <tr style=\"text-align: right;\">\n",
              "      <th></th>\n",
              "      <th>Top_H_inc_mean</th>\n",
              "      <th>Top_S_inc_mean</th>\n",
              "      <th>Top_SM_inc_mean</th>\n",
              "      <th>gpt_rerank</th>\n",
              "      <th>k</th>\n",
              "    </tr>\n",
              "  </thead>\n",
              "  <tbody>\n",
              "    <tr>\n",
              "      <th>0</th>\n",
              "      <td>15.833658</td>\n",
              "      <td>90.176623</td>\n",
              "      <td>72.819732</td>\n",
              "      <td>True</td>\n",
              "      <td>10</td>\n",
              "    </tr>\n",
              "    <tr>\n",
              "      <th>0</th>\n",
              "      <td>16.424224</td>\n",
              "      <td>139.866000</td>\n",
              "      <td>111.424199</td>\n",
              "      <td>False</td>\n",
              "      <td>10</td>\n",
              "    </tr>\n",
              "    <tr>\n",
              "      <th>0</th>\n",
              "      <td>7.588169</td>\n",
              "      <td>76.526167</td>\n",
              "      <td>60.339720</td>\n",
              "      <td>False</td>\n",
              "      <td>1</td>\n",
              "    </tr>\n",
              "  </tbody>\n",
              "</table>\n",
              "</div>"
            ],
            "text/plain": [
              "   Top_H_inc_mean  Top_S_inc_mean  Top_SM_inc_mean  gpt_rerank   k\n",
              "0       15.833658       90.176623        72.819732        True  10\n",
              "0       16.424224      139.866000       111.424199       False  10\n",
              "0        7.588169       76.526167        60.339720       False   1"
            ]
          },
          "execution_count": 26,
          "metadata": {},
          "output_type": "execute_result"
        }
      ],
      "source": [
        "final_results"
      ]
    },
    {
      "cell_type": "code",
      "execution_count": 27,
      "metadata": {
        "colab": {
          "base_uri": "https://localhost:8080/",
          "height": 268
        },
        "id": "MvEI0hUKbZM1",
        "outputId": "d41e0e04-7cb5-4d36-92a4-4249a3046bc9"
      },
      "outputs": [
        {
          "data": {
            "image/png": "[encoded data removed]",
            "text/plain": [
              "<Figure size 1000x300 with 1 Axes>"
            ]
          },
          "metadata": {},
          "output_type": "display_data"
        }
      ],
      "source": [
        "import pandas as pd\n",
        "import matplotlib.pyplot as plt\n",
        "\n",
        "\n",
        "fig, ax = plt.subplots(figsize=(10, 3))\n",
        "\n",
        "ax.axis('off')\n",
        "\n",
        "tbl = ax.table(\n",
        "    cellText=final_results.values,\n",
        "    colLabels=final_results.columns,\n",
        "    loc='center',\n",
        "    cellLoc='center',\n",
        ")\n",
        "\n",
        "apply_formatting(tbl, final_results)  # Applica il colore e l'arrotondamento qui\n",
        "\n",
        "tbl.auto_set_font_size(False)\n",
        "tbl.set_fontsize(10)\n",
        "tbl.scale(1.2, 1.2)\n",
        "\n",
        "plt.show()\n"
      ]
    }
  ],
  "metadata": {
    "accelerator": "GPU",
    "colab": {
      "collapsed_sections": [
        "mi_HjU-OLl8y",
        "bOajPglELoub",
        "am8i4pRxLruU"
      ],
      "gpuType": "T4",
      "provenance": []
    },
    "kernelspec": {
      "display_name": "Python 3",
      "name": "python3"
    },
    "language_info": {
      "codemirror_mode": {
        "name": "ipython",
        "version": 3
      },
      "file_extension": ".py",
      "mimetype": "text/x-python",
      "name": "python",
      "nbconvert_exporter": "python",
      "pygments_lexer": "ipython3",
      "version": "3.8.10"
    },
    "widgets": {
      "application/vnd.jupyter.widget-state+json": {
        "0070ee8d7daa4bd5ae57cac65a832ebf": {
          "model_module": "@jupyter-widgets/base",
          "model_module_version": "1.2.0",
          "model_name": "LayoutModel",
          "state": {
            "_model_module": "@jupyter-widgets/base",
            "_model_module_version": "1.2.0",
            "_model_name": "LayoutModel",
            "_view_count": null,
            "_view_module": "@jupyter-widgets/base",
            "_view_module_version": "1.2.0",
            "_view_name": "LayoutView",
            "align_content": null,
            "align_items": null,
            "align_self": null,
            "border": null,
            "bottom": null,
            "display": null,
            "flex": null,
            "flex_flow": null,
            "grid_area": null,
            "grid_auto_columns": null,
            "grid_auto_flow": null,
            "grid_auto_rows": null,
            "grid_column": null,
            "grid_gap": null,
            "grid_row": null,
            "grid_template_areas": null,
            "grid_template_columns": null,
            "grid_template_rows": null,
            "height": null,
            "justify_content": null,
            "justify_items": null,
            "left": null,
            "margin": null,
            "max_height": null,
            "max_width": null,
            "min_height": null,
            "min_width": null,
            "object_fit": null,
            "object_position": null,
            "order": null,
            "overflow": null,
            "overflow_x": null,
            "overflow_y": null,
            "padding": null,
            "right": null,
            "top": null,
            "visibility": null,
            "width": null
          }
        },
        "07fe40d55518494486ec383a9367666a": {
          "model_module": "@jupyter-widgets/base",
          "model_module_version": "1.2.0",
          "model_name": "LayoutModel",
          "state": {
            "_model_module": "@jupyter-widgets/base",
            "_model_module_version": "1.2.0",
            "_model_name": "LayoutModel",
            "_view_count": null,
            "_view_module": "@jupyter-widgets/base",
            "_view_module_version": "1.2.0",
            "_view_name": "LayoutView",
            "align_content": null,
            "align_items": null,
            "align_self": null,
            "border": null,
            "bottom": null,
            "display": null,
            "flex": null,
            "flex_flow": null,
            "grid_area": null,
            "grid_auto_columns": null,
            "grid_auto_flow": null,
            "grid_auto_rows": null,
            "grid_column": null,
            "grid_gap": null,
            "grid_row": null,
            "grid_template_areas": null,
            "grid_template_columns": null,
            "grid_template_rows": null,
            "height": null,
            "justify_content": null,
            "justify_items": null,
            "left": null,
            "margin": null,
            "max_height": null,
            "max_width": null,
            "min_height": null,
            "min_width": null,
            "object_fit": null,
            "object_position": null,
            "order": null,
            "overflow": null,
            "overflow_x": null,
            "overflow_y": null,
            "padding": null,
            "right": null,
            "top": null,
            "visibility": null,
            "width": null
          }
        },
        "0821d12bf9d1435d9ee3f371eb3a2260": {
          "model_module": "@jupyter-widgets/base",
          "model_module_version": "1.2.0",
          "model_name": "LayoutModel",
          "state": {
            "_model_module": "@jupyter-widgets/base",
            "_model_module_version": "1.2.0",
            "_model_name": "LayoutModel",
            "_view_count": null,
            "_view_module": "@jupyter-widgets/base",
            "_view_module_version": "1.2.0",
            "_view_name": "LayoutView",
            "align_content": null,
            "align_items": null,
            "align_self": null,
            "border": null,
            "bottom": null,
            "display": null,
            "flex": null,
            "flex_flow": null,
            "grid_area": null,
            "grid_auto_columns": null,
            "grid_auto_flow": null,
            "grid_auto_rows": null,
            "grid_column": null,
            "grid_gap": null,
            "grid_row": null,
            "grid_template_areas": null,
            "grid_template_columns": null,
            "grid_template_rows": null,
            "height": null,
            "justify_content": null,
            "justify_items": null,
            "left": null,
            "margin": null,
            "max_height": null,
            "max_width": null,
            "min_height": null,
            "min_width": null,
            "object_fit": null,
            "object_position": null,
            "order": null,
            "overflow": null,
            "overflow_x": null,
            "overflow_y": null,
            "padding": null,
            "right": null,
            "top": null,
            "visibility": null,
            "width": null
          }
        },
        "094c7e7cd5654749ba107101069012a2": {
          "model_module": "@jupyter-widgets/controls",
          "model_module_version": "1.5.0",
          "model_name": "DescriptionStyleModel",
          "state": {
            "_model_module": "@jupyter-widgets/controls",
            "_model_module_version": "1.5.0",
            "_model_name": "DescriptionStyleModel",
            "_view_count": null,
            "_view_module": "@jupyter-widgets/base",
            "_view_module_version": "1.2.0",
            "_view_name": "StyleView",
            "description_width": ""
          }
        },
        "17853c3aec8e4f4aaa7e85ffb6446262": {
          "model_module": "@jupyter-widgets/controls",
          "model_module_version": "1.5.0",
          "model_name": "HBoxModel",
          "state": {
            "_dom_classes": [],
            "_model_module": "@jupyter-widgets/controls",
            "_model_module_version": "1.5.0",
            "_model_name": "HBoxModel",
            "_view_count": null,
            "_view_module": "@jupyter-widgets/controls",
            "_view_module_version": "1.5.0",
            "_view_name": "HBoxView",
            "box_style": "",
            "children": [
              "IPY_MODEL_4636fb932f81491cb846f33b2857617a",
              "IPY_MODEL_d8b6e6d49fe7491ea3ecdd3f17a373dd",
              "IPY_MODEL_9dfaeb40694d4700bdef1367a9d01d82"
            ],
            "layout": "IPY_MODEL_75cfc0734b284a9ab28cf8149b073291"
          }
        },
        "1e7755e134d14a1a88398e5462200694": {
          "model_module": "@jupyter-widgets/base",
          "model_module_version": "1.2.0",
          "model_name": "LayoutModel",
          "state": {
            "_model_module": "@jupyter-widgets/base",
            "_model_module_version": "1.2.0",
            "_model_name": "LayoutModel",
            "_view_count": null,
            "_view_module": "@jupyter-widgets/base",
            "_view_module_version": "1.2.0",
            "_view_name": "LayoutView",
            "align_content": null,
            "align_items": null,
            "align_self": null,
            "border": null,
            "bottom": null,
            "display": null,
            "flex": null,
            "flex_flow": null,
            "grid_area": null,
            "grid_auto_columns": null,
            "grid_auto_flow": null,
            "grid_auto_rows": null,
            "grid_column": null,
            "grid_gap": null,
            "grid_row": null,
            "grid_template_areas": null,
            "grid_template_columns": null,
            "grid_template_rows": null,
            "height": null,
            "justify_content": null,
            "justify_items": null,
            "left": null,
            "margin": null,
            "max_height": null,
            "max_width": null,
            "min_height": null,
            "min_width": null,
            "object_fit": null,
            "object_position": null,
            "order": null,
            "overflow": null,
            "overflow_x": null,
            "overflow_y": null,
            "padding": null,
            "right": null,
            "top": null,
            "visibility": null,
            "width": null
          }
        },
        "20aba3796c9949d395a377b06213c7ed": {
          "model_module": "@jupyter-widgets/controls",
          "model_module_version": "1.5.0",
          "model_name": "ProgressStyleModel",
          "state": {
            "_model_module": "@jupyter-widgets/controls",
            "_model_module_version": "1.5.0",
            "_model_name": "ProgressStyleModel",
            "_view_count": null,
            "_view_module": "@jupyter-widgets/base",
            "_view_module_version": "1.2.0",
            "_view_name": "StyleView",
            "bar_color": null,
            "description_width": ""
          }
        },
        "21ec34ca706a499488e0694b09c0db15": {
          "model_module": "@jupyter-widgets/controls",
          "model_module_version": "1.5.0",
          "model_name": "HBoxModel",
          "state": {
            "_dom_classes": [],
            "_model_module": "@jupyter-widgets/controls",
            "_model_module_version": "1.5.0",
            "_model_name": "HBoxModel",
            "_view_count": null,
            "_view_module": "@jupyter-widgets/controls",
            "_view_module_version": "1.5.0",
            "_view_name": "HBoxView",
            "box_style": "",
            "children": [
              "IPY_MODEL_3a82a0a42e4847d587ef7127106fb78f",
              "IPY_MODEL_ba1d88ef8c22486c9f30d6f344057811",
              "IPY_MODEL_57226be78ceb416cb1673f7e47d0fcf9"
            ],
            "layout": "IPY_MODEL_42546449e96749578cec7338028d4d94"
          }
        },
        "27f28d8291784689be9e0f2f2b0ed42e": {
          "model_module": "@jupyter-widgets/base",
          "model_module_version": "1.2.0",
          "model_name": "LayoutModel",
          "state": {
            "_model_module": "@jupyter-widgets/base",
            "_model_module_version": "1.2.0",
            "_model_name": "LayoutModel",
            "_view_count": null,
            "_view_module": "@jupyter-widgets/base",
            "_view_module_version": "1.2.0",
            "_view_name": "LayoutView",
            "align_content": null,
            "align_items": null,
            "align_self": null,
            "border": null,
            "bottom": null,
            "display": null,
            "flex": null,
            "flex_flow": null,
            "grid_area": null,
            "grid_auto_columns": null,
            "grid_auto_flow": null,
            "grid_auto_rows": null,
            "grid_column": null,
            "grid_gap": null,
            "grid_row": null,
            "grid_template_areas": null,
            "grid_template_columns": null,
            "grid_template_rows": null,
            "height": null,
            "justify_content": null,
            "justify_items": null,
            "left": null,
            "margin": null,
            "max_height": null,
            "max_width": null,
            "min_height": null,
            "min_width": null,
            "object_fit": null,
            "object_position": null,
            "order": null,
            "overflow": null,
            "overflow_x": null,
            "overflow_y": null,
            "padding": null,
            "right": null,
            "top": null,
            "visibility": null,
            "width": null
          }
        },
        "2d234443491c4de891e4a638595700d1": {
          "model_module": "@jupyter-widgets/controls",
          "model_module_version": "1.5.0",
          "model_name": "DescriptionStyleModel",
          "state": {
            "_model_module": "@jupyter-widgets/controls",
            "_model_module_version": "1.5.0",
            "_model_name": "DescriptionStyleModel",
            "_view_count": null,
            "_view_module": "@jupyter-widgets/base",
            "_view_module_version": "1.2.0",
            "_view_name": "StyleView",
            "description_width": ""
          }
        },
        "3020b3dab2c341cc999dc08bc11595d1": {
          "model_module": "@jupyter-widgets/base",
          "model_module_version": "1.2.0",
          "model_name": "LayoutModel",
          "state": {
            "_model_module": "@jupyter-widgets/base",
            "_model_module_version": "1.2.0",
            "_model_name": "LayoutModel",
            "_view_count": null,
            "_view_module": "@jupyter-widgets/base",
            "_view_module_version": "1.2.0",
            "_view_name": "LayoutView",
            "align_content": null,
            "align_items": null,
            "align_self": null,
            "border": null,
            "bottom": null,
            "display": null,
            "flex": null,
            "flex_flow": null,
            "grid_area": null,
            "grid_auto_columns": null,
            "grid_auto_flow": null,
            "grid_auto_rows": null,
            "grid_column": null,
            "grid_gap": null,
            "grid_row": null,
            "grid_template_areas": null,
            "grid_template_columns": null,
            "grid_template_rows": null,
            "height": null,
            "justify_content": null,
            "justify_items": null,
            "left": null,
            "margin": null,
            "max_height": null,
            "max_width": null,
            "min_height": null,
            "min_width": null,
            "object_fit": null,
            "object_position": null,
            "order": null,
            "overflow": null,
            "overflow_x": null,
            "overflow_y": null,
            "padding": null,
            "right": null,
            "top": null,
            "visibility": null,
            "width": null
          }
        },
        "34d59f8df8274da2aa0562d36a5fab58": {
          "model_module": "@jupyter-widgets/controls",
          "model_module_version": "1.5.0",
          "model_name": "HBoxModel",
          "state": {
            "_dom_classes": [],
            "_model_module": "@jupyter-widgets/controls",
            "_model_module_version": "1.5.0",
            "_model_name": "HBoxModel",
            "_view_count": null,
            "_view_module": "@jupyter-widgets/controls",
            "_view_module_version": "1.5.0",
            "_view_name": "HBoxView",
            "box_style": "",
            "children": [
              "IPY_MODEL_6ef62e9d7aac436ea3a9ce1b985ec8f8",
              "IPY_MODEL_752132df0e1f425b94327adb3832a84e",
              "IPY_MODEL_d5fda23a13f1426d9067278b5ad3ca25"
            ],
            "layout": "IPY_MODEL_3020b3dab2c341cc999dc08bc11595d1"
          }
        },
        "35f6a44d98d74d9a9508d2d256244889": {
          "model_module": "@jupyter-widgets/controls",
          "model_module_version": "1.5.0",
          "model_name": "ProgressStyleModel",
          "state": {
            "_model_module": "@jupyter-widgets/controls",
            "_model_module_version": "1.5.0",
            "_model_name": "ProgressStyleModel",
            "_view_count": null,
            "_view_module": "@jupyter-widgets/base",
            "_view_module_version": "1.2.0",
            "_view_name": "StyleView",
            "bar_color": null,
            "description_width": ""
          }
        },
        "384ed4544bfc415da7d31f0c80083591": {
          "model_module": "@jupyter-widgets/controls",
          "model_module_version": "1.5.0",
          "model_name": "DescriptionStyleModel",
          "state": {
            "_model_module": "@jupyter-widgets/controls",
            "_model_module_version": "1.5.0",
            "_model_name": "DescriptionStyleModel",
            "_view_count": null,
            "_view_module": "@jupyter-widgets/base",
            "_view_module_version": "1.2.0",
            "_view_name": "StyleView",
            "description_width": ""
          }
        },
        "39481b678b684d709d9179718933e566": {
          "model_module": "@jupyter-widgets/controls",
          "model_module_version": "1.5.0",
          "model_name": "DescriptionStyleModel",
          "state": {
            "_model_module": "@jupyter-widgets/controls",
            "_model_module_version": "1.5.0",
            "_model_name": "DescriptionStyleModel",
            "_view_count": null,
            "_view_module": "@jupyter-widgets/base",
            "_view_module_version": "1.2.0",
            "_view_name": "StyleView",
            "description_width": ""
          }
        },
        "3a82a0a42e4847d587ef7127106fb78f": {
          "model_module": "@jupyter-widgets/controls",
          "model_module_version": "1.5.0",
          "model_name": "HTMLModel",
          "state": {
            "_dom_classes": [],
            "_model_module": "@jupyter-widgets/controls",
            "_model_module_version": "1.5.0",
            "_model_name": "HTMLModel",
            "_view_count": null,
            "_view_module": "@jupyter-widgets/controls",
            "_view_module_version": "1.5.0",
            "_view_name": "HTMLView",
            "description": "",
            "description_tooltip": null,
            "layout": "IPY_MODEL_0070ee8d7daa4bd5ae57cac65a832ebf",
            "placeholder": "​",
            "style": "IPY_MODEL_6852d43d5e4247e9ab404bb44614e116",
            "value": "tokenizer.json: 100%"
          }
        },
        "42546449e96749578cec7338028d4d94": {
          "model_module": "@jupyter-widgets/base",
          "model_module_version": "1.2.0",
          "model_name": "LayoutModel",
          "state": {
            "_model_module": "@jupyter-widgets/base",
            "_model_module_version": "1.2.0",
            "_model_name": "LayoutModel",
            "_view_count": null,
            "_view_module": "@jupyter-widgets/base",
            "_view_module_version": "1.2.0",
            "_view_name": "LayoutView",
            "align_content": null,
            "align_items": null,
            "align_self": null,
            "border": null,
            "bottom": null,
            "display": null,
            "flex": null,
            "flex_flow": null,
            "grid_area": null,
            "grid_auto_columns": null,
            "grid_auto_flow": null,
            "grid_auto_rows": null,
            "grid_column": null,
            "grid_gap": null,
            "grid_row": null,
            "grid_template_areas": null,
            "grid_template_columns": null,
            "grid_template_rows": null,
            "height": null,
            "justify_content": null,
            "justify_items": null,
            "left": null,
            "margin": null,
            "max_height": null,
            "max_width": null,
            "min_height": null,
            "min_width": null,
            "object_fit": null,
            "object_position": null,
            "order": null,
            "overflow": null,
            "overflow_x": null,
            "overflow_y": null,
            "padding": null,
            "right": null,
            "top": null,
            "visibility": null,
            "width": null
          }
        },
        "4369f7aa459b49b98826328943ccb9cf": {
          "model_module": "@jupyter-widgets/base",
          "model_module_version": "1.2.0",
          "model_name": "LayoutModel",
          "state": {
            "_model_module": "@jupyter-widgets/base",
            "_model_module_version": "1.2.0",
            "_model_name": "LayoutModel",
            "_view_count": null,
            "_view_module": "@jupyter-widgets/base",
            "_view_module_version": "1.2.0",
            "_view_name": "LayoutView",
            "align_content": null,
            "align_items": null,
            "align_self": null,
            "border": null,
            "bottom": null,
            "display": null,
            "flex": null,
            "flex_flow": null,
            "grid_area": null,
            "grid_auto_columns": null,
            "grid_auto_flow": null,
            "grid_auto_rows": null,
            "grid_column": null,
            "grid_gap": null,
            "grid_row": null,
            "grid_template_areas": null,
            "grid_template_columns": null,
            "grid_template_rows": null,
            "height": null,
            "justify_content": null,
            "justify_items": null,
            "left": null,
            "margin": null,
            "max_height": null,
            "max_width": null,
            "min_height": null,
            "min_width": null,
            "object_fit": null,
            "object_position": null,
            "order": null,
            "overflow": null,
            "overflow_x": null,
            "overflow_y": null,
            "padding": null,
            "right": null,
            "top": null,
            "visibility": null,
            "width": null
          }
        },
        "4636fb932f81491cb846f33b2857617a": {
          "model_module": "@jupyter-widgets/controls",
          "model_module_version": "1.5.0",
          "model_name": "HTMLModel",
          "state": {
            "_dom_classes": [],
            "_model_module": "@jupyter-widgets/controls",
            "_model_module_version": "1.5.0",
            "_model_name": "HTMLModel",
            "_view_count": null,
            "_view_module": "@jupyter-widgets/controls",
            "_view_module_version": "1.5.0",
            "_view_name": "HTMLView",
            "description": "",
            "description_tooltip": null,
            "layout": "IPY_MODEL_50592b815b40431a86f7d643a5d7a575",
            "placeholder": "​",
            "style": "IPY_MODEL_39481b678b684d709d9179718933e566",
            "value": "tokenizer_config.json: 100%"
          }
        },
        "4ea476203acf4082911bb8e4534bc457": {
          "model_module": "@jupyter-widgets/base",
          "model_module_version": "1.2.0",
          "model_name": "LayoutModel",
          "state": {
            "_model_module": "@jupyter-widgets/base",
            "_model_module_version": "1.2.0",
            "_model_name": "LayoutModel",
            "_view_count": null,
            "_view_module": "@jupyter-widgets/base",
            "_view_module_version": "1.2.0",
            "_view_name": "LayoutView",
            "align_content": null,
            "align_items": null,
            "align_self": null,
            "border": null,
            "bottom": null,
            "display": null,
            "flex": null,
            "flex_flow": null,
            "grid_area": null,
            "grid_auto_columns": null,
            "grid_auto_flow": null,
            "grid_auto_rows": null,
            "grid_column": null,
            "grid_gap": null,
            "grid_row": null,
            "grid_template_areas": null,
            "grid_template_columns": null,
            "grid_template_rows": null,
            "height": null,
            "justify_content": null,
            "justify_items": null,
            "left": null,
            "margin": null,
            "max_height": null,
            "max_width": null,
            "min_height": null,
            "min_width": null,
            "object_fit": null,
            "object_position": null,
            "order": null,
            "overflow": null,
            "overflow_x": null,
            "overflow_y": null,
            "padding": null,
            "right": null,
            "top": null,
            "visibility": null,
            "width": null
          }
        },
        "50592b815b40431a86f7d643a5d7a575": {
          "model_module": "@jupyter-widgets/base",
          "model_module_version": "1.2.0",
          "model_name": "LayoutModel",
          "state": {
            "_model_module": "@jupyter-widgets/base",
            "_model_module_version": "1.2.0",
            "_model_name": "LayoutModel",
            "_view_count": null,
            "_view_module": "@jupyter-widgets/base",
            "_view_module_version": "1.2.0",
            "_view_name": "LayoutView",
            "align_content": null,
            "align_items": null,
            "align_self": null,
            "border": null,
            "bottom": null,
            "display": null,
            "flex": null,
            "flex_flow": null,
            "grid_area": null,
            "grid_auto_columns": null,
            "grid_auto_flow": null,
            "grid_auto_rows": null,
            "grid_column": null,
            "grid_gap": null,
            "grid_row": null,
            "grid_template_areas": null,
            "grid_template_columns": null,
            "grid_template_rows": null,
            "height": null,
            "justify_content": null,
            "justify_items": null,
            "left": null,
            "margin": null,
            "max_height": null,
            "max_width": null,
            "min_height": null,
            "min_width": null,
            "object_fit": null,
            "object_position": null,
            "order": null,
            "overflow": null,
            "overflow_x": null,
            "overflow_y": null,
            "padding": null,
            "right": null,
            "top": null,
            "visibility": null,
            "width": null
          }
        },
        "52c09996f06245af9c7087368b99a760": {
          "model_module": "@jupyter-widgets/base",
          "model_module_version": "1.2.0",
          "model_name": "LayoutModel",
          "state": {
            "_model_module": "@jupyter-widgets/base",
            "_model_module_version": "1.2.0",
            "_model_name": "LayoutModel",
            "_view_count": null,
            "_view_module": "@jupyter-widgets/base",
            "_view_module_version": "1.2.0",
            "_view_name": "LayoutView",
            "align_content": null,
            "align_items": null,
            "align_self": null,
            "border": null,
            "bottom": null,
            "display": null,
            "flex": null,
            "flex_flow": null,
            "grid_area": null,
            "grid_auto_columns": null,
            "grid_auto_flow": null,
            "grid_auto_rows": null,
            "grid_column": null,
            "grid_gap": null,
            "grid_row": null,
            "grid_template_areas": null,
            "grid_template_columns": null,
            "grid_template_rows": null,
            "height": null,
            "justify_content": null,
            "justify_items": null,
            "left": null,
            "margin": null,
            "max_height": null,
            "max_width": null,
            "min_height": null,
            "min_width": null,
            "object_fit": null,
            "object_position": null,
            "order": null,
            "overflow": null,
            "overflow_x": null,
            "overflow_y": null,
            "padding": null,
            "right": null,
            "top": null,
            "visibility": null,
            "width": null
          }
        },
        "54ac43a4a7674d8da157035d2d71d992": {
          "model_module": "@jupyter-widgets/controls",
          "model_module_version": "1.5.0",
          "model_name": "HTMLModel",
          "state": {
            "_dom_classes": [],
            "_model_module": "@jupyter-widgets/controls",
            "_model_module_version": "1.5.0",
            "_model_name": "HTMLModel",
            "_view_count": null,
            "_view_module": "@jupyter-widgets/controls",
            "_view_module_version": "1.5.0",
            "_view_name": "HTMLView",
            "description": "",
            "description_tooltip": null,
            "layout": "IPY_MODEL_ea19b4ecfcb5445c94be6fa45a67c056",
            "placeholder": "​",
            "style": "IPY_MODEL_094c7e7cd5654749ba107101069012a2",
            "value": "vocab.txt: 100%"
          }
        },
        "57226be78ceb416cb1673f7e47d0fcf9": {
          "model_module": "@jupyter-widgets/controls",
          "model_module_version": "1.5.0",
          "model_name": "HTMLModel",
          "state": {
            "_dom_classes": [],
            "_model_module": "@jupyter-widgets/controls",
            "_model_module_version": "1.5.0",
            "_model_name": "HTMLModel",
            "_view_count": null,
            "_view_module": "@jupyter-widgets/controls",
            "_view_module_version": "1.5.0",
            "_view_name": "HTMLView",
            "description": "",
            "description_tooltip": null,
            "layout": "IPY_MODEL_1e7755e134d14a1a88398e5462200694",
            "placeholder": "​",
            "style": "IPY_MODEL_f5129e1e46ce45169d0dfa29c9690892",
            "value": " 669k/669k [00:00&lt;00:00, 7.00MB/s]"
          }
        },
        "5eeb649e36d54fe0936f11bc28ec5f0c": {
          "model_module": "@jupyter-widgets/controls",
          "model_module_version": "1.5.0",
          "model_name": "ProgressStyleModel",
          "state": {
            "_model_module": "@jupyter-widgets/controls",
            "_model_module_version": "1.5.0",
            "_model_name": "ProgressStyleModel",
            "_view_count": null,
            "_view_module": "@jupyter-widgets/base",
            "_view_module_version": "1.2.0",
            "_view_name": "StyleView",
            "bar_color": null,
            "description_width": ""
          }
        },
        "6005ad17485a4341a8a8fffc42748d09": {
          "model_module": "@jupyter-widgets/controls",
          "model_module_version": "1.5.0",
          "model_name": "DescriptionStyleModel",
          "state": {
            "_model_module": "@jupyter-widgets/controls",
            "_model_module_version": "1.5.0",
            "_model_name": "DescriptionStyleModel",
            "_view_count": null,
            "_view_module": "@jupyter-widgets/base",
            "_view_module_version": "1.2.0",
            "_view_name": "StyleView",
            "description_width": ""
          }
        },
        "62fe552294c64180b78fa352942ab7c0": {
          "model_module": "@jupyter-widgets/controls",
          "model_module_version": "1.5.0",
          "model_name": "DescriptionStyleModel",
          "state": {
            "_model_module": "@jupyter-widgets/controls",
            "_model_module_version": "1.5.0",
            "_model_name": "DescriptionStyleModel",
            "_view_count": null,
            "_view_module": "@jupyter-widgets/base",
            "_view_module_version": "1.2.0",
            "_view_name": "StyleView",
            "description_width": ""
          }
        },
        "64c550afe1ec40e3b9b246076bd4a189": {
          "model_module": "@jupyter-widgets/base",
          "model_module_version": "1.2.0",
          "model_name": "LayoutModel",
          "state": {
            "_model_module": "@jupyter-widgets/base",
            "_model_module_version": "1.2.0",
            "_model_name": "LayoutModel",
            "_view_count": null,
            "_view_module": "@jupyter-widgets/base",
            "_view_module_version": "1.2.0",
            "_view_name": "LayoutView",
            "align_content": null,
            "align_items": null,
            "align_self": null,
            "border": null,
            "bottom": null,
            "display": null,
            "flex": null,
            "flex_flow": null,
            "grid_area": null,
            "grid_auto_columns": null,
            "grid_auto_flow": null,
            "grid_auto_rows": null,
            "grid_column": null,
            "grid_gap": null,
            "grid_row": null,
            "grid_template_areas": null,
            "grid_template_columns": null,
            "grid_template_rows": null,
            "height": null,
            "justify_content": null,
            "justify_items": null,
            "left": null,
            "margin": null,
            "max_height": null,
            "max_width": null,
            "min_height": null,
            "min_width": null,
            "object_fit": null,
            "object_position": null,
            "order": null,
            "overflow": null,
            "overflow_x": null,
            "overflow_y": null,
            "padding": null,
            "right": null,
            "top": null,
            "visibility": null,
            "width": null
          }
        },
        "66f4235fcb8b4f42b97fdd18452e5fa9": {
          "model_module": "@jupyter-widgets/base",
          "model_module_version": "1.2.0",
          "model_name": "LayoutModel",
          "state": {
            "_model_module": "@jupyter-widgets/base",
            "_model_module_version": "1.2.0",
            "_model_name": "LayoutModel",
            "_view_count": null,
            "_view_module": "@jupyter-widgets/base",
            "_view_module_version": "1.2.0",
            "_view_name": "LayoutView",
            "align_content": null,
            "align_items": null,
            "align_self": null,
            "border": null,
            "bottom": null,
            "display": null,
            "flex": null,
            "flex_flow": null,
            "grid_area": null,
            "grid_auto_columns": null,
            "grid_auto_flow": null,
            "grid_auto_rows": null,
            "grid_column": null,
            "grid_gap": null,
            "grid_row": null,
            "grid_template_areas": null,
            "grid_template_columns": null,
            "grid_template_rows": null,
            "height": null,
            "justify_content": null,
            "justify_items": null,
            "left": null,
            "margin": null,
            "max_height": null,
            "max_width": null,
            "min_height": null,
            "min_width": null,
            "object_fit": null,
            "object_position": null,
            "order": null,
            "overflow": null,
            "overflow_x": null,
            "overflow_y": null,
            "padding": null,
            "right": null,
            "top": null,
            "visibility": null,
            "width": null
          }
        },
        "6852d43d5e4247e9ab404bb44614e116": {
          "model_module": "@jupyter-widgets/controls",
          "model_module_version": "1.5.0",
          "model_name": "DescriptionStyleModel",
          "state": {
            "_model_module": "@jupyter-widgets/controls",
            "_model_module_version": "1.5.0",
            "_model_name": "DescriptionStyleModel",
            "_view_count": null,
            "_view_module": "@jupyter-widgets/base",
            "_view_module_version": "1.2.0",
            "_view_name": "StyleView",
            "description_width": ""
          }
        },
        "6d15a55cca2a47fc8b813339e8296815": {
          "model_module": "@jupyter-widgets/base",
          "model_module_version": "1.2.0",
          "model_name": "LayoutModel",
          "state": {
            "_model_module": "@jupyter-widgets/base",
            "_model_module_version": "1.2.0",
            "_model_name": "LayoutModel",
            "_view_count": null,
            "_view_module": "@jupyter-widgets/base",
            "_view_module_version": "1.2.0",
            "_view_name": "LayoutView",
            "align_content": null,
            "align_items": null,
            "align_self": null,
            "border": null,
            "bottom": null,
            "display": null,
            "flex": null,
            "flex_flow": null,
            "grid_area": null,
            "grid_auto_columns": null,
            "grid_auto_flow": null,
            "grid_auto_rows": null,
            "grid_column": null,
            "grid_gap": null,
            "grid_row": null,
            "grid_template_areas": null,
            "grid_template_columns": null,
            "grid_template_rows": null,
            "height": null,
            "justify_content": null,
            "justify_items": null,
            "left": null,
            "margin": null,
            "max_height": null,
            "max_width": null,
            "min_height": null,
            "min_width": null,
            "object_fit": null,
            "object_position": null,
            "order": null,
            "overflow": null,
            "overflow_x": null,
            "overflow_y": null,
            "padding": null,
            "right": null,
            "top": null,
            "visibility": null,
            "width": null
          }
        },
        "6d6ca9ebf27b44b2b8a1be48d53d1283": {
          "model_module": "@jupyter-widgets/controls",
          "model_module_version": "1.5.0",
          "model_name": "FloatProgressModel",
          "state": {
            "_dom_classes": [],
            "_model_module": "@jupyter-widgets/controls",
            "_model_module_version": "1.5.0",
            "_model_name": "FloatProgressModel",
            "_view_count": null,
            "_view_module": "@jupyter-widgets/controls",
            "_view_module_version": "1.5.0",
            "_view_name": "ProgressView",
            "bar_style": "success",
            "description": "",
            "description_tooltip": null,
            "layout": "IPY_MODEL_c8d5664e47dc4663a5957256af6210ab",
            "max": 433274952,
            "min": 0,
            "orientation": "horizontal",
            "style": "IPY_MODEL_9beb1b16fd444e56a8604e7880bd7fc0",
            "value": 433274952
          }
        },
        "6ef62e9d7aac436ea3a9ce1b985ec8f8": {
          "model_module": "@jupyter-widgets/controls",
          "model_module_version": "1.5.0",
          "model_name": "HTMLModel",
          "state": {
            "_dom_classes": [],
            "_model_module": "@jupyter-widgets/controls",
            "_model_module_version": "1.5.0",
            "_model_name": "HTMLModel",
            "_view_count": null,
            "_view_module": "@jupyter-widgets/controls",
            "_view_module_version": "1.5.0",
            "_view_name": "HTMLView",
            "description": "",
            "description_tooltip": null,
            "layout": "IPY_MODEL_dd9cdaef6d7244eb969ca63b2a2aa875",
            "placeholder": "​",
            "style": "IPY_MODEL_6005ad17485a4341a8a8fffc42748d09",
            "value": "special_tokens_map.json: 100%"
          }
        },
        "73a43c1495c3493184f7027255452361": {
          "model_module": "@jupyter-widgets/controls",
          "model_module_version": "1.5.0",
          "model_name": "HTMLModel",
          "state": {
            "_dom_classes": [],
            "_model_module": "@jupyter-widgets/controls",
            "_model_module_version": "1.5.0",
            "_model_name": "HTMLModel",
            "_view_count": null,
            "_view_module": "@jupyter-widgets/controls",
            "_view_module_version": "1.5.0",
            "_view_name": "HTMLView",
            "description": "",
            "description_tooltip": null,
            "layout": "IPY_MODEL_4ea476203acf4082911bb8e4534bc457",
            "placeholder": "​",
            "style": "IPY_MODEL_62fe552294c64180b78fa352942ab7c0",
            "value": " 433M/433M [00:11&lt;00:00, 48.0MB/s]"
          }
        },
        "74d7d98967af47d6b48f21458d3877a2": {
          "model_module": "@jupyter-widgets/controls",
          "model_module_version": "1.5.0",
          "model_name": "ProgressStyleModel",
          "state": {
            "_model_module": "@jupyter-widgets/controls",
            "_model_module_version": "1.5.0",
            "_model_name": "ProgressStyleModel",
            "_view_count": null,
            "_view_module": "@jupyter-widgets/base",
            "_view_module_version": "1.2.0",
            "_view_name": "StyleView",
            "bar_color": null,
            "description_width": ""
          }
        },
        "752132df0e1f425b94327adb3832a84e": {
          "model_module": "@jupyter-widgets/controls",
          "model_module_version": "1.5.0",
          "model_name": "FloatProgressModel",
          "state": {
            "_dom_classes": [],
            "_model_module": "@jupyter-widgets/controls",
            "_model_module_version": "1.5.0",
            "_model_name": "FloatProgressModel",
            "_view_count": null,
            "_view_module": "@jupyter-widgets/controls",
            "_view_module_version": "1.5.0",
            "_view_name": "ProgressView",
            "bar_style": "success",
            "description": "",
            "description_tooltip": null,
            "layout": "IPY_MODEL_64c550afe1ec40e3b9b246076bd4a189",
            "max": 125,
            "min": 0,
            "orientation": "horizontal",
            "style": "IPY_MODEL_973c66498d59498a9fc12b99f41ff5c8",
            "value": 125
          }
        },
        "75cfc0734b284a9ab28cf8149b073291": {
          "model_module": "@jupyter-widgets/base",
          "model_module_version": "1.2.0",
          "model_name": "LayoutModel",
          "state": {
            "_model_module": "@jupyter-widgets/base",
            "_model_module_version": "1.2.0",
            "_model_name": "LayoutModel",
            "_view_count": null,
            "_view_module": "@jupyter-widgets/base",
            "_view_module_version": "1.2.0",
            "_view_name": "LayoutView",
            "align_content": null,
            "align_items": null,
            "align_self": null,
            "border": null,
            "bottom": null,
            "display": null,
            "flex": null,
            "flex_flow": null,
            "grid_area": null,
            "grid_auto_columns": null,
            "grid_auto_flow": null,
            "grid_auto_rows": null,
            "grid_column": null,
            "grid_gap": null,
            "grid_row": null,
            "grid_template_areas": null,
            "grid_template_columns": null,
            "grid_template_rows": null,
            "height": null,
            "justify_content": null,
            "justify_items": null,
            "left": null,
            "margin": null,
            "max_height": null,
            "max_width": null,
            "min_height": null,
            "min_width": null,
            "object_fit": null,
            "object_position": null,
            "order": null,
            "overflow": null,
            "overflow_x": null,
            "overflow_y": null,
            "padding": null,
            "right": null,
            "top": null,
            "visibility": null,
            "width": null
          }
        },
        "8ac2e00f722040d29be8f1049c32ea9f": {
          "model_module": "@jupyter-widgets/controls",
          "model_module_version": "1.5.0",
          "model_name": "FloatProgressModel",
          "state": {
            "_dom_classes": [],
            "_model_module": "@jupyter-widgets/controls",
            "_model_module_version": "1.5.0",
            "_model_name": "FloatProgressModel",
            "_view_count": null,
            "_view_module": "@jupyter-widgets/controls",
            "_view_module_version": "1.5.0",
            "_view_name": "ProgressView",
            "bar_style": "success",
            "description": "",
            "description_tooltip": null,
            "layout": "IPY_MODEL_4369f7aa459b49b98826328943ccb9cf",
            "max": 213450,
            "min": 0,
            "orientation": "horizontal",
            "style": "IPY_MODEL_20aba3796c9949d395a377b06213c7ed",
            "value": 213450
          }
        },
        "8d10bd9576144b07b6f789c3057c8875": {
          "model_module": "@jupyter-widgets/base",
          "model_module_version": "1.2.0",
          "model_name": "LayoutModel",
          "state": {
            "_model_module": "@jupyter-widgets/base",
            "_model_module_version": "1.2.0",
            "_model_name": "LayoutModel",
            "_view_count": null,
            "_view_module": "@jupyter-widgets/base",
            "_view_module_version": "1.2.0",
            "_view_name": "LayoutView",
            "align_content": null,
            "align_items": null,
            "align_self": null,
            "border": null,
            "bottom": null,
            "display": null,
            "flex": null,
            "flex_flow": null,
            "grid_area": null,
            "grid_auto_columns": null,
            "grid_auto_flow": null,
            "grid_auto_rows": null,
            "grid_column": null,
            "grid_gap": null,
            "grid_row": null,
            "grid_template_areas": null,
            "grid_template_columns": null,
            "grid_template_rows": null,
            "height": null,
            "justify_content": null,
            "justify_items": null,
            "left": null,
            "margin": null,
            "max_height": null,
            "max_width": null,
            "min_height": null,
            "min_width": null,
            "object_fit": null,
            "object_position": null,
            "order": null,
            "overflow": null,
            "overflow_x": null,
            "overflow_y": null,
            "padding": null,
            "right": null,
            "top": null,
            "visibility": null,
            "width": null
          }
        },
        "8d655c485a5e4ad5b9598bcb16ad7ea7": {
          "model_module": "@jupyter-widgets/base",
          "model_module_version": "1.2.0",
          "model_name": "LayoutModel",
          "state": {
            "_model_module": "@jupyter-widgets/base",
            "_model_module_version": "1.2.0",
            "_model_name": "LayoutModel",
            "_view_count": null,
            "_view_module": "@jupyter-widgets/base",
            "_view_module_version": "1.2.0",
            "_view_name": "LayoutView",
            "align_content": null,
            "align_items": null,
            "align_self": null,
            "border": null,
            "bottom": null,
            "display": null,
            "flex": null,
            "flex_flow": null,
            "grid_area": null,
            "grid_auto_columns": null,
            "grid_auto_flow": null,
            "grid_auto_rows": null,
            "grid_column": null,
            "grid_gap": null,
            "grid_row": null,
            "grid_template_areas": null,
            "grid_template_columns": null,
            "grid_template_rows": null,
            "height": null,
            "justify_content": null,
            "justify_items": null,
            "left": null,
            "margin": null,
            "max_height": null,
            "max_width": null,
            "min_height": null,
            "min_width": null,
            "object_fit": null,
            "object_position": null,
            "order": null,
            "overflow": null,
            "overflow_x": null,
            "overflow_y": null,
            "padding": null,
            "right": null,
            "top": null,
            "visibility": null,
            "width": null
          }
        },
        "961799a0730b44fa886f8e23a9a0841d": {
          "model_module": "@jupyter-widgets/controls",
          "model_module_version": "1.5.0",
          "model_name": "HBoxModel",
          "state": {
            "_dom_classes": [],
            "_model_module": "@jupyter-widgets/controls",
            "_model_module_version": "1.5.0",
            "_model_name": "HBoxModel",
            "_view_count": null,
            "_view_module": "@jupyter-widgets/controls",
            "_view_module_version": "1.5.0",
            "_view_name": "HBoxView",
            "box_style": "",
            "children": [
              "IPY_MODEL_db130d1c452f422792194520111dc4ba",
              "IPY_MODEL_c17bf9c3ef0844bfadc45fa70d8e6dc3",
              "IPY_MODEL_99feb19adf1c487e886d1b6dc69a922e"
            ],
            "layout": "IPY_MODEL_8d10bd9576144b07b6f789c3057c8875"
          }
        },
        "973c66498d59498a9fc12b99f41ff5c8": {
          "model_module": "@jupyter-widgets/controls",
          "model_module_version": "1.5.0",
          "model_name": "ProgressStyleModel",
          "state": {
            "_model_module": "@jupyter-widgets/controls",
            "_model_module_version": "1.5.0",
            "_model_name": "ProgressStyleModel",
            "_view_count": null,
            "_view_module": "@jupyter-widgets/base",
            "_view_module_version": "1.2.0",
            "_view_name": "StyleView",
            "bar_color": null,
            "description_width": ""
          }
        },
        "99feb19adf1c487e886d1b6dc69a922e": {
          "model_module": "@jupyter-widgets/controls",
          "model_module_version": "1.5.0",
          "model_name": "HTMLModel",
          "state": {
            "_dom_classes": [],
            "_model_module": "@jupyter-widgets/controls",
            "_model_module_version": "1.5.0",
            "_model_name": "HTMLModel",
            "_view_count": null,
            "_view_module": "@jupyter-widgets/controls",
            "_view_module_version": "1.5.0",
            "_view_name": "HTMLView",
            "description": "",
            "description_tooltip": null,
            "layout": "IPY_MODEL_8d655c485a5e4ad5b9598bcb16ad7ea7",
            "placeholder": "​",
            "style": "IPY_MODEL_f26c047bc7eb4bba81e60248aaea69f5",
            "value": " 879/879 [00:00&lt;00:00, 19.3kB/s]"
          }
        },
        "9beb1b16fd444e56a8604e7880bd7fc0": {
          "model_module": "@jupyter-widgets/controls",
          "model_module_version": "1.5.0",
          "model_name": "ProgressStyleModel",
          "state": {
            "_model_module": "@jupyter-widgets/controls",
            "_model_module_version": "1.5.0",
            "_model_name": "ProgressStyleModel",
            "_view_count": null,
            "_view_module": "@jupyter-widgets/base",
            "_view_module_version": "1.2.0",
            "_view_name": "StyleView",
            "bar_color": null,
            "description_width": ""
          }
        },
        "9dfaeb40694d4700bdef1367a9d01d82": {
          "model_module": "@jupyter-widgets/controls",
          "model_module_version": "1.5.0",
          "model_name": "HTMLModel",
          "state": {
            "_dom_classes": [],
            "_model_module": "@jupyter-widgets/controls",
            "_model_module_version": "1.5.0",
            "_model_name": "HTMLModel",
            "_view_count": null,
            "_view_module": "@jupyter-widgets/controls",
            "_view_module_version": "1.5.0",
            "_view_name": "HTMLView",
            "description": "",
            "description_tooltip": null,
            "layout": "IPY_MODEL_27f28d8291784689be9e0f2f2b0ed42e",
            "placeholder": "​",
            "style": "IPY_MODEL_faf91bec35f349729ed3d677f970c8f8",
            "value": " 341/341 [00:00&lt;00:00, 10.5kB/s]"
          }
        },
        "a8b134b834344ce9a838ff2bc84ea81b": {
          "model_module": "@jupyter-widgets/controls",
          "model_module_version": "1.5.0",
          "model_name": "HTMLModel",
          "state": {
            "_dom_classes": [],
            "_model_module": "@jupyter-widgets/controls",
            "_model_module_version": "1.5.0",
            "_model_name": "HTMLModel",
            "_view_count": null,
            "_view_module": "@jupyter-widgets/controls",
            "_view_module_version": "1.5.0",
            "_view_name": "HTMLView",
            "description": "",
            "description_tooltip": null,
            "layout": "IPY_MODEL_0821d12bf9d1435d9ee3f371eb3a2260",
            "placeholder": "​",
            "style": "IPY_MODEL_2d234443491c4de891e4a638595700d1",
            "value": "model.safetensors: 100%"
          }
        },
        "af545fbb508146d5a70e0f5338689c1c": {
          "model_module": "@jupyter-widgets/controls",
          "model_module_version": "1.5.0",
          "model_name": "DescriptionStyleModel",
          "state": {
            "_model_module": "@jupyter-widgets/controls",
            "_model_module_version": "1.5.0",
            "_model_name": "DescriptionStyleModel",
            "_view_count": null,
            "_view_module": "@jupyter-widgets/base",
            "_view_module_version": "1.2.0",
            "_view_name": "StyleView",
            "description_width": ""
          }
        },
        "b8099970d39e4ec8a5601900ee116cf5": {
          "model_module": "@jupyter-widgets/controls",
          "model_module_version": "1.5.0",
          "model_name": "HTMLModel",
          "state": {
            "_dom_classes": [],
            "_model_module": "@jupyter-widgets/controls",
            "_model_module_version": "1.5.0",
            "_model_name": "HTMLModel",
            "_view_count": null,
            "_view_module": "@jupyter-widgets/controls",
            "_view_module_version": "1.5.0",
            "_view_name": "HTMLView",
            "description": "",
            "description_tooltip": null,
            "layout": "IPY_MODEL_6d15a55cca2a47fc8b813339e8296815",
            "placeholder": "​",
            "style": "IPY_MODEL_cb9aec5f1bbb406788453715e0a70452",
            "value": " 213k/213k [00:00&lt;00:00, 4.99MB/s]"
          }
        },
        "ba1d88ef8c22486c9f30d6f344057811": {
          "model_module": "@jupyter-widgets/controls",
          "model_module_version": "1.5.0",
          "model_name": "FloatProgressModel",
          "state": {
            "_dom_classes": [],
            "_model_module": "@jupyter-widgets/controls",
            "_model_module_version": "1.5.0",
            "_model_name": "FloatProgressModel",
            "_view_count": null,
            "_view_module": "@jupyter-widgets/controls",
            "_view_module_version": "1.5.0",
            "_view_name": "ProgressView",
            "bar_style": "success",
            "description": "",
            "description_tooltip": null,
            "layout": "IPY_MODEL_52c09996f06245af9c7087368b99a760",
            "max": 669188,
            "min": 0,
            "orientation": "horizontal",
            "style": "IPY_MODEL_35f6a44d98d74d9a9508d2d256244889",
            "value": 669188
          }
        },
        "c17bf9c3ef0844bfadc45fa70d8e6dc3": {
          "model_module": "@jupyter-widgets/controls",
          "model_module_version": "1.5.0",
          "model_name": "FloatProgressModel",
          "state": {
            "_dom_classes": [],
            "_model_module": "@jupyter-widgets/controls",
            "_model_module_version": "1.5.0",
            "_model_name": "FloatProgressModel",
            "_view_count": null,
            "_view_module": "@jupyter-widgets/controls",
            "_view_module_version": "1.5.0",
            "_view_name": "ProgressView",
            "bar_style": "success",
            "description": "",
            "description_tooltip": null,
            "layout": "IPY_MODEL_66f4235fcb8b4f42b97fdd18452e5fa9",
            "max": 879,
            "min": 0,
            "orientation": "horizontal",
            "style": "IPY_MODEL_74d7d98967af47d6b48f21458d3877a2",
            "value": 879
          }
        },
        "c7e9f46cb154495c95a62c2daee20182": {
          "model_module": "@jupyter-widgets/base",
          "model_module_version": "1.2.0",
          "model_name": "LayoutModel",
          "state": {
            "_model_module": "@jupyter-widgets/base",
            "_model_module_version": "1.2.0",
            "_model_name": "LayoutModel",
            "_view_count": null,
            "_view_module": "@jupyter-widgets/base",
            "_view_module_version": "1.2.0",
            "_view_name": "LayoutView",
            "align_content": null,
            "align_items": null,
            "align_self": null,
            "border": null,
            "bottom": null,
            "display": null,
            "flex": null,
            "flex_flow": null,
            "grid_area": null,
            "grid_auto_columns": null,
            "grid_auto_flow": null,
            "grid_auto_rows": null,
            "grid_column": null,
            "grid_gap": null,
            "grid_row": null,
            "grid_template_areas": null,
            "grid_template_columns": null,
            "grid_template_rows": null,
            "height": null,
            "justify_content": null,
            "justify_items": null,
            "left": null,
            "margin": null,
            "max_height": null,
            "max_width": null,
            "min_height": null,
            "min_width": null,
            "object_fit": null,
            "object_position": null,
            "order": null,
            "overflow": null,
            "overflow_x": null,
            "overflow_y": null,
            "padding": null,
            "right": null,
            "top": null,
            "visibility": null,
            "width": null
          }
        },
        "c8d5664e47dc4663a5957256af6210ab": {
          "model_module": "@jupyter-widgets/base",
          "model_module_version": "1.2.0",
          "model_name": "LayoutModel",
          "state": {
            "_model_module": "@jupyter-widgets/base",
            "_model_module_version": "1.2.0",
            "_model_name": "LayoutModel",
            "_view_count": null,
            "_view_module": "@jupyter-widgets/base",
            "_view_module_version": "1.2.0",
            "_view_name": "LayoutView",
            "align_content": null,
            "align_items": null,
            "align_self": null,
            "border": null,
            "bottom": null,
            "display": null,
            "flex": null,
            "flex_flow": null,
            "grid_area": null,
            "grid_auto_columns": null,
            "grid_auto_flow": null,
            "grid_auto_rows": null,
            "grid_column": null,
            "grid_gap": null,
            "grid_row": null,
            "grid_template_areas": null,
            "grid_template_columns": null,
            "grid_template_rows": null,
            "height": null,
            "justify_content": null,
            "justify_items": null,
            "left": null,
            "margin": null,
            "max_height": null,
            "max_width": null,
            "min_height": null,
            "min_width": null,
            "object_fit": null,
            "object_position": null,
            "order": null,
            "overflow": null,
            "overflow_x": null,
            "overflow_y": null,
            "padding": null,
            "right": null,
            "top": null,
            "visibility": null,
            "width": null
          }
        },
        "cb9aec5f1bbb406788453715e0a70452": {
          "model_module": "@jupyter-widgets/controls",
          "model_module_version": "1.5.0",
          "model_name": "DescriptionStyleModel",
          "state": {
            "_model_module": "@jupyter-widgets/controls",
            "_model_module_version": "1.5.0",
            "_model_name": "DescriptionStyleModel",
            "_view_count": null,
            "_view_module": "@jupyter-widgets/base",
            "_view_module_version": "1.2.0",
            "_view_name": "StyleView",
            "description_width": ""
          }
        },
        "d5fda23a13f1426d9067278b5ad3ca25": {
          "model_module": "@jupyter-widgets/controls",
          "model_module_version": "1.5.0",
          "model_name": "HTMLModel",
          "state": {
            "_dom_classes": [],
            "_model_module": "@jupyter-widgets/controls",
            "_model_module_version": "1.5.0",
            "_model_name": "HTMLModel",
            "_view_count": null,
            "_view_module": "@jupyter-widgets/controls",
            "_view_module_version": "1.5.0",
            "_view_name": "HTMLView",
            "description": "",
            "description_tooltip": null,
            "layout": "IPY_MODEL_07fe40d55518494486ec383a9367666a",
            "placeholder": "​",
            "style": "IPY_MODEL_af545fbb508146d5a70e0f5338689c1c",
            "value": " 125/125 [00:00&lt;00:00, 3.56kB/s]"
          }
        },
        "d810027a656c45e7a6fa5e753cc6a383": {
          "model_module": "@jupyter-widgets/base",
          "model_module_version": "1.2.0",
          "model_name": "LayoutModel",
          "state": {
            "_model_module": "@jupyter-widgets/base",
            "_model_module_version": "1.2.0",
            "_model_name": "LayoutModel",
            "_view_count": null,
            "_view_module": "@jupyter-widgets/base",
            "_view_module_version": "1.2.0",
            "_view_name": "LayoutView",
            "align_content": null,
            "align_items": null,
            "align_self": null,
            "border": null,
            "bottom": null,
            "display": null,
            "flex": null,
            "flex_flow": null,
            "grid_area": null,
            "grid_auto_columns": null,
            "grid_auto_flow": null,
            "grid_auto_rows": null,
            "grid_column": null,
            "grid_gap": null,
            "grid_row": null,
            "grid_template_areas": null,
            "grid_template_columns": null,
            "grid_template_rows": null,
            "height": null,
            "justify_content": null,
            "justify_items": null,
            "left": null,
            "margin": null,
            "max_height": null,
            "max_width": null,
            "min_height": null,
            "min_width": null,
            "object_fit": null,
            "object_position": null,
            "order": null,
            "overflow": null,
            "overflow_x": null,
            "overflow_y": null,
            "padding": null,
            "right": null,
            "top": null,
            "visibility": null,
            "width": null
          }
        },
        "d8b6e6d49fe7491ea3ecdd3f17a373dd": {
          "model_module": "@jupyter-widgets/controls",
          "model_module_version": "1.5.0",
          "model_name": "FloatProgressModel",
          "state": {
            "_dom_classes": [],
            "_model_module": "@jupyter-widgets/controls",
            "_model_module_version": "1.5.0",
            "_model_name": "FloatProgressModel",
            "_view_count": null,
            "_view_module": "@jupyter-widgets/controls",
            "_view_module_version": "1.5.0",
            "_view_name": "ProgressView",
            "bar_style": "success",
            "description": "",
            "description_tooltip": null,
            "layout": "IPY_MODEL_d810027a656c45e7a6fa5e753cc6a383",
            "max": 341,
            "min": 0,
            "orientation": "horizontal",
            "style": "IPY_MODEL_5eeb649e36d54fe0936f11bc28ec5f0c",
            "value": 341
          }
        },
        "da282f8182a04934a248e2e6f2d908ad": {
          "model_module": "@jupyter-widgets/base",
          "model_module_version": "1.2.0",
          "model_name": "LayoutModel",
          "state": {
            "_model_module": "@jupyter-widgets/base",
            "_model_module_version": "1.2.0",
            "_model_name": "LayoutModel",
            "_view_count": null,
            "_view_module": "@jupyter-widgets/base",
            "_view_module_version": "1.2.0",
            "_view_name": "LayoutView",
            "align_content": null,
            "align_items": null,
            "align_self": null,
            "border": null,
            "bottom": null,
            "display": null,
            "flex": null,
            "flex_flow": null,
            "grid_area": null,
            "grid_auto_columns": null,
            "grid_auto_flow": null,
            "grid_auto_rows": null,
            "grid_column": null,
            "grid_gap": null,
            "grid_row": null,
            "grid_template_areas": null,
            "grid_template_columns": null,
            "grid_template_rows": null,
            "height": null,
            "justify_content": null,
            "justify_items": null,
            "left": null,
            "margin": null,
            "max_height": null,
            "max_width": null,
            "min_height": null,
            "min_width": null,
            "object_fit": null,
            "object_position": null,
            "order": null,
            "overflow": null,
            "overflow_x": null,
            "overflow_y": null,
            "padding": null,
            "right": null,
            "top": null,
            "visibility": null,
            "width": null
          }
        },
        "db130d1c452f422792194520111dc4ba": {
          "model_module": "@jupyter-widgets/controls",
          "model_module_version": "1.5.0",
          "model_name": "HTMLModel",
          "state": {
            "_dom_classes": [],
            "_model_module": "@jupyter-widgets/controls",
            "_model_module_version": "1.5.0",
            "_model_name": "HTMLModel",
            "_view_count": null,
            "_view_module": "@jupyter-widgets/controls",
            "_view_module_version": "1.5.0",
            "_view_name": "HTMLView",
            "description": "",
            "description_tooltip": null,
            "layout": "IPY_MODEL_ed941df56403417c99342668d771979e",
            "placeholder": "​",
            "style": "IPY_MODEL_384ed4544bfc415da7d31f0c80083591",
            "value": "config.json: 100%"
          }
        },
        "dd9cdaef6d7244eb969ca63b2a2aa875": {
          "model_module": "@jupyter-widgets/base",
          "model_module_version": "1.2.0",
          "model_name": "LayoutModel",
          "state": {
            "_model_module": "@jupyter-widgets/base",
            "_model_module_version": "1.2.0",
            "_model_name": "LayoutModel",
            "_view_count": null,
            "_view_module": "@jupyter-widgets/base",
            "_view_module_version": "1.2.0",
            "_view_name": "LayoutView",
            "align_content": null,
            "align_items": null,
            "align_self": null,
            "border": null,
            "bottom": null,
            "display": null,
            "flex": null,
            "flex_flow": null,
            "grid_area": null,
            "grid_auto_columns": null,
            "grid_auto_flow": null,
            "grid_auto_rows": null,
            "grid_column": null,
            "grid_gap": null,
            "grid_row": null,
            "grid_template_areas": null,
            "grid_template_columns": null,
            "grid_template_rows": null,
            "height": null,
            "justify_content": null,
            "justify_items": null,
            "left": null,
            "margin": null,
            "max_height": null,
            "max_width": null,
            "min_height": null,
            "min_width": null,
            "object_fit": null,
            "object_position": null,
            "order": null,
            "overflow": null,
            "overflow_x": null,
            "overflow_y": null,
            "padding": null,
            "right": null,
            "top": null,
            "visibility": null,
            "width": null
          }
        },
        "ea19b4ecfcb5445c94be6fa45a67c056": {
          "model_module": "@jupyter-widgets/base",
          "model_module_version": "1.2.0",
          "model_name": "LayoutModel",
          "state": {
            "_model_module": "@jupyter-widgets/base",
            "_model_module_version": "1.2.0",
            "_model_name": "LayoutModel",
            "_view_count": null,
            "_view_module": "@jupyter-widgets/base",
            "_view_module_version": "1.2.0",
            "_view_name": "LayoutView",
            "align_content": null,
            "align_items": null,
            "align_self": null,
            "border": null,
            "bottom": null,
            "display": null,
            "flex": null,
            "flex_flow": null,
            "grid_area": null,
            "grid_auto_columns": null,
            "grid_auto_flow": null,
            "grid_auto_rows": null,
            "grid_column": null,
            "grid_gap": null,
            "grid_row": null,
            "grid_template_areas": null,
            "grid_template_columns": null,
            "grid_template_rows": null,
            "height": null,
            "justify_content": null,
            "justify_items": null,
            "left": null,
            "margin": null,
            "max_height": null,
            "max_width": null,
            "min_height": null,
            "min_width": null,
            "object_fit": null,
            "object_position": null,
            "order": null,
            "overflow": null,
            "overflow_x": null,
            "overflow_y": null,
            "padding": null,
            "right": null,
            "top": null,
            "visibility": null,
            "width": null
          }
        },
        "ed941df56403417c99342668d771979e": {
          "model_module": "@jupyter-widgets/base",
          "model_module_version": "1.2.0",
          "model_name": "LayoutModel",
          "state": {
            "_model_module": "@jupyter-widgets/base",
            "_model_module_version": "1.2.0",
            "_model_name": "LayoutModel",
            "_view_count": null,
            "_view_module": "@jupyter-widgets/base",
            "_view_module_version": "1.2.0",
            "_view_name": "LayoutView",
            "align_content": null,
            "align_items": null,
            "align_self": null,
            "border": null,
            "bottom": null,
            "display": null,
            "flex": null,
            "flex_flow": null,
            "grid_area": null,
            "grid_auto_columns": null,
            "grid_auto_flow": null,
            "grid_auto_rows": null,
            "grid_column": null,
            "grid_gap": null,
            "grid_row": null,
            "grid_template_areas": null,
            "grid_template_columns": null,
            "grid_template_rows": null,
            "height": null,
            "justify_content": null,
            "justify_items": null,
            "left": null,
            "margin": null,
            "max_height": null,
            "max_width": null,
            "min_height": null,
            "min_width": null,
            "object_fit": null,
            "object_position": null,
            "order": null,
            "overflow": null,
            "overflow_x": null,
            "overflow_y": null,
            "padding": null,
            "right": null,
            "top": null,
            "visibility": null,
            "width": null
          }
        },
        "f26c047bc7eb4bba81e60248aaea69f5": {
          "model_module": "@jupyter-widgets/controls",
          "model_module_version": "1.5.0",
          "model_name": "DescriptionStyleModel",
          "state": {
            "_model_module": "@jupyter-widgets/controls",
            "_model_module_version": "1.5.0",
            "_model_name": "DescriptionStyleModel",
            "_view_count": null,
            "_view_module": "@jupyter-widgets/base",
            "_view_module_version": "1.2.0",
            "_view_name": "StyleView",
            "description_width": ""
          }
        },
        "f5129e1e46ce45169d0dfa29c9690892": {
          "model_module": "@jupyter-widgets/controls",
          "model_module_version": "1.5.0",
          "model_name": "DescriptionStyleModel",
          "state": {
            "_model_module": "@jupyter-widgets/controls",
            "_model_module_version": "1.5.0",
            "_model_name": "DescriptionStyleModel",
            "_view_count": null,
            "_view_module": "@jupyter-widgets/base",
            "_view_module_version": "1.2.0",
            "_view_name": "StyleView",
            "description_width": ""
          }
        },
        "f58aa8c61e7843bba6db289ada0db5ec": {
          "model_module": "@jupyter-widgets/controls",
          "model_module_version": "1.5.0",
          "model_name": "HBoxModel",
          "state": {
            "_dom_classes": [],
            "_model_module": "@jupyter-widgets/controls",
            "_model_module_version": "1.5.0",
            "_model_name": "HBoxModel",
            "_view_count": null,
            "_view_module": "@jupyter-widgets/controls",
            "_view_module_version": "1.5.0",
            "_view_name": "HBoxView",
            "box_style": "",
            "children": [
              "IPY_MODEL_a8b134b834344ce9a838ff2bc84ea81b",
              "IPY_MODEL_6d6ca9ebf27b44b2b8a1be48d53d1283",
              "IPY_MODEL_73a43c1495c3493184f7027255452361"
            ],
            "layout": "IPY_MODEL_c7e9f46cb154495c95a62c2daee20182"
          }
        },
        "faf91bec35f349729ed3d677f970c8f8": {
          "model_module": "@jupyter-widgets/controls",
          "model_module_version": "1.5.0",
          "model_name": "DescriptionStyleModel",
          "state": {
            "_model_module": "@jupyter-widgets/controls",
            "_model_module_version": "1.5.0",
            "_model_name": "DescriptionStyleModel",
            "_view_count": null,
            "_view_module": "@jupyter-widgets/base",
            "_view_module_version": "1.2.0",
            "_view_name": "StyleView",
            "description_width": ""
          }
        },
        "fd9d59b84c49488fb8e709afac2e81f3": {
          "model_module": "@jupyter-widgets/controls",
          "model_module_version": "1.5.0",
          "model_name": "HBoxModel",
          "state": {
            "_dom_classes": [],
            "_model_module": "@jupyter-widgets/controls",
            "_model_module_version": "1.5.0",
            "_model_name": "HBoxModel",
            "_view_count": null,
            "_view_module": "@jupyter-widgets/controls",
            "_view_module_version": "1.5.0",
            "_view_name": "HBoxView",
            "box_style": "",
            "children": [
              "IPY_MODEL_54ac43a4a7674d8da157035d2d71d992",
              "IPY_MODEL_8ac2e00f722040d29be8f1049c32ea9f",
              "IPY_MODEL_b8099970d39e4ec8a5601900ee116cf5"
            ],
            "layout": "IPY_MODEL_da282f8182a04934a248e2e6f2d908ad"
          }
        }
      }
    }
  },
  "nbformat": 4,
  "nbformat_minor": 0
}
